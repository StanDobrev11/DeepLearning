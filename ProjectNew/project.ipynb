{
 "cells": [
  {
   "cell_type": "code",
   "execution_count": null,
   "id": "f4b02451-c710-4547-8cac-8f795470bb05",
   "metadata": {},
   "outputs": [],
   "source": [
    "!pip install --upgrade grpcio grpcio-tools"
   ]
  },
  {
   "cell_type": "code",
   "execution_count": 1,
   "id": "8799ec51-d0be-4c4f-a4ad-4e8ad539f69c",
   "metadata": {},
   "outputs": [],
   "source": [
    "%matplotlib inline\n",
    "%load_ext tensorboard"
   ]
  },
  {
   "cell_type": "code",
   "execution_count": 2,
   "id": "605a33c7-17ed-42c1-9e6e-be50b0addb68",
   "metadata": {},
   "outputs": [
    {
     "name": "stderr",
     "output_type": "stream",
     "text": [
      "2025-01-26 22:48:06.223091: I tensorflow/core/util/port.cc:153] oneDNN custom operations are on. You may see slightly different numerical results due to floating-point round-off errors from different computation orders. To turn them off, set the environment variable `TF_ENABLE_ONEDNN_OPTS=0`.\n",
      "2025-01-26 22:48:06.239018: E external/local_xla/xla/stream_executor/cuda/cuda_fft.cc:477] Unable to register cuFFT factory: Attempting to register factory for plugin cuFFT when one has already been registered\n",
      "WARNING: All log messages before absl::InitializeLog() is called are written to STDERR\n",
      "E0000 00:00:1737931686.263640     455 cuda_dnn.cc:8310] Unable to register cuDNN factory: Attempting to register factory for plugin cuDNN when one has already been registered\n",
      "E0000 00:00:1737931686.270009     455 cuda_blas.cc:1418] Unable to register cuBLAS factory: Attempting to register factory for plugin cuBLAS when one has already been registered\n",
      "2025-01-26 22:48:06.291460: I tensorflow/core/platform/cpu_feature_guard.cc:210] This TensorFlow binary is optimized to use available CPU instructions in performance-critical operations.\n",
      "To enable the following instructions: AVX2 AVX_VNNI FMA, in other operations, rebuild TensorFlow with the appropriate compiler flags.\n"
     ]
    }
   ],
   "source": [
    "import gymnasium as gym\n",
    "from gymnasium import spaces\n",
    "from gymnasium.spaces.utils import flatten\n",
    "from gymnasium.envs.registration import register, registry\n",
    "import time\n",
    "import numpy as np\n",
    "import pygame\n",
    "\n",
    "import matplotlib\n",
    "import matplotlib.pyplot as plt\n",
    "\n",
    "from typing import Any, Dict\n",
    "import torch\n",
    "import torch.nn as nn\n",
    "import tensorboard\n",
    "\n",
    "from stable_baselines3 import PPO, A2C\n",
    "from stable_baselines3.common.env_util import make_vec_env\n",
    "from stable_baselines3.common.evaluation import evaluate_policy\n",
    "from stable_baselines3.common.callbacks import EvalCallback\n",
    "from stable_baselines3.common.monitor import Monitor\n",
    "from stable_baselines3.common.vec_env import VecNormalize, DummyVecEnv\n",
    "\n",
    "import optuna\n",
    "from optuna.pruners import MedianPruner\n",
    "from optuna.samplers import TPESampler\n",
    "from optuna.visualization import plot_optimization_history, plot_param_importances"
   ]
  },
  {
   "cell_type": "code",
   "execution_count": 3,
   "id": "6482d68a-fce7-40e6-8d5a-275862ba21e7",
   "metadata": {},
   "outputs": [],
   "source": [
    "if 'MarineEnv-v0' not in registry:\n",
    "    register(\n",
    "        id='MarineEnv-v0',\n",
    "        entry_point='environments:MarineEnv',  # String reference to the class\n",
    "    )"
   ]
  },
  {
   "cell_type": "code",
   "execution_count": null,
   "id": "c5c1337d-61df-4e2c-ae20-98ec70f98b2e",
   "metadata": {
    "jupyter": {
     "source_hidden": true
    }
   },
   "outputs": [],
   "source": [
    "is_ipython = 'inline' in matplotlib.get_backend()\n",
    "if is_ipython:\n",
    "    from IPython import display\n",
    "\n",
    "plt.ion()\n",
    "\n",
    "device = torch.device('cuda' if torch.cuda.is_available() else 'cpu')"
   ]
  },
  {
   "cell_type": "code",
   "execution_count": null,
   "id": "cca3cfe3-f53f-4a9e-b7f9-f5954238fcf6",
   "metadata": {
    "jupyter": {
     "source_hidden": true
    }
   },
   "outputs": [],
   "source": [
    "N_TRIALS = 100  # Maximum number of trials\n",
    "N_JOBS = 1 # Number of jobs to run in parallel\n",
    "N_STARTUP_TRIALS = 5  # Stop random sampling after N_STARTUP_TRIALS\n",
    "N_EVALUATIONS = 2  # Number of evaluations during the training\n",
    "N_TIMESTEPS = int(2e4)  # Training budget\n",
    "EVAL_FREQ = int(N_TIMESTEPS / N_EVALUATIONS)\n",
    "N_EVAL_ENVS = 10\n",
    "N_EVAL_EPISODES = 10\n",
    "TIMEOUT = int(60 * 15)  # 15 minutes\n",
    "\n",
    "ENV_ID = 'MarineEnv-v0'\n",
    "\n",
    "DEFAULT_HYPERPARAMS = {\n",
    "    \"policy\": \"MlpPolicy\",\n",
    "    \"env\": ENV_ID,\n",
    "}"
   ]
  },
  {
   "cell_type": "code",
   "execution_count": null,
   "id": "6a3bf52b-6b8c-4b0b-9e54-2fddb2790918",
   "metadata": {
    "jupyter": {
     "source_hidden": true
    }
   },
   "outputs": [],
   "source": [
    "def sample_ppo_params(trial: optuna.Trial) -> Dict[str, Any]:\n",
    "    \n",
    "    learning_rate = trial.suggest_float('learning_rate', 1e-5, 1, log=True)  # Learning rate (log scale)\n",
    "    \n",
    "    n_steps = 2 ** trial.suggest_int('n_steps', 7, 12)  # Number of steps per update (512-4096)\n",
    "    \n",
    "    batch_size = 2 ** trial.suggest_int('batch_size', 5, 10)  # Minibatch size (32-1024)\n",
    "    \n",
    "    gamma = trial.suggest_float('gamma', 0.9, 0.9999)  # Discount factor (close to 1 for long-term rewards)\n",
    "    \n",
    "    gae_lambda = trial.suggest_float('gae_lambda', 0.8, 1.0)  # GAE lambda (trade-off bias/variance)\n",
    "    \n",
    "    clip_range = trial.suggest_float('clip_range', 0.1, 0.3)  # PPO clipping range\n",
    "    \n",
    "    ent_coef = trial.suggest_float('ent_coef', 0.0001, 0.1, log=True)  # Entropy coefficient (for exploration)\n",
    "    \n",
    "    vf_coef = trial.suggest_float('vf_coef', 0.1, 1.0)  # Value function loss coefficient\n",
    "    \n",
    "    max_grad_norm = trial.suggest_float('max_grad_norm', 0.3, 5.0)  # Gradient clipping\n",
    "    \n",
    "    target_kl = trial.suggest_float('target_kl', 0.01, 0.2)  # KL divergence target\n",
    "    \n",
    "    n_epochs = trial.suggest_int('n_epochs', 3, 10)  # PPO update epochs per batch\n",
    "    \n",
    "    activation_fn = trial.suggest_categorical('activation_fn', ['tanh', 'relu'])\n",
    "    \n",
    "    net_arch = trial.suggest_categorical('net_arch', ['tiny', 'small'])\n",
    "    \n",
    "    # Convert architecture choices\n",
    "    net_arch = [128, 128] if net_arch == 'tiny' else [256, 256, 256]\n",
    "    \n",
    "    activation_fn = {'tanh': nn.Tanh, 'relu': nn.ReLU}[activation_fn]\n",
    "    \n",
    "    # Store gamma value in Optuna logs\n",
    "    trial.set_user_attr('gamma', gamma)\n",
    "\n",
    "    return {\n",
    "        'n_steps': n_steps,\n",
    "        'batch_size': batch_size,\n",
    "        'gamma': gamma,\n",
    "        'gae_lambda': gae_lambda,\n",
    "        'learning_rate': learning_rate,\n",
    "        'clip_range': clip_range,\n",
    "        'ent_coef': ent_coef,\n",
    "        'vf_coef': vf_coef,\n",
    "        'max_grad_norm': max_grad_norm,\n",
    "        'target_kl': target_kl,\n",
    "        'n_epochs': n_epochs,\n",
    "        'policy_kwargs': {\n",
    "            'net_arch': net_arch,\n",
    "            'activation_fn': activation_fn\n",
    "        }\n",
    "    }"
   ]
  },
  {
   "cell_type": "code",
   "execution_count": null,
   "id": "7bb33df3-8862-42b2-ada4-a0256d9d8f72",
   "metadata": {
    "jupyter": {
     "source_hidden": true
    }
   },
   "outputs": [],
   "source": [
    "class TrialEvalCallback(EvalCallback):\n",
    "    \"\"\"\n",
    "    Callback used for evaluating and reporting a trial.\n",
    "    \n",
    "    :param eval_env: Evaluation environement\n",
    "    :param trial: Optuna trial object\n",
    "    :param n_eval_episodes: Number of evaluation episodes\n",
    "    :param eval_freq:   Evaluate the agent every ``eval_freq`` call of the callback.\n",
    "    :param deterministic: Whether the evaluation should\n",
    "        use a stochastic or deterministic policy.\n",
    "    :param verbose:\n",
    "    \"\"\"\n",
    "\n",
    "    def __init__(\n",
    "        self,\n",
    "        eval_env: gym.Env,\n",
    "        trial: optuna.Trial,\n",
    "        n_eval_episodes: int = 5,\n",
    "        eval_freq: int = 10000,\n",
    "        deterministic: bool = True,\n",
    "        verbose: int = 0,\n",
    "    ):\n",
    "\n",
    "        super().__init__(\n",
    "            eval_env=eval_env,\n",
    "            n_eval_episodes=n_eval_episodes,\n",
    "            eval_freq=eval_freq,\n",
    "            deterministic=deterministic,\n",
    "            verbose=verbose,\n",
    "        )\n",
    "        self.trial = trial\n",
    "        self.eval_idx = 0\n",
    "        self.is_pruned = False\n",
    "\n",
    "    def _on_step(self) -> bool:\n",
    "        if self.eval_freq > 0 and self.n_calls % self.eval_freq == 0:\n",
    "            # Evaluate policy (done in the parent class)\n",
    "            super()._on_step()\n",
    "            self.eval_idx += 1\n",
    "            # Send report to Optuna\n",
    "            self.trial.report(self.last_mean_reward, self.eval_idx)\n",
    "            # Prune trial if need\n",
    "            if self.trial.should_prune():\n",
    "                self.is_pruned = True\n",
    "                return False\n",
    "        return True"
   ]
  },
  {
   "cell_type": "code",
   "execution_count": null,
   "id": "5471099b-c248-4f2d-b0df-a7c97c8171fc",
   "metadata": {
    "jupyter": {
     "source_hidden": true
    }
   },
   "outputs": [],
   "source": [
    "def objective(trial: optuna.Trial) -> float:\n",
    "    \"\"\"\n",
    "    Objective function using by Optuna to evaluate\n",
    "    one configuration (i.e., one set of hyperparameters).\n",
    "\n",
    "    Given a trial object, it will sample hyperparameters,\n",
    "    evaluate it and report the result (mean episodic reward after training)\n",
    "\n",
    "    :param trial: Optuna trial object\n",
    "    :return: Mean episodic reward after training\n",
    "    \"\"\"\n",
    "\n",
    "    kwargs = DEFAULT_HYPERPARAMS.copy()\n",
    "\n",
    "    # 1. Sample hyperparameters and update the keyword arguments\n",
    "    kwargs.update(**sample_ppo_params(trial))\n",
    "    print(kwargs)\n",
    "    # Create the RL model\n",
    "    model = PPO(device='cpu', verbose=1, **kwargs)\n",
    "    # Create eval envs\n",
    "    eval_envs = make_vec_env(ENV_ID, n_envs=N_EVAL_ENVS)\n",
    "\n",
    "    eval_callback = TrialEvalCallback(eval_envs, trial, N_EVAL_EPISODES, EVAL_FREQ, deterministic=True, verbose=0)\n",
    "\n",
    "    nan_encountered = False\n",
    "    try:\n",
    "        # Train the model\n",
    "        model.learn(N_TIMESTEPS, callback=eval_callback, progress_bar=True)\n",
    "    except AssertionError as e:\n",
    "        # Sometimes, random hyperparams can generate NaN\n",
    "        print(e)\n",
    "        nan_encountered = True\n",
    "    finally:\n",
    "        # Free memory\n",
    "        model.env.close()\n",
    "        eval_envs.close()\n",
    "\n",
    "    # Tell the optimizer that the trial failed\n",
    "    if nan_encountered:\n",
    "        return float(\"nan\")\n",
    "\n",
    "    if eval_callback.is_pruned:\n",
    "        raise optuna.exceptions.TrialPruned()\n",
    "\n",
    "    return eval_callback.last_mean_reward"
   ]
  },
  {
   "cell_type": "code",
   "execution_count": null,
   "id": "cd13ee70-42af-4ab4-a7d0-9873df79a065",
   "metadata": {
    "jupyter": {
     "source_hidden": true
    }
   },
   "outputs": [],
   "source": [
    "# Set pytorch num threads to 1 for faster training\n",
    "torch.set_num_threads(1)\n",
    "# Select the sampler, can be random, TPESampler, CMAES, ...\n",
    "sampler = TPESampler(n_startup_trials=N_STARTUP_TRIALS)\n",
    "# Do not prune before 1/3 of the max budget is used\n",
    "pruner = MedianPruner(\n",
    "    n_startup_trials=N_STARTUP_TRIALS, n_warmup_steps=N_EVALUATIONS // 3\n",
    ")\n",
    "# Create the study and start the hyperparameter optimization\n",
    "study = optuna.create_study(sampler=sampler, pruner=pruner, direction=\"maximize\")\n",
    "\n",
    "try:\n",
    "    study.optimize(objective, n_trials=N_TRIALS, n_jobs=N_JOBS, timeout=TIMEOUT)\n",
    "except KeyboardInterrupt:\n",
    "    pass\n",
    "\n",
    "print(\"Number of finished trials: \", len(study.trials))\n",
    "\n",
    "print(\"Best trial:\")\n",
    "trial = study.best_trial\n",
    "\n",
    "print(f\"  Value: {trial.value}\")\n",
    "\n",
    "print(\"  Params: \")\n",
    "for key, value in trial.params.items():\n",
    "    print(f\"    {key}: {value}\")\n",
    "\n",
    "print(\"  User attrs:\")\n",
    "for key, value in trial.user_attrs.items():\n",
    "    print(f\"    {key}: {value}\")\n",
    "\n",
    "# Write report\n",
    "study.trials_dataframe().to_csv(\"study_results_ppo_marineenv.csv\")\n",
    "\n",
    "fig1 = plot_optimization_history(study)\n",
    "fig2 = plot_param_importances(study)\n",
    "\n",
    "fig1.show()\n",
    "fig2.show()"
   ]
  },
  {
   "cell_type": "code",
   "execution_count": null,
   "id": "64c1bef0-7e94-4b1f-abe8-6e917fb7a917",
   "metadata": {
    "jupyter": {
     "source_hidden": true
    }
   },
   "outputs": [],
   "source": [
    "# Create the environment\n",
    "def make_env():\n",
    "    env = gym.make('MarineEnv-v0', render_mode='rgb_array', continuous=True, max_episode_steps=400)\n",
    "    env = Monitor(env)  # ✅ Apply Monitor FIRST before vectorization\n",
    "    return env\n",
    "\n",
    "# Wrap it in `DummyVecEnv` FIRST\n",
    "env = DummyVecEnv([make_env])  \n",
    "\n",
    "# Now apply normalization\n",
    "env = VecNormalize(env, norm_obs=True, norm_reward=True, clip_obs=10.0)"
   ]
  },
  {
   "cell_type": "code",
   "execution_count": 4,
   "id": "ceee0548-ec75-47e1-afc1-09c26ce4ffe7",
   "metadata": {},
   "outputs": [],
   "source": [
    "env = gym.make('MarineEnv-v0', render_mode='rgb_array', continuous=True, max_episode_steps=400, training_stage=2)\n",
    "# vec_env = make_vec_env('MarineEnv-v0', n_envs=4)"
   ]
  },
  {
   "cell_type": "code",
   "execution_count": 5,
   "id": "3375503c-fcdc-4603-9365-e07a4e7bf91e",
   "metadata": {},
   "outputs": [],
   "source": [
    "kwargs = { \n",
    "    'clip_range': 0.3,\n",
    "    'ent_coef': 0.005,\n",
    "    'gamma': 0.99, \n",
    "    'learning_rate': 1e-4, \n",
    "    'max_grad_norm': 0.99, \n",
    "    'policy_kwargs': {'net_arch': [128, 128], 'activation_fn': torch.nn.Tanh},\n",
    "}"
   ]
  },
  {
   "cell_type": "code",
   "execution_count": 6,
   "id": "6413b289-fc9b-4df1-a806-7d1dc1a33333",
   "metadata": {},
   "outputs": [
    {
     "name": "stdout",
     "output_type": "stream",
     "text": [
      "Using cpu device\n",
      "Wrapping the env with a `Monitor` wrapper\n",
      "Wrapping the env in a DummyVecEnv.\n"
     ]
    }
   ],
   "source": [
    "model = PPO(\n",
    "    policy='MlpPolicy',\n",
    "    env=env,\n",
    "    verbose=1,\n",
    "    device='cpu', \n",
    "    tensorboard_log='./stage_1_tensorboard_logs/',\n",
    "    **kwargs\n",
    ")"
   ]
  },
  {
   "cell_type": "code",
   "execution_count": 7,
   "id": "947167ce-ade1-4036-a3bf-356ae7b9f00a",
   "metadata": {
    "scrolled": true
   },
   "outputs": [
    {
     "name": "stdout",
     "output_type": "stream",
     "text": [
      "Scene:  overtaking\n",
      "Logging to ./stage_1_tensorboard_logs/PPO_16\n"
     ]
    },
    {
     "data": {
      "application/vnd.jupyter.widget-view+json": {
       "model_id": "be30fbd341a441e8a879c897478c381b",
       "version_major": 2,
       "version_minor": 0
      },
      "text/plain": [
       "Output()"
      ]
     },
     "metadata": {},
     "output_type": "display_data"
    },
    {
     "data": {
      "text/html": [
       "<pre style=\"white-space:pre;overflow-x:auto;line-height:normal;font-family:Menlo,'DejaVu Sans Mono',consolas,'Courier New',monospace\">Scene:  crossing\n",
       "</pre>\n"
      ],
      "text/plain": [
       "Scene:  crossing\n"
      ]
     },
     "metadata": {},
     "output_type": "display_data"
    },
    {
     "data": {
      "text/html": [
       "<pre style=\"white-space:pre;overflow-x:auto;line-height:normal;font-family:Menlo,'DejaVu Sans Mono',consolas,'Courier New',monospace\">Scene:  static\n",
       "</pre>\n"
      ],
      "text/plain": [
       "Scene:  static\n"
      ]
     },
     "metadata": {},
     "output_type": "display_data"
    },
    {
     "data": {
      "text/html": [
       "<pre style=\"white-space:pre;overflow-x:auto;line-height:normal;font-family:Menlo,'DejaVu Sans Mono',consolas,'Courier New',monospace\">Scene:  overtaking\n",
       "</pre>\n"
      ],
      "text/plain": [
       "Scene:  overtaking\n"
      ]
     },
     "metadata": {},
     "output_type": "display_data"
    },
    {
     "data": {
      "text/html": [
       "<pre style=\"white-space:pre;overflow-x:auto;line-height:normal;font-family:Menlo,'DejaVu Sans Mono',consolas,'Courier New',monospace\">Scene:  head-on\n",
       "</pre>\n"
      ],
      "text/plain": [
       "Scene:  head-on\n"
      ]
     },
     "metadata": {},
     "output_type": "display_data"
    },
    {
     "data": {
      "text/html": [
       "<pre style=\"white-space:pre;overflow-x:auto;line-height:normal;font-family:Menlo,'DejaVu Sans Mono',consolas,'Courier New',monospace\">Scene:  overtaking\n",
       "</pre>\n"
      ],
      "text/plain": [
       "Scene:  overtaking\n"
      ]
     },
     "metadata": {},
     "output_type": "display_data"
    },
    {
     "data": {
      "text/html": [
       "<pre style=\"white-space:pre;overflow-x:auto;line-height:normal;font-family:Menlo,'DejaVu Sans Mono',consolas,'Courier New',monospace\">Scene:  static\n",
       "</pre>\n"
      ],
      "text/plain": [
       "Scene:  static\n"
      ]
     },
     "metadata": {},
     "output_type": "display_data"
    },
    {
     "name": "stdout",
     "output_type": "stream",
     "text": [
      "---------------------------------\n",
      "| rollout/           |          |\n",
      "|    ep_len_mean     | 285      |\n",
      "|    ep_rew_mean     | 176      |\n",
      "| time/              |          |\n",
      "|    fps             | 688      |\n",
      "|    iterations      | 1        |\n",
      "|    time_elapsed    | 2        |\n",
      "|    total_timesteps | 2048     |\n",
      "---------------------------------\n"
     ]
    },
    {
     "data": {
      "text/html": [
       "<pre style=\"white-space:pre;overflow-x:auto;line-height:normal;font-family:Menlo,'DejaVu Sans Mono',consolas,'Courier New',monospace\">Scene:  head-on\n",
       "</pre>\n"
      ],
      "text/plain": [
       "Scene:  head-on\n"
      ]
     },
     "metadata": {},
     "output_type": "display_data"
    },
    {
     "data": {
      "text/html": [
       "<pre style=\"white-space:pre;overflow-x:auto;line-height:normal;font-family:Menlo,'DejaVu Sans Mono',consolas,'Courier New',monospace\">Scene:  overtaking\n",
       "</pre>\n"
      ],
      "text/plain": [
       "Scene:  overtaking\n"
      ]
     },
     "metadata": {},
     "output_type": "display_data"
    },
    {
     "data": {
      "text/html": [
       "<pre style=\"white-space:pre;overflow-x:auto;line-height:normal;font-family:Menlo,'DejaVu Sans Mono',consolas,'Courier New',monospace\">Scene:  crossing\n",
       "</pre>\n"
      ],
      "text/plain": [
       "Scene:  crossing\n"
      ]
     },
     "metadata": {},
     "output_type": "display_data"
    },
    {
     "data": {
      "text/html": [
       "<pre style=\"white-space:pre;overflow-x:auto;line-height:normal;font-family:Menlo,'DejaVu Sans Mono',consolas,'Courier New',monospace\">Scene:  static\n",
       "</pre>\n"
      ],
      "text/plain": [
       "Scene:  static\n"
      ]
     },
     "metadata": {},
     "output_type": "display_data"
    },
    {
     "data": {
      "text/html": [
       "<pre style=\"white-space:pre;overflow-x:auto;line-height:normal;font-family:Menlo,'DejaVu Sans Mono',consolas,'Courier New',monospace\">Scene:  crossing\n",
       "</pre>\n"
      ],
      "text/plain": [
       "Scene:  crossing\n"
      ]
     },
     "metadata": {},
     "output_type": "display_data"
    },
    {
     "data": {
      "text/html": [
       "<pre style=\"white-space:pre;overflow-x:auto;line-height:normal;font-family:Menlo,'DejaVu Sans Mono',consolas,'Courier New',monospace\">Scene:  crossing\n",
       "</pre>\n"
      ],
      "text/plain": [
       "Scene:  crossing\n"
      ]
     },
     "metadata": {},
     "output_type": "display_data"
    },
    {
     "data": {
      "text/html": [
       "<pre style=\"white-space:pre;overflow-x:auto;line-height:normal;font-family:Menlo,'DejaVu Sans Mono',consolas,'Courier New',monospace\">Scene:  head-on\n",
       "</pre>\n"
      ],
      "text/plain": [
       "Scene:  head-on\n"
      ]
     },
     "metadata": {},
     "output_type": "display_data"
    },
    {
     "data": {
      "text/html": [
       "<pre style=\"white-space:pre;overflow-x:auto;line-height:normal;font-family:Menlo,'DejaVu Sans Mono',consolas,'Courier New',monospace\">Scene:  head-on\n",
       "</pre>\n"
      ],
      "text/plain": [
       "Scene:  head-on\n"
      ]
     },
     "metadata": {},
     "output_type": "display_data"
    },
    {
     "name": "stdout",
     "output_type": "stream",
     "text": [
      "----------------------------------------\n",
      "| rollout/                |            |\n",
      "|    ep_len_mean          | 290        |\n",
      "|    ep_rew_mean          | 303        |\n",
      "| time/                   |            |\n",
      "|    fps                  | 390        |\n",
      "|    iterations           | 2          |\n",
      "|    time_elapsed         | 10         |\n",
      "|    total_timesteps      | 4096       |\n",
      "| train/                  |            |\n",
      "|    approx_kl            | 0.00765695 |\n",
      "|    clip_fraction        | 0.0168     |\n",
      "|    clip_range           | 0.3        |\n",
      "|    entropy_loss         | -2.83      |\n",
      "|    explained_variance   | -0.00095   |\n",
      "|    learning_rate        | 0.0001     |\n",
      "|    loss                 | 494        |\n",
      "|    n_updates            | 10         |\n",
      "|    policy_gradient_loss | -0.0105    |\n",
      "|    std                  | 0.995      |\n",
      "|    value_loss           | 1.15e+03   |\n",
      "----------------------------------------\n"
     ]
    },
    {
     "data": {
      "text/html": [
       "<pre style=\"white-space:pre;overflow-x:auto;line-height:normal;font-family:Menlo,'DejaVu Sans Mono',consolas,'Courier New',monospace\">Scene:  crossing\n",
       "</pre>\n"
      ],
      "text/plain": [
       "Scene:  crossing\n"
      ]
     },
     "metadata": {},
     "output_type": "display_data"
    },
    {
     "data": {
      "text/html": [
       "<pre style=\"white-space:pre;overflow-x:auto;line-height:normal;font-family:Menlo,'DejaVu Sans Mono',consolas,'Courier New',monospace\">Scene:  head-on\n",
       "</pre>\n"
      ],
      "text/plain": [
       "Scene:  head-on\n"
      ]
     },
     "metadata": {},
     "output_type": "display_data"
    },
    {
     "data": {
      "text/html": [
       "<pre style=\"white-space:pre;overflow-x:auto;line-height:normal;font-family:Menlo,'DejaVu Sans Mono',consolas,'Courier New',monospace\">Scene:  static\n",
       "</pre>\n"
      ],
      "text/plain": [
       "Scene:  static\n"
      ]
     },
     "metadata": {},
     "output_type": "display_data"
    },
    {
     "data": {
      "text/html": [
       "<pre style=\"white-space:pre;overflow-x:auto;line-height:normal;font-family:Menlo,'DejaVu Sans Mono',consolas,'Courier New',monospace\">Scene:  crossing\n",
       "</pre>\n"
      ],
      "text/plain": [
       "Scene:  crossing\n"
      ]
     },
     "metadata": {},
     "output_type": "display_data"
    },
    {
     "data": {
      "text/html": [
       "<pre style=\"white-space:pre;overflow-x:auto;line-height:normal;font-family:Menlo,'DejaVu Sans Mono',consolas,'Courier New',monospace\">Scene:  head-on\n",
       "</pre>\n"
      ],
      "text/plain": [
       "Scene:  head-on\n"
      ]
     },
     "metadata": {},
     "output_type": "display_data"
    },
    {
     "data": {
      "text/html": [
       "<pre style=\"white-space:pre;overflow-x:auto;line-height:normal;font-family:Menlo,'DejaVu Sans Mono',consolas,'Courier New',monospace\">Scene:  static\n",
       "</pre>\n"
      ],
      "text/plain": [
       "Scene:  static\n"
      ]
     },
     "metadata": {},
     "output_type": "display_data"
    },
    {
     "name": "stdout",
     "output_type": "stream",
     "text": [
      "-----------------------------------------\n",
      "| rollout/                |             |\n",
      "|    ep_len_mean          | 304         |\n",
      "|    ep_rew_mean          | 339         |\n",
      "| time/                   |             |\n",
      "|    fps                  | 315         |\n",
      "|    iterations           | 3           |\n",
      "|    time_elapsed         | 19          |\n",
      "|    total_timesteps      | 6144        |\n",
      "| train/                  |             |\n",
      "|    approx_kl            | 0.011565043 |\n",
      "|    clip_fraction        | 0.0311      |\n",
      "|    clip_range           | 0.3         |\n",
      "|    entropy_loss         | -2.83       |\n",
      "|    explained_variance   | 0.0358      |\n",
      "|    learning_rate        | 0.0001      |\n",
      "|    loss                 | 428         |\n",
      "|    n_updates            | 20          |\n",
      "|    policy_gradient_loss | -0.0153     |\n",
      "|    std                  | 0.998       |\n",
      "|    value_loss           | 998         |\n",
      "-----------------------------------------\n"
     ]
    },
    {
     "data": {
      "text/html": [
       "<pre style=\"white-space:pre;overflow-x:auto;line-height:normal;font-family:Menlo,'DejaVu Sans Mono',consolas,'Courier New',monospace\">Scene:  crossing\n",
       "</pre>\n"
      ],
      "text/plain": [
       "Scene:  crossing\n"
      ]
     },
     "metadata": {},
     "output_type": "display_data"
    },
    {
     "data": {
      "text/html": [
       "<pre style=\"white-space:pre;overflow-x:auto;line-height:normal;font-family:Menlo,'DejaVu Sans Mono',consolas,'Courier New',monospace\">Scene:  head-on\n",
       "</pre>\n"
      ],
      "text/plain": [
       "Scene:  head-on\n"
      ]
     },
     "metadata": {},
     "output_type": "display_data"
    },
    {
     "data": {
      "text/html": [
       "<pre style=\"white-space:pre;overflow-x:auto;line-height:normal;font-family:Menlo,'DejaVu Sans Mono',consolas,'Courier New',monospace\">Scene:  head-on\n",
       "</pre>\n"
      ],
      "text/plain": [
       "Scene:  head-on\n"
      ]
     },
     "metadata": {},
     "output_type": "display_data"
    },
    {
     "data": {
      "text/html": [
       "<pre style=\"white-space:pre;overflow-x:auto;line-height:normal;font-family:Menlo,'DejaVu Sans Mono',consolas,'Courier New',monospace\">Scene:  static\n",
       "</pre>\n"
      ],
      "text/plain": [
       "Scene:  static\n"
      ]
     },
     "metadata": {},
     "output_type": "display_data"
    },
    {
     "data": {
      "text/html": [
       "<pre style=\"white-space:pre;overflow-x:auto;line-height:normal;font-family:Menlo,'DejaVu Sans Mono',consolas,'Courier New',monospace\">Scene:  crossing\n",
       "</pre>\n"
      ],
      "text/plain": [
       "Scene:  crossing\n"
      ]
     },
     "metadata": {},
     "output_type": "display_data"
    },
    {
     "data": {
      "text/html": [
       "<pre style=\"white-space:pre;overflow-x:auto;line-height:normal;font-family:Menlo,'DejaVu Sans Mono',consolas,'Courier New',monospace\">Scene:  overtaking\n",
       "</pre>\n"
      ],
      "text/plain": [
       "Scene:  overtaking\n"
      ]
     },
     "metadata": {},
     "output_type": "display_data"
    },
    {
     "name": "stdout",
     "output_type": "stream",
     "text": [
      "-----------------------------------------\n",
      "| rollout/                |             |\n",
      "|    ep_len_mean          | 305         |\n",
      "|    ep_rew_mean          | 355         |\n",
      "| time/                   |             |\n",
      "|    fps                  | 245         |\n",
      "|    iterations           | 4           |\n",
      "|    time_elapsed         | 33          |\n",
      "|    total_timesteps      | 8192        |\n",
      "| train/                  |             |\n",
      "|    approx_kl            | 0.005724605 |\n",
      "|    clip_fraction        | 0.00762     |\n",
      "|    clip_range           | 0.3         |\n",
      "|    entropy_loss         | -2.84       |\n",
      "|    explained_variance   | 0.0495      |\n",
      "|    learning_rate        | 0.0001      |\n",
      "|    loss                 | 527         |\n",
      "|    n_updates            | 30          |\n",
      "|    policy_gradient_loss | -0.00968    |\n",
      "|    std                  | 0.999       |\n",
      "|    value_loss           | 987         |\n",
      "-----------------------------------------\n"
     ]
    },
    {
     "data": {
      "text/html": [
       "<pre style=\"white-space:pre;overflow-x:auto;line-height:normal;font-family:Menlo,'DejaVu Sans Mono',consolas,'Courier New',monospace\">Scene:  crossing\n",
       "</pre>\n"
      ],
      "text/plain": [
       "Scene:  crossing\n"
      ]
     },
     "metadata": {},
     "output_type": "display_data"
    },
    {
     "data": {
      "text/html": [
       "<pre style=\"white-space:pre;overflow-x:auto;line-height:normal;font-family:Menlo,'DejaVu Sans Mono',consolas,'Courier New',monospace\">Scene:  head-on\n",
       "</pre>\n"
      ],
      "text/plain": [
       "Scene:  head-on\n"
      ]
     },
     "metadata": {},
     "output_type": "display_data"
    },
    {
     "data": {
      "text/html": [
       "<pre style=\"white-space:pre;overflow-x:auto;line-height:normal;font-family:Menlo,'DejaVu Sans Mono',consolas,'Courier New',monospace\">Scene:  overtaking\n",
       "</pre>\n"
      ],
      "text/plain": [
       "Scene:  overtaking\n"
      ]
     },
     "metadata": {},
     "output_type": "display_data"
    },
    {
     "data": {
      "text/html": [
       "<pre style=\"white-space:pre;overflow-x:auto;line-height:normal;font-family:Menlo,'DejaVu Sans Mono',consolas,'Courier New',monospace\">Scene:  overtaking\n",
       "</pre>\n"
      ],
      "text/plain": [
       "Scene:  overtaking\n"
      ]
     },
     "metadata": {},
     "output_type": "display_data"
    },
    {
     "data": {
      "text/html": [
       "<pre style=\"white-space:pre;overflow-x:auto;line-height:normal;font-family:Menlo,'DejaVu Sans Mono',consolas,'Courier New',monospace\">Scene:  overtaking\n",
       "</pre>\n"
      ],
      "text/plain": [
       "Scene:  overtaking\n"
      ]
     },
     "metadata": {},
     "output_type": "display_data"
    },
    {
     "data": {
      "text/html": [
       "<pre style=\"white-space:pre;overflow-x:auto;line-height:normal;font-family:Menlo,'DejaVu Sans Mono',consolas,'Courier New',monospace\">Scene:  head-on\n",
       "</pre>\n"
      ],
      "text/plain": [
       "Scene:  head-on\n"
      ]
     },
     "metadata": {},
     "output_type": "display_data"
    },
    {
     "name": "stdout",
     "output_type": "stream",
     "text": [
      "----------------------------------------\n",
      "| rollout/                |            |\n",
      "|    ep_len_mean          | 310        |\n",
      "|    ep_rew_mean          | 371        |\n",
      "| time/                   |            |\n",
      "|    fps                  | 226        |\n",
      "|    iterations           | 5          |\n",
      "|    time_elapsed         | 45         |\n",
      "|    total_timesteps      | 10240      |\n",
      "| train/                  |            |\n",
      "|    approx_kl            | 0.01037117 |\n",
      "|    clip_fraction        | 0.0233     |\n",
      "|    clip_range           | 0.3        |\n",
      "|    entropy_loss         | -2.83      |\n",
      "|    explained_variance   | 0.101      |\n",
      "|    learning_rate        | 0.0001     |\n",
      "|    loss                 | 393        |\n",
      "|    n_updates            | 40         |\n",
      "|    policy_gradient_loss | -0.0112    |\n",
      "|    std                  | 0.996      |\n",
      "|    value_loss           | 940        |\n",
      "----------------------------------------\n"
     ]
    },
    {
     "data": {
      "text/html": [
       "<pre style=\"white-space:pre;overflow-x:auto;line-height:normal;font-family:Menlo,'DejaVu Sans Mono',consolas,'Courier New',monospace\">Scene:  crossing\n",
       "</pre>\n"
      ],
      "text/plain": [
       "Scene:  crossing\n"
      ]
     },
     "metadata": {},
     "output_type": "display_data"
    },
    {
     "data": {
      "text/html": [
       "<pre style=\"white-space:pre;overflow-x:auto;line-height:normal;font-family:Menlo,'DejaVu Sans Mono',consolas,'Courier New',monospace\">Scene:  crossing\n",
       "</pre>\n"
      ],
      "text/plain": [
       "Scene:  crossing\n"
      ]
     },
     "metadata": {},
     "output_type": "display_data"
    },
    {
     "data": {
      "text/html": [
       "<pre style=\"white-space:pre;overflow-x:auto;line-height:normal;font-family:Menlo,'DejaVu Sans Mono',consolas,'Courier New',monospace\">Scene:  crossing\n",
       "</pre>\n"
      ],
      "text/plain": [
       "Scene:  crossing\n"
      ]
     },
     "metadata": {},
     "output_type": "display_data"
    },
    {
     "data": {
      "text/html": [
       "<pre style=\"white-space:pre;overflow-x:auto;line-height:normal;font-family:Menlo,'DejaVu Sans Mono',consolas,'Courier New',monospace\">Scene:  overtaking\n",
       "</pre>\n"
      ],
      "text/plain": [
       "Scene:  overtaking\n"
      ]
     },
     "metadata": {},
     "output_type": "display_data"
    },
    {
     "data": {
      "text/html": [
       "<pre style=\"white-space:pre;overflow-x:auto;line-height:normal;font-family:Menlo,'DejaVu Sans Mono',consolas,'Courier New',monospace\">Scene:  crossing\n",
       "</pre>\n"
      ],
      "text/plain": [
       "Scene:  crossing\n"
      ]
     },
     "metadata": {},
     "output_type": "display_data"
    },
    {
     "name": "stdout",
     "output_type": "stream",
     "text": [
      "----------------------------------------\n",
      "| rollout/                |            |\n",
      "|    ep_len_mean          | 322        |\n",
      "|    ep_rew_mean          | 398        |\n",
      "| time/                   |            |\n",
      "|    fps                  | 203        |\n",
      "|    iterations           | 6          |\n",
      "|    time_elapsed         | 60         |\n",
      "|    total_timesteps      | 12288      |\n",
      "| train/                  |            |\n",
      "|    approx_kl            | 0.00898819 |\n",
      "|    clip_fraction        | 0.0143     |\n",
      "|    clip_range           | 0.3        |\n",
      "|    entropy_loss         | -2.82      |\n",
      "|    explained_variance   | 0.103      |\n",
      "|    learning_rate        | 0.0001     |\n",
      "|    loss                 | 345        |\n",
      "|    n_updates            | 50         |\n",
      "|    policy_gradient_loss | -0.0153    |\n",
      "|    std                  | 0.988      |\n",
      "|    value_loss           | 738        |\n",
      "----------------------------------------\n"
     ]
    },
    {
     "data": {
      "text/html": [
       "<pre style=\"white-space:pre;overflow-x:auto;line-height:normal;font-family:Menlo,'DejaVu Sans Mono',consolas,'Courier New',monospace\">Scene:  static\n",
       "</pre>\n"
      ],
      "text/plain": [
       "Scene:  static\n"
      ]
     },
     "metadata": {},
     "output_type": "display_data"
    },
    {
     "data": {
      "text/html": [
       "<pre style=\"white-space:pre;overflow-x:auto;line-height:normal;font-family:Menlo,'DejaVu Sans Mono',consolas,'Courier New',monospace\">Scene:  head-on\n",
       "</pre>\n"
      ],
      "text/plain": [
       "Scene:  head-on\n"
      ]
     },
     "metadata": {},
     "output_type": "display_data"
    },
    {
     "data": {
      "text/html": [
       "<pre style=\"white-space:pre;overflow-x:auto;line-height:normal;font-family:Menlo,'DejaVu Sans Mono',consolas,'Courier New',monospace\">Scene:  crossing\n",
       "</pre>\n"
      ],
      "text/plain": [
       "Scene:  crossing\n"
      ]
     },
     "metadata": {},
     "output_type": "display_data"
    },
    {
     "data": {
      "text/html": [
       "<pre style=\"white-space:pre;overflow-x:auto;line-height:normal;font-family:Menlo,'DejaVu Sans Mono',consolas,'Courier New',monospace\">Scene:  overtaking\n",
       "</pre>\n"
      ],
      "text/plain": [
       "Scene:  overtaking\n"
      ]
     },
     "metadata": {},
     "output_type": "display_data"
    },
    {
     "data": {
      "text/html": [
       "<pre style=\"white-space:pre;overflow-x:auto;line-height:normal;font-family:Menlo,'DejaVu Sans Mono',consolas,'Courier New',monospace\">Scene:  crossing\n",
       "</pre>\n"
      ],
      "text/plain": [
       "Scene:  crossing\n"
      ]
     },
     "metadata": {},
     "output_type": "display_data"
    },
    {
     "data": {
      "text/html": [
       "<pre style=\"white-space:pre;overflow-x:auto;line-height:normal;font-family:Menlo,'DejaVu Sans Mono',consolas,'Courier New',monospace\">Scene:  static\n",
       "</pre>\n"
      ],
      "text/plain": [
       "Scene:  static\n"
      ]
     },
     "metadata": {},
     "output_type": "display_data"
    },
    {
     "name": "stdout",
     "output_type": "stream",
     "text": [
      "-----------------------------------------\n",
      "| rollout/                |             |\n",
      "|    ep_len_mean          | 333         |\n",
      "|    ep_rew_mean          | 453         |\n",
      "| time/                   |             |\n",
      "|    fps                  | 188         |\n",
      "|    iterations           | 7           |\n",
      "|    time_elapsed         | 76          |\n",
      "|    total_timesteps      | 14336       |\n",
      "| train/                  |             |\n",
      "|    approx_kl            | 0.008701171 |\n",
      "|    clip_fraction        | 0.0207      |\n",
      "|    clip_range           | 0.3         |\n",
      "|    entropy_loss         | -2.81       |\n",
      "|    explained_variance   | 0.151       |\n",
      "|    learning_rate        | 0.0001      |\n",
      "|    loss                 | 476         |\n",
      "|    n_updates            | 60          |\n",
      "|    policy_gradient_loss | -0.0141     |\n",
      "|    std                  | 0.98        |\n",
      "|    value_loss           | 968         |\n",
      "-----------------------------------------\n"
     ]
    },
    {
     "data": {
      "text/html": [
       "<pre style=\"white-space:pre;overflow-x:auto;line-height:normal;font-family:Menlo,'DejaVu Sans Mono',consolas,'Courier New',monospace\">Scene:  head-on\n",
       "</pre>\n"
      ],
      "text/plain": [
       "Scene:  head-on\n"
      ]
     },
     "metadata": {},
     "output_type": "display_data"
    },
    {
     "data": {
      "text/html": [
       "<pre style=\"white-space:pre;overflow-x:auto;line-height:normal;font-family:Menlo,'DejaVu Sans Mono',consolas,'Courier New',monospace\">Scene:  crossing\n",
       "</pre>\n"
      ],
      "text/plain": [
       "Scene:  crossing\n"
      ]
     },
     "metadata": {},
     "output_type": "display_data"
    },
    {
     "data": {
      "text/html": [
       "<pre style=\"white-space:pre;overflow-x:auto;line-height:normal;font-family:Menlo,'DejaVu Sans Mono',consolas,'Courier New',monospace\">Scene:  overtaking\n",
       "</pre>\n"
      ],
      "text/plain": [
       "Scene:  overtaking\n"
      ]
     },
     "metadata": {},
     "output_type": "display_data"
    },
    {
     "data": {
      "text/html": [
       "<pre style=\"white-space:pre;overflow-x:auto;line-height:normal;font-family:Menlo,'DejaVu Sans Mono',consolas,'Courier New',monospace\">Scene:  overtaking\n",
       "</pre>\n"
      ],
      "text/plain": [
       "Scene:  overtaking\n"
      ]
     },
     "metadata": {},
     "output_type": "display_data"
    },
    {
     "data": {
      "text/html": [
       "<pre style=\"white-space:pre;overflow-x:auto;line-height:normal;font-family:Menlo,'DejaVu Sans Mono',consolas,'Courier New',monospace\">Scene:  crossing\n",
       "</pre>\n"
      ],
      "text/plain": [
       "Scene:  crossing\n"
      ]
     },
     "metadata": {},
     "output_type": "display_data"
    },
    {
     "name": "stdout",
     "output_type": "stream",
     "text": [
      "-----------------------------------------\n",
      "| rollout/                |             |\n",
      "|    ep_len_mean          | 339         |\n",
      "|    ep_rew_mean          | 494         |\n",
      "| time/                   |             |\n",
      "|    fps                  | 172         |\n",
      "|    iterations           | 8           |\n",
      "|    time_elapsed         | 94          |\n",
      "|    total_timesteps      | 16384       |\n",
      "| train/                  |             |\n",
      "|    approx_kl            | 0.012127824 |\n",
      "|    clip_fraction        | 0.0269      |\n",
      "|    clip_range           | 0.3         |\n",
      "|    entropy_loss         | -2.79       |\n",
      "|    explained_variance   | -0.0452     |\n",
      "|    learning_rate        | 0.0001      |\n",
      "|    loss                 | 391         |\n",
      "|    n_updates            | 70          |\n",
      "|    policy_gradient_loss | -0.0191     |\n",
      "|    std                  | 0.976       |\n",
      "|    value_loss           | 939         |\n",
      "-----------------------------------------\n"
     ]
    },
    {
     "data": {
      "text/html": [
       "<pre style=\"white-space:pre;overflow-x:auto;line-height:normal;font-family:Menlo,'DejaVu Sans Mono',consolas,'Courier New',monospace\">Scene:  head-on\n",
       "</pre>\n"
      ],
      "text/plain": [
       "Scene:  head-on\n"
      ]
     },
     "metadata": {},
     "output_type": "display_data"
    },
    {
     "data": {
      "text/html": [
       "<pre style=\"white-space:pre;overflow-x:auto;line-height:normal;font-family:Menlo,'DejaVu Sans Mono',consolas,'Courier New',monospace\">Scene:  crossing\n",
       "</pre>\n"
      ],
      "text/plain": [
       "Scene:  crossing\n"
      ]
     },
     "metadata": {},
     "output_type": "display_data"
    },
    {
     "data": {
      "text/html": [
       "<pre style=\"white-space:pre;overflow-x:auto;line-height:normal;font-family:Menlo,'DejaVu Sans Mono',consolas,'Courier New',monospace\">Scene:  overtaking\n",
       "</pre>\n"
      ],
      "text/plain": [
       "Scene:  overtaking\n"
      ]
     },
     "metadata": {},
     "output_type": "display_data"
    },
    {
     "data": {
      "text/html": [
       "<pre style=\"white-space:pre;overflow-x:auto;line-height:normal;font-family:Menlo,'DejaVu Sans Mono',consolas,'Courier New',monospace\">Scene:  head-on\n",
       "</pre>\n"
      ],
      "text/plain": [
       "Scene:  head-on\n"
      ]
     },
     "metadata": {},
     "output_type": "display_data"
    },
    {
     "data": {
      "text/html": [
       "<pre style=\"white-space:pre;overflow-x:auto;line-height:normal;font-family:Menlo,'DejaVu Sans Mono',consolas,'Courier New',monospace\">Scene:  overtaking\n",
       "</pre>\n"
      ],
      "text/plain": [
       "Scene:  overtaking\n"
      ]
     },
     "metadata": {},
     "output_type": "display_data"
    },
    {
     "name": "stdout",
     "output_type": "stream",
     "text": [
      "-----------------------------------------\n",
      "| rollout/                |             |\n",
      "|    ep_len_mean          | 342         |\n",
      "|    ep_rew_mean          | 529         |\n",
      "| time/                   |             |\n",
      "|    fps                  | 161         |\n",
      "|    iterations           | 9           |\n",
      "|    time_elapsed         | 114         |\n",
      "|    total_timesteps      | 18432       |\n",
      "| train/                  |             |\n",
      "|    approx_kl            | 0.010972433 |\n",
      "|    clip_fraction        | 0.0216      |\n",
      "|    clip_range           | 0.3         |\n",
      "|    entropy_loss         | -2.79       |\n",
      "|    explained_variance   | 0.0244      |\n",
      "|    learning_rate        | 0.0001      |\n",
      "|    loss                 | 446         |\n",
      "|    n_updates            | 80          |\n",
      "|    policy_gradient_loss | -0.0166     |\n",
      "|    std                  | 0.978       |\n",
      "|    value_loss           | 1.1e+03     |\n",
      "-----------------------------------------\n"
     ]
    },
    {
     "data": {
      "text/html": [
       "<pre style=\"white-space:pre;overflow-x:auto;line-height:normal;font-family:Menlo,'DejaVu Sans Mono',consolas,'Courier New',monospace\">Scene:  overtaking\n",
       "</pre>\n"
      ],
      "text/plain": [
       "Scene:  overtaking\n"
      ]
     },
     "metadata": {},
     "output_type": "display_data"
    },
    {
     "data": {
      "text/html": [
       "<pre style=\"white-space:pre;overflow-x:auto;line-height:normal;font-family:Menlo,'DejaVu Sans Mono',consolas,'Courier New',monospace\">Scene:  crossing\n",
       "</pre>\n"
      ],
      "text/plain": [
       "Scene:  crossing\n"
      ]
     },
     "metadata": {},
     "output_type": "display_data"
    },
    {
     "data": {
      "text/html": [
       "<pre style=\"white-space:pre;overflow-x:auto;line-height:normal;font-family:Menlo,'DejaVu Sans Mono',consolas,'Courier New',monospace\">Scene:  head-on\n",
       "</pre>\n"
      ],
      "text/plain": [
       "Scene:  head-on\n"
      ]
     },
     "metadata": {},
     "output_type": "display_data"
    },
    {
     "data": {
      "text/html": [
       "<pre style=\"white-space:pre;overflow-x:auto;line-height:normal;font-family:Menlo,'DejaVu Sans Mono',consolas,'Courier New',monospace\">Scene:  head-on\n",
       "</pre>\n"
      ],
      "text/plain": [
       "Scene:  head-on\n"
      ]
     },
     "metadata": {},
     "output_type": "display_data"
    },
    {
     "data": {
      "text/html": [
       "<pre style=\"white-space:pre;overflow-x:auto;line-height:normal;font-family:Menlo,'DejaVu Sans Mono',consolas,'Courier New',monospace\">Scene:  overtaking\n",
       "</pre>\n"
      ],
      "text/plain": [
       "Scene:  overtaking\n"
      ]
     },
     "metadata": {},
     "output_type": "display_data"
    },
    {
     "data": {
      "text/html": [
       "<pre style=\"white-space:pre;overflow-x:auto;line-height:normal;font-family:Menlo,'DejaVu Sans Mono',consolas,'Courier New',monospace\">Scene:  head-on\n",
       "</pre>\n"
      ],
      "text/plain": [
       "Scene:  head-on\n"
      ]
     },
     "metadata": {},
     "output_type": "display_data"
    },
    {
     "name": "stdout",
     "output_type": "stream",
     "text": [
      "-----------------------------------------\n",
      "| rollout/                |             |\n",
      "|    ep_len_mean          | 346         |\n",
      "|    ep_rew_mean          | 560         |\n",
      "| time/                   |             |\n",
      "|    fps                  | 148         |\n",
      "|    iterations           | 10          |\n",
      "|    time_elapsed         | 137         |\n",
      "|    total_timesteps      | 20480       |\n",
      "| train/                  |             |\n",
      "|    approx_kl            | 0.011174509 |\n",
      "|    clip_fraction        | 0.0339      |\n",
      "|    clip_range           | 0.3         |\n",
      "|    entropy_loss         | -2.79       |\n",
      "|    explained_variance   | 0.00748     |\n",
      "|    learning_rate        | 0.0001      |\n",
      "|    loss                 | 597         |\n",
      "|    n_updates            | 90          |\n",
      "|    policy_gradient_loss | -0.016      |\n",
      "|    std                  | 0.975       |\n",
      "|    value_loss           | 1.34e+03    |\n",
      "-----------------------------------------\n"
     ]
    },
    {
     "data": {
      "text/html": [
       "<pre style=\"white-space:pre;overflow-x:auto;line-height:normal;font-family:Menlo,'DejaVu Sans Mono',consolas,'Courier New',monospace\">Scene:  static\n",
       "</pre>\n"
      ],
      "text/plain": [
       "Scene:  static\n"
      ]
     },
     "metadata": {},
     "output_type": "display_data"
    },
    {
     "data": {
      "text/html": [
       "<pre style=\"white-space:pre;overflow-x:auto;line-height:normal;font-family:Menlo,'DejaVu Sans Mono',consolas,'Courier New',monospace\">Scene:  crossing\n",
       "</pre>\n"
      ],
      "text/plain": [
       "Scene:  crossing\n"
      ]
     },
     "metadata": {},
     "output_type": "display_data"
    },
    {
     "data": {
      "text/html": [
       "<pre style=\"white-space:pre;overflow-x:auto;line-height:normal;font-family:Menlo,'DejaVu Sans Mono',consolas,'Courier New',monospace\">Scene:  head-on\n",
       "</pre>\n"
      ],
      "text/plain": [
       "Scene:  head-on\n"
      ]
     },
     "metadata": {},
     "output_type": "display_data"
    },
    {
     "data": {
      "text/html": [
       "<pre style=\"white-space:pre;overflow-x:auto;line-height:normal;font-family:Menlo,'DejaVu Sans Mono',consolas,'Courier New',monospace\">Scene:  crossing\n",
       "</pre>\n"
      ],
      "text/plain": [
       "Scene:  crossing\n"
      ]
     },
     "metadata": {},
     "output_type": "display_data"
    },
    {
     "data": {
      "text/html": [
       "<pre style=\"white-space:pre;overflow-x:auto;line-height:normal;font-family:Menlo,'DejaVu Sans Mono',consolas,'Courier New',monospace\">Scene:  head-on\n",
       "</pre>\n"
      ],
      "text/plain": [
       "Scene:  head-on\n"
      ]
     },
     "metadata": {},
     "output_type": "display_data"
    },
    {
     "data": {
      "text/html": [
       "<pre style=\"white-space:pre;overflow-x:auto;line-height:normal;font-family:Menlo,'DejaVu Sans Mono',consolas,'Courier New',monospace\">Scene:  crossing\n",
       "</pre>\n"
      ],
      "text/plain": [
       "Scene:  crossing\n"
      ]
     },
     "metadata": {},
     "output_type": "display_data"
    },
    {
     "name": "stdout",
     "output_type": "stream",
     "text": [
      "-----------------------------------------\n",
      "| rollout/                |             |\n",
      "|    ep_len_mean          | 343         |\n",
      "|    ep_rew_mean          | 563         |\n",
      "| time/                   |             |\n",
      "|    fps                  | 138         |\n",
      "|    iterations           | 11          |\n",
      "|    time_elapsed         | 162         |\n",
      "|    total_timesteps      | 22528       |\n",
      "| train/                  |             |\n",
      "|    approx_kl            | 0.008499541 |\n",
      "|    clip_fraction        | 0.032       |\n",
      "|    clip_range           | 0.3         |\n",
      "|    entropy_loss         | -2.79       |\n",
      "|    explained_variance   | 0.105       |\n",
      "|    learning_rate        | 0.0001      |\n",
      "|    loss                 | 560         |\n",
      "|    n_updates            | 100         |\n",
      "|    policy_gradient_loss | -0.0164     |\n",
      "|    std                  | 0.974       |\n",
      "|    value_loss           | 1.35e+03    |\n",
      "-----------------------------------------\n"
     ]
    },
    {
     "data": {
      "text/html": [
       "<pre style=\"white-space:pre;overflow-x:auto;line-height:normal;font-family:Menlo,'DejaVu Sans Mono',consolas,'Courier New',monospace\">Scene:  head-on\n",
       "</pre>\n"
      ],
      "text/plain": [
       "Scene:  head-on\n"
      ]
     },
     "metadata": {},
     "output_type": "display_data"
    },
    {
     "data": {
      "text/html": [
       "<pre style=\"white-space:pre;overflow-x:auto;line-height:normal;font-family:Menlo,'DejaVu Sans Mono',consolas,'Courier New',monospace\">Scene:  static\n",
       "</pre>\n"
      ],
      "text/plain": [
       "Scene:  static\n"
      ]
     },
     "metadata": {},
     "output_type": "display_data"
    },
    {
     "data": {
      "text/html": [
       "<pre style=\"white-space:pre;overflow-x:auto;line-height:normal;font-family:Menlo,'DejaVu Sans Mono',consolas,'Courier New',monospace\">Scene:  static\n",
       "</pre>\n"
      ],
      "text/plain": [
       "Scene:  static\n"
      ]
     },
     "metadata": {},
     "output_type": "display_data"
    },
    {
     "data": {
      "text/html": [
       "<pre style=\"white-space:pre;overflow-x:auto;line-height:normal;font-family:Menlo,'DejaVu Sans Mono',consolas,'Courier New',monospace\">Scene:  overtaking\n",
       "</pre>\n"
      ],
      "text/plain": [
       "Scene:  overtaking\n"
      ]
     },
     "metadata": {},
     "output_type": "display_data"
    },
    {
     "data": {
      "text/html": [
       "<pre style=\"white-space:pre;overflow-x:auto;line-height:normal;font-family:Menlo,'DejaVu Sans Mono',consolas,'Courier New',monospace\">Scene:  head-on\n",
       "</pre>\n"
      ],
      "text/plain": [
       "Scene:  head-on\n"
      ]
     },
     "metadata": {},
     "output_type": "display_data"
    },
    {
     "name": "stdout",
     "output_type": "stream",
     "text": [
      "-----------------------------------------\n",
      "| rollout/                |             |\n",
      "|    ep_len_mean          | 347         |\n",
      "|    ep_rew_mean          | 585         |\n",
      "| time/                   |             |\n",
      "|    fps                  | 132         |\n",
      "|    iterations           | 12          |\n",
      "|    time_elapsed         | 186         |\n",
      "|    total_timesteps      | 24576       |\n",
      "| train/                  |             |\n",
      "|    approx_kl            | 0.011443188 |\n",
      "|    clip_fraction        | 0.0329      |\n",
      "|    clip_range           | 0.3         |\n",
      "|    entropy_loss         | -2.78       |\n",
      "|    explained_variance   | 0.0471      |\n",
      "|    learning_rate        | 0.0001      |\n",
      "|    loss                 | 769         |\n",
      "|    n_updates            | 110         |\n",
      "|    policy_gradient_loss | -0.0154     |\n",
      "|    std                  | 0.972       |\n",
      "|    value_loss           | 1.53e+03    |\n",
      "-----------------------------------------\n"
     ]
    },
    {
     "data": {
      "text/html": [
       "<pre style=\"white-space:pre;overflow-x:auto;line-height:normal;font-family:Menlo,'DejaVu Sans Mono',consolas,'Courier New',monospace\">Scene:  overtaking\n",
       "</pre>\n"
      ],
      "text/plain": [
       "Scene:  overtaking\n"
      ]
     },
     "metadata": {},
     "output_type": "display_data"
    },
    {
     "data": {
      "text/html": [
       "<pre style=\"white-space:pre;overflow-x:auto;line-height:normal;font-family:Menlo,'DejaVu Sans Mono',consolas,'Courier New',monospace\">Scene:  head-on\n",
       "</pre>\n"
      ],
      "text/plain": [
       "Scene:  head-on\n"
      ]
     },
     "metadata": {},
     "output_type": "display_data"
    },
    {
     "data": {
      "text/html": [
       "<pre style=\"white-space:pre;overflow-x:auto;line-height:normal;font-family:Menlo,'DejaVu Sans Mono',consolas,'Courier New',monospace\">Scene:  head-on\n",
       "</pre>\n"
      ],
      "text/plain": [
       "Scene:  head-on\n"
      ]
     },
     "metadata": {},
     "output_type": "display_data"
    },
    {
     "data": {
      "text/html": [
       "<pre style=\"white-space:pre;overflow-x:auto;line-height:normal;font-family:Menlo,'DejaVu Sans Mono',consolas,'Courier New',monospace\">Scene:  head-on\n",
       "</pre>\n"
      ],
      "text/plain": [
       "Scene:  head-on\n"
      ]
     },
     "metadata": {},
     "output_type": "display_data"
    },
    {
     "data": {
      "text/html": [
       "<pre style=\"white-space:pre;overflow-x:auto;line-height:normal;font-family:Menlo,'DejaVu Sans Mono',consolas,'Courier New',monospace\">Scene:  overtaking\n",
       "</pre>\n"
      ],
      "text/plain": [
       "Scene:  overtaking\n"
      ]
     },
     "metadata": {},
     "output_type": "display_data"
    },
    {
     "name": "stdout",
     "output_type": "stream",
     "text": [
      "-----------------------------------------\n",
      "| rollout/                |             |\n",
      "|    ep_len_mean          | 348         |\n",
      "|    ep_rew_mean          | 610         |\n",
      "| time/                   |             |\n",
      "|    fps                  | 123         |\n",
      "|    iterations           | 13          |\n",
      "|    time_elapsed         | 215         |\n",
      "|    total_timesteps      | 26624       |\n",
      "| train/                  |             |\n",
      "|    approx_kl            | 0.013720594 |\n",
      "|    clip_fraction        | 0.0511      |\n",
      "|    clip_range           | 0.3         |\n",
      "|    entropy_loss         | -2.78       |\n",
      "|    explained_variance   | 0.158       |\n",
      "|    learning_rate        | 0.0001      |\n",
      "|    loss                 | 462         |\n",
      "|    n_updates            | 120         |\n",
      "|    policy_gradient_loss | -0.026      |\n",
      "|    std                  | 0.965       |\n",
      "|    value_loss           | 967         |\n",
      "-----------------------------------------\n"
     ]
    },
    {
     "data": {
      "text/html": [
       "<pre style=\"white-space:pre;overflow-x:auto;line-height:normal;font-family:Menlo,'DejaVu Sans Mono',consolas,'Courier New',monospace\">Scene:  crossing\n",
       "</pre>\n"
      ],
      "text/plain": [
       "Scene:  crossing\n"
      ]
     },
     "metadata": {},
     "output_type": "display_data"
    },
    {
     "data": {
      "text/html": [
       "<pre style=\"white-space:pre;overflow-x:auto;line-height:normal;font-family:Menlo,'DejaVu Sans Mono',consolas,'Courier New',monospace\">Scene:  head-on\n",
       "</pre>\n"
      ],
      "text/plain": [
       "Scene:  head-on\n"
      ]
     },
     "metadata": {},
     "output_type": "display_data"
    },
    {
     "data": {
      "text/html": [
       "<pre style=\"white-space:pre;overflow-x:auto;line-height:normal;font-family:Menlo,'DejaVu Sans Mono',consolas,'Courier New',monospace\">Scene:  static\n",
       "</pre>\n"
      ],
      "text/plain": [
       "Scene:  static\n"
      ]
     },
     "metadata": {},
     "output_type": "display_data"
    },
    {
     "data": {
      "text/html": [
       "<pre style=\"white-space:pre;overflow-x:auto;line-height:normal;font-family:Menlo,'DejaVu Sans Mono',consolas,'Courier New',monospace\">Scene:  head-on\n",
       "</pre>\n"
      ],
      "text/plain": [
       "Scene:  head-on\n"
      ]
     },
     "metadata": {},
     "output_type": "display_data"
    },
    {
     "data": {
      "text/html": [
       "<pre style=\"white-space:pre;overflow-x:auto;line-height:normal;font-family:Menlo,'DejaVu Sans Mono',consolas,'Courier New',monospace\">Scene:  head-on\n",
       "</pre>\n"
      ],
      "text/plain": [
       "Scene:  head-on\n"
      ]
     },
     "metadata": {},
     "output_type": "display_data"
    },
    {
     "name": "stdout",
     "output_type": "stream",
     "text": [
      "-----------------------------------------\n",
      "| rollout/                |             |\n",
      "|    ep_len_mean          | 350         |\n",
      "|    ep_rew_mean          | 626         |\n",
      "| time/                   |             |\n",
      "|    fps                  | 116         |\n",
      "|    iterations           | 14          |\n",
      "|    time_elapsed         | 246         |\n",
      "|    total_timesteps      | 28672       |\n",
      "| train/                  |             |\n",
      "|    approx_kl            | 0.016406883 |\n",
      "|    clip_fraction        | 0.0516      |\n",
      "|    clip_range           | 0.3         |\n",
      "|    entropy_loss         | -2.76       |\n",
      "|    explained_variance   | 0.0356      |\n",
      "|    learning_rate        | 0.0001      |\n",
      "|    loss                 | 639         |\n",
      "|    n_updates            | 130         |\n",
      "|    policy_gradient_loss | -0.025      |\n",
      "|    std                  | 0.956       |\n",
      "|    value_loss           | 1.44e+03    |\n",
      "-----------------------------------------\n"
     ]
    },
    {
     "data": {
      "text/html": [
       "<pre style=\"white-space:pre;overflow-x:auto;line-height:normal;font-family:Menlo,'DejaVu Sans Mono',consolas,'Courier New',monospace\">Scene:  crossing\n",
       "</pre>\n"
      ],
      "text/plain": [
       "Scene:  crossing\n"
      ]
     },
     "metadata": {},
     "output_type": "display_data"
    },
    {
     "data": {
      "text/html": [
       "<pre style=\"white-space:pre;overflow-x:auto;line-height:normal;font-family:Menlo,'DejaVu Sans Mono',consolas,'Courier New',monospace\">Scene:  overtaking\n",
       "</pre>\n"
      ],
      "text/plain": [
       "Scene:  overtaking\n"
      ]
     },
     "metadata": {},
     "output_type": "display_data"
    },
    {
     "data": {
      "text/html": [
       "<pre style=\"white-space:pre;overflow-x:auto;line-height:normal;font-family:Menlo,'DejaVu Sans Mono',consolas,'Courier New',monospace\">Scene:  crossing\n",
       "</pre>\n"
      ],
      "text/plain": [
       "Scene:  crossing\n"
      ]
     },
     "metadata": {},
     "output_type": "display_data"
    },
    {
     "data": {
      "text/html": [
       "<pre style=\"white-space:pre;overflow-x:auto;line-height:normal;font-family:Menlo,'DejaVu Sans Mono',consolas,'Courier New',monospace\">Scene:  static\n",
       "</pre>\n"
      ],
      "text/plain": [
       "Scene:  static\n"
      ]
     },
     "metadata": {},
     "output_type": "display_data"
    },
    {
     "data": {
      "text/html": [
       "<pre style=\"white-space:pre;overflow-x:auto;line-height:normal;font-family:Menlo,'DejaVu Sans Mono',consolas,'Courier New',monospace\">Scene:  overtaking\n",
       "</pre>\n"
      ],
      "text/plain": [
       "Scene:  overtaking\n"
      ]
     },
     "metadata": {},
     "output_type": "display_data"
    },
    {
     "data": {
      "text/html": [
       "<pre style=\"white-space:pre;overflow-x:auto;line-height:normal;font-family:Menlo,'DejaVu Sans Mono',consolas,'Courier New',monospace\">Scene:  head-on\n",
       "</pre>\n"
      ],
      "text/plain": [
       "Scene:  head-on\n"
      ]
     },
     "metadata": {},
     "output_type": "display_data"
    },
    {
     "name": "stdout",
     "output_type": "stream",
     "text": [
      "-----------------------------------------\n",
      "| rollout/                |             |\n",
      "|    ep_len_mean          | 352         |\n",
      "|    ep_rew_mean          | 663         |\n",
      "| time/                   |             |\n",
      "|    fps                  | 109         |\n",
      "|    iterations           | 15          |\n",
      "|    time_elapsed         | 279         |\n",
      "|    total_timesteps      | 30720       |\n",
      "| train/                  |             |\n",
      "|    approx_kl            | 0.028834533 |\n",
      "|    clip_fraction        | 0.12        |\n",
      "|    clip_range           | 0.3         |\n",
      "|    entropy_loss         | -2.75       |\n",
      "|    explained_variance   | 0.054       |\n",
      "|    learning_rate        | 0.0001      |\n",
      "|    loss                 | 461         |\n",
      "|    n_updates            | 140         |\n",
      "|    policy_gradient_loss | -0.0346     |\n",
      "|    std                  | 0.958       |\n",
      "|    value_loss           | 972         |\n",
      "-----------------------------------------\n"
     ]
    },
    {
     "data": {
      "text/html": [
       "<pre style=\"white-space:pre;overflow-x:auto;line-height:normal;font-family:Menlo,'DejaVu Sans Mono',consolas,'Courier New',monospace\">Scene:  static\n",
       "</pre>\n"
      ],
      "text/plain": [
       "Scene:  static\n"
      ]
     },
     "metadata": {},
     "output_type": "display_data"
    },
    {
     "data": {
      "text/html": [
       "<pre style=\"white-space:pre;overflow-x:auto;line-height:normal;font-family:Menlo,'DejaVu Sans Mono',consolas,'Courier New',monospace\">Scene:  overtaking\n",
       "</pre>\n"
      ],
      "text/plain": [
       "Scene:  overtaking\n"
      ]
     },
     "metadata": {},
     "output_type": "display_data"
    },
    {
     "data": {
      "text/html": [
       "<pre style=\"white-space:pre;overflow-x:auto;line-height:normal;font-family:Menlo,'DejaVu Sans Mono',consolas,'Courier New',monospace\">Scene:  overtaking\n",
       "</pre>\n"
      ],
      "text/plain": [
       "Scene:  overtaking\n"
      ]
     },
     "metadata": {},
     "output_type": "display_data"
    },
    {
     "data": {
      "text/html": [
       "<pre style=\"white-space:pre;overflow-x:auto;line-height:normal;font-family:Menlo,'DejaVu Sans Mono',consolas,'Courier New',monospace\">Scene:  crossing\n",
       "</pre>\n"
      ],
      "text/plain": [
       "Scene:  crossing\n"
      ]
     },
     "metadata": {},
     "output_type": "display_data"
    },
    {
     "data": {
      "text/html": [
       "<pre style=\"white-space:pre;overflow-x:auto;line-height:normal;font-family:Menlo,'DejaVu Sans Mono',consolas,'Courier New',monospace\">Scene:  crossing\n",
       "</pre>\n"
      ],
      "text/plain": [
       "Scene:  crossing\n"
      ]
     },
     "metadata": {},
     "output_type": "display_data"
    },
    {
     "name": "stdout",
     "output_type": "stream",
     "text": [
      "-----------------------------------------\n",
      "| rollout/                |             |\n",
      "|    ep_len_mean          | 354         |\n",
      "|    ep_rew_mean          | 687         |\n",
      "| time/                   |             |\n",
      "|    fps                  | 104         |\n",
      "|    iterations           | 16          |\n",
      "|    time_elapsed         | 313         |\n",
      "|    total_timesteps      | 32768       |\n",
      "| train/                  |             |\n",
      "|    approx_kl            | 0.016048599 |\n",
      "|    clip_fraction        | 0.0551      |\n",
      "|    clip_range           | 0.3         |\n",
      "|    entropy_loss         | -2.75       |\n",
      "|    explained_variance   | 0.0166      |\n",
      "|    learning_rate        | 0.0001      |\n",
      "|    loss                 | 812         |\n",
      "|    n_updates            | 150         |\n",
      "|    policy_gradient_loss | -0.0264     |\n",
      "|    std                  | 0.958       |\n",
      "|    value_loss           | 1.7e+03     |\n",
      "-----------------------------------------\n"
     ]
    },
    {
     "data": {
      "text/html": [
       "<pre style=\"white-space:pre;overflow-x:auto;line-height:normal;font-family:Menlo,'DejaVu Sans Mono',consolas,'Courier New',monospace\">Scene:  head-on\n",
       "</pre>\n"
      ],
      "text/plain": [
       "Scene:  head-on\n"
      ]
     },
     "metadata": {},
     "output_type": "display_data"
    },
    {
     "data": {
      "text/html": [
       "<pre style=\"white-space:pre;overflow-x:auto;line-height:normal;font-family:Menlo,'DejaVu Sans Mono',consolas,'Courier New',monospace\">Scene:  static\n",
       "</pre>\n"
      ],
      "text/plain": [
       "Scene:  static\n"
      ]
     },
     "metadata": {},
     "output_type": "display_data"
    },
    {
     "data": {
      "text/html": [
       "<pre style=\"white-space:pre;overflow-x:auto;line-height:normal;font-family:Menlo,'DejaVu Sans Mono',consolas,'Courier New',monospace\">Scene:  crossing\n",
       "</pre>\n"
      ],
      "text/plain": [
       "Scene:  crossing\n"
      ]
     },
     "metadata": {},
     "output_type": "display_data"
    },
    {
     "data": {
      "text/html": [
       "<pre style=\"white-space:pre;overflow-x:auto;line-height:normal;font-family:Menlo,'DejaVu Sans Mono',consolas,'Courier New',monospace\">Scene:  static\n",
       "</pre>\n"
      ],
      "text/plain": [
       "Scene:  static\n"
      ]
     },
     "metadata": {},
     "output_type": "display_data"
    },
    {
     "data": {
      "text/html": [
       "<pre style=\"white-space:pre;overflow-x:auto;line-height:normal;font-family:Menlo,'DejaVu Sans Mono',consolas,'Courier New',monospace\">Scene:  head-on\n",
       "</pre>\n"
      ],
      "text/plain": [
       "Scene:  head-on\n"
      ]
     },
     "metadata": {},
     "output_type": "display_data"
    },
    {
     "name": "stdout",
     "output_type": "stream",
     "text": [
      "-----------------------------------------\n",
      "| rollout/                |             |\n",
      "|    ep_len_mean          | 356         |\n",
      "|    ep_rew_mean          | 710         |\n",
      "| time/                   |             |\n",
      "|    fps                  | 100         |\n",
      "|    iterations           | 17          |\n",
      "|    time_elapsed         | 348         |\n",
      "|    total_timesteps      | 34816       |\n",
      "| train/                  |             |\n",
      "|    approx_kl            | 0.021465305 |\n",
      "|    clip_fraction        | 0.1         |\n",
      "|    clip_range           | 0.3         |\n",
      "|    entropy_loss         | -2.75       |\n",
      "|    explained_variance   | 0.0437      |\n",
      "|    learning_rate        | 0.0001      |\n",
      "|    loss                 | 781         |\n",
      "|    n_updates            | 160         |\n",
      "|    policy_gradient_loss | -0.0308     |\n",
      "|    std                  | 0.955       |\n",
      "|    value_loss           | 1.76e+03    |\n",
      "-----------------------------------------\n"
     ]
    },
    {
     "data": {
      "text/html": [
       "<pre style=\"white-space:pre;overflow-x:auto;line-height:normal;font-family:Menlo,'DejaVu Sans Mono',consolas,'Courier New',monospace\">Scene:  crossing\n",
       "</pre>\n"
      ],
      "text/plain": [
       "Scene:  crossing\n"
      ]
     },
     "metadata": {},
     "output_type": "display_data"
    },
    {
     "data": {
      "text/html": [
       "<pre style=\"white-space:pre;overflow-x:auto;line-height:normal;font-family:Menlo,'DejaVu Sans Mono',consolas,'Courier New',monospace\">Scene:  static\n",
       "</pre>\n"
      ],
      "text/plain": [
       "Scene:  static\n"
      ]
     },
     "metadata": {},
     "output_type": "display_data"
    },
    {
     "data": {
      "text/html": [
       "<pre style=\"white-space:pre;overflow-x:auto;line-height:normal;font-family:Menlo,'DejaVu Sans Mono',consolas,'Courier New',monospace\">Scene:  head-on\n",
       "</pre>\n"
      ],
      "text/plain": [
       "Scene:  head-on\n"
      ]
     },
     "metadata": {},
     "output_type": "display_data"
    },
    {
     "data": {
      "text/html": [
       "<pre style=\"white-space:pre;overflow-x:auto;line-height:normal;font-family:Menlo,'DejaVu Sans Mono',consolas,'Courier New',monospace\">Scene:  head-on\n",
       "</pre>\n"
      ],
      "text/plain": [
       "Scene:  head-on\n"
      ]
     },
     "metadata": {},
     "output_type": "display_data"
    },
    {
     "data": {
      "text/html": [
       "<pre style=\"white-space:pre;overflow-x:auto;line-height:normal;font-family:Menlo,'DejaVu Sans Mono',consolas,'Courier New',monospace\">Scene:  crossing\n",
       "</pre>\n"
      ],
      "text/plain": [
       "Scene:  crossing\n"
      ]
     },
     "metadata": {},
     "output_type": "display_data"
    },
    {
     "data": {
      "text/html": [
       "<pre style=\"white-space:pre;overflow-x:auto;line-height:normal;font-family:Menlo,'DejaVu Sans Mono',consolas,'Courier New',monospace\">Scene:  overtaking\n",
       "</pre>\n"
      ],
      "text/plain": [
       "Scene:  overtaking\n"
      ]
     },
     "metadata": {},
     "output_type": "display_data"
    },
    {
     "name": "stdout",
     "output_type": "stream",
     "text": [
      "-----------------------------------------\n",
      "| rollout/                |             |\n",
      "|    ep_len_mean          | 361         |\n",
      "|    ep_rew_mean          | 752         |\n",
      "| time/                   |             |\n",
      "|    fps                  | 95          |\n",
      "|    iterations           | 18          |\n",
      "|    time_elapsed         | 387         |\n",
      "|    total_timesteps      | 36864       |\n",
      "| train/                  |             |\n",
      "|    approx_kl            | 0.012898657 |\n",
      "|    clip_fraction        | 0.036       |\n",
      "|    clip_range           | 0.3         |\n",
      "|    entropy_loss         | -2.74       |\n",
      "|    explained_variance   | 0.226       |\n",
      "|    learning_rate        | 0.0001      |\n",
      "|    loss                 | 641         |\n",
      "|    n_updates            | 170         |\n",
      "|    policy_gradient_loss | -0.0239     |\n",
      "|    std                  | 0.949       |\n",
      "|    value_loss           | 1.47e+03    |\n",
      "-----------------------------------------\n"
     ]
    },
    {
     "data": {
      "text/html": [
       "<pre style=\"white-space:pre;overflow-x:auto;line-height:normal;font-family:Menlo,'DejaVu Sans Mono',consolas,'Courier New',monospace\">Scene:  overtaking\n",
       "</pre>\n"
      ],
      "text/plain": [
       "Scene:  overtaking\n"
      ]
     },
     "metadata": {},
     "output_type": "display_data"
    },
    {
     "data": {
      "text/html": [
       "<pre style=\"white-space:pre;overflow-x:auto;line-height:normal;font-family:Menlo,'DejaVu Sans Mono',consolas,'Courier New',monospace\">Scene:  crossing\n",
       "</pre>\n"
      ],
      "text/plain": [
       "Scene:  crossing\n"
      ]
     },
     "metadata": {},
     "output_type": "display_data"
    },
    {
     "data": {
      "text/html": [
       "<pre style=\"white-space:pre;overflow-x:auto;line-height:normal;font-family:Menlo,'DejaVu Sans Mono',consolas,'Courier New',monospace\">Scene:  overtaking\n",
       "</pre>\n"
      ],
      "text/plain": [
       "Scene:  overtaking\n"
      ]
     },
     "metadata": {},
     "output_type": "display_data"
    },
    {
     "data": {
      "text/html": [
       "<pre style=\"white-space:pre;overflow-x:auto;line-height:normal;font-family:Menlo,'DejaVu Sans Mono',consolas,'Courier New',monospace\">Scene:  static\n",
       "</pre>\n"
      ],
      "text/plain": [
       "Scene:  static\n"
      ]
     },
     "metadata": {},
     "output_type": "display_data"
    },
    {
     "data": {
      "text/html": [
       "<pre style=\"white-space:pre;overflow-x:auto;line-height:normal;font-family:Menlo,'DejaVu Sans Mono',consolas,'Courier New',monospace\">Scene:  overtaking\n",
       "</pre>\n"
      ],
      "text/plain": [
       "Scene:  overtaking\n"
      ]
     },
     "metadata": {},
     "output_type": "display_data"
    },
    {
     "data": {
      "text/html": [
       "<pre style=\"white-space:pre;overflow-x:auto;line-height:normal;font-family:Menlo,'DejaVu Sans Mono',consolas,'Courier New',monospace\">Scene:  static\n",
       "</pre>\n"
      ],
      "text/plain": [
       "Scene:  static\n"
      ]
     },
     "metadata": {},
     "output_type": "display_data"
    },
    {
     "name": "stdout",
     "output_type": "stream",
     "text": [
      "-----------------------------------------\n",
      "| rollout/                |             |\n",
      "|    ep_len_mean          | 363         |\n",
      "|    ep_rew_mean          | 790         |\n",
      "| time/                   |             |\n",
      "|    fps                  | 2           |\n",
      "|    iterations           | 19          |\n",
      "|    time_elapsed         | 13833       |\n",
      "|    total_timesteps      | 38912       |\n",
      "| train/                  |             |\n",
      "|    approx_kl            | 0.014423275 |\n",
      "|    clip_fraction        | 0.0418      |\n",
      "|    clip_range           | 0.3         |\n",
      "|    entropy_loss         | -2.73       |\n",
      "|    explained_variance   | 0.232       |\n",
      "|    learning_rate        | 0.0001      |\n",
      "|    loss                 | 1.1e+03     |\n",
      "|    n_updates            | 180         |\n",
      "|    policy_gradient_loss | -0.0219     |\n",
      "|    std                  | 0.945       |\n",
      "|    value_loss           | 2.18e+03    |\n",
      "-----------------------------------------\n"
     ]
    },
    {
     "data": {
      "text/html": [
       "<pre style=\"white-space:pre;overflow-x:auto;line-height:normal;font-family:Menlo,'DejaVu Sans Mono',consolas,'Courier New',monospace\">Scene:  head-on\n",
       "</pre>\n"
      ],
      "text/plain": [
       "Scene:  head-on\n"
      ]
     },
     "metadata": {},
     "output_type": "display_data"
    },
    {
     "data": {
      "text/html": [
       "<pre style=\"white-space:pre;overflow-x:auto;line-height:normal;font-family:Menlo,'DejaVu Sans Mono',consolas,'Courier New',monospace\">Scene:  static\n",
       "</pre>\n"
      ],
      "text/plain": [
       "Scene:  static\n"
      ]
     },
     "metadata": {},
     "output_type": "display_data"
    },
    {
     "data": {
      "text/html": [
       "<pre style=\"white-space:pre;overflow-x:auto;line-height:normal;font-family:Menlo,'DejaVu Sans Mono',consolas,'Courier New',monospace\">Scene:  overtaking\n",
       "</pre>\n"
      ],
      "text/plain": [
       "Scene:  overtaking\n"
      ]
     },
     "metadata": {},
     "output_type": "display_data"
    },
    {
     "data": {
      "text/html": [
       "<pre style=\"white-space:pre;overflow-x:auto;line-height:normal;font-family:Menlo,'DejaVu Sans Mono',consolas,'Courier New',monospace\">Scene:  head-on\n",
       "</pre>\n"
      ],
      "text/plain": [
       "Scene:  head-on\n"
      ]
     },
     "metadata": {},
     "output_type": "display_data"
    },
    {
     "data": {
      "text/html": [
       "<pre style=\"white-space:pre;overflow-x:auto;line-height:normal;font-family:Menlo,'DejaVu Sans Mono',consolas,'Courier New',monospace\">Scene:  static\n",
       "</pre>\n"
      ],
      "text/plain": [
       "Scene:  static\n"
      ]
     },
     "metadata": {},
     "output_type": "display_data"
    },
    {
     "name": "stdout",
     "output_type": "stream",
     "text": [
      "-----------------------------------------\n",
      "| rollout/                |             |\n",
      "|    ep_len_mean          | 365         |\n",
      "|    ep_rew_mean          | 837         |\n",
      "| time/                   |             |\n",
      "|    fps                  | 1           |\n",
      "|    iterations           | 20          |\n",
      "|    time_elapsed         | 23089       |\n",
      "|    total_timesteps      | 40960       |\n",
      "| train/                  |             |\n",
      "|    approx_kl            | 0.013646053 |\n",
      "|    clip_fraction        | 0.0547      |\n",
      "|    clip_range           | 0.3         |\n",
      "|    entropy_loss         | -2.72       |\n",
      "|    explained_variance   | 0.193       |\n",
      "|    learning_rate        | 0.0001      |\n",
      "|    loss                 | 609         |\n",
      "|    n_updates            | 190         |\n",
      "|    policy_gradient_loss | -0.0287     |\n",
      "|    std                  | 0.945       |\n",
      "|    value_loss           | 1.39e+03    |\n",
      "-----------------------------------------\n"
     ]
    },
    {
     "data": {
      "text/html": [
       "<pre style=\"white-space:pre;overflow-x:auto;line-height:normal;font-family:Menlo,'DejaVu Sans Mono',consolas,'Courier New',monospace\">Scene:  static\n",
       "</pre>\n"
      ],
      "text/plain": [
       "Scene:  static\n"
      ]
     },
     "metadata": {},
     "output_type": "display_data"
    },
    {
     "data": {
      "text/html": [
       "<pre style=\"white-space:pre;overflow-x:auto;line-height:normal;font-family:Menlo,'DejaVu Sans Mono',consolas,'Courier New',monospace\">Scene:  crossing\n",
       "</pre>\n"
      ],
      "text/plain": [
       "Scene:  crossing\n"
      ]
     },
     "metadata": {},
     "output_type": "display_data"
    },
    {
     "data": {
      "text/html": [
       "<pre style=\"white-space:pre;overflow-x:auto;line-height:normal;font-family:Menlo,'DejaVu Sans Mono',consolas,'Courier New',monospace\">Scene:  head-on\n",
       "</pre>\n"
      ],
      "text/plain": [
       "Scene:  head-on\n"
      ]
     },
     "metadata": {},
     "output_type": "display_data"
    },
    {
     "data": {
      "text/html": [
       "<pre style=\"white-space:pre;overflow-x:auto;line-height:normal;font-family:Menlo,'DejaVu Sans Mono',consolas,'Courier New',monospace\">Scene:  overtaking\n",
       "</pre>\n"
      ],
      "text/plain": [
       "Scene:  overtaking\n"
      ]
     },
     "metadata": {},
     "output_type": "display_data"
    },
    {
     "data": {
      "text/html": [
       "<pre style=\"white-space:pre;overflow-x:auto;line-height:normal;font-family:Menlo,'DejaVu Sans Mono',consolas,'Courier New',monospace\">Scene:  static\n",
       "</pre>\n"
      ],
      "text/plain": [
       "Scene:  static\n"
      ]
     },
     "metadata": {},
     "output_type": "display_data"
    },
    {
     "name": "stdout",
     "output_type": "stream",
     "text": [
      "-----------------------------------------\n",
      "| rollout/                |             |\n",
      "|    ep_len_mean          | 367         |\n",
      "|    ep_rew_mean          | 886         |\n",
      "| time/                   |             |\n",
      "|    fps                  | 1           |\n",
      "|    iterations           | 21          |\n",
      "|    time_elapsed         | 23125       |\n",
      "|    total_timesteps      | 43008       |\n",
      "| train/                  |             |\n",
      "|    approx_kl            | 0.020387396 |\n",
      "|    clip_fraction        | 0.0674      |\n",
      "|    clip_range           | 0.3         |\n",
      "|    entropy_loss         | -2.72       |\n",
      "|    explained_variance   | 0.123       |\n",
      "|    learning_rate        | 0.0001      |\n",
      "|    loss                 | 888         |\n",
      "|    n_updates            | 200         |\n",
      "|    policy_gradient_loss | -0.0284     |\n",
      "|    std                  | 0.94        |\n",
      "|    value_loss           | 1.77e+03    |\n",
      "-----------------------------------------\n"
     ]
    },
    {
     "data": {
      "text/html": [
       "<pre style=\"white-space:pre;overflow-x:auto;line-height:normal;font-family:Menlo,'DejaVu Sans Mono',consolas,'Courier New',monospace\">Scene:  crossing\n",
       "</pre>\n"
      ],
      "text/plain": [
       "Scene:  crossing\n"
      ]
     },
     "metadata": {},
     "output_type": "display_data"
    },
    {
     "data": {
      "text/html": [
       "<pre style=\"white-space:pre;overflow-x:auto;line-height:normal;font-family:Menlo,'DejaVu Sans Mono',consolas,'Courier New',monospace\">Scene:  head-on\n",
       "</pre>\n"
      ],
      "text/plain": [
       "Scene:  head-on\n"
      ]
     },
     "metadata": {},
     "output_type": "display_data"
    },
    {
     "data": {
      "text/html": [
       "<pre style=\"white-space:pre;overflow-x:auto;line-height:normal;font-family:Menlo,'DejaVu Sans Mono',consolas,'Courier New',monospace\">Scene:  static\n",
       "</pre>\n"
      ],
      "text/plain": [
       "Scene:  static\n"
      ]
     },
     "metadata": {},
     "output_type": "display_data"
    },
    {
     "data": {
      "text/html": [
       "<pre style=\"white-space:pre;overflow-x:auto;line-height:normal;font-family:Menlo,'DejaVu Sans Mono',consolas,'Courier New',monospace\">Scene:  head-on\n",
       "</pre>\n"
      ],
      "text/plain": [
       "Scene:  head-on\n"
      ]
     },
     "metadata": {},
     "output_type": "display_data"
    },
    {
     "data": {
      "text/html": [
       "<pre style=\"white-space:pre;overflow-x:auto;line-height:normal;font-family:Menlo,'DejaVu Sans Mono',consolas,'Courier New',monospace\">Scene:  overtaking\n",
       "</pre>\n"
      ],
      "text/plain": [
       "Scene:  overtaking\n"
      ]
     },
     "metadata": {},
     "output_type": "display_data"
    },
    {
     "name": "stdout",
     "output_type": "stream",
     "text": [
      "-----------------------------------------\n",
      "| rollout/                |             |\n",
      "|    ep_len_mean          | 370         |\n",
      "|    ep_rew_mean          | 926         |\n",
      "| time/                   |             |\n",
      "|    fps                  | 1           |\n",
      "|    iterations           | 22          |\n",
      "|    time_elapsed         | 23160       |\n",
      "|    total_timesteps      | 45056       |\n",
      "| train/                  |             |\n",
      "|    approx_kl            | 0.014259534 |\n",
      "|    clip_fraction        | 0.0513      |\n",
      "|    clip_range           | 0.3         |\n",
      "|    entropy_loss         | -2.71       |\n",
      "|    explained_variance   | 0.124       |\n",
      "|    learning_rate        | 0.0001      |\n",
      "|    loss                 | 900         |\n",
      "|    n_updates            | 210         |\n",
      "|    policy_gradient_loss | -0.0239     |\n",
      "|    std                  | 0.939       |\n",
      "|    value_loss           | 2.17e+03    |\n",
      "-----------------------------------------\n"
     ]
    },
    {
     "data": {
      "text/html": [
       "<pre style=\"white-space:pre;overflow-x:auto;line-height:normal;font-family:Menlo,'DejaVu Sans Mono',consolas,'Courier New',monospace\">Scene:  crossing\n",
       "</pre>\n"
      ],
      "text/plain": [
       "Scene:  crossing\n"
      ]
     },
     "metadata": {},
     "output_type": "display_data"
    },
    {
     "data": {
      "text/html": [
       "<pre style=\"white-space:pre;overflow-x:auto;line-height:normal;font-family:Menlo,'DejaVu Sans Mono',consolas,'Courier New',monospace\">Scene:  head-on\n",
       "</pre>\n"
      ],
      "text/plain": [
       "Scene:  head-on\n"
      ]
     },
     "metadata": {},
     "output_type": "display_data"
    },
    {
     "data": {
      "text/html": [
       "<pre style=\"white-space:pre;overflow-x:auto;line-height:normal;font-family:Menlo,'DejaVu Sans Mono',consolas,'Courier New',monospace\">Scene:  head-on\n",
       "</pre>\n"
      ],
      "text/plain": [
       "Scene:  head-on\n"
      ]
     },
     "metadata": {},
     "output_type": "display_data"
    },
    {
     "data": {
      "text/html": [
       "<pre style=\"white-space:pre;overflow-x:auto;line-height:normal;font-family:Menlo,'DejaVu Sans Mono',consolas,'Courier New',monospace\">Scene:  head-on\n",
       "</pre>\n"
      ],
      "text/plain": [
       "Scene:  head-on\n"
      ]
     },
     "metadata": {},
     "output_type": "display_data"
    },
    {
     "data": {
      "text/html": [
       "<pre style=\"white-space:pre;overflow-x:auto;line-height:normal;font-family:Menlo,'DejaVu Sans Mono',consolas,'Courier New',monospace\">Scene:  overtaking\n",
       "</pre>\n"
      ],
      "text/plain": [
       "Scene:  overtaking\n"
      ]
     },
     "metadata": {},
     "output_type": "display_data"
    },
    {
     "name": "stdout",
     "output_type": "stream",
     "text": [
      "----------------------------------------\n",
      "| rollout/                |            |\n",
      "|    ep_len_mean          | 374        |\n",
      "|    ep_rew_mean          | 963        |\n",
      "| time/                   |            |\n",
      "|    fps                  | 2          |\n",
      "|    iterations           | 23         |\n",
      "|    time_elapsed         | 23226      |\n",
      "|    total_timesteps      | 47104      |\n",
      "| train/                  |            |\n",
      "|    approx_kl            | 0.01373112 |\n",
      "|    clip_fraction        | 0.0455     |\n",
      "|    clip_range           | 0.3        |\n",
      "|    entropy_loss         | -2.71      |\n",
      "|    explained_variance   | 0.178      |\n",
      "|    learning_rate        | 0.0001     |\n",
      "|    loss                 | 666        |\n",
      "|    n_updates            | 220        |\n",
      "|    policy_gradient_loss | -0.0226    |\n",
      "|    std                  | 0.936      |\n",
      "|    value_loss           | 1.76e+03   |\n",
      "----------------------------------------\n"
     ]
    },
    {
     "data": {
      "text/html": [
       "<pre style=\"white-space:pre;overflow-x:auto;line-height:normal;font-family:Menlo,'DejaVu Sans Mono',consolas,'Courier New',monospace\">Scene:  head-on\n",
       "</pre>\n"
      ],
      "text/plain": [
       "Scene:  head-on\n"
      ]
     },
     "metadata": {},
     "output_type": "display_data"
    },
    {
     "data": {
      "text/html": [
       "<pre style=\"white-space:pre;overflow-x:auto;line-height:normal;font-family:Menlo,'DejaVu Sans Mono',consolas,'Courier New',monospace\">Scene:  overtaking\n",
       "</pre>\n"
      ],
      "text/plain": [
       "Scene:  overtaking\n"
      ]
     },
     "metadata": {},
     "output_type": "display_data"
    },
    {
     "data": {
      "text/html": [
       "<pre style=\"white-space:pre;overflow-x:auto;line-height:normal;font-family:Menlo,'DejaVu Sans Mono',consolas,'Courier New',monospace\">Scene:  head-on\n",
       "</pre>\n"
      ],
      "text/plain": [
       "Scene:  head-on\n"
      ]
     },
     "metadata": {},
     "output_type": "display_data"
    },
    {
     "data": {
      "text/html": [
       "<pre style=\"white-space:pre;overflow-x:auto;line-height:normal;font-family:Menlo,'DejaVu Sans Mono',consolas,'Courier New',monospace\">Scene:  overtaking\n",
       "</pre>\n"
      ],
      "text/plain": [
       "Scene:  overtaking\n"
      ]
     },
     "metadata": {},
     "output_type": "display_data"
    },
    {
     "data": {
      "text/html": [
       "<pre style=\"white-space:pre;overflow-x:auto;line-height:normal;font-family:Menlo,'DejaVu Sans Mono',consolas,'Courier New',monospace\">Scene:  static\n",
       "</pre>\n"
      ],
      "text/plain": [
       "Scene:  static\n"
      ]
     },
     "metadata": {},
     "output_type": "display_data"
    },
    {
     "data": {
      "text/html": [
       "<pre style=\"white-space:pre;overflow-x:auto;line-height:normal;font-family:Menlo,'DejaVu Sans Mono',consolas,'Courier New',monospace\">Scene:  head-on\n",
       "</pre>\n"
      ],
      "text/plain": [
       "Scene:  head-on\n"
      ]
     },
     "metadata": {},
     "output_type": "display_data"
    },
    {
     "name": "stdout",
     "output_type": "stream",
     "text": [
      "----------------------------------------\n",
      "| rollout/                |            |\n",
      "|    ep_len_mean          | 372        |\n",
      "|    ep_rew_mean          | 990        |\n",
      "| time/                   |            |\n",
      "|    fps                  | 2          |\n",
      "|    iterations           | 24         |\n",
      "|    time_elapsed         | 23284      |\n",
      "|    total_timesteps      | 49152      |\n",
      "| train/                  |            |\n",
      "|    approx_kl            | 0.01830166 |\n",
      "|    clip_fraction        | 0.0779     |\n",
      "|    clip_range           | 0.3        |\n",
      "|    entropy_loss         | -2.7       |\n",
      "|    explained_variance   | 0.178      |\n",
      "|    learning_rate        | 0.0001     |\n",
      "|    loss                 | 592        |\n",
      "|    n_updates            | 230        |\n",
      "|    policy_gradient_loss | -0.0242    |\n",
      "|    std                  | 0.931      |\n",
      "|    value_loss           | 1.48e+03   |\n",
      "----------------------------------------\n"
     ]
    },
    {
     "data": {
      "text/html": [
       "<pre style=\"white-space:pre;overflow-x:auto;line-height:normal;font-family:Menlo,'DejaVu Sans Mono',consolas,'Courier New',monospace\">Scene:  static\n",
       "</pre>\n"
      ],
      "text/plain": [
       "Scene:  static\n"
      ]
     },
     "metadata": {},
     "output_type": "display_data"
    },
    {
     "data": {
      "text/html": [
       "<pre style=\"white-space:pre;overflow-x:auto;line-height:normal;font-family:Menlo,'DejaVu Sans Mono',consolas,'Courier New',monospace\">Scene:  head-on\n",
       "</pre>\n"
      ],
      "text/plain": [
       "Scene:  head-on\n"
      ]
     },
     "metadata": {},
     "output_type": "display_data"
    },
    {
     "data": {
      "text/html": [
       "<pre style=\"white-space:pre;overflow-x:auto;line-height:normal;font-family:Menlo,'DejaVu Sans Mono',consolas,'Courier New',monospace\">Scene:  overtaking\n",
       "</pre>\n"
      ],
      "text/plain": [
       "Scene:  overtaking\n"
      ]
     },
     "metadata": {},
     "output_type": "display_data"
    },
    {
     "data": {
      "text/html": [
       "<pre style=\"white-space:pre;overflow-x:auto;line-height:normal;font-family:Menlo,'DejaVu Sans Mono',consolas,'Courier New',monospace\">Scene:  static\n",
       "</pre>\n"
      ],
      "text/plain": [
       "Scene:  static\n"
      ]
     },
     "metadata": {},
     "output_type": "display_data"
    },
    {
     "data": {
      "text/html": [
       "<pre style=\"white-space:pre;overflow-x:auto;line-height:normal;font-family:Menlo,'DejaVu Sans Mono',consolas,'Courier New',monospace\">Scene:  crossing\n",
       "</pre>\n"
      ],
      "text/plain": [
       "Scene:  crossing\n"
      ]
     },
     "metadata": {},
     "output_type": "display_data"
    },
    {
     "name": "stdout",
     "output_type": "stream",
     "text": [
      "-----------------------------------------\n",
      "| rollout/                |             |\n",
      "|    ep_len_mean          | 371         |\n",
      "|    ep_rew_mean          | 1.02e+03    |\n",
      "| time/                   |             |\n",
      "|    fps                  | 2           |\n",
      "|    iterations           | 25          |\n",
      "|    time_elapsed         | 23347       |\n",
      "|    total_timesteps      | 51200       |\n",
      "| train/                  |             |\n",
      "|    approx_kl            | 0.027207045 |\n",
      "|    clip_fraction        | 0.104       |\n",
      "|    clip_range           | 0.3         |\n",
      "|    entropy_loss         | -2.69       |\n",
      "|    explained_variance   | 0.29        |\n",
      "|    learning_rate        | 0.0001      |\n",
      "|    loss                 | 545         |\n",
      "|    n_updates            | 240         |\n",
      "|    policy_gradient_loss | -0.0214     |\n",
      "|    std                  | 0.931       |\n",
      "|    value_loss           | 1.08e+03    |\n",
      "-----------------------------------------\n"
     ]
    },
    {
     "data": {
      "text/html": [
       "<pre style=\"white-space:pre;overflow-x:auto;line-height:normal;font-family:Menlo,'DejaVu Sans Mono',consolas,'Courier New',monospace\">Scene:  overtaking\n",
       "</pre>\n"
      ],
      "text/plain": [
       "Scene:  overtaking\n"
      ]
     },
     "metadata": {},
     "output_type": "display_data"
    },
    {
     "data": {
      "text/html": [
       "<pre style=\"white-space:pre;overflow-x:auto;line-height:normal;font-family:Menlo,'DejaVu Sans Mono',consolas,'Courier New',monospace\">Scene:  static\n",
       "</pre>\n"
      ],
      "text/plain": [
       "Scene:  static\n"
      ]
     },
     "metadata": {},
     "output_type": "display_data"
    },
    {
     "data": {
      "text/html": [
       "<pre style=\"white-space:pre;overflow-x:auto;line-height:normal;font-family:Menlo,'DejaVu Sans Mono',consolas,'Courier New',monospace\">Scene:  head-on\n",
       "</pre>\n"
      ],
      "text/plain": [
       "Scene:  head-on\n"
      ]
     },
     "metadata": {},
     "output_type": "display_data"
    },
    {
     "data": {
      "text/html": [
       "<pre style=\"white-space:pre;overflow-x:auto;line-height:normal;font-family:Menlo,'DejaVu Sans Mono',consolas,'Courier New',monospace\">Scene:  crossing\n",
       "</pre>\n"
      ],
      "text/plain": [
       "Scene:  crossing\n"
      ]
     },
     "metadata": {},
     "output_type": "display_data"
    },
    {
     "data": {
      "text/html": [
       "<pre style=\"white-space:pre;overflow-x:auto;line-height:normal;font-family:Menlo,'DejaVu Sans Mono',consolas,'Courier New',monospace\">Scene:  overtaking\n",
       "</pre>\n"
      ],
      "text/plain": [
       "Scene:  overtaking\n"
      ]
     },
     "metadata": {},
     "output_type": "display_data"
    },
    {
     "data": {
      "text/html": [
       "<pre style=\"white-space:pre;overflow-x:auto;line-height:normal;font-family:Menlo,'DejaVu Sans Mono',consolas,'Courier New',monospace\">Scene:  static\n",
       "</pre>\n"
      ],
      "text/plain": [
       "Scene:  static\n"
      ]
     },
     "metadata": {},
     "output_type": "display_data"
    },
    {
     "data": {
      "text/html": [
       "<pre style=\"white-space:pre;overflow-x:auto;line-height:normal;font-family:Menlo,'DejaVu Sans Mono',consolas,'Courier New',monospace\">Scene:  static\n",
       "</pre>\n"
      ],
      "text/plain": [
       "Scene:  static\n"
      ]
     },
     "metadata": {},
     "output_type": "display_data"
    },
    {
     "name": "stdout",
     "output_type": "stream",
     "text": [
      "----------------------------------------\n",
      "| rollout/                |            |\n",
      "|    ep_len_mean          | 367        |\n",
      "|    ep_rew_mean          | 1.03e+03   |\n",
      "| time/                   |            |\n",
      "|    fps                  | 2          |\n",
      "|    iterations           | 26         |\n",
      "|    time_elapsed         | 23419      |\n",
      "|    total_timesteps      | 53248      |\n",
      "| train/                  |            |\n",
      "|    approx_kl            | 0.01926349 |\n",
      "|    clip_fraction        | 0.0708     |\n",
      "|    clip_range           | 0.3        |\n",
      "|    entropy_loss         | -2.69      |\n",
      "|    explained_variance   | 0.166      |\n",
      "|    learning_rate        | 0.0001     |\n",
      "|    loss                 | 922        |\n",
      "|    n_updates            | 250        |\n",
      "|    policy_gradient_loss | -0.0294    |\n",
      "|    std                  | 0.923      |\n",
      "|    value_loss           | 2.14e+03   |\n",
      "----------------------------------------\n"
     ]
    },
    {
     "data": {
      "text/html": [
       "<pre style=\"white-space:pre;overflow-x:auto;line-height:normal;font-family:Menlo,'DejaVu Sans Mono',consolas,'Courier New',monospace\">Scene:  static\n",
       "</pre>\n"
      ],
      "text/plain": [
       "Scene:  static\n"
      ]
     },
     "metadata": {},
     "output_type": "display_data"
    },
    {
     "data": {
      "text/html": [
       "<pre style=\"white-space:pre;overflow-x:auto;line-height:normal;font-family:Menlo,'DejaVu Sans Mono',consolas,'Courier New',monospace\">Scene:  overtaking\n",
       "</pre>\n"
      ],
      "text/plain": [
       "Scene:  overtaking\n"
      ]
     },
     "metadata": {},
     "output_type": "display_data"
    },
    {
     "data": {
      "text/html": [
       "<pre style=\"white-space:pre;overflow-x:auto;line-height:normal;font-family:Menlo,'DejaVu Sans Mono',consolas,'Courier New',monospace\">Scene:  overtaking\n",
       "</pre>\n"
      ],
      "text/plain": [
       "Scene:  overtaking\n"
      ]
     },
     "metadata": {},
     "output_type": "display_data"
    },
    {
     "data": {
      "text/html": [
       "<pre style=\"white-space:pre;overflow-x:auto;line-height:normal;font-family:Menlo,'DejaVu Sans Mono',consolas,'Courier New',monospace\">Scene:  head-on\n",
       "</pre>\n"
      ],
      "text/plain": [
       "Scene:  head-on\n"
      ]
     },
     "metadata": {},
     "output_type": "display_data"
    },
    {
     "data": {
      "text/html": [
       "<pre style=\"white-space:pre;overflow-x:auto;line-height:normal;font-family:Menlo,'DejaVu Sans Mono',consolas,'Courier New',monospace\">Scene:  overtaking\n",
       "</pre>\n"
      ],
      "text/plain": [
       "Scene:  overtaking\n"
      ]
     },
     "metadata": {},
     "output_type": "display_data"
    },
    {
     "data": {
      "text/html": [
       "<pre style=\"white-space:pre;overflow-x:auto;line-height:normal;font-family:Menlo,'DejaVu Sans Mono',consolas,'Courier New',monospace\">Scene:  static\n",
       "</pre>\n"
      ],
      "text/plain": [
       "Scene:  static\n"
      ]
     },
     "metadata": {},
     "output_type": "display_data"
    },
    {
     "name": "stdout",
     "output_type": "stream",
     "text": [
      "----------------------------------------\n",
      "| rollout/                |            |\n",
      "|    ep_len_mean          | 364        |\n",
      "|    ep_rew_mean          | 1.04e+03   |\n",
      "| time/                   |            |\n",
      "|    fps                  | 2          |\n",
      "|    iterations           | 27         |\n",
      "|    time_elapsed         | 23492      |\n",
      "|    total_timesteps      | 55296      |\n",
      "| train/                  |            |\n",
      "|    approx_kl            | 0.02049969 |\n",
      "|    clip_fraction        | 0.0865     |\n",
      "|    clip_range           | 0.3        |\n",
      "|    entropy_loss         | -2.67      |\n",
      "|    explained_variance   | 0.0686     |\n",
      "|    learning_rate        | 0.0001     |\n",
      "|    loss                 | 705        |\n",
      "|    n_updates            | 260        |\n",
      "|    policy_gradient_loss | -0.0252    |\n",
      "|    std                  | 0.921      |\n",
      "|    value_loss           | 1.5e+03    |\n",
      "----------------------------------------\n"
     ]
    },
    {
     "data": {
      "text/html": [
       "<pre style=\"white-space:pre;overflow-x:auto;line-height:normal;font-family:Menlo,'DejaVu Sans Mono',consolas,'Courier New',monospace\">Scene:  static\n",
       "</pre>\n"
      ],
      "text/plain": [
       "Scene:  static\n"
      ]
     },
     "metadata": {},
     "output_type": "display_data"
    },
    {
     "data": {
      "text/html": [
       "<pre style=\"white-space:pre;overflow-x:auto;line-height:normal;font-family:Menlo,'DejaVu Sans Mono',consolas,'Courier New',monospace\">Scene:  static\n",
       "</pre>\n"
      ],
      "text/plain": [
       "Scene:  static\n"
      ]
     },
     "metadata": {},
     "output_type": "display_data"
    },
    {
     "data": {
      "text/html": [
       "<pre style=\"white-space:pre;overflow-x:auto;line-height:normal;font-family:Menlo,'DejaVu Sans Mono',consolas,'Courier New',monospace\">Scene:  crossing\n",
       "</pre>\n"
      ],
      "text/plain": [
       "Scene:  crossing\n"
      ]
     },
     "metadata": {},
     "output_type": "display_data"
    },
    {
     "data": {
      "text/html": [
       "<pre style=\"white-space:pre;overflow-x:auto;line-height:normal;font-family:Menlo,'DejaVu Sans Mono',consolas,'Courier New',monospace\">Scene:  crossing\n",
       "</pre>\n"
      ],
      "text/plain": [
       "Scene:  crossing\n"
      ]
     },
     "metadata": {},
     "output_type": "display_data"
    },
    {
     "data": {
      "text/html": [
       "<pre style=\"white-space:pre;overflow-x:auto;line-height:normal;font-family:Menlo,'DejaVu Sans Mono',consolas,'Courier New',monospace\">Scene:  head-on\n",
       "</pre>\n"
      ],
      "text/plain": [
       "Scene:  head-on\n"
      ]
     },
     "metadata": {},
     "output_type": "display_data"
    },
    {
     "name": "stdout",
     "output_type": "stream",
     "text": [
      "-----------------------------------------\n",
      "| rollout/                |             |\n",
      "|    ep_len_mean          | 363         |\n",
      "|    ep_rew_mean          | 1.05e+03    |\n",
      "| time/                   |             |\n",
      "|    fps                  | 2           |\n",
      "|    iterations           | 28          |\n",
      "|    time_elapsed         | 23556       |\n",
      "|    total_timesteps      | 57344       |\n",
      "| train/                  |             |\n",
      "|    approx_kl            | 0.015524499 |\n",
      "|    clip_fraction        | 0.0457      |\n",
      "|    clip_range           | 0.3         |\n",
      "|    entropy_loss         | -2.67       |\n",
      "|    explained_variance   | 0.442       |\n",
      "|    learning_rate        | 0.0001      |\n",
      "|    loss                 | 691         |\n",
      "|    n_updates            | 270         |\n",
      "|    policy_gradient_loss | -0.0173     |\n",
      "|    std                  | 0.919       |\n",
      "|    value_loss           | 1.68e+03    |\n",
      "-----------------------------------------\n"
     ]
    },
    {
     "data": {
      "text/html": [
       "<pre style=\"white-space:pre;overflow-x:auto;line-height:normal;font-family:Menlo,'DejaVu Sans Mono',consolas,'Courier New',monospace\">Scene:  static\n",
       "</pre>\n"
      ],
      "text/plain": [
       "Scene:  static\n"
      ]
     },
     "metadata": {},
     "output_type": "display_data"
    },
    {
     "data": {
      "text/html": [
       "<pre style=\"white-space:pre;overflow-x:auto;line-height:normal;font-family:Menlo,'DejaVu Sans Mono',consolas,'Courier New',monospace\">Scene:  head-on\n",
       "</pre>\n"
      ],
      "text/plain": [
       "Scene:  head-on\n"
      ]
     },
     "metadata": {},
     "output_type": "display_data"
    },
    {
     "data": {
      "text/html": [
       "<pre style=\"white-space:pre;overflow-x:auto;line-height:normal;font-family:Menlo,'DejaVu Sans Mono',consolas,'Courier New',monospace\">Scene:  static\n",
       "</pre>\n"
      ],
      "text/plain": [
       "Scene:  static\n"
      ]
     },
     "metadata": {},
     "output_type": "display_data"
    },
    {
     "data": {
      "text/html": [
       "<pre style=\"white-space:pre;overflow-x:auto;line-height:normal;font-family:Menlo,'DejaVu Sans Mono',consolas,'Courier New',monospace\">Scene:  head-on\n",
       "</pre>\n"
      ],
      "text/plain": [
       "Scene:  head-on\n"
      ]
     },
     "metadata": {},
     "output_type": "display_data"
    },
    {
     "data": {
      "text/html": [
       "<pre style=\"white-space:pre;overflow-x:auto;line-height:normal;font-family:Menlo,'DejaVu Sans Mono',consolas,'Courier New',monospace\">Scene:  crossing\n",
       "</pre>\n"
      ],
      "text/plain": [
       "Scene:  crossing\n"
      ]
     },
     "metadata": {},
     "output_type": "display_data"
    },
    {
     "data": {
      "text/html": [
       "<pre style=\"white-space:pre;overflow-x:auto;line-height:normal;font-family:Menlo,'DejaVu Sans Mono',consolas,'Courier New',monospace\">Scene:  overtaking\n",
       "</pre>\n"
      ],
      "text/plain": [
       "Scene:  overtaking\n"
      ]
     },
     "metadata": {},
     "output_type": "display_data"
    },
    {
     "name": "stdout",
     "output_type": "stream",
     "text": [
      "-----------------------------------------\n",
      "| rollout/                |             |\n",
      "|    ep_len_mean          | 365         |\n",
      "|    ep_rew_mean          | 1.08e+03    |\n",
      "| time/                   |             |\n",
      "|    fps                  | 2           |\n",
      "|    iterations           | 29          |\n",
      "|    time_elapsed         | 23627       |\n",
      "|    total_timesteps      | 59392       |\n",
      "| train/                  |             |\n",
      "|    approx_kl            | 0.016506482 |\n",
      "|    clip_fraction        | 0.0597      |\n",
      "|    clip_range           | 0.3         |\n",
      "|    entropy_loss         | -2.67       |\n",
      "|    explained_variance   | 0.447       |\n",
      "|    learning_rate        | 0.0001      |\n",
      "|    loss                 | 531         |\n",
      "|    n_updates            | 280         |\n",
      "|    policy_gradient_loss | -0.0253     |\n",
      "|    std                  | 0.921       |\n",
      "|    value_loss           | 1.13e+03    |\n",
      "-----------------------------------------\n"
     ]
    },
    {
     "data": {
      "text/html": [
       "<pre style=\"white-space:pre;overflow-x:auto;line-height:normal;font-family:Menlo,'DejaVu Sans Mono',consolas,'Courier New',monospace\">Scene:  static\n",
       "</pre>\n"
      ],
      "text/plain": [
       "Scene:  static\n"
      ]
     },
     "metadata": {},
     "output_type": "display_data"
    },
    {
     "data": {
      "text/html": [
       "<pre style=\"white-space:pre;overflow-x:auto;line-height:normal;font-family:Menlo,'DejaVu Sans Mono',consolas,'Courier New',monospace\">Scene:  static\n",
       "</pre>\n"
      ],
      "text/plain": [
       "Scene:  static\n"
      ]
     },
     "metadata": {},
     "output_type": "display_data"
    },
    {
     "data": {
      "text/html": [
       "<pre style=\"white-space:pre;overflow-x:auto;line-height:normal;font-family:Menlo,'DejaVu Sans Mono',consolas,'Courier New',monospace\">Scene:  static\n",
       "</pre>\n"
      ],
      "text/plain": [
       "Scene:  static\n"
      ]
     },
     "metadata": {},
     "output_type": "display_data"
    },
    {
     "data": {
      "text/html": [
       "<pre style=\"white-space:pre;overflow-x:auto;line-height:normal;font-family:Menlo,'DejaVu Sans Mono',consolas,'Courier New',monospace\">Scene:  static\n",
       "</pre>\n"
      ],
      "text/plain": [
       "Scene:  static\n"
      ]
     },
     "metadata": {},
     "output_type": "display_data"
    },
    {
     "data": {
      "text/html": [
       "<pre style=\"white-space:pre;overflow-x:auto;line-height:normal;font-family:Menlo,'DejaVu Sans Mono',consolas,'Courier New',monospace\">Scene:  crossing\n",
       "</pre>\n"
      ],
      "text/plain": [
       "Scene:  crossing\n"
      ]
     },
     "metadata": {},
     "output_type": "display_data"
    },
    {
     "data": {
      "text/html": [
       "<pre style=\"white-space:pre;overflow-x:auto;line-height:normal;font-family:Menlo,'DejaVu Sans Mono',consolas,'Courier New',monospace\">Scene:  head-on\n",
       "</pre>\n"
      ],
      "text/plain": [
       "Scene:  head-on\n"
      ]
     },
     "metadata": {},
     "output_type": "display_data"
    },
    {
     "name": "stdout",
     "output_type": "stream",
     "text": [
      "-----------------------------------------\n",
      "| rollout/                |             |\n",
      "|    ep_len_mean          | 361         |\n",
      "|    ep_rew_mean          | 1.1e+03     |\n",
      "| time/                   |             |\n",
      "|    fps                  | 2           |\n",
      "|    iterations           | 30          |\n",
      "|    time_elapsed         | 23700       |\n",
      "|    total_timesteps      | 61440       |\n",
      "| train/                  |             |\n",
      "|    approx_kl            | 0.037335202 |\n",
      "|    clip_fraction        | 0.138       |\n",
      "|    clip_range           | 0.3         |\n",
      "|    entropy_loss         | -2.67       |\n",
      "|    explained_variance   | 0.302       |\n",
      "|    learning_rate        | 0.0001      |\n",
      "|    loss                 | 531         |\n",
      "|    n_updates            | 290         |\n",
      "|    policy_gradient_loss | -0.0306     |\n",
      "|    std                  | 0.919       |\n",
      "|    value_loss           | 1.18e+03    |\n",
      "-----------------------------------------\n"
     ]
    },
    {
     "data": {
      "text/html": [
       "<pre style=\"white-space:pre;overflow-x:auto;line-height:normal;font-family:Menlo,'DejaVu Sans Mono',consolas,'Courier New',monospace\">Scene:  head-on\n",
       "</pre>\n"
      ],
      "text/plain": [
       "Scene:  head-on\n"
      ]
     },
     "metadata": {},
     "output_type": "display_data"
    },
    {
     "data": {
      "text/html": [
       "<pre style=\"white-space:pre;overflow-x:auto;line-height:normal;font-family:Menlo,'DejaVu Sans Mono',consolas,'Courier New',monospace\">Scene:  head-on\n",
       "</pre>\n"
      ],
      "text/plain": [
       "Scene:  head-on\n"
      ]
     },
     "metadata": {},
     "output_type": "display_data"
    },
    {
     "data": {
      "text/html": [
       "<pre style=\"white-space:pre;overflow-x:auto;line-height:normal;font-family:Menlo,'DejaVu Sans Mono',consolas,'Courier New',monospace\">Scene:  head-on\n",
       "</pre>\n"
      ],
      "text/plain": [
       "Scene:  head-on\n"
      ]
     },
     "metadata": {},
     "output_type": "display_data"
    },
    {
     "data": {
      "text/html": [
       "<pre style=\"white-space:pre;overflow-x:auto;line-height:normal;font-family:Menlo,'DejaVu Sans Mono',consolas,'Courier New',monospace\">Scene:  head-on\n",
       "</pre>\n"
      ],
      "text/plain": [
       "Scene:  head-on\n"
      ]
     },
     "metadata": {},
     "output_type": "display_data"
    },
    {
     "data": {
      "text/html": [
       "<pre style=\"white-space:pre;overflow-x:auto;line-height:normal;font-family:Menlo,'DejaVu Sans Mono',consolas,'Courier New',monospace\">Scene:  overtaking\n",
       "</pre>\n"
      ],
      "text/plain": [
       "Scene:  overtaking\n"
      ]
     },
     "metadata": {},
     "output_type": "display_data"
    },
    {
     "name": "stdout",
     "output_type": "stream",
     "text": [
      "-----------------------------------------\n",
      "| rollout/                |             |\n",
      "|    ep_len_mean          | 361         |\n",
      "|    ep_rew_mean          | 1.12e+03    |\n",
      "| time/                   |             |\n",
      "|    fps                  | 2           |\n",
      "|    iterations           | 31          |\n",
      "|    time_elapsed         | 23768       |\n",
      "|    total_timesteps      | 63488       |\n",
      "| train/                  |             |\n",
      "|    approx_kl            | 0.024498407 |\n",
      "|    clip_fraction        | 0.0903      |\n",
      "|    clip_range           | 0.3         |\n",
      "|    entropy_loss         | -2.67       |\n",
      "|    explained_variance   | 0.346       |\n",
      "|    learning_rate        | 0.0001      |\n",
      "|    loss                 | 627         |\n",
      "|    n_updates            | 300         |\n",
      "|    policy_gradient_loss | -0.0265     |\n",
      "|    std                  | 0.921       |\n",
      "|    value_loss           | 1.61e+03    |\n",
      "-----------------------------------------\n"
     ]
    },
    {
     "data": {
      "text/html": [
       "<pre style=\"white-space:pre;overflow-x:auto;line-height:normal;font-family:Menlo,'DejaVu Sans Mono',consolas,'Courier New',monospace\">Scene:  overtaking\n",
       "</pre>\n"
      ],
      "text/plain": [
       "Scene:  overtaking\n"
      ]
     },
     "metadata": {},
     "output_type": "display_data"
    },
    {
     "data": {
      "text/html": [
       "<pre style=\"white-space:pre;overflow-x:auto;line-height:normal;font-family:Menlo,'DejaVu Sans Mono',consolas,'Courier New',monospace\">Scene:  overtaking\n",
       "</pre>\n"
      ],
      "text/plain": [
       "Scene:  overtaking\n"
      ]
     },
     "metadata": {},
     "output_type": "display_data"
    },
    {
     "data": {
      "text/html": [
       "<pre style=\"white-space:pre;overflow-x:auto;line-height:normal;font-family:Menlo,'DejaVu Sans Mono',consolas,'Courier New',monospace\">Scene:  overtaking\n",
       "</pre>\n"
      ],
      "text/plain": [
       "Scene:  overtaking\n"
      ]
     },
     "metadata": {},
     "output_type": "display_data"
    },
    {
     "data": {
      "text/html": [
       "<pre style=\"white-space:pre;overflow-x:auto;line-height:normal;font-family:Menlo,'DejaVu Sans Mono',consolas,'Courier New',monospace\">Scene:  overtaking\n",
       "</pre>\n"
      ],
      "text/plain": [
       "Scene:  overtaking\n"
      ]
     },
     "metadata": {},
     "output_type": "display_data"
    },
    {
     "data": {
      "text/html": [
       "<pre style=\"white-space:pre;overflow-x:auto;line-height:normal;font-family:Menlo,'DejaVu Sans Mono',consolas,'Courier New',monospace\">Scene:  static\n",
       "</pre>\n"
      ],
      "text/plain": [
       "Scene:  static\n"
      ]
     },
     "metadata": {},
     "output_type": "display_data"
    },
    {
     "data": {
      "text/html": [
       "<pre style=\"white-space:pre;overflow-x:auto;line-height:normal;font-family:Menlo,'DejaVu Sans Mono',consolas,'Courier New',monospace\">Scene:  overtaking\n",
       "</pre>\n"
      ],
      "text/plain": [
       "Scene:  overtaking\n"
      ]
     },
     "metadata": {},
     "output_type": "display_data"
    },
    {
     "data": {
      "text/html": [
       "<pre style=\"white-space:pre;overflow-x:auto;line-height:normal;font-family:Menlo,'DejaVu Sans Mono',consolas,'Courier New',monospace\">Scene:  static\n",
       "</pre>\n"
      ],
      "text/plain": [
       "Scene:  static\n"
      ]
     },
     "metadata": {},
     "output_type": "display_data"
    },
    {
     "name": "stdout",
     "output_type": "stream",
     "text": [
      "-----------------------------------------\n",
      "| rollout/                |             |\n",
      "|    ep_len_mean          | 356         |\n",
      "|    ep_rew_mean          | 1.14e+03    |\n",
      "| time/                   |             |\n",
      "|    fps                  | 2           |\n",
      "|    iterations           | 32          |\n",
      "|    time_elapsed         | 23843       |\n",
      "|    total_timesteps      | 65536       |\n",
      "| train/                  |             |\n",
      "|    approx_kl            | 0.011854064 |\n",
      "|    clip_fraction        | 0.0375      |\n",
      "|    clip_range           | 0.3         |\n",
      "|    entropy_loss         | -2.67       |\n",
      "|    explained_variance   | 0.362       |\n",
      "|    learning_rate        | 0.0001      |\n",
      "|    loss                 | 947         |\n",
      "|    n_updates            | 310         |\n",
      "|    policy_gradient_loss | -0.0214     |\n",
      "|    std                  | 0.92        |\n",
      "|    value_loss           | 2.08e+03    |\n",
      "-----------------------------------------\n"
     ]
    },
    {
     "data": {
      "text/html": [
       "<pre style=\"white-space:pre;overflow-x:auto;line-height:normal;font-family:Menlo,'DejaVu Sans Mono',consolas,'Courier New',monospace\">Scene:  crossing\n",
       "</pre>\n"
      ],
      "text/plain": [
       "Scene:  crossing\n"
      ]
     },
     "metadata": {},
     "output_type": "display_data"
    },
    {
     "data": {
      "text/html": [
       "<pre style=\"white-space:pre;overflow-x:auto;line-height:normal;font-family:Menlo,'DejaVu Sans Mono',consolas,'Courier New',monospace\">Scene:  head-on\n",
       "</pre>\n"
      ],
      "text/plain": [
       "Scene:  head-on\n"
      ]
     },
     "metadata": {},
     "output_type": "display_data"
    },
    {
     "data": {
      "text/html": [
       "<pre style=\"white-space:pre;overflow-x:auto;line-height:normal;font-family:Menlo,'DejaVu Sans Mono',consolas,'Courier New',monospace\">Scene:  crossing\n",
       "</pre>\n"
      ],
      "text/plain": [
       "Scene:  crossing\n"
      ]
     },
     "metadata": {},
     "output_type": "display_data"
    },
    {
     "data": {
      "text/html": [
       "<pre style=\"white-space:pre;overflow-x:auto;line-height:normal;font-family:Menlo,'DejaVu Sans Mono',consolas,'Courier New',monospace\">Scene:  head-on\n",
       "</pre>\n"
      ],
      "text/plain": [
       "Scene:  head-on\n"
      ]
     },
     "metadata": {},
     "output_type": "display_data"
    },
    {
     "data": {
      "text/html": [
       "<pre style=\"white-space:pre;overflow-x:auto;line-height:normal;font-family:Menlo,'DejaVu Sans Mono',consolas,'Courier New',monospace\">Scene:  crossing\n",
       "</pre>\n"
      ],
      "text/plain": [
       "Scene:  crossing\n"
      ]
     },
     "metadata": {},
     "output_type": "display_data"
    },
    {
     "name": "stdout",
     "output_type": "stream",
     "text": [
      "-----------------------------------------\n",
      "| rollout/                |             |\n",
      "|    ep_len_mean          | 352         |\n",
      "|    ep_rew_mean          | 1.14e+03    |\n",
      "| time/                   |             |\n",
      "|    fps                  | 2           |\n",
      "|    iterations           | 33          |\n",
      "|    time_elapsed         | 23919       |\n",
      "|    total_timesteps      | 67584       |\n",
      "| train/                  |             |\n",
      "|    approx_kl            | 0.026554512 |\n",
      "|    clip_fraction        | 0.111       |\n",
      "|    clip_range           | 0.3         |\n",
      "|    entropy_loss         | -2.66       |\n",
      "|    explained_variance   | 0.0542      |\n",
      "|    learning_rate        | 0.0001      |\n",
      "|    loss                 | 736         |\n",
      "|    n_updates            | 320         |\n",
      "|    policy_gradient_loss | -0.0302     |\n",
      "|    std                  | 0.915       |\n",
      "|    value_loss           | 1.74e+03    |\n",
      "-----------------------------------------\n"
     ]
    },
    {
     "data": {
      "text/html": [
       "<pre style=\"white-space:pre;overflow-x:auto;line-height:normal;font-family:Menlo,'DejaVu Sans Mono',consolas,'Courier New',monospace\">Scene:  head-on\n",
       "</pre>\n"
      ],
      "text/plain": [
       "Scene:  head-on\n"
      ]
     },
     "metadata": {},
     "output_type": "display_data"
    },
    {
     "data": {
      "text/html": [
       "<pre style=\"white-space:pre;overflow-x:auto;line-height:normal;font-family:Menlo,'DejaVu Sans Mono',consolas,'Courier New',monospace\">Scene:  static\n",
       "</pre>\n"
      ],
      "text/plain": [
       "Scene:  static\n"
      ]
     },
     "metadata": {},
     "output_type": "display_data"
    },
    {
     "data": {
      "text/html": [
       "<pre style=\"white-space:pre;overflow-x:auto;line-height:normal;font-family:Menlo,'DejaVu Sans Mono',consolas,'Courier New',monospace\">Scene:  crossing\n",
       "</pre>\n"
      ],
      "text/plain": [
       "Scene:  crossing\n"
      ]
     },
     "metadata": {},
     "output_type": "display_data"
    },
    {
     "data": {
      "text/html": [
       "<pre style=\"white-space:pre;overflow-x:auto;line-height:normal;font-family:Menlo,'DejaVu Sans Mono',consolas,'Courier New',monospace\">Scene:  static\n",
       "</pre>\n"
      ],
      "text/plain": [
       "Scene:  static\n"
      ]
     },
     "metadata": {},
     "output_type": "display_data"
    },
    {
     "data": {
      "text/html": [
       "<pre style=\"white-space:pre;overflow-x:auto;line-height:normal;font-family:Menlo,'DejaVu Sans Mono',consolas,'Courier New',monospace\">Scene:  head-on\n",
       "</pre>\n"
      ],
      "text/plain": [
       "Scene:  head-on\n"
      ]
     },
     "metadata": {},
     "output_type": "display_data"
    },
    {
     "data": {
      "text/html": [
       "<pre style=\"white-space:pre;overflow-x:auto;line-height:normal;font-family:Menlo,'DejaVu Sans Mono',consolas,'Courier New',monospace\">Scene:  overtaking\n",
       "</pre>\n"
      ],
      "text/plain": [
       "Scene:  overtaking\n"
      ]
     },
     "metadata": {},
     "output_type": "display_data"
    },
    {
     "name": "stdout",
     "output_type": "stream",
     "text": [
      "-----------------------------------------\n",
      "| rollout/                |             |\n",
      "|    ep_len_mean          | 350         |\n",
      "|    ep_rew_mean          | 1.15e+03    |\n",
      "| time/                   |             |\n",
      "|    fps                  | 2           |\n",
      "|    iterations           | 34          |\n",
      "|    time_elapsed         | 23994       |\n",
      "|    total_timesteps      | 69632       |\n",
      "| train/                  |             |\n",
      "|    approx_kl            | 0.022667024 |\n",
      "|    clip_fraction        | 0.102       |\n",
      "|    clip_range           | 0.3         |\n",
      "|    entropy_loss         | -2.65       |\n",
      "|    explained_variance   | 0.264       |\n",
      "|    learning_rate        | 0.0001      |\n",
      "|    loss                 | 659         |\n",
      "|    n_updates            | 330         |\n",
      "|    policy_gradient_loss | -0.0338     |\n",
      "|    std                  | 0.912       |\n",
      "|    value_loss           | 1.35e+03    |\n",
      "-----------------------------------------\n"
     ]
    },
    {
     "data": {
      "text/html": [
       "<pre style=\"white-space:pre;overflow-x:auto;line-height:normal;font-family:Menlo,'DejaVu Sans Mono',consolas,'Courier New',monospace\">Scene:  crossing\n",
       "</pre>\n"
      ],
      "text/plain": [
       "Scene:  crossing\n"
      ]
     },
     "metadata": {},
     "output_type": "display_data"
    },
    {
     "data": {
      "text/html": [
       "<pre style=\"white-space:pre;overflow-x:auto;line-height:normal;font-family:Menlo,'DejaVu Sans Mono',consolas,'Courier New',monospace\">Scene:  crossing\n",
       "</pre>\n"
      ],
      "text/plain": [
       "Scene:  crossing\n"
      ]
     },
     "metadata": {},
     "output_type": "display_data"
    },
    {
     "data": {
      "text/html": [
       "<pre style=\"white-space:pre;overflow-x:auto;line-height:normal;font-family:Menlo,'DejaVu Sans Mono',consolas,'Courier New',monospace\">Scene:  head-on\n",
       "</pre>\n"
      ],
      "text/plain": [
       "Scene:  head-on\n"
      ]
     },
     "metadata": {},
     "output_type": "display_data"
    },
    {
     "data": {
      "text/html": [
       "<pre style=\"white-space:pre;overflow-x:auto;line-height:normal;font-family:Menlo,'DejaVu Sans Mono',consolas,'Courier New',monospace\">Scene:  static\n",
       "</pre>\n"
      ],
      "text/plain": [
       "Scene:  static\n"
      ]
     },
     "metadata": {},
     "output_type": "display_data"
    },
    {
     "data": {
      "text/html": [
       "<pre style=\"white-space:pre;overflow-x:auto;line-height:normal;font-family:Menlo,'DejaVu Sans Mono',consolas,'Courier New',monospace\">Scene:  head-on\n",
       "</pre>\n"
      ],
      "text/plain": [
       "Scene:  head-on\n"
      ]
     },
     "metadata": {},
     "output_type": "display_data"
    },
    {
     "data": {
      "text/html": [
       "<pre style=\"white-space:pre;overflow-x:auto;line-height:normal;font-family:Menlo,'DejaVu Sans Mono',consolas,'Courier New',monospace\">Scene:  static\n",
       "</pre>\n"
      ],
      "text/plain": [
       "Scene:  static\n"
      ]
     },
     "metadata": {},
     "output_type": "display_data"
    },
    {
     "name": "stdout",
     "output_type": "stream",
     "text": [
      "-----------------------------------------\n",
      "| rollout/                |             |\n",
      "|    ep_len_mean          | 347         |\n",
      "|    ep_rew_mean          | 1.16e+03    |\n",
      "| time/                   |             |\n",
      "|    fps                  | 2           |\n",
      "|    iterations           | 35          |\n",
      "|    time_elapsed         | 24313       |\n",
      "|    total_timesteps      | 71680       |\n",
      "| train/                  |             |\n",
      "|    approx_kl            | 0.025890555 |\n",
      "|    clip_fraction        | 0.113       |\n",
      "|    clip_range           | 0.3         |\n",
      "|    entropy_loss         | -2.64       |\n",
      "|    explained_variance   | 0.068       |\n",
      "|    learning_rate        | 0.0001      |\n",
      "|    loss                 | 644         |\n",
      "|    n_updates            | 340         |\n",
      "|    policy_gradient_loss | -0.0343     |\n",
      "|    std                  | 0.905       |\n",
      "|    value_loss           | 1.39e+03    |\n",
      "-----------------------------------------\n"
     ]
    },
    {
     "data": {
      "text/html": [
       "<pre style=\"white-space:pre;overflow-x:auto;line-height:normal;font-family:Menlo,'DejaVu Sans Mono',consolas,'Courier New',monospace\">Scene:  head-on\n",
       "</pre>\n"
      ],
      "text/plain": [
       "Scene:  head-on\n"
      ]
     },
     "metadata": {},
     "output_type": "display_data"
    },
    {
     "data": {
      "text/html": [
       "<pre style=\"white-space:pre;overflow-x:auto;line-height:normal;font-family:Menlo,'DejaVu Sans Mono',consolas,'Courier New',monospace\">Scene:  head-on\n",
       "</pre>\n"
      ],
      "text/plain": [
       "Scene:  head-on\n"
      ]
     },
     "metadata": {},
     "output_type": "display_data"
    },
    {
     "data": {
      "text/html": [
       "<pre style=\"white-space:pre;overflow-x:auto;line-height:normal;font-family:Menlo,'DejaVu Sans Mono',consolas,'Courier New',monospace\">Scene:  head-on\n",
       "</pre>\n"
      ],
      "text/plain": [
       "Scene:  head-on\n"
      ]
     },
     "metadata": {},
     "output_type": "display_data"
    },
    {
     "data": {
      "text/html": [
       "<pre style=\"white-space:pre;overflow-x:auto;line-height:normal;font-family:Menlo,'DejaVu Sans Mono',consolas,'Courier New',monospace\">Scene:  overtaking\n",
       "</pre>\n"
      ],
      "text/plain": [
       "Scene:  overtaking\n"
      ]
     },
     "metadata": {},
     "output_type": "display_data"
    },
    {
     "data": {
      "text/html": [
       "<pre style=\"white-space:pre;overflow-x:auto;line-height:normal;font-family:Menlo,'DejaVu Sans Mono',consolas,'Courier New',monospace\">Scene:  overtaking\n",
       "</pre>\n"
      ],
      "text/plain": [
       "Scene:  overtaking\n"
      ]
     },
     "metadata": {},
     "output_type": "display_data"
    },
    {
     "data": {
      "text/html": [
       "<pre style=\"white-space:pre;overflow-x:auto;line-height:normal;font-family:Menlo,'DejaVu Sans Mono',consolas,'Courier New',monospace\">Scene:  crossing\n",
       "</pre>\n"
      ],
      "text/plain": [
       "Scene:  crossing\n"
      ]
     },
     "metadata": {},
     "output_type": "display_data"
    },
    {
     "name": "stdout",
     "output_type": "stream",
     "text": [
      "---------------------------------------\n",
      "| rollout/                |           |\n",
      "|    ep_len_mean          | 345       |\n",
      "|    ep_rew_mean          | 1.18e+03  |\n",
      "| time/                   |           |\n",
      "|    fps                  | 3         |\n",
      "|    iterations           | 36        |\n",
      "|    time_elapsed         | 24400     |\n",
      "|    total_timesteps      | 73728     |\n",
      "| train/                  |           |\n",
      "|    approx_kl            | 0.0259847 |\n",
      "|    clip_fraction        | 0.106     |\n",
      "|    clip_range           | 0.3       |\n",
      "|    entropy_loss         | -2.63     |\n",
      "|    explained_variance   | 0.0732    |\n",
      "|    learning_rate        | 0.0001    |\n",
      "|    loss                 | 997       |\n",
      "|    n_updates            | 350       |\n",
      "|    policy_gradient_loss | -0.0314   |\n",
      "|    std                  | 0.903     |\n",
      "|    value_loss           | 2.02e+03  |\n",
      "---------------------------------------\n"
     ]
    },
    {
     "data": {
      "text/html": [
       "<pre style=\"white-space:pre;overflow-x:auto;line-height:normal;font-family:Menlo,'DejaVu Sans Mono',consolas,'Courier New',monospace\">Scene:  head-on\n",
       "</pre>\n"
      ],
      "text/plain": [
       "Scene:  head-on\n"
      ]
     },
     "metadata": {},
     "output_type": "display_data"
    },
    {
     "data": {
      "text/html": [
       "<pre style=\"white-space:pre;overflow-x:auto;line-height:normal;font-family:Menlo,'DejaVu Sans Mono',consolas,'Courier New',monospace\">Scene:  overtaking\n",
       "</pre>\n"
      ],
      "text/plain": [
       "Scene:  overtaking\n"
      ]
     },
     "metadata": {},
     "output_type": "display_data"
    },
    {
     "data": {
      "text/html": [
       "<pre style=\"white-space:pre;overflow-x:auto;line-height:normal;font-family:Menlo,'DejaVu Sans Mono',consolas,'Courier New',monospace\">Scene:  head-on\n",
       "</pre>\n"
      ],
      "text/plain": [
       "Scene:  head-on\n"
      ]
     },
     "metadata": {},
     "output_type": "display_data"
    },
    {
     "data": {
      "text/html": [
       "<pre style=\"white-space:pre;overflow-x:auto;line-height:normal;font-family:Menlo,'DejaVu Sans Mono',consolas,'Courier New',monospace\">Scene:  overtaking\n",
       "</pre>\n"
      ],
      "text/plain": [
       "Scene:  overtaking\n"
      ]
     },
     "metadata": {},
     "output_type": "display_data"
    },
    {
     "data": {
      "text/html": [
       "<pre style=\"white-space:pre;overflow-x:auto;line-height:normal;font-family:Menlo,'DejaVu Sans Mono',consolas,'Courier New',monospace\">Scene:  overtaking\n",
       "</pre>\n"
      ],
      "text/plain": [
       "Scene:  overtaking\n"
      ]
     },
     "metadata": {},
     "output_type": "display_data"
    },
    {
     "data": {
      "text/html": [
       "<pre style=\"white-space:pre;overflow-x:auto;line-height:normal;font-family:Menlo,'DejaVu Sans Mono',consolas,'Courier New',monospace\">Scene:  static\n",
       "</pre>\n"
      ],
      "text/plain": [
       "Scene:  static\n"
      ]
     },
     "metadata": {},
     "output_type": "display_data"
    },
    {
     "name": "stdout",
     "output_type": "stream",
     "text": [
      "-----------------------------------------\n",
      "| rollout/                |             |\n",
      "|    ep_len_mean          | 345         |\n",
      "|    ep_rew_mean          | 1.19e+03    |\n",
      "| time/                   |             |\n",
      "|    fps                  | 3           |\n",
      "|    iterations           | 37          |\n",
      "|    time_elapsed         | 24481       |\n",
      "|    total_timesteps      | 75776       |\n",
      "| train/                  |             |\n",
      "|    approx_kl            | 0.021847155 |\n",
      "|    clip_fraction        | 0.0922      |\n",
      "|    clip_range           | 0.3         |\n",
      "|    entropy_loss         | -2.63       |\n",
      "|    explained_variance   | 0.253       |\n",
      "|    learning_rate        | 0.0001      |\n",
      "|    loss                 | 678         |\n",
      "|    n_updates            | 360         |\n",
      "|    policy_gradient_loss | -0.0287     |\n",
      "|    std                  | 0.899       |\n",
      "|    value_loss           | 1.57e+03    |\n",
      "-----------------------------------------\n"
     ]
    },
    {
     "data": {
      "text/html": [
       "<pre style=\"white-space:pre;overflow-x:auto;line-height:normal;font-family:Menlo,'DejaVu Sans Mono',consolas,'Courier New',monospace\">Scene:  head-on\n",
       "</pre>\n"
      ],
      "text/plain": [
       "Scene:  head-on\n"
      ]
     },
     "metadata": {},
     "output_type": "display_data"
    },
    {
     "data": {
      "text/html": [
       "<pre style=\"white-space:pre;overflow-x:auto;line-height:normal;font-family:Menlo,'DejaVu Sans Mono',consolas,'Courier New',monospace\">Scene:  overtaking\n",
       "</pre>\n"
      ],
      "text/plain": [
       "Scene:  overtaking\n"
      ]
     },
     "metadata": {},
     "output_type": "display_data"
    },
    {
     "data": {
      "text/html": [
       "<pre style=\"white-space:pre;overflow-x:auto;line-height:normal;font-family:Menlo,'DejaVu Sans Mono',consolas,'Courier New',monospace\">Scene:  head-on\n",
       "</pre>\n"
      ],
      "text/plain": [
       "Scene:  head-on\n"
      ]
     },
     "metadata": {},
     "output_type": "display_data"
    },
    {
     "data": {
      "text/html": [
       "<pre style=\"white-space:pre;overflow-x:auto;line-height:normal;font-family:Menlo,'DejaVu Sans Mono',consolas,'Courier New',monospace\">Scene:  overtaking\n",
       "</pre>\n"
      ],
      "text/plain": [
       "Scene:  overtaking\n"
      ]
     },
     "metadata": {},
     "output_type": "display_data"
    },
    {
     "name": "stdout",
     "output_type": "stream",
     "text": [
      "----------------------------------------\n",
      "| rollout/                |            |\n",
      "|    ep_len_mean          | 343        |\n",
      "|    ep_rew_mean          | 1.19e+03   |\n",
      "| time/                   |            |\n",
      "|    fps                  | 3          |\n",
      "|    iterations           | 38         |\n",
      "|    time_elapsed         | 24569      |\n",
      "|    total_timesteps      | 77824      |\n",
      "| train/                  |            |\n",
      "|    approx_kl            | 0.02285341 |\n",
      "|    clip_fraction        | 0.0881     |\n",
      "|    clip_range           | 0.3        |\n",
      "|    entropy_loss         | -2.62      |\n",
      "|    explained_variance   | 0.617      |\n",
      "|    learning_rate        | 0.0001     |\n",
      "|    loss                 | 688        |\n",
      "|    n_updates            | 370        |\n",
      "|    policy_gradient_loss | -0.0253    |\n",
      "|    std                  | 0.898      |\n",
      "|    value_loss           | 1.75e+03   |\n",
      "----------------------------------------\n"
     ]
    },
    {
     "data": {
      "text/html": [
       "<pre style=\"white-space:pre;overflow-x:auto;line-height:normal;font-family:Menlo,'DejaVu Sans Mono',consolas,'Courier New',monospace\">Scene:  crossing\n",
       "</pre>\n"
      ],
      "text/plain": [
       "Scene:  crossing\n"
      ]
     },
     "metadata": {},
     "output_type": "display_data"
    },
    {
     "data": {
      "text/html": [
       "<pre style=\"white-space:pre;overflow-x:auto;line-height:normal;font-family:Menlo,'DejaVu Sans Mono',consolas,'Courier New',monospace\">Scene:  crossing\n",
       "</pre>\n"
      ],
      "text/plain": [
       "Scene:  crossing\n"
      ]
     },
     "metadata": {},
     "output_type": "display_data"
    },
    {
     "data": {
      "text/html": [
       "<pre style=\"white-space:pre;overflow-x:auto;line-height:normal;font-family:Menlo,'DejaVu Sans Mono',consolas,'Courier New',monospace\">Scene:  crossing\n",
       "</pre>\n"
      ],
      "text/plain": [
       "Scene:  crossing\n"
      ]
     },
     "metadata": {},
     "output_type": "display_data"
    },
    {
     "data": {
      "text/html": [
       "<pre style=\"white-space:pre;overflow-x:auto;line-height:normal;font-family:Menlo,'DejaVu Sans Mono',consolas,'Courier New',monospace\">Scene:  static\n",
       "</pre>\n"
      ],
      "text/plain": [
       "Scene:  static\n"
      ]
     },
     "metadata": {},
     "output_type": "display_data"
    },
    {
     "data": {
      "text/html": [
       "<pre style=\"white-space:pre;overflow-x:auto;line-height:normal;font-family:Menlo,'DejaVu Sans Mono',consolas,'Courier New',monospace\">Scene:  overtaking\n",
       "</pre>\n"
      ],
      "text/plain": [
       "Scene:  overtaking\n"
      ]
     },
     "metadata": {},
     "output_type": "display_data"
    },
    {
     "data": {
      "text/html": [
       "<pre style=\"white-space:pre;overflow-x:auto;line-height:normal;font-family:Menlo,'DejaVu Sans Mono',consolas,'Courier New',monospace\">Scene:  crossing\n",
       "</pre>\n"
      ],
      "text/plain": [
       "Scene:  crossing\n"
      ]
     },
     "metadata": {},
     "output_type": "display_data"
    },
    {
     "data": {
      "text/html": [
       "<pre style=\"white-space:pre;overflow-x:auto;line-height:normal;font-family:Menlo,'DejaVu Sans Mono',consolas,'Courier New',monospace\">Scene:  crossing\n",
       "</pre>\n"
      ],
      "text/plain": [
       "Scene:  crossing\n"
      ]
     },
     "metadata": {},
     "output_type": "display_data"
    },
    {
     "name": "stdout",
     "output_type": "stream",
     "text": [
      "-----------------------------------------\n",
      "| rollout/                |             |\n",
      "|    ep_len_mean          | 341         |\n",
      "|    ep_rew_mean          | 1.21e+03    |\n",
      "| time/                   |             |\n",
      "|    fps                  | 3           |\n",
      "|    iterations           | 39          |\n",
      "|    time_elapsed         | 24660       |\n",
      "|    total_timesteps      | 79872       |\n",
      "| train/                  |             |\n",
      "|    approx_kl            | 0.029467385 |\n",
      "|    clip_fraction        | 0.123       |\n",
      "|    clip_range           | 0.3         |\n",
      "|    entropy_loss         | -2.61       |\n",
      "|    explained_variance   | 0.0298      |\n",
      "|    learning_rate        | 0.0001      |\n",
      "|    loss                 | 570         |\n",
      "|    n_updates            | 380         |\n",
      "|    policy_gradient_loss | -0.0255     |\n",
      "|    std                  | 0.894       |\n",
      "|    value_loss           | 1.5e+03     |\n",
      "-----------------------------------------\n"
     ]
    },
    {
     "data": {
      "text/html": [
       "<pre style=\"white-space:pre;overflow-x:auto;line-height:normal;font-family:Menlo,'DejaVu Sans Mono',consolas,'Courier New',monospace\">Scene:  static\n",
       "</pre>\n"
      ],
      "text/plain": [
       "Scene:  static\n"
      ]
     },
     "metadata": {},
     "output_type": "display_data"
    },
    {
     "data": {
      "text/html": [
       "<pre style=\"white-space:pre;overflow-x:auto;line-height:normal;font-family:Menlo,'DejaVu Sans Mono',consolas,'Courier New',monospace\">Scene:  crossing\n",
       "</pre>\n"
      ],
      "text/plain": [
       "Scene:  crossing\n"
      ]
     },
     "metadata": {},
     "output_type": "display_data"
    },
    {
     "data": {
      "text/html": [
       "<pre style=\"white-space:pre;overflow-x:auto;line-height:normal;font-family:Menlo,'DejaVu Sans Mono',consolas,'Courier New',monospace\">Scene:  head-on\n",
       "</pre>\n"
      ],
      "text/plain": [
       "Scene:  head-on\n"
      ]
     },
     "metadata": {},
     "output_type": "display_data"
    },
    {
     "data": {
      "text/html": [
       "<pre style=\"white-space:pre;overflow-x:auto;line-height:normal;font-family:Menlo,'DejaVu Sans Mono',consolas,'Courier New',monospace\">Scene:  crossing\n",
       "</pre>\n"
      ],
      "text/plain": [
       "Scene:  crossing\n"
      ]
     },
     "metadata": {},
     "output_type": "display_data"
    },
    {
     "name": "stdout",
     "output_type": "stream",
     "text": [
      "-----------------------------------------\n",
      "| rollout/                |             |\n",
      "|    ep_len_mean          | 339         |\n",
      "|    ep_rew_mean          | 1.21e+03    |\n",
      "| time/                   |             |\n",
      "|    fps                  | 3           |\n",
      "|    iterations           | 40          |\n",
      "|    time_elapsed         | 26293       |\n",
      "|    total_timesteps      | 81920       |\n",
      "| train/                  |             |\n",
      "|    approx_kl            | 0.025982514 |\n",
      "|    clip_fraction        | 0.122       |\n",
      "|    clip_range           | 0.3         |\n",
      "|    entropy_loss         | -2.61       |\n",
      "|    explained_variance   | 0.172       |\n",
      "|    learning_rate        | 0.0001      |\n",
      "|    loss                 | 653         |\n",
      "|    n_updates            | 390         |\n",
      "|    policy_gradient_loss | -0.0318     |\n",
      "|    std                  | 0.894       |\n",
      "|    value_loss           | 1.45e+03    |\n",
      "-----------------------------------------\n"
     ]
    },
    {
     "data": {
      "text/html": [
       "<pre style=\"white-space:pre;overflow-x:auto;line-height:normal;font-family:Menlo,'DejaVu Sans Mono',consolas,'Courier New',monospace\">Scene:  head-on\n",
       "</pre>\n"
      ],
      "text/plain": [
       "Scene:  head-on\n"
      ]
     },
     "metadata": {},
     "output_type": "display_data"
    },
    {
     "data": {
      "text/html": [
       "<pre style=\"white-space:pre;overflow-x:auto;line-height:normal;font-family:Menlo,'DejaVu Sans Mono',consolas,'Courier New',monospace\">Scene:  head-on\n",
       "</pre>\n"
      ],
      "text/plain": [
       "Scene:  head-on\n"
      ]
     },
     "metadata": {},
     "output_type": "display_data"
    },
    {
     "data": {
      "text/html": [
       "<pre style=\"white-space:pre;overflow-x:auto;line-height:normal;font-family:Menlo,'DejaVu Sans Mono',consolas,'Courier New',monospace\">Scene:  head-on\n",
       "</pre>\n"
      ],
      "text/plain": [
       "Scene:  head-on\n"
      ]
     },
     "metadata": {},
     "output_type": "display_data"
    },
    {
     "data": {
      "text/html": [
       "<pre style=\"white-space:pre;overflow-x:auto;line-height:normal;font-family:Menlo,'DejaVu Sans Mono',consolas,'Courier New',monospace\">Scene:  overtaking\n",
       "</pre>\n"
      ],
      "text/plain": [
       "Scene:  overtaking\n"
      ]
     },
     "metadata": {},
     "output_type": "display_data"
    },
    {
     "data": {
      "text/html": [
       "<pre style=\"white-space:pre;overflow-x:auto;line-height:normal;font-family:Menlo,'DejaVu Sans Mono',consolas,'Courier New',monospace\">Scene:  overtaking\n",
       "</pre>\n"
      ],
      "text/plain": [
       "Scene:  overtaking\n"
      ]
     },
     "metadata": {},
     "output_type": "display_data"
    },
    {
     "data": {
      "text/html": [
       "<pre style=\"white-space:pre;overflow-x:auto;line-height:normal;font-family:Menlo,'DejaVu Sans Mono',consolas,'Courier New',monospace\">Scene:  static\n",
       "</pre>\n"
      ],
      "text/plain": [
       "Scene:  static\n"
      ]
     },
     "metadata": {},
     "output_type": "display_data"
    },
    {
     "name": "stdout",
     "output_type": "stream",
     "text": [
      "-----------------------------------------\n",
      "| rollout/                |             |\n",
      "|    ep_len_mean          | 336         |\n",
      "|    ep_rew_mean          | 1.22e+03    |\n",
      "| time/                   |             |\n",
      "|    fps                  | 3           |\n",
      "|    iterations           | 41          |\n",
      "|    time_elapsed         | 26388       |\n",
      "|    total_timesteps      | 83968       |\n",
      "| train/                  |             |\n",
      "|    approx_kl            | 0.024635764 |\n",
      "|    clip_fraction        | 0.081       |\n",
      "|    clip_range           | 0.3         |\n",
      "|    entropy_loss         | -2.61       |\n",
      "|    explained_variance   | 0.341       |\n",
      "|    learning_rate        | 0.0001      |\n",
      "|    loss                 | 426         |\n",
      "|    n_updates            | 400         |\n",
      "|    policy_gradient_loss | -0.0242     |\n",
      "|    std                  | 0.893       |\n",
      "|    value_loss           | 1.04e+03    |\n",
      "-----------------------------------------\n"
     ]
    },
    {
     "data": {
      "text/html": [
       "<pre style=\"white-space:pre;overflow-x:auto;line-height:normal;font-family:Menlo,'DejaVu Sans Mono',consolas,'Courier New',monospace\">Scene:  overtaking\n",
       "</pre>\n"
      ],
      "text/plain": [
       "Scene:  overtaking\n"
      ]
     },
     "metadata": {},
     "output_type": "display_data"
    },
    {
     "data": {
      "text/html": [
       "<pre style=\"white-space:pre;overflow-x:auto;line-height:normal;font-family:Menlo,'DejaVu Sans Mono',consolas,'Courier New',monospace\">Scene:  static\n",
       "</pre>\n"
      ],
      "text/plain": [
       "Scene:  static\n"
      ]
     },
     "metadata": {},
     "output_type": "display_data"
    },
    {
     "data": {
      "text/html": [
       "<pre style=\"white-space:pre;overflow-x:auto;line-height:normal;font-family:Menlo,'DejaVu Sans Mono',consolas,'Courier New',monospace\">Scene:  head-on\n",
       "</pre>\n"
      ],
      "text/plain": [
       "Scene:  head-on\n"
      ]
     },
     "metadata": {},
     "output_type": "display_data"
    },
    {
     "data": {
      "text/html": [
       "<pre style=\"white-space:pre;overflow-x:auto;line-height:normal;font-family:Menlo,'DejaVu Sans Mono',consolas,'Courier New',monospace\">Scene:  crossing\n",
       "</pre>\n"
      ],
      "text/plain": [
       "Scene:  crossing\n"
      ]
     },
     "metadata": {},
     "output_type": "display_data"
    },
    {
     "data": {
      "text/html": [
       "<pre style=\"white-space:pre;overflow-x:auto;line-height:normal;font-family:Menlo,'DejaVu Sans Mono',consolas,'Courier New',monospace\">Scene:  head-on\n",
       "</pre>\n"
      ],
      "text/plain": [
       "Scene:  head-on\n"
      ]
     },
     "metadata": {},
     "output_type": "display_data"
    },
    {
     "data": {
      "text/html": [
       "<pre style=\"white-space:pre;overflow-x:auto;line-height:normal;font-family:Menlo,'DejaVu Sans Mono',consolas,'Courier New',monospace\">Scene:  head-on\n",
       "</pre>\n"
      ],
      "text/plain": [
       "Scene:  head-on\n"
      ]
     },
     "metadata": {},
     "output_type": "display_data"
    },
    {
     "name": "stdout",
     "output_type": "stream",
     "text": [
      "-----------------------------------------\n",
      "| rollout/                |             |\n",
      "|    ep_len_mean          | 332         |\n",
      "|    ep_rew_mean          | 1.22e+03    |\n",
      "| time/                   |             |\n",
      "|    fps                  | 3           |\n",
      "|    iterations           | 42          |\n",
      "|    time_elapsed         | 26478       |\n",
      "|    total_timesteps      | 86016       |\n",
      "| train/                  |             |\n",
      "|    approx_kl            | 0.023231039 |\n",
      "|    clip_fraction        | 0.0912      |\n",
      "|    clip_range           | 0.3         |\n",
      "|    entropy_loss         | -2.61       |\n",
      "|    explained_variance   | 0.117       |\n",
      "|    learning_rate        | 0.0001      |\n",
      "|    loss                 | 757         |\n",
      "|    n_updates            | 410         |\n",
      "|    policy_gradient_loss | -0.0265     |\n",
      "|    std                  | 0.894       |\n",
      "|    value_loss           | 1.53e+03    |\n",
      "-----------------------------------------\n"
     ]
    },
    {
     "data": {
      "text/html": [
       "<pre style=\"white-space:pre;overflow-x:auto;line-height:normal;font-family:Menlo,'DejaVu Sans Mono',consolas,'Courier New',monospace\">Scene:  crossing\n",
       "</pre>\n"
      ],
      "text/plain": [
       "Scene:  crossing\n"
      ]
     },
     "metadata": {},
     "output_type": "display_data"
    },
    {
     "data": {
      "text/html": [
       "<pre style=\"white-space:pre;overflow-x:auto;line-height:normal;font-family:Menlo,'DejaVu Sans Mono',consolas,'Courier New',monospace\">Scene:  overtaking\n",
       "</pre>\n"
      ],
      "text/plain": [
       "Scene:  overtaking\n"
      ]
     },
     "metadata": {},
     "output_type": "display_data"
    },
    {
     "data": {
      "text/html": [
       "<pre style=\"white-space:pre;overflow-x:auto;line-height:normal;font-family:Menlo,'DejaVu Sans Mono',consolas,'Courier New',monospace\">Scene:  overtaking\n",
       "</pre>\n"
      ],
      "text/plain": [
       "Scene:  overtaking\n"
      ]
     },
     "metadata": {},
     "output_type": "display_data"
    },
    {
     "data": {
      "text/html": [
       "<pre style=\"white-space:pre;overflow-x:auto;line-height:normal;font-family:Menlo,'DejaVu Sans Mono',consolas,'Courier New',monospace\">Scene:  head-on\n",
       "</pre>\n"
      ],
      "text/plain": [
       "Scene:  head-on\n"
      ]
     },
     "metadata": {},
     "output_type": "display_data"
    },
    {
     "data": {
      "text/html": [
       "<pre style=\"white-space:pre;overflow-x:auto;line-height:normal;font-family:Menlo,'DejaVu Sans Mono',consolas,'Courier New',monospace\">Scene:  overtaking\n",
       "</pre>\n"
      ],
      "text/plain": [
       "Scene:  overtaking\n"
      ]
     },
     "metadata": {},
     "output_type": "display_data"
    },
    {
     "data": {
      "text/html": [
       "<pre style=\"white-space:pre;overflow-x:auto;line-height:normal;font-family:Menlo,'DejaVu Sans Mono',consolas,'Courier New',monospace\">Scene:  static\n",
       "</pre>\n"
      ],
      "text/plain": [
       "Scene:  static\n"
      ]
     },
     "metadata": {},
     "output_type": "display_data"
    },
    {
     "name": "stdout",
     "output_type": "stream",
     "text": [
      "----------------------------------------\n",
      "| rollout/                |            |\n",
      "|    ep_len_mean          | 334        |\n",
      "|    ep_rew_mean          | 1.24e+03   |\n",
      "| time/                   |            |\n",
      "|    fps                  | 3          |\n",
      "|    iterations           | 43         |\n",
      "|    time_elapsed         | 26571      |\n",
      "|    total_timesteps      | 88064      |\n",
      "| train/                  |            |\n",
      "|    approx_kl            | 0.03878351 |\n",
      "|    clip_fraction        | 0.178      |\n",
      "|    clip_range           | 0.3        |\n",
      "|    entropy_loss         | -2.62      |\n",
      "|    explained_variance   | 0.1        |\n",
      "|    learning_rate        | 0.0001     |\n",
      "|    loss                 | 382        |\n",
      "|    n_updates            | 420        |\n",
      "|    policy_gradient_loss | -0.0306    |\n",
      "|    std                  | 0.901      |\n",
      "|    value_loss           | 1.01e+03   |\n",
      "----------------------------------------\n"
     ]
    },
    {
     "data": {
      "text/html": [
       "<pre style=\"white-space:pre;overflow-x:auto;line-height:normal;font-family:Menlo,'DejaVu Sans Mono',consolas,'Courier New',monospace\">Scene:  head-on\n",
       "</pre>\n"
      ],
      "text/plain": [
       "Scene:  head-on\n"
      ]
     },
     "metadata": {},
     "output_type": "display_data"
    },
    {
     "data": {
      "text/html": [
       "<pre style=\"white-space:pre;overflow-x:auto;line-height:normal;font-family:Menlo,'DejaVu Sans Mono',consolas,'Courier New',monospace\">Scene:  head-on\n",
       "</pre>\n"
      ],
      "text/plain": [
       "Scene:  head-on\n"
      ]
     },
     "metadata": {},
     "output_type": "display_data"
    },
    {
     "data": {
      "text/html": [
       "<pre style=\"white-space:pre;overflow-x:auto;line-height:normal;font-family:Menlo,'DejaVu Sans Mono',consolas,'Courier New',monospace\">Scene:  static\n",
       "</pre>\n"
      ],
      "text/plain": [
       "Scene:  static\n"
      ]
     },
     "metadata": {},
     "output_type": "display_data"
    },
    {
     "data": {
      "text/html": [
       "<pre style=\"white-space:pre;overflow-x:auto;line-height:normal;font-family:Menlo,'DejaVu Sans Mono',consolas,'Courier New',monospace\">Scene:  crossing\n",
       "</pre>\n"
      ],
      "text/plain": [
       "Scene:  crossing\n"
      ]
     },
     "metadata": {},
     "output_type": "display_data"
    },
    {
     "data": {
      "text/html": [
       "<pre style=\"white-space:pre;overflow-x:auto;line-height:normal;font-family:Menlo,'DejaVu Sans Mono',consolas,'Courier New',monospace\">Scene:  crossing\n",
       "</pre>\n"
      ],
      "text/plain": [
       "Scene:  crossing\n"
      ]
     },
     "metadata": {},
     "output_type": "display_data"
    },
    {
     "data": {
      "text/html": [
       "<pre style=\"white-space:pre;overflow-x:auto;line-height:normal;font-family:Menlo,'DejaVu Sans Mono',consolas,'Courier New',monospace\">Scene:  crossing\n",
       "</pre>\n"
      ],
      "text/plain": [
       "Scene:  crossing\n"
      ]
     },
     "metadata": {},
     "output_type": "display_data"
    },
    {
     "name": "stdout",
     "output_type": "stream",
     "text": [
      "----------------------------------------\n",
      "| rollout/                |            |\n",
      "|    ep_len_mean          | 331        |\n",
      "|    ep_rew_mean          | 1.25e+03   |\n",
      "| time/                   |            |\n",
      "|    fps                  | 3          |\n",
      "|    iterations           | 44         |\n",
      "|    time_elapsed         | 26663      |\n",
      "|    total_timesteps      | 90112      |\n",
      "| train/                  |            |\n",
      "|    approx_kl            | 0.01805212 |\n",
      "|    clip_fraction        | 0.0611     |\n",
      "|    clip_range           | 0.3        |\n",
      "|    entropy_loss         | -2.62      |\n",
      "|    explained_variance   | 0.588      |\n",
      "|    learning_rate        | 0.0001     |\n",
      "|    loss                 | 636        |\n",
      "|    n_updates            | 430        |\n",
      "|    policy_gradient_loss | -0.0254    |\n",
      "|    std                  | 0.901      |\n",
      "|    value_loss           | 1.51e+03   |\n",
      "----------------------------------------\n"
     ]
    },
    {
     "data": {
      "text/html": [
       "<pre style=\"white-space:pre;overflow-x:auto;line-height:normal;font-family:Menlo,'DejaVu Sans Mono',consolas,'Courier New',monospace\">Scene:  overtaking\n",
       "</pre>\n"
      ],
      "text/plain": [
       "Scene:  overtaking\n"
      ]
     },
     "metadata": {},
     "output_type": "display_data"
    },
    {
     "data": {
      "text/html": [
       "<pre style=\"white-space:pre;overflow-x:auto;line-height:normal;font-family:Menlo,'DejaVu Sans Mono',consolas,'Courier New',monospace\">Scene:  crossing\n",
       "</pre>\n"
      ],
      "text/plain": [
       "Scene:  crossing\n"
      ]
     },
     "metadata": {},
     "output_type": "display_data"
    },
    {
     "data": {
      "text/html": [
       "<pre style=\"white-space:pre;overflow-x:auto;line-height:normal;font-family:Menlo,'DejaVu Sans Mono',consolas,'Courier New',monospace\">Scene:  head-on\n",
       "</pre>\n"
      ],
      "text/plain": [
       "Scene:  head-on\n"
      ]
     },
     "metadata": {},
     "output_type": "display_data"
    },
    {
     "data": {
      "text/html": [
       "<pre style=\"white-space:pre;overflow-x:auto;line-height:normal;font-family:Menlo,'DejaVu Sans Mono',consolas,'Courier New',monospace\">Scene:  head-on\n",
       "</pre>\n"
      ],
      "text/plain": [
       "Scene:  head-on\n"
      ]
     },
     "metadata": {},
     "output_type": "display_data"
    },
    {
     "data": {
      "text/html": [
       "<pre style=\"white-space:pre;overflow-x:auto;line-height:normal;font-family:Menlo,'DejaVu Sans Mono',consolas,'Courier New',monospace\">Scene:  head-on\n",
       "</pre>\n"
      ],
      "text/plain": [
       "Scene:  head-on\n"
      ]
     },
     "metadata": {},
     "output_type": "display_data"
    },
    {
     "name": "stdout",
     "output_type": "stream",
     "text": [
      "-----------------------------------------\n",
      "| rollout/                |             |\n",
      "|    ep_len_mean          | 329         |\n",
      "|    ep_rew_mean          | 1.26e+03    |\n",
      "| time/                   |             |\n",
      "|    fps                  | 3           |\n",
      "|    iterations           | 45          |\n",
      "|    time_elapsed         | 26756       |\n",
      "|    total_timesteps      | 92160       |\n",
      "| train/                  |             |\n",
      "|    approx_kl            | 0.031742916 |\n",
      "|    clip_fraction        | 0.113       |\n",
      "|    clip_range           | 0.3         |\n",
      "|    entropy_loss         | -2.62       |\n",
      "|    explained_variance   | 0.091       |\n",
      "|    learning_rate        | 0.0001      |\n",
      "|    loss                 | 584         |\n",
      "|    n_updates            | 440         |\n",
      "|    policy_gradient_loss | -0.0293     |\n",
      "|    std                  | 0.895       |\n",
      "|    value_loss           | 1.08e+03    |\n",
      "-----------------------------------------\n"
     ]
    },
    {
     "data": {
      "text/html": [
       "<pre style=\"white-space:pre;overflow-x:auto;line-height:normal;font-family:Menlo,'DejaVu Sans Mono',consolas,'Courier New',monospace\">Scene:  crossing\n",
       "</pre>\n"
      ],
      "text/plain": [
       "Scene:  crossing\n"
      ]
     },
     "metadata": {},
     "output_type": "display_data"
    },
    {
     "data": {
      "text/html": [
       "<pre style=\"white-space:pre;overflow-x:auto;line-height:normal;font-family:Menlo,'DejaVu Sans Mono',consolas,'Courier New',monospace\">Scene:  static\n",
       "</pre>\n"
      ],
      "text/plain": [
       "Scene:  static\n"
      ]
     },
     "metadata": {},
     "output_type": "display_data"
    },
    {
     "data": {
      "text/html": [
       "<pre style=\"white-space:pre;overflow-x:auto;line-height:normal;font-family:Menlo,'DejaVu Sans Mono',consolas,'Courier New',monospace\">Scene:  head-on\n",
       "</pre>\n"
      ],
      "text/plain": [
       "Scene:  head-on\n"
      ]
     },
     "metadata": {},
     "output_type": "display_data"
    },
    {
     "data": {
      "text/html": [
       "<pre style=\"white-space:pre;overflow-x:auto;line-height:normal;font-family:Menlo,'DejaVu Sans Mono',consolas,'Courier New',monospace\">Scene:  overtaking\n",
       "</pre>\n"
      ],
      "text/plain": [
       "Scene:  overtaking\n"
      ]
     },
     "metadata": {},
     "output_type": "display_data"
    },
    {
     "data": {
      "text/html": [
       "<pre style=\"white-space:pre;overflow-x:auto;line-height:normal;font-family:Menlo,'DejaVu Sans Mono',consolas,'Courier New',monospace\">Scene:  crossing\n",
       "</pre>\n"
      ],
      "text/plain": [
       "Scene:  crossing\n"
      ]
     },
     "metadata": {},
     "output_type": "display_data"
    },
    {
     "data": {
      "text/html": [
       "<pre style=\"white-space:pre;overflow-x:auto;line-height:normal;font-family:Menlo,'DejaVu Sans Mono',consolas,'Courier New',monospace\">Scene:  head-on\n",
       "</pre>\n"
      ],
      "text/plain": [
       "Scene:  head-on\n"
      ]
     },
     "metadata": {},
     "output_type": "display_data"
    },
    {
     "data": {
      "text/html": [
       "<pre style=\"white-space:pre;overflow-x:auto;line-height:normal;font-family:Menlo,'DejaVu Sans Mono',consolas,'Courier New',monospace\">Scene:  overtaking\n",
       "</pre>\n"
      ],
      "text/plain": [
       "Scene:  overtaking\n"
      ]
     },
     "metadata": {},
     "output_type": "display_data"
    },
    {
     "name": "stdout",
     "output_type": "stream",
     "text": [
      "-----------------------------------------\n",
      "| rollout/                |             |\n",
      "|    ep_len_mean          | 326         |\n",
      "|    ep_rew_mean          | 1.26e+03    |\n",
      "| time/                   |             |\n",
      "|    fps                  | 3           |\n",
      "|    iterations           | 46          |\n",
      "|    time_elapsed         | 26852       |\n",
      "|    total_timesteps      | 94208       |\n",
      "| train/                  |             |\n",
      "|    approx_kl            | 0.024482548 |\n",
      "|    clip_fraction        | 0.0852      |\n",
      "|    clip_range           | 0.3         |\n",
      "|    entropy_loss         | -2.61       |\n",
      "|    explained_variance   | 0.454       |\n",
      "|    learning_rate        | 0.0001      |\n",
      "|    loss                 | 538         |\n",
      "|    n_updates            | 450         |\n",
      "|    policy_gradient_loss | -0.0294     |\n",
      "|    std                  | 0.894       |\n",
      "|    value_loss           | 1.07e+03    |\n",
      "-----------------------------------------\n"
     ]
    },
    {
     "data": {
      "text/html": [
       "<pre style=\"white-space:pre;overflow-x:auto;line-height:normal;font-family:Menlo,'DejaVu Sans Mono',consolas,'Courier New',monospace\">Scene:  crossing\n",
       "</pre>\n"
      ],
      "text/plain": [
       "Scene:  crossing\n"
      ]
     },
     "metadata": {},
     "output_type": "display_data"
    },
    {
     "data": {
      "text/html": [
       "<pre style=\"white-space:pre;overflow-x:auto;line-height:normal;font-family:Menlo,'DejaVu Sans Mono',consolas,'Courier New',monospace\">Scene:  static\n",
       "</pre>\n"
      ],
      "text/plain": [
       "Scene:  static\n"
      ]
     },
     "metadata": {},
     "output_type": "display_data"
    },
    {
     "data": {
      "text/html": [
       "<pre style=\"white-space:pre;overflow-x:auto;line-height:normal;font-family:Menlo,'DejaVu Sans Mono',consolas,'Courier New',monospace\">Scene:  head-on\n",
       "</pre>\n"
      ],
      "text/plain": [
       "Scene:  head-on\n"
      ]
     },
     "metadata": {},
     "output_type": "display_data"
    },
    {
     "data": {
      "text/html": [
       "<pre style=\"white-space:pre;overflow-x:auto;line-height:normal;font-family:Menlo,'DejaVu Sans Mono',consolas,'Courier New',monospace\">Scene:  crossing\n",
       "</pre>\n"
      ],
      "text/plain": [
       "Scene:  crossing\n"
      ]
     },
     "metadata": {},
     "output_type": "display_data"
    },
    {
     "data": {
      "text/html": [
       "<pre style=\"white-space:pre;overflow-x:auto;line-height:normal;font-family:Menlo,'DejaVu Sans Mono',consolas,'Courier New',monospace\">Scene:  crossing\n",
       "</pre>\n"
      ],
      "text/plain": [
       "Scene:  crossing\n"
      ]
     },
     "metadata": {},
     "output_type": "display_data"
    },
    {
     "data": {
      "text/html": [
       "<pre style=\"white-space:pre;overflow-x:auto;line-height:normal;font-family:Menlo,'DejaVu Sans Mono',consolas,'Courier New',monospace\">Scene:  head-on\n",
       "</pre>\n"
      ],
      "text/plain": [
       "Scene:  head-on\n"
      ]
     },
     "metadata": {},
     "output_type": "display_data"
    },
    {
     "data": {
      "text/html": [
       "<pre style=\"white-space:pre;overflow-x:auto;line-height:normal;font-family:Menlo,'DejaVu Sans Mono',consolas,'Courier New',monospace\">Scene:  crossing\n",
       "</pre>\n"
      ],
      "text/plain": [
       "Scene:  crossing\n"
      ]
     },
     "metadata": {},
     "output_type": "display_data"
    },
    {
     "name": "stdout",
     "output_type": "stream",
     "text": [
      "-----------------------------------------\n",
      "| rollout/                |             |\n",
      "|    ep_len_mean          | 326         |\n",
      "|    ep_rew_mean          | 1.27e+03    |\n",
      "| time/                   |             |\n",
      "|    fps                  | 3           |\n",
      "|    iterations           | 47          |\n",
      "|    time_elapsed         | 26949       |\n",
      "|    total_timesteps      | 96256       |\n",
      "| train/                  |             |\n",
      "|    approx_kl            | 0.022802372 |\n",
      "|    clip_fraction        | 0.084       |\n",
      "|    clip_range           | 0.3         |\n",
      "|    entropy_loss         | -2.61       |\n",
      "|    explained_variance   | 0.419       |\n",
      "|    learning_rate        | 0.0001      |\n",
      "|    loss                 | 605         |\n",
      "|    n_updates            | 460         |\n",
      "|    policy_gradient_loss | -0.024      |\n",
      "|    std                  | 0.893       |\n",
      "|    value_loss           | 1.15e+03    |\n",
      "-----------------------------------------\n"
     ]
    },
    {
     "data": {
      "text/html": [
       "<pre style=\"white-space:pre;overflow-x:auto;line-height:normal;font-family:Menlo,'DejaVu Sans Mono',consolas,'Courier New',monospace\">Scene:  crossing\n",
       "</pre>\n"
      ],
      "text/plain": [
       "Scene:  crossing\n"
      ]
     },
     "metadata": {},
     "output_type": "display_data"
    },
    {
     "data": {
      "text/html": [
       "<pre style=\"white-space:pre;overflow-x:auto;line-height:normal;font-family:Menlo,'DejaVu Sans Mono',consolas,'Courier New',monospace\">Scene:  crossing\n",
       "</pre>\n"
      ],
      "text/plain": [
       "Scene:  crossing\n"
      ]
     },
     "metadata": {},
     "output_type": "display_data"
    },
    {
     "data": {
      "text/html": [
       "<pre style=\"white-space:pre;overflow-x:auto;line-height:normal;font-family:Menlo,'DejaVu Sans Mono',consolas,'Courier New',monospace\">Scene:  crossing\n",
       "</pre>\n"
      ],
      "text/plain": [
       "Scene:  crossing\n"
      ]
     },
     "metadata": {},
     "output_type": "display_data"
    },
    {
     "data": {
      "text/html": [
       "<pre style=\"white-space:pre;overflow-x:auto;line-height:normal;font-family:Menlo,'DejaVu Sans Mono',consolas,'Courier New',monospace\">Scene:  static\n",
       "</pre>\n"
      ],
      "text/plain": [
       "Scene:  static\n"
      ]
     },
     "metadata": {},
     "output_type": "display_data"
    },
    {
     "name": "stdout",
     "output_type": "stream",
     "text": [
      "-----------------------------------------\n",
      "| rollout/                |             |\n",
      "|    ep_len_mean          | 327         |\n",
      "|    ep_rew_mean          | 1.27e+03    |\n",
      "| time/                   |             |\n",
      "|    fps                  | 3           |\n",
      "|    iterations           | 48          |\n",
      "|    time_elapsed         | 27050       |\n",
      "|    total_timesteps      | 98304       |\n",
      "| train/                  |             |\n",
      "|    approx_kl            | 0.029262481 |\n",
      "|    clip_fraction        | 0.116       |\n",
      "|    clip_range           | 0.3         |\n",
      "|    entropy_loss         | -2.6        |\n",
      "|    explained_variance   | 0.37        |\n",
      "|    learning_rate        | 0.0001      |\n",
      "|    loss                 | 405         |\n",
      "|    n_updates            | 470         |\n",
      "|    policy_gradient_loss | -0.028      |\n",
      "|    std                  | 0.892       |\n",
      "|    value_loss           | 925         |\n",
      "-----------------------------------------\n"
     ]
    },
    {
     "data": {
      "text/html": [
       "<pre style=\"white-space:pre;overflow-x:auto;line-height:normal;font-family:Menlo,'DejaVu Sans Mono',consolas,'Courier New',monospace\">Scene:  static\n",
       "</pre>\n"
      ],
      "text/plain": [
       "Scene:  static\n"
      ]
     },
     "metadata": {},
     "output_type": "display_data"
    },
    {
     "data": {
      "text/html": [
       "<pre style=\"white-space:pre;overflow-x:auto;line-height:normal;font-family:Menlo,'DejaVu Sans Mono',consolas,'Courier New',monospace\">Scene:  overtaking\n",
       "</pre>\n"
      ],
      "text/plain": [
       "Scene:  overtaking\n"
      ]
     },
     "metadata": {},
     "output_type": "display_data"
    },
    {
     "data": {
      "text/html": [
       "<pre style=\"white-space:pre;overflow-x:auto;line-height:normal;font-family:Menlo,'DejaVu Sans Mono',consolas,'Courier New',monospace\">Scene:  head-on\n",
       "</pre>\n"
      ],
      "text/plain": [
       "Scene:  head-on\n"
      ]
     },
     "metadata": {},
     "output_type": "display_data"
    },
    {
     "data": {
      "text/html": [
       "<pre style=\"white-space:pre;overflow-x:auto;line-height:normal;font-family:Menlo,'DejaVu Sans Mono',consolas,'Courier New',monospace\">Scene:  crossing\n",
       "</pre>\n"
      ],
      "text/plain": [
       "Scene:  crossing\n"
      ]
     },
     "metadata": {},
     "output_type": "display_data"
    },
    {
     "data": {
      "text/html": [
       "<pre style=\"white-space:pre;overflow-x:auto;line-height:normal;font-family:Menlo,'DejaVu Sans Mono',consolas,'Courier New',monospace\">Scene:  head-on\n",
       "</pre>\n"
      ],
      "text/plain": [
       "Scene:  head-on\n"
      ]
     },
     "metadata": {},
     "output_type": "display_data"
    },
    {
     "data": {
      "text/html": [
       "<pre style=\"white-space:pre;overflow-x:auto;line-height:normal;font-family:Menlo,'DejaVu Sans Mono',consolas,'Courier New',monospace\">Scene:  overtaking\n",
       "</pre>\n"
      ],
      "text/plain": [
       "Scene:  overtaking\n"
      ]
     },
     "metadata": {},
     "output_type": "display_data"
    },
    {
     "data": {
      "text/html": [
       "<pre style=\"white-space:pre;overflow-x:auto;line-height:normal;font-family:Menlo,'DejaVu Sans Mono',consolas,'Courier New',monospace\">Scene:  crossing\n",
       "</pre>\n"
      ],
      "text/plain": [
       "Scene:  crossing\n"
      ]
     },
     "metadata": {},
     "output_type": "display_data"
    },
    {
     "name": "stdout",
     "output_type": "stream",
     "text": [
      "-----------------------------------------\n",
      "| rollout/                |             |\n",
      "|    ep_len_mean          | 329         |\n",
      "|    ep_rew_mean          | 1.28e+03    |\n",
      "| time/                   |             |\n",
      "|    fps                  | 3           |\n",
      "|    iterations           | 49          |\n",
      "|    time_elapsed         | 27148       |\n",
      "|    total_timesteps      | 100352      |\n",
      "| train/                  |             |\n",
      "|    approx_kl            | 0.018253624 |\n",
      "|    clip_fraction        | 0.0595      |\n",
      "|    clip_range           | 0.3         |\n",
      "|    entropy_loss         | -2.6        |\n",
      "|    explained_variance   | 0.631       |\n",
      "|    learning_rate        | 0.0001      |\n",
      "|    loss                 | 555         |\n",
      "|    n_updates            | 480         |\n",
      "|    policy_gradient_loss | -0.0225     |\n",
      "|    std                  | 0.889       |\n",
      "|    value_loss           | 1.18e+03    |\n",
      "-----------------------------------------\n"
     ]
    },
    {
     "data": {
      "text/html": [
       "<pre style=\"white-space:pre;overflow-x:auto;line-height:normal;font-family:Menlo,'DejaVu Sans Mono',consolas,'Courier New',monospace\"></pre>\n"
      ],
      "text/plain": []
     },
     "metadata": {},
     "output_type": "display_data"
    },
    {
     "data": {
      "text/plain": [
       "<stable_baselines3.ppo.ppo.PPO at 0x7f88aceaad90>"
      ]
     },
     "execution_count": 7,
     "metadata": {},
     "output_type": "execute_result"
    }
   ],
   "source": [
    "model.learn(total_timesteps=(1e5), progress_bar=True)"
   ]
  },
  {
   "cell_type": "code",
   "execution_count": 8,
   "id": "466d533e-0a5d-4c2d-aaf5-467bad256d42",
   "metadata": {},
   "outputs": [
    {
     "name": "stderr",
     "output_type": "stream",
     "text": [
      "/usr/local/lib/python3.11/dist-packages/stable_baselines3/common/evaluation.py:67: UserWarning: Evaluation environment is not wrapped with a ``Monitor`` wrapper. This may result in reporting modified episode lengths and rewards, if other wrappers happen to modify these. Consider wrapping environment first with ``Monitor`` wrapper.\n",
      "  warnings.warn(\n"
     ]
    },
    {
     "name": "stdout",
     "output_type": "stream",
     "text": [
      "Scene:  head-on\n",
      "Scene:  overtaking\n",
      "Scene:  head-on\n",
      "Scene:  head-on\n",
      "Scene:  static\n",
      "Scene:  head-on\n",
      "Scene:  crossing\n",
      "Scene:  overtaking\n",
      "Scene:  static\n",
      "Scene:  crossing\n",
      "Scene:  static\n",
      "Mean: 1160.51, Std: 238.91\n"
     ]
    }
   ],
   "source": [
    "mean, std = evaluate_policy(model=model, env=env, n_eval_episodes=10, deterministic=True)\n",
    "print(f'Mean: {mean:.2f}, Std: {std:.2f}')"
   ]
  },
  {
   "cell_type": "code",
   "execution_count": null,
   "id": "22985742-c740-42fa-8382-f042d32ddb7c",
   "metadata": {},
   "outputs": [],
   "source": [
    "%tensorboard --logdir ./stage_1_tensorboard_logs/ --host=0.0.0.0"
   ]
  },
  {
   "cell_type": "code",
   "execution_count": 9,
   "id": "dcce986e-7b91-4254-a25c-42bc26d7954e",
   "metadata": {},
   "outputs": [],
   "source": [
    "# Save environment normalization stats\n",
    "# env.save(\"ppo_normalized_env.pkl\")\n",
    "model.save(\"ppo_marine_stage_2\")\n",
    "# model = model.load('ppo_marine_stage_1.zip')"
   ]
  },
  {
   "cell_type": "code",
   "execution_count": null,
   "id": "57e5042a-6ba5-4092-b202-5b02a635b376",
   "metadata": {
    "jupyter": {
     "source_hidden": true
    }
   },
   "outputs": [],
   "source": [
    "env = VecNormalize.load(\"ppo_normalized_env.pkl\", env)\n",
    "\n",
    "# Disable reward normalization for evaluation\n",
    "env.training = False\n",
    "env.norm_reward = False\n",
    "\n",
    "import cv2\n",
    "import numpy as np\n",
    "\n",
    "obs = env.reset()\n",
    "for _ in range(100):\n",
    "    action, _ = model.predict(obs, deterministic=True)\n",
    "    obs, reward, dones, _ = env.step(action)\n",
    "\n",
    "    # ✅ Ensure env.get_images() is not empty\n",
    "    images = env.get_images()\n",
    "    if images and images[0] is not None:\n",
    "        frame = images[0]\n",
    "        \n",
    "        # ✅ Ensure the frame has valid dimensions before displaying\n",
    "        if frame.shape[0] > 0 and frame.shape[1] > 0:\n",
    "            cv2.imshow(\"PPO MarineEnv Evaluation\", frame)\n",
    "            cv2.waitKey(1)  # Display for 1ms\n",
    "        else:\n",
    "            print(\"Warning: Received an empty frame from env.get_images()\")\n",
    "\n",
    "    if dones:\n",
    "        break\n",
    "\n",
    "env.close()\n",
    "cv2.destroyAllWindows()  # Close display window\n"
   ]
  },
  {
   "cell_type": "code",
   "execution_count": 15,
   "id": "ec1768e6-1c27-4e5b-9ffc-66d9743dad97",
   "metadata": {
    "scrolled": true
   },
   "outputs": [
    {
     "name": "stdout",
     "output_type": "stream",
     "text": [
      "Scene:  overtaking\n",
      "[352.84598     8.270623   23.717087  172.0578     -4.5568643 172.0578\n",
      "   1.1522969   0.9461159 330.75168     4.819188   44.419704  205.94368\n",
      "   3.788774    5.5005403  85.249214   74.8327      0.          0.\n",
      "   0.          0.          0.          0.          0.          0.\n",
      "   0.          0.          0.          0.          0.          0.\n",
      "   0.          0.          0.          0.          0.          0.       ]\n"
     ]
    },
    {
     "name": "stderr",
     "output_type": "stream",
     "text": [
      "/usr/local/lib/python3.11/dist-packages/gymnasium/utils/passive_env_checker.py:158: UserWarning: \u001b[33mWARN: The obs returned by the `step()` method is not within the observation space.\u001b[0m\n",
      "  logger.warn(f\"{pre} is not within the observation space.\")\n"
     ]
    },
    {
     "name": "stdout",
     "output_type": "stream",
     "text": [
      "===========================\n",
      "[347.47888      8.370624    23.670557   169.66878      0.81182843\n",
      " 171.72447      2.6951344    1.8640248  330.75168      4.801336\n",
      "  49.87619    194.51064      3.4833755    5.5005403  109.743675\n",
      "  76.21453      0.           0.           0.           0.\n",
      "   0.           0.           0.           0.           0.\n",
      "   0.           0.           0.           0.           0.\n",
      "   0.           0.           0.           0.           0.\n",
      "   0.        ]\n",
      "===========================\n",
      "[341.47037     8.470624   23.6238    167.33456     6.8339014 171.39114\n",
      "   5.987527    2.9183948 330.75168     4.78708    56.015423  179.92232\n",
      "   3.2322266   5.5005403 167.48991    70.43965     0.          0.\n",
      "   0.          0.          0.          0.          0.          0.\n",
      "   0.          0.          0.          0.          0.          0.\n",
      "   0.          0.          0.          0.          0.          0.       ]\n",
      "===========================\n",
      "[337.37524     8.570623   23.577019  165.05464    10.950973  171.05782\n",
      "  11.51214     3.5890958 330.75168     4.775433   60.269115  168.91737\n",
      "   3.1709201   5.5005403 266.58127    59.606113    0.          0.\n",
      "   0.          0.          0.          0.          0.          0.\n",
      "   0.          0.          0.          0.          0.          0.\n",
      "   0.          0.          0.          0.          0.          0.       ]\n",
      "===========================\n",
      "[333.19504     8.670624   23.53049   162.82906    15.161814  170.72449\n",
      "  35.700703    4.1450057 330.75168     4.766669   64.63398   157.419\n",
      "   3.183732    5.5005403 712.6164     44.357983    0.          0.\n",
      "   0.          0.          0.          0.          0.          0.\n",
      "   0.          0.          0.          0.          0.          0.\n",
      "   0.          0.          0.          0.          0.          0.       ]\n",
      "===========================\n",
      "[326.12247     8.703066   23.485714  161.91338    22.279041  170.39116\n",
      "  21.696129    4.6876836 330.75168     4.7634254  71.92033   138.27391\n",
      "   3.2509227   5.5005403   0.         15.615401    0.          0.\n",
      "   0.          0.          0.          0.          0.          0.\n",
      "   0.          0.          0.          0.          0.          0.\n",
      "   0.          0.          0.          0.          0.          0.       ]\n",
      "===========================\n",
      "[327.41098     8.803066   23.44003   159.76271    21.033386  170.05783\n",
      "  29.999952    4.6251283 330.75168     4.759034   70.84805   141.88295\n",
      "   3.3273482   5.5005403   0.         20.213919    0.          0.\n",
      "   0.          0.          0.          0.          0.          0.\n",
      "   0.          0.          0.          0.          0.          0.\n",
      "   0.          0.          0.          0.          0.          0.       ]\n",
      "===========================\n",
      "[328.7792      8.903067   23.393427  157.65417    19.70595   169.7245\n",
      "  50.56737     4.5427885 330.75168     4.7534175  69.69801   145.59749\n",
      "   3.4110434   5.5005403   0.         24.613628    0.          0.\n",
      "   0.          0.          0.          0.          0.          0.\n",
      "   0.          0.          0.          0.          0.          0.\n",
      "   0.          0.          0.          0.          0.          0.       ]\n",
      "===========================\n",
      "[329.80698     9.003066   23.346018  155.58711    18.717537  169.39117\n",
      " 105.55653     4.4710813 330.75168     4.7468386  68.89145   148.32407\n",
      "   3.5044475   5.5005403   0.         27.296783    0.          0.\n",
      "   0.          0.          0.          0.          0.          0.\n",
      "   0.          0.          0.          0.          0.          0.\n",
      "   0.          0.          0.          0.          0.          0.       ]\n",
      "===========================\n",
      "[326.90082     9.103066   23.298979  153.5679     21.66954   169.05785\n",
      "  27.559397    4.6366816 330.75168     4.7425528  72.03599   141.06598\n",
      "   3.6337712   5.5005403   0.         16.453789    0.          0.\n",
      "   0.          0.          0.          0.          0.          0.\n",
      "   0.          0.          0.          0.          0.          0.\n",
      "   0.          0.          0.          0.          0.          0.       ]\n",
      "===========================\n",
      "[328.20987     9.203066   23.25102   151.58656    20.404367  168.72452\n",
      "  41.606606    4.5698676 330.75168     4.7370706  70.96771   144.44586\n",
      "   3.7159536   5.5005403   0.         20.142174    0.          0.\n",
      "   0.          0.          0.          0.          0.          0.\n",
      "   0.          0.          0.          0.          0.          0.\n",
      "   0.          0.          0.          0.          0.          0.       ]\n",
      "===========================\n",
      "[329.56317     9.303066   23.20214   149.64189    19.092754  168.39119\n",
      "  88.50434     4.487862  330.75168     4.7303414  69.85718   147.8451\n",
      "   3.8054202   5.5005403   0.         23.572691    0.          0.\n",
      "   0.          0.          0.          0.          0.          0.\n",
      "   0.          0.          0.          0.          0.          0.\n",
      "   0.          0.          0.          0.          0.          0.       ]\n",
      "===========================\n",
      "[327.01038     9.403067   23.15356   147.7405     21.693266  168.05786\n",
      "  29.602428    4.6208625 330.75168     4.7257156  72.66878   141.77122\n",
      "   3.93067     5.5005403   0.         15.111313    0.          0.\n",
      "   0.          0.          0.          0.          0.          0.\n",
      "   0.          0.          0.          0.          0.          0.\n",
      "   0.          0.          0.          0.          0.          0.       ]\n",
      "===========================\n",
      "[328.30106     9.503066   23.104052  145.87325    20.448244  167.72453\n",
      "  45.04157     4.559024  330.75168     4.7198896  71.63944   144.94235\n",
      "   4.014452    5.5005403   0.         18.260199    0.          0.\n",
      "   0.          0.          0.          0.          0.          0.\n",
      "   0.          0.          0.          0.          0.          0.\n",
      "   0.          0.          0.          0.          0.          0.       ]\n",
      "===========================\n",
      "[329.44595     9.603066   23.053673  144.03944    19.3472    167.3912\n",
      "  84.34151     4.4950495 330.75168     4.712979   70.75881   147.69661\n",
      "   4.105868    5.5005403   0.         20.700796    0.          0.\n",
      "   0.          0.          0.          0.          0.          0.\n",
      "   0.          0.          0.          0.          0.          0.\n",
      "   0.          0.          0.          0.          0.          0.       ]\n",
      "===========================\n",
      "[327.66733     9.703066   23.003365  142.24388    21.174244  167.05788\n",
      "  37.059353    4.583874  330.75168     4.707579   72.8152    143.64656\n",
      "   4.220883    5.5005403   0.         15.239955    0.          0.\n",
      "   0.          0.          0.          0.          0.          0.\n",
      "   0.          0.          0.          0.          0.          0.\n",
      "   0.          0.          0.          0.          0.          0.       ]\n",
      "===========================\n",
      "[328.7721      9.803066   22.952183  140.47961    20.116182  166.72455\n",
      "  57.663326    4.530548  330.75168     4.7011266  71.9915    146.24536\n",
      "   4.309999    5.5005403   0.         17.469336    0.          0.\n",
      "   0.          0.          0.          0.          0.          0.\n",
      "   0.          0.          0.          0.          0.          0.\n",
      "   0.          0.          0.          0.          0.          0.       ]\n",
      "===========================\n",
      "[329.51743     9.903067   22.900253  138.74643    19.416542  166.39122\n",
      "  92.73971     4.490577  330.75168     4.693938   71.53173   147.97626\n",
      "   4.405396    5.5005403   0.         18.613487    0.          0.\n",
      "   0.          0.          0.          0.          0.          0.\n",
      "   0.          0.          0.          0.          0.          0.\n",
      "   0.          0.          0.          0.          0.          0.       ]\n",
      "===========================\n",
      "[327.32852    10.003066   22.848558  137.04933    21.656794  166.05789\n",
      "  34.763386    4.5893726 330.75168     4.6887226  74.02114   143.1655\n",
      "   4.524277    5.5005403   0.         12.732562    0.          0.\n",
      "   0.          0.          0.          0.          0.          0.\n",
      "   0.          0.          0.          0.          0.          0.\n",
      "   0.          0.          0.          0.          0.          0.       ]\n",
      "===========================\n",
      "[328.10837    10.103066   22.79609   135.38121    20.927246  165.72456\n",
      "  45.14071     4.557102  330.75168     4.682752   73.54642   144.95761\n",
      "   4.6153555   5.5005403   0.         14.007475    0.          0.\n",
      "   0.          0.          0.          0.          0.          0.\n",
      "   0.          0.          0.          0.          0.          0.\n",
      "   0.          0.          0.          0.          0.          0.       ]\n",
      "===========================\n",
      "[328.82758    10.203066   22.742867  133.74136    20.257387  165.39124\n",
      "  62.200657    4.524769  330.75168     4.676078   73.13716   146.58003\n",
      "   4.70925     5.5005403   0.         15.033008    0.          0.\n",
      "   0.          0.          0.          0.          0.          0.\n",
      "   0.          0.          0.          0.          0.          0.\n",
      "   0.          0.          0.          0.          0.          0.       ]\n",
      "===========================\n",
      "[329.8501     10.303066   22.688795  132.1284     19.28251   165.0579\n",
      " 132.61543     4.475247  330.75168     4.668405   72.42833   148.81781\n",
      "   4.8039865   5.5005403   0.         16.598385    0.          0.\n",
      "   0.          0.          0.          0.          0.          0.\n",
      "   0.          0.          0.          0.          0.          0.\n",
      "   0.          0.          0.          0.          0.          0.       ]\n",
      "===========================\n",
      "[329.93292    10.403067   22.634186  130.54335    19.24785   164.72458\n",
      " 147.47362     4.4706583 330.75168     4.660628   72.666466  149.0145\n",
      "   4.9037175   5.5005403   0.         16.11513     0.          0.\n",
      "   0.          0.          0.          0.          0.          0.\n",
      "   0.          0.          0.          0.          0.          0.\n",
      "   0.          0.          0.          0.          0.          0.       ]\n",
      "===========================\n",
      "[334.82452    10.503066   22.577623  128.97733    14.392991  164.39125\n",
      "  28.089333    4.164465  330.75168     4.6481357  68.08296   159.27766\n",
      "   5.0316067   5.5005403 355.872      24.619066    0.          0.\n",
      "   0.          0.          0.          0.          0.          0.\n",
      "   0.          0.          0.          0.          0.          0.\n",
      "   0.          0.          0.          0.          0.          0.       ]\n",
      "===========================\n",
      "[324.82452    10.603066   22.523952  127.45721    24.454905  164.05792\n",
      "  21.814486    4.6259427 330.75168     4.645422   78.435295  138.50868\n",
      "   5.16327     5.5005403   0.          4.9383974   0.          0.\n",
      "   0.          0.          0.          0.          0.          0.\n",
      "   0.          0.          0.          0.          0.          0.\n",
      "   0.          0.          0.          0.          0.          0.       ]\n",
      "===========================\n",
      "[325.48755    10.703066   22.46952   125.96122    23.853073  163.7246\n",
      "  24.666136    4.613586  330.75168     4.6421013  78.13003   139.97151\n",
      "   5.2500367   5.5005403   0.          5.871269    0.          0.\n",
      "   0.          0.          0.          0.          0.          0.\n",
      "   0.          0.          0.          0.          0.          0.\n",
      "   0.          0.          0.          0.          0.          0.       ]\n",
      "===========================\n",
      "[326.16476    10.803066   22.414322  124.48867    23.236298  163.39127\n",
      "  28.416948    4.5989256 330.75168     4.638156   77.81603   141.43811\n",
      "   5.338298    5.5005403   0.          6.765928    0.          0.\n",
      "   0.          0.          0.          0.          0.          0.\n",
      "   0.          0.          0.          0.          0.          0.\n",
      "   0.          0.          0.          0.          0.          0.       ]\n",
      "===========================\n",
      "[326.86823    10.903067   22.358347  123.038864   22.59234   163.05794\n",
      "  33.678185    4.581659  330.75168     4.6335564  77.48115   142.93279\n",
      "   5.427955    5.5005403   0.          7.6443496   0.          0.\n",
      "   0.          0.          0.          0.          0.          0.\n",
      "   0.          0.          0.          0.          0.          0.\n",
      "   0.          0.          0.          0.          0.          0.       ]\n",
      "===========================\n",
      "[327.64774    11.003066   22.301569  121.61102    21.87124   162.72461\n",
      "  42.240433    4.56026   330.75168     4.6282196  77.07545   144.55397\n",
      "   5.5186386   5.5005403   0.          8.591442    0.          0.\n",
      "   0.          0.          0.          0.          0.          0.\n",
      "   0.          0.          0.          0.          0.          0.\n",
      "   0.          0.          0.          0.          0.          0.       ]\n",
      "===========================\n",
      "[328.665      11.103066   22.243898  120.20409    20.910557  162.39128\n",
      "  62.842213    4.528824  330.75168     4.6218915  76.43647   146.61899\n",
      "   5.60975     5.5005403   0.          9.870391    0.          0.\n",
      "   0.          0.          0.          0.          0.          0.\n",
      "   0.          0.          0.          0.          0.          0.\n",
      "   0.          0.          0.          0.          0.          0.       ]\n",
      "===========================\n",
      "[329.84402    11.201997   22.18529   118.82858    19.78584   162.05795\n",
      " 144.20802     4.487183  330.75168     4.6143956  75.63964   148.96857\n",
      "   5.702812    5.5005403   0.         11.321016    0.          0.\n",
      "   0.          0.          0.          0.          0.          0.\n",
      "   0.          0.          0.          0.          0.          0.\n",
      "   0.          0.          0.          0.          0.          0.       ]\n",
      "===========================\n",
      "[334.8073     11.301996   22.124556  117.454765   14.864164  161.72462\n",
      "  30.935694    4.2428093 330.75168     4.6017537  71.04727   158.6346\n",
      "   5.828229    5.5005403 333.80777    18.342833    0.          0.\n",
      "   0.          0.          0.          0.          0.          0.\n",
      "   0.          0.          0.          0.          0.          0.\n",
      "   0.          0.          0.          0.          0.          0.       ]\n",
      "===========================\n",
      "[324.8073     11.401997   22.06706   116.122086   24.933378  161.3913\n",
      "  23.177572    4.5933337 330.75168     4.5998693  81.45913   139.32112\n",
      "   5.958327    5.5005403   0.          2.4683688   0.          0.\n",
      "   0.          0.          0.          0.          0.          0.\n",
      "   0.          0.          0.          0.          0.          0.\n",
      "   0.          0.          0.          0.          0.          0.       ]\n",
      "===========================\n",
      "[325.7621     11.501997   22.00865   114.80781    24.046251  161.05797\n",
      "  27.674673    4.5826883 330.75168     4.5970907  80.92138   141.22008\n",
      "   6.041273    5.5005403   0.          3.6112828   0.          0.\n",
      "   0.          0.          0.          0.          0.          0.\n",
      "   0.          0.          0.          0.          0.          0.\n",
      "   0.          0.          0.          0.          0.          0.       ]\n",
      "===========================\n",
      "[326.79764    11.601996   21.949297  113.511314   23.076513  160.72464\n",
      "  34.97187     4.566951  330.75168     4.593322   80.30787   143.24803\n",
      "   6.1263022   5.5005403   0.          4.8136144   0.          0.\n",
      "   0.          0.          0.          0.          0.          0.\n",
      "   0.          0.          0.          0.          0.          0.\n",
      "   0.          0.          0.          0.          0.          0.       ]\n",
      "===========================\n",
      "[327.9331     11.701997   21.888968  112.231964   22.00466   160.39131\n",
      "  49.079468    4.544829  330.75168     4.588443   79.59921   145.4384\n",
      "   6.214       5.5005403   0.          6.0940194   0.          0.\n",
      "   0.          0.          0.          0.          0.          0.\n",
      "   0.          0.          0.          0.          0.          0.\n",
      "   0.          0.          0.          0.          0.          0.       ]\n",
      "===========================\n",
      "[329.11533    11.800793   21.827662  110.98066    20.883667  160.05798\n",
      "  84.49849     4.5165567 330.75168     4.5823927  78.848366  147.68768\n",
      "   6.3044524   5.5005403   0.          7.3659887   0.          0.\n",
      "   0.          0.          0.          0.          0.          0.\n",
      "   0.          0.          0.          0.          0.          0.\n",
      "   0.          0.          0.          0.          0.          0.       ]\n",
      "===========================\n",
      "[330.18134    11.89983    21.765436  109.74326    19.876698  159.72466\n",
      " 242.41005     4.4867377 330.75168     4.5752935  78.218605  149.69113\n",
      "   6.399797    5.5005403   0.          8.398595    0.          0.\n",
      "   0.          0.          0.          0.          0.          0.\n",
      "   0.          0.          0.          0.          0.          0.\n",
      "   0.          0.          0.          0.          0.          0.       ]\n",
      "===========================\n",
      "[329.74216    11.99983    21.702887  108.515976   20.377035  159.39133\n",
      " 138.33212     4.4988537 330.75168     4.568853   79.10345   148.88797\n",
      "   6.5008664   5.5005403   0.          7.3531814   0.          0.\n",
      "   0.          0.          0.          0.          0.          0.\n",
      "   0.          0.          0.          0.          0.          0.\n",
      "   0.          0.          0.          0.          0.          0.       ]\n",
      "===========================\n",
      "[334.54007    12.099831   21.6381    107.29787    15.626953  159.058\n",
      "  35.812866    4.324049  330.75168     4.557099   74.74354   157.6865\n",
      "   6.621291    5.5005403 335.18716    13.036694    0.          0.\n",
      "   0.          0.          0.          0.          0.          0.\n",
      "   0.          0.          0.          0.          0.          0.\n",
      "   0.          0.          0.          0.          0.          0.       ]\n",
      "===========================\n",
      "[324.54007    12.19983    21.57697   106.117714   25.704838  158.72467\n",
      "  23.329727    4.55707   330.75168     4.55712    85.21587   139.48749\n",
      "   6.7578425   5.5005403   0.          0.          0.          0.\n",
      "   0.          0.          0.          0.          0.          0.\n",
      "   0.          0.          0.          0.          0.          0.\n",
      "   0.          0.          0.          0.          0.          0.       ]\n",
      "===========================\n",
      "[325.79517    12.299629   21.514742  104.95312    24.525093  158.39134\n",
      "  29.297047    4.554195  330.75168     4.5559163  84.43841   141.80884\n",
      "   6.8361974   5.5005403   0.          1.0992202   0.          0.\n",
      "   0.          0.          0.          0.          0.          0.\n",
      "   0.          0.          0.          0.          0.          0.\n",
      "   0.          0.          0.          0.          0.          0.       ]\n",
      "===========================\n",
      "[327.02127    12.398867   21.45145   103.80683    23.37183   158.05801\n",
      "  38.99036     4.545779  330.75168     4.5535135  83.69527   144.05649\n",
      "   6.919242    5.5005403   0.          2.3004477   0.          0.\n",
      "   0.          0.          0.          0.          0.          0.\n",
      "   0.          0.          0.          0.          0.          0.\n",
      "   0.          0.          0.          0.          0.          0.       ]\n",
      "===========================\n",
      "[328.23898    12.4978075  21.387117  102.67617    22.2243    157.72469\n",
      "  57.957306    4.5321665 330.75168     4.549911   82.96577   146.26666\n",
      "   7.006707    5.5005403   0.          3.4376912   0.          0.\n",
      "   0.          0.          0.          0.          0.          0.\n",
      "   0.          0.          0.          0.          0.          0.\n",
      "   0.          0.          0.          0.          0.          0.       ]\n",
      "===========================\n",
      "[329.46274    12.596756   21.321754  101.55831    21.067974  157.39136\n",
      " 113.072586    4.513441  330.75168     4.545093   82.235504  148.46404\n",
      "   7.0986857   5.5005403   0.          4.525865    0.          0.\n",
      "   0.          0.          0.          0.          0.          0.\n",
      "   0.          0.          0.          0.          0.          0.\n",
      "   0.          0.          0.          0.          0.          0.       ]\n",
      "===========================\n",
      "[331.9769     12.696755   21.25485   100.442276   18.614355  157.05803\n",
      " 118.20948     4.458303  330.75168     4.5374794  80.21702   152.91312\n",
      "   7.198434    5.5005403 991.6268      7.03446     0.          0.\n",
      "   0.          0.          0.          0.          0.          0.\n",
      "   0.          0.          0.          0.          0.          0.\n",
      "   0.          0.          0.          0.          0.          0.       ]\n",
      "===========================\n",
      "[328.13565    12.697533   21.18963   100.127945   22.528528  156.7247\n",
      "  56.2931      4.526726  330.75168     4.5348988  84.56331   146.13934\n",
      "   7.207099    5.5005403   0.          2.265598    0.          0.\n",
      "   0.          0.          0.          0.          0.          0.\n",
      "   0.          0.          0.          0.          0.          0.\n",
      "   0.          0.          0.          0.          0.          0.       ]\n",
      "===========================\n",
      "[329.44104    12.797071   21.123327   99.03826    21.292997  156.39137\n",
      " 112.513054    4.5120463 330.75168     4.53101    83.768456  148.45335\n",
      "   7.2990546   5.5005403   0.          3.4041066   0.          0.\n",
      "   0.          0.          0.          0.          0.          0.\n",
      "   0.          0.          0.          0.          0.          0.\n",
      "   0.          0.          0.          0.          0.          0.       ]\n",
      "===========================\n",
      "[332.68195    12.897071   21.05517    97.95326    18.112532  156.05804\n",
      "  75.808914    4.4491634 330.75168     4.523404   81.039345  154.11626\n",
      "   7.4019713   5.5005403 620.0598      6.6158266   0.          0.\n",
      "   0.          0.          0.          0.          0.          0.\n",
      "   0.          0.          0.          0.          0.          0.\n",
      "   0.          0.          0.          0.          0.          0.       ]\n"
     ]
    },
    {
     "ename": "AttributeError",
     "evalue": "'NoneType' object has no attribute 'fill'",
     "output_type": "error",
     "traceback": [
      "\u001b[0;31m---------------------------------------------------------------------------\u001b[0m",
      "\u001b[0;31mAttributeError\u001b[0m                            Traceback (most recent call last)",
      "Cell \u001b[0;32mIn[15], line 12\u001b[0m\n\u001b[1;32m      9\u001b[0m \u001b[38;5;66;03m# print(action)\u001b[39;00m\n\u001b[1;32m     10\u001b[0m \u001b[38;5;66;03m# observation, reward, terminated, truncated, info = env.step((0, 0))\u001b[39;00m\n\u001b[1;32m     11\u001b[0m observation, reward, terminated, truncated, info \u001b[38;5;241m=\u001b[39m env\u001b[38;5;241m.\u001b[39mstep(action[\u001b[38;5;241m0\u001b[39m])\n\u001b[0;32m---> 12\u001b[0m \u001b[43menv\u001b[49m\u001b[38;5;241;43m.\u001b[39;49m\u001b[43mrender\u001b[49m\u001b[43m(\u001b[49m\u001b[43m)\u001b[49m\n\u001b[1;32m     13\u001b[0m time\u001b[38;5;241m.\u001b[39msleep(\u001b[38;5;241m0.09\u001b[39m)\n\u001b[1;32m     14\u001b[0m episode_rewards \u001b[38;5;241m+\u001b[39m\u001b[38;5;241m=\u001b[39m reward\n",
      "File \u001b[0;32m/usr/local/lib/python3.11/dist-packages/gymnasium/wrappers/common.py:409\u001b[0m, in \u001b[0;36mOrderEnforcing.render\u001b[0;34m(self)\u001b[0m\n\u001b[1;32m    404\u001b[0m \u001b[38;5;28;01mif\u001b[39;00m \u001b[38;5;129;01mnot\u001b[39;00m \u001b[38;5;28mself\u001b[39m\u001b[38;5;241m.\u001b[39m_disable_render_order_enforcing \u001b[38;5;129;01mand\u001b[39;00m \u001b[38;5;129;01mnot\u001b[39;00m \u001b[38;5;28mself\u001b[39m\u001b[38;5;241m.\u001b[39m_has_reset:\n\u001b[1;32m    405\u001b[0m     \u001b[38;5;28;01mraise\u001b[39;00m ResetNeeded(\n\u001b[1;32m    406\u001b[0m         \u001b[38;5;124m\"\u001b[39m\u001b[38;5;124mCannot call `env.render()` before calling `env.reset()`, if this is an intended action, \u001b[39m\u001b[38;5;124m\"\u001b[39m\n\u001b[1;32m    407\u001b[0m         \u001b[38;5;124m\"\u001b[39m\u001b[38;5;124mset `disable_render_order_enforcing=True` on the OrderEnforcer wrapper.\u001b[39m\u001b[38;5;124m\"\u001b[39m\n\u001b[1;32m    408\u001b[0m     )\n\u001b[0;32m--> 409\u001b[0m \u001b[38;5;28;01mreturn\u001b[39;00m \u001b[38;5;28;43msuper\u001b[39;49m\u001b[43m(\u001b[49m\u001b[43m)\u001b[49m\u001b[38;5;241;43m.\u001b[39;49m\u001b[43mrender\u001b[49m\u001b[43m(\u001b[49m\u001b[43m)\u001b[49m\n",
      "File \u001b[0;32m/usr/local/lib/python3.11/dist-packages/gymnasium/core.py:332\u001b[0m, in \u001b[0;36mWrapper.render\u001b[0;34m(self)\u001b[0m\n\u001b[1;32m    330\u001b[0m \u001b[38;5;28;01mdef\u001b[39;00m \u001b[38;5;21mrender\u001b[39m(\u001b[38;5;28mself\u001b[39m) \u001b[38;5;241m-\u001b[39m\u001b[38;5;241m>\u001b[39m RenderFrame \u001b[38;5;241m|\u001b[39m \u001b[38;5;28mlist\u001b[39m[RenderFrame] \u001b[38;5;241m|\u001b[39m \u001b[38;5;28;01mNone\u001b[39;00m:\n\u001b[1;32m    331\u001b[0m \u001b[38;5;250m    \u001b[39m\u001b[38;5;124;03m\"\"\"Uses the :meth:`render` of the :attr:`env` that can be overwritten to change the returned data.\"\"\"\u001b[39;00m\n\u001b[0;32m--> 332\u001b[0m     \u001b[38;5;28;01mreturn\u001b[39;00m \u001b[38;5;28;43mself\u001b[39;49m\u001b[38;5;241;43m.\u001b[39;49m\u001b[43menv\u001b[49m\u001b[38;5;241;43m.\u001b[39;49m\u001b[43mrender\u001b[49m\u001b[43m(\u001b[49m\u001b[43m)\u001b[49m\n",
      "File \u001b[0;32m/usr/local/lib/python3.11/dist-packages/gymnasium/wrappers/common.py:303\u001b[0m, in \u001b[0;36mPassiveEnvChecker.render\u001b[0;34m(self)\u001b[0m\n\u001b[1;32m    301\u001b[0m     \u001b[38;5;28;01mreturn\u001b[39;00m env_render_passive_checker(\u001b[38;5;28mself\u001b[39m\u001b[38;5;241m.\u001b[39menv)\n\u001b[1;32m    302\u001b[0m \u001b[38;5;28;01melse\u001b[39;00m:\n\u001b[0;32m--> 303\u001b[0m     \u001b[38;5;28;01mreturn\u001b[39;00m \u001b[38;5;28;43mself\u001b[39;49m\u001b[38;5;241;43m.\u001b[39;49m\u001b[43menv\u001b[49m\u001b[38;5;241;43m.\u001b[39;49m\u001b[43mrender\u001b[49m\u001b[43m(\u001b[49m\u001b[43m)\u001b[49m\n",
      "File \u001b[0;32m/app/ProjectNew/environments.py:445\u001b[0m, in \u001b[0;36mMarineEnv.render\u001b[0;34m(self)\u001b[0m\n\u001b[1;32m    442\u001b[0m         \u001b[38;5;28mself\u001b[39m\u001b[38;5;241m.\u001b[39mclose()\n\u001b[1;32m    444\u001b[0m \u001b[38;5;66;03m# Clear the screen\u001b[39;00m\n\u001b[0;32m--> 445\u001b[0m \u001b[38;5;28;43mself\u001b[39;49m\u001b[38;5;241;43m.\u001b[39;49m\u001b[43mwindow\u001b[49m\u001b[38;5;241;43m.\u001b[39;49m\u001b[43mfill\u001b[49m((\u001b[38;5;241m0\u001b[39m, \u001b[38;5;241m0\u001b[39m, \u001b[38;5;241m50\u001b[39m))  \u001b[38;5;66;03m# Dark blue background\u001b[39;00m\n\u001b[1;32m    447\u001b[0m \u001b[38;5;66;03m# Draw the own ship\u001b[39;00m\n\u001b[1;32m    448\u001b[0m lat, lon \u001b[38;5;241m=\u001b[39m \u001b[38;5;28mself\u001b[39m\u001b[38;5;241m.\u001b[39mown_ship\u001b[38;5;241m.\u001b[39mlat, \u001b[38;5;28mself\u001b[39m\u001b[38;5;241m.\u001b[39mown_ship\u001b[38;5;241m.\u001b[39mlon\n",
      "\u001b[0;31mAttributeError\u001b[0m: 'NoneType' object has no attribute 'fill'"
     ]
    }
   ],
   "source": [
    "env = gym.make('MarineEnv-v0', render_mode='human', continuous=True, training_stage=2)\n",
    "state, _ = env.reset()\n",
    "print(state)\n",
    "episode_rewards = 0 \n",
    "# flatten_state = flatten(env.observation_space, state)\n",
    "# state = torch.tensor(flatten_state, dtype=torch.float32, device=device).unsqueeze(0)\n",
    "for _ in range(400):\n",
    "    action = model.predict(state, deterministic=True)\n",
    "    # print(action)\n",
    "    # observation, reward, terminated, truncated, info = env.step((0, 0))\n",
    "    observation, reward, terminated, truncated, info = env.step(action[0])\n",
    "    env.render()\n",
    "    time.sleep(0.09)\n",
    "    episode_rewards += reward\n",
    "    print('===========================')\n",
    "    print(observation)\n",
    "    \n",
    "    if terminated or truncated:\n",
    "        print(episode_rewards)\n",
    "        break\n",
    "\n",
    "    state = observation\n",
    "        \n",
    "print(episode_rewards)\n",
    "print(state)\n",
    "env.close()"
   ]
  },
  {
   "cell_type": "code",
   "execution_count": null,
   "id": "4dfc754b-7691-48d8-8184-2d523c8e5769",
   "metadata": {},
   "outputs": [],
   "source": [
    "env.close()"
   ]
  },
  {
   "cell_type": "code",
   "execution_count": null,
   "id": "537c49c8-5818-46df-841f-7fb5413e55c8",
   "metadata": {},
   "outputs": [],
   "source": [
    "state, _ = env.reset()"
   ]
  },
  {
   "cell_type": "code",
   "execution_count": null,
   "id": "52ee9957-a3e7-40cf-8041-f5deb2ce3e99",
   "metadata": {},
   "outputs": [],
   "source": [
    "state"
   ]
  },
  {
   "cell_type": "code",
   "execution_count": null,
   "id": "9effaf34-ba22-4905-811d-3d2c22e1d4da",
   "metadata": {},
   "outputs": [],
   "source": [
    "model.predict(state)[0]"
   ]
  },
  {
   "cell_type": "code",
   "execution_count": null,
   "id": "bf689ce1-0d17-4780-9ad0-2ffe02b9bfc5",
   "metadata": {},
   "outputs": [],
   "source": [
    "model.batch_size"
   ]
  },
  {
   "cell_type": "code",
   "execution_count": null,
   "id": "cbfdcc56-f86c-4cc3-bace-4dc3def3464d",
   "metadata": {},
   "outputs": [],
   "source": []
  }
 ],
 "metadata": {
  "kernelspec": {
   "display_name": "Python 3 (ipykernel)",
   "language": "python",
   "name": "python3"
  },
  "language_info": {
   "codemirror_mode": {
    "name": "ipython",
    "version": 3
   },
   "file_extension": ".py",
   "mimetype": "text/x-python",
   "name": "python",
   "nbconvert_exporter": "python",
   "pygments_lexer": "ipython3",
   "version": "3.11.0rc1"
  }
 },
 "nbformat": 4,
 "nbformat_minor": 5
}
