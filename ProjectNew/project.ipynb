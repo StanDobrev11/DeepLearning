{
 "cells": [
  {
   "cell_type": "code",
   "execution_count": null,
   "id": "f4b02451-c710-4547-8cac-8f795470bb05",
   "metadata": {},
   "outputs": [],
   "source": [
    "!pip install --upgrade grpcio grpcio-tools"
   ]
  },
  {
   "cell_type": "code",
   "execution_count": 1,
   "id": "8799ec51-d0be-4c4f-a4ad-4e8ad539f69c",
   "metadata": {},
   "outputs": [],
   "source": [
    "%matplotlib inline\n",
    "%load_ext tensorboard"
   ]
  },
  {
   "cell_type": "code",
   "execution_count": 2,
   "id": "605a33c7-17ed-42c1-9e6e-be50b0addb68",
   "metadata": {},
   "outputs": [
    {
     "name": "stderr",
     "output_type": "stream",
     "text": [
      "2025-01-28 22:20:56.264505: I tensorflow/core/util/port.cc:153] oneDNN custom operations are on. You may see slightly different numerical results due to floating-point round-off errors from different computation orders. To turn them off, set the environment variable `TF_ENABLE_ONEDNN_OPTS=0`.\n",
      "2025-01-28 22:20:56.274709: E external/local_xla/xla/stream_executor/cuda/cuda_fft.cc:477] Unable to register cuFFT factory: Attempting to register factory for plugin cuFFT when one has already been registered\n",
      "WARNING: All log messages before absl::InitializeLog() is called are written to STDERR\n",
      "E0000 00:00:1738102856.286687    2506 cuda_dnn.cc:8310] Unable to register cuDNN factory: Attempting to register factory for plugin cuDNN when one has already been registered\n",
      "E0000 00:00:1738102856.290317    2506 cuda_blas.cc:1418] Unable to register cuBLAS factory: Attempting to register factory for plugin cuBLAS when one has already been registered\n",
      "2025-01-28 22:20:56.303871: I tensorflow/core/platform/cpu_feature_guard.cc:210] This TensorFlow binary is optimized to use available CPU instructions in performance-critical operations.\n",
      "To enable the following instructions: AVX2 AVX_VNNI FMA, in other operations, rebuild TensorFlow with the appropriate compiler flags.\n"
     ]
    }
   ],
   "source": [
    "import gymnasium as gym\n",
    "from gymnasium import spaces\n",
    "from gymnasium.spaces.utils import flatten\n",
    "from gymnasium.envs.registration import register, registry\n",
    "import time\n",
    "import numpy as np\n",
    "import pygame\n",
    "\n",
    "import matplotlib\n",
    "import matplotlib.pyplot as plt\n",
    "\n",
    "from typing import Any, Dict\n",
    "import torch\n",
    "import torch.nn as nn\n",
    "import tensorboard\n",
    "\n",
    "from stable_baselines3 import PPO, A2C\n",
    "from stable_baselines3.common.env_util import make_vec_env\n",
    "from stable_baselines3.common.evaluation import evaluate_policy\n",
    "from stable_baselines3.common.callbacks import EvalCallback\n",
    "from stable_baselines3.common.monitor import Monitor\n",
    "from stable_baselines3.common.vec_env import VecNormalize, DummyVecEnv\n",
    "from stable_baselines3.common.vec_env import SubprocVecEnv\n",
    "\n",
    "import optuna\n",
    "from optuna.pruners import MedianPruner\n",
    "from optuna.samplers import TPESampler\n",
    "from optuna.visualization import plot_optimization_history, plot_param_importances\n",
    "\n",
    "import environments"
   ]
  },
  {
   "cell_type": "code",
   "execution_count": 3,
   "id": "6482d68a-fce7-40e6-8d5a-275862ba21e7",
   "metadata": {},
   "outputs": [],
   "source": [
    "if 'MarineEnv-v0' not in registry:\n",
    "    register(\n",
    "        id='MarineEnv-v0',\n",
    "        entry_point='environments:MarineEnv',  # String reference to the class\n",
    "    )"
   ]
  },
  {
   "cell_type": "code",
   "execution_count": null,
   "id": "c5c1337d-61df-4e2c-ae20-98ec70f98b2e",
   "metadata": {},
   "outputs": [],
   "source": [
    "# is_ipython = 'inline' in matplotlib.get_backend()\n",
    "# if is_ipython:\n",
    "#     from IPython import display\n",
    "\n",
    "# plt.ion()\n",
    "\n",
    "# device = torch.device('cuda' if torch.cuda.is_available() else 'cpu')"
   ]
  },
  {
   "cell_type": "code",
   "execution_count": null,
   "id": "14c63fc0-09d2-4f9c-98a3-6f4539521a1a",
   "metadata": {},
   "outputs": [],
   "source": [
    "env_kwargs = dict(\n",
    "    render_mode='rgb_array',\n",
    "    continuous=True,\n",
    "    max_episode_steps=400,\n",
    "    training_stage=2,\n",
    "    timescale=1\n",
    ")"
   ]
  },
  {
   "cell_type": "code",
   "execution_count": null,
   "id": "64c1bef0-7e94-4b1f-abe8-6e917fb7a917",
   "metadata": {},
   "outputs": [],
   "source": [
    "# Create the environment\n",
    "def make_env():\n",
    "    env = gym.make('MarineEnv-v0', **env_kwargs)\n",
    "    env = Monitor(env)  # ✅ Apply Monitor FIRST before vectorization\n",
    "    return env\n",
    "\n",
    "# # Wrap it in `DummyVecEnv` FIRST\n",
    "env = DummyVecEnv([make_env])  \n",
    "\n",
    "# Now apply normalization\n",
    "env = VecNormalize(env, norm_obs=True, norm_reward=True, clip_obs=10.0)"
   ]
  },
  {
   "cell_type": "code",
   "execution_count": null,
   "id": "c19b4131-3737-41a4-acf0-9142245c3ff5",
   "metadata": {},
   "outputs": [],
   "source": [
    "env.reset()"
   ]
  },
  {
   "cell_type": "code",
   "execution_count": null,
   "id": "419c5a0e-a668-4835-8dee-1724945b0a44",
   "metadata": {},
   "outputs": [],
   "source": [
    "env.get_original_obs()"
   ]
  },
  {
   "cell_type": "code",
   "execution_count": null,
   "id": "ceee0548-ec75-47e1-afc1-09c26ce4ffe7",
   "metadata": {},
   "outputs": [],
   "source": [
    "n_envs = 8  # Number of parallel environments\n",
    "vec_env = make_vec_env(env_id='MarineEnv-v0', n_envs=n_envs, env_kwargs=env_kwargs)\n",
    "env = gym.make('MarineEnv-v0', **env_kwargs)"
   ]
  },
  {
   "cell_type": "code",
   "execution_count": null,
   "id": "3375503c-fcdc-4603-9365-e07a4e7bf91e",
   "metadata": {},
   "outputs": [],
   "source": [
    "kwargs = { \n",
    "    'clip_range': 0.2,  # Reduce to prevent large updates\n",
    "    'ent_coef': 0.01,  # Higher entropy to encourage exploration\n",
    "    'gamma': 0.99, \n",
    "    'learning_rate': 3e-4,  # Slightly higher for better learning\n",
    "    'n_steps': 2048,  # Increase from default (512) to 2048\n",
    "    'batch_size': 512,  # Adjust batch size for stability\n",
    "    'gae_lambda': 0.95,  # Generalized Advantage Estimation smoothing\n",
    "    'max_grad_norm': 0.9, \n",
    "    'policy_kwargs': {'net_arch': [256, 256], 'activation_fn': torch.nn.Tanh},  # Slightly deeper network\n",
    "}"
   ]
  },
  {
   "cell_type": "code",
   "execution_count": null,
   "id": "6413b289-fc9b-4df1-a806-7d1dc1a33333",
   "metadata": {},
   "outputs": [],
   "source": [
    "model = PPO(\n",
    "    policy='MlpPolicy',\n",
    "    env=env,\n",
    "    # env=vec_env,\n",
    "    verbose=1,\n",
    "    device='cpu', \n",
    "    tensorboard_log='./stage_1_tensorboard_logs/',\n",
    "    **kwargs\n",
    ")"
   ]
  },
  {
   "cell_type": "code",
   "execution_count": null,
   "id": "947167ce-ade1-4036-a3bf-356ae7b9f00a",
   "metadata": {
    "scrolled": true
   },
   "outputs": [],
   "source": [
    "model.learn(total_timesteps=(3e4), reset_num_timesteps=False, progress_bar=True, tb_log_name='ppo_1', log_interval=1000)"
   ]
  },
  {
   "cell_type": "code",
   "execution_count": null,
   "id": "466d533e-0a5d-4c2d-aaf5-467bad256d42",
   "metadata": {},
   "outputs": [],
   "source": [
    "eval_env = gym.make('MarineEnv-v0', **env_kwargs)\n",
    "mean, std = evaluate_policy(model=model, env=eval_env, n_eval_episodes=10, deterministic=True)\n",
    "print(f'Mean: {mean:.2f}, Std: {std:.2f}')"
   ]
  },
  {
   "cell_type": "code",
   "execution_count": null,
   "id": "36047618-2527-4c6b-b083-78c697c3e984",
   "metadata": {},
   "outputs": [],
   "source": [
    "!kill 5813"
   ]
  },
  {
   "cell_type": "code",
   "execution_count": null,
   "id": "22985742-c740-42fa-8382-f042d32ddb7c",
   "metadata": {},
   "outputs": [],
   "source": [
    "%tensorboard --logdir ./stage_1_tensorboard_logs/ --host=0.0.0.0"
   ]
  },
  {
   "cell_type": "code",
   "execution_count": null,
   "id": "dcce986e-7b91-4254-a25c-42bc26d7954e",
   "metadata": {},
   "outputs": [],
   "source": [
    "# Save environment normalization stats\n",
    "# env.save(\"ppo_normalized_env.pkl\")\n",
    "# model.save(\"ppo_marine_stage_2\")\n",
    "model = model.load(\"ppo_marine_stage_2\")\n",
    "# model = model.load('ppo_marine_stage_1.zip')"
   ]
  },
  {
   "cell_type": "code",
   "execution_count": null,
   "id": "57e5042a-6ba5-4092-b202-5b02a635b376",
   "metadata": {
    "jupyter": {
     "source_hidden": true
    }
   },
   "outputs": [],
   "source": [
    "env = VecNormalize.load(\"ppo_normalized_env.pkl\", env)\n",
    "\n",
    "# Disable reward normalization for evaluation\n",
    "env.training = False\n",
    "env.norm_reward = False\n",
    "\n",
    "import cv2\n",
    "import numpy as np\n",
    "\n",
    "obs = env.reset()\n",
    "for _ in range(100):\n",
    "    action, _ = model.predict(obs, deterministic=True)\n",
    "    obs, reward, dones, _ = env.step(action)\n",
    "\n",
    "    # ✅ Ensure env.get_images() is not empty\n",
    "    images = env.get_images()\n",
    "    if images and images[0] is not None:\n",
    "        frame = images[0]\n",
    "        \n",
    "        # ✅ Ensure the frame has valid dimensions before displaying\n",
    "        if frame.shape[0] > 0 and frame.shape[1] > 0:\n",
    "            cv2.imshow(\"PPO MarineEnv Evaluation\", frame)\n",
    "            cv2.waitKey(1)  # Display for 1ms\n",
    "        else:\n",
    "            print(\"Warning: Received an empty frame from env.get_images()\")\n",
    "\n",
    "    if dones:\n",
    "        break\n",
    "\n",
    "env.close()\n",
    "cv2.destroyAllWindows()  # Close display window\n"
   ]
  },
  {
   "cell_type": "code",
   "execution_count": null,
   "id": "ec1768e6-1c27-4e5b-9ffc-66d9743dad97",
   "metadata": {
    "scrolled": true
   },
   "outputs": [],
   "source": [
    "timescale = 1 / 6\n",
    "for _ in range(1):\n",
    "    env = gym.make('MarineEnv-v0', render_mode='human', continuous=True, training_stage=2, timescale=timescale)\n",
    "    state, _ = env.reset()\n",
    "    print(state)\n",
    "    episode_rewards = 0 \n",
    "    # flatten_state = flatten(env.observation_space, state)\n",
    "    # state = torch.tensor(flatten_state, dtype=torch.float32, device=device).unsqueeze(0)\n",
    "    for _ in range(int(400 / timescale)):\n",
    "        action = model.predict(state, deterministic=True)\n",
    "        # print(action)\n",
    "        # observation, reward, terminated, truncated, info = env.step((0, 0))\n",
    "        observation, reward, terminated, truncated, info = env.step(action[0])\n",
    "        env.render()\n",
    "        time.sleep(0.01)\n",
    "        episode_rewards += reward\n",
    "        print('===========================')\n",
    "        print(observation)\n",
    "        print(reward)\n",
    "        \n",
    "        if terminated or truncated:\n",
    "            print(episode_rewards)\n",
    "            break\n",
    "    \n",
    "        state = observation\n",
    "            \n",
    "    print(episode_rewards)\n",
    "    print(state)\n",
    "    env.close()"
   ]
  },
  {
   "cell_type": "code",
   "execution_count": null,
   "id": "b0dea8e8-82fb-4e0a-9785-3ec80ab7555d",
   "metadata": {},
   "outputs": [],
   "source": [
    "model.predict(state)"
   ]
  },
  {
   "cell_type": "code",
   "execution_count": null,
   "id": "f5d50ff7-6e91-4359-a0a3-7bb1259dfe5a",
   "metadata": {},
   "outputs": [],
   "source": [
    "# env_kwargs['render_mode'] = 'human'\n",
    "\n",
    "# vec_env = make_vec_env(env_id='MarineEnv-v0', n_envs=n_envs, env_kwargs=env_kwargs)\n",
    "# vec_env.unwrapped.timescale = 1 / 3\n",
    "\n",
    "# state = vec_env.reset()\n",
    "# # print(state)\n",
    "# episode_rewards = 0 \n",
    "# # flatten_state = flatten(env.observation_space, state)\n",
    "# # state = torch.tensor(flatten_state, dtype=torch.float32, device=device).unsqueeze(0)\n",
    "# for _ in range(400):\n",
    "#     action = model.predict(state, deterministic=True)\n",
    "#     # print(action)\n",
    "#     # observation, reward, terminated, truncated, info = env.step((0, 0))\n",
    "#     observation, reward, dones, info = vec_env.step(action[0])\n",
    "#     vec_env.render()\n",
    "#     time.sleep(0.05)\n",
    "#     episode_rewards += reward\n",
    "#     # print('===========================')\n",
    "#     # print(observation)\n",
    "#     # if terminated or truncated:\n",
    "#     #     print(episode_rewards)\n",
    "#     #     break\n",
    "\n",
    "#     state = observation\n",
    "        \n",
    "# print(episode_rewards)\n",
    "# print(state)\n",
    "# env.close()"
   ]
  },
  {
   "cell_type": "markdown",
   "id": "cde91879-83a6-40a1-ac60-f39cf4dba50d",
   "metadata": {},
   "source": [
    "# Optimizing hyperparams"
   ]
  },
  {
   "cell_type": "code",
   "execution_count": 15,
   "id": "cc360def-2b77-408a-b156-ad13a88c6f2e",
   "metadata": {},
   "outputs": [],
   "source": [
    "N_TRIALS = 100  # Maximum number of trials\n",
    "N_JOBS = 1 # Number of jobs to run in parallel\n",
    "N_STARTUP_TRIALS = 5  # Stop random sampling after N_STARTUP_TRIALS\n",
    "N_EVALUATIONS = 2  # Number of evaluations during the training\n",
    "N_TIMESTEPS = int(2e4)  # Training budget\n",
    "EVAL_FREQ = int(N_TIMESTEPS / N_EVALUATIONS)\n",
    "N_EVAL_ENVS = 10\n",
    "N_EVAL_EPISODES = 10\n",
    "TIMEOUT = int(60 * 15)  # 15 minutes\n",
    "\n",
    "ENV_ID = 'MarineEnv-v0'\n",
    "\n",
    "\n",
    "DEFAULT_HYPERPARAMS = {\n",
    "    \"policy\": \"MlpPolicy\",\n",
    "}\n",
    "\n",
    "def make_env(env_id: str, env_kwargs: dict):\n",
    "    \"\"\"\n",
    "    Creates a Gym environment with given parameters.\n",
    "\n",
    "    :param env_id: ID of the Gym environment.\n",
    "    :param env_kwargs: Keyword arguments for environment configuration.\n",
    "    :return: A function returning the created environment.\n",
    "    \"\"\"\n",
    "    def _init():\n",
    "        env = gym.make(env_id, **env_kwargs)\n",
    "        env = Monitor(env)  # ✅ Apply Monitor FIRST before vectorization\n",
    "        return env\n",
    "    return _init\n",
    "\n",
    "def make_vec_env(env_id: str, n_envs: int, env_kwargs: dict):\n",
    "    \"\"\"\n",
    "    Creates a vectorized environment with the specified number of parallel environments.\n",
    "\n",
    "    :param env_id: The ID of the Gym environment.\n",
    "    :param n_envs: Number of parallel environments.\n",
    "    :param env_kwargs: Keyword arguments for environment configuration.\n",
    "    :return: A vectorized environment.\n",
    "    \"\"\"\n",
    "    return DummyVecEnv([make_env(env_id, env_kwargs) for _ in range(n_envs)])\n"
   ]
  },
  {
   "cell_type": "code",
   "execution_count": 16,
   "id": "a83e27a9-c6ec-4c1b-a68c-01c2a7eaf53d",
   "metadata": {},
   "outputs": [],
   "source": [
    "def sample_ppo_params(trial: optuna.Trial) -> Dict[str, Any]:\n",
    "    \n",
    "    learning_rate = trial.suggest_float('learning_rate', 1e-4, 1e-2, log=True)\n",
    "    \n",
    "    n_steps = 2 ** trial.suggest_int('n_steps', 7, 12)  # Number of steps per update (512-4096)\n",
    "    \n",
    "    batch_size = 2 ** trial.suggest_int('batch_size', 5, 10)  # Minibatch size (32-1024)\n",
    "    \n",
    "    gamma = trial.suggest_float('gamma', 0.9, 0.9999)  # Discount factor (close to 1 for long-term rewards)\n",
    "    \n",
    "    gae_lambda = trial.suggest_float('gae_lambda', 0.8, 1.0)  # GAE lambda (trade-off bias/variance)\n",
    "    \n",
    "    clip_range = trial.suggest_float('clip_range', 0.1, 0.3)  # PPO clipping range\n",
    "    \n",
    "    ent_coef = trial.suggest_float('ent_coef', 0.0001, 0.1, log=True)  # Entropy coefficient (for exploration)\n",
    "    \n",
    "    vf_coef = trial.suggest_float('vf_coef', 0.1, 1.0)  # Value function loss coefficient\n",
    "    \n",
    "    max_grad_norm = trial.suggest_float('max_grad_norm', 0.3, 5.0)  # Gradient clipping\n",
    "    \n",
    "    target_kl = trial.suggest_float('target_kl', 0.01, 0.2)  # KL divergence target\n",
    "    \n",
    "    n_epochs = trial.suggest_int('n_epochs', 3, 10)  # PPO update epochs per batch\n",
    "    \n",
    "    activation_fn = trial.suggest_categorical('activation_fn', ['tanh', 'relu'])\n",
    "    \n",
    "    net_arch = trial.suggest_categorical('net_arch', ['tiny', 'small'])\n",
    "    \n",
    "    # Convert architecture choices\n",
    "    net_arch = [128, 128] if net_arch == 'tiny' else [256, 256]\n",
    "    \n",
    "    activation_fn = {'tanh': nn.Tanh, 'relu': nn.ReLU}[activation_fn]\n",
    "    \n",
    "    # Store gamma value in Optuna logs\n",
    "    trial.set_user_attr('gamma', gamma)\n",
    "\n",
    "    return {\n",
    "        'n_steps': n_steps,\n",
    "        'batch_size': batch_size,\n",
    "        'gamma': gamma,\n",
    "        'gae_lambda': gae_lambda,\n",
    "        'learning_rate': learning_rate,\n",
    "        'clip_range': clip_range,\n",
    "        'ent_coef': ent_coef,\n",
    "        'vf_coef': vf_coef,\n",
    "        'max_grad_norm': max_grad_norm,\n",
    "        'target_kl': target_kl,\n",
    "        'n_epochs': n_epochs,\n",
    "        'policy_kwargs': {\n",
    "            'net_arch': net_arch,\n",
    "            'activation_fn': activation_fn\n",
    "        }\n",
    "    }"
   ]
  },
  {
   "cell_type": "code",
   "execution_count": 17,
   "id": "d25b399f-2be5-4a8d-9e5f-2aa974ab5a83",
   "metadata": {},
   "outputs": [],
   "source": [
    "class TrialEvalCallback(EvalCallback):\n",
    "    \"\"\"\n",
    "    Callback used for evaluating and reporting a trial.\n",
    "    \n",
    "    :param eval_env: Evaluation environement\n",
    "    :param trial: Optuna trial object\n",
    "    :param n_eval_episodes: Number of evaluation episodes\n",
    "    :param eval_freq:   Evaluate the agent every ``eval_freq`` call of the callback.\n",
    "    :param deterministic: Whether the evaluation should\n",
    "        use a stochastic or deterministic policy.\n",
    "    :param verbose:\n",
    "    \"\"\"\n",
    "\n",
    "    def __init__(\n",
    "        self,\n",
    "        eval_env: gym.Env,\n",
    "        trial: optuna.Trial,\n",
    "        n_eval_episodes: int = 5,\n",
    "        eval_freq: int = 10000,\n",
    "        deterministic: bool = True,\n",
    "        verbose: int = 0,\n",
    "    ):\n",
    "\n",
    "        super().__init__(\n",
    "            eval_env=eval_env,\n",
    "            n_eval_episodes=n_eval_episodes,\n",
    "            eval_freq=eval_freq,\n",
    "            deterministic=deterministic,\n",
    "            verbose=verbose,\n",
    "        )\n",
    "        self.trial = trial\n",
    "        self.eval_idx = 0\n",
    "        self.is_pruned = False\n",
    "\n",
    "    def _on_step(self) -> bool:\n",
    "        if self.eval_freq > 0 and self.n_calls % self.eval_freq == 0:\n",
    "            # Evaluate policy (done in the parent class)\n",
    "            super()._on_step()\n",
    "            self.eval_idx += 1\n",
    "            # Send report to Optuna\n",
    "            self.trial.report(self.last_mean_reward, self.eval_idx)\n",
    "            # Prune trial if need\n",
    "            if self.trial.should_prune():\n",
    "                self.is_pruned = True\n",
    "                return False\n",
    "        return True"
   ]
  },
  {
   "cell_type": "code",
   "execution_count": 18,
   "id": "b1217b67-1e97-4470-b153-8732753c9af7",
   "metadata": {},
   "outputs": [],
   "source": [
    "def objective(trial: optuna.Trial) -> float:\n",
    "    \"\"\"\n",
    "    Objective function using by Optuna to evaluate one configuration (i.e., one set of hyperparameters).\n",
    "\n",
    "    :param trial: Optuna trial object.\n",
    "    :return: Mean episodic reward after training.\n",
    "    \"\"\"\n",
    "\n",
    "    kwargs = DEFAULT_HYPERPARAMS.copy()\n",
    "    \n",
    "    # Sample hyperparameters\n",
    "    kwargs.update(**sample_ppo_params(trial))\n",
    "\n",
    "    # ✅ Ensure env_kwargs is passed correctly\n",
    "    env_kwargs = {\n",
    "        \"render_mode\": \"rgb_array\",\n",
    "        \"continuous\": True,\n",
    "        \"max_episode_steps\": 400,\n",
    "        \"training_stage\": 2,\n",
    "        \"timescale\": 1\n",
    "    }\n",
    "\n",
    "    # ✅ Create the training environment\n",
    "    train_env = make_vec_env(ENV_ID, n_envs=N_EVAL_ENVS, env_kwargs=env_kwargs)\n",
    "\n",
    "    # ✅ Create the RL model\n",
    "    model = PPO(device='cpu', verbose=1, env=train_env, progress_bar=True, **kwargs)\n",
    "\n",
    "    # ✅ Create evaluation environment with same parameters\n",
    "    eval_envs = make_vec_env(ENV_ID, n_envs=N_EVAL_ENVS, env_kwargs=env_kwargs)\n",
    "\n",
    "    # ✅ Create callback for evaluation\n",
    "    eval_callback = TrialEvalCallback(eval_envs, trial, N_EVAL_EPISODES, EVAL_FREQ, deterministic=True, verbose=0)\n",
    "\n",
    "    nan_encountered = False\n",
    "    try:\n",
    "        # Train the model\n",
    "        model.learn(N_TIMESTEPS, callback=eval_callback, progress_bar=True)\n",
    "    except AssertionError as e:\n",
    "        print(e)  # Debugging\n",
    "        nan_encountered = True\n",
    "    finally:\n",
    "        model.env.close()\n",
    "        eval_envs.close()\n",
    "\n",
    "    if nan_encountered:\n",
    "        return float(\"nan\")\n",
    "\n",
    "    if eval_callback.is_pruned:\n",
    "        raise optuna.exceptions.TrialPruned()\n",
    "\n",
    "    return eval_callback.last_mean_reward\n"
   ]
  },
  {
   "cell_type": "code",
   "execution_count": 19,
   "id": "54709eec-77e8-47fb-b3ff-f1d8c6848ae1",
   "metadata": {
    "scrolled": true
   },
   "outputs": [
    {
     "name": "stderr",
     "output_type": "stream",
     "text": [
      "[I 2025-01-28 22:23:24,027] A new study created in memory with name: no-name-9a55cdd5-b39b-4567-8c47-fb0345582ee2\n"
     ]
    },
    {
     "name": "stdout",
     "output_type": "stream",
     "text": [
      "Using cpu device\n"
     ]
    },
    {
     "data": {
      "application/vnd.jupyter.widget-view+json": {
       "model_id": "0441eb4a3990455fad8235985880f66f",
       "version_major": 2,
       "version_minor": 0
      },
      "text/plain": [
       "Output()"
      ]
     },
     "metadata": {},
     "output_type": "display_data"
    },
    {
     "name": "stdout",
     "output_type": "stream",
     "text": [
      "---------------------------------\n",
      "| rollout/           |          |\n",
      "|    ep_len_mean     | 160      |\n",
      "|    ep_rew_mean     | 178      |\n",
      "| time/              |          |\n",
      "|    fps             | 1277     |\n",
      "|    iterations      | 1        |\n",
      "|    time_elapsed    | 32       |\n",
      "|    total_timesteps | 40960    |\n",
      "---------------------------------\n"
     ]
    },
    {
     "data": {
      "text/html": [
       "<pre style=\"white-space:pre;overflow-x:auto;line-height:normal;font-family:Menlo,'DejaVu Sans Mono',consolas,'Courier New',monospace\">Early stopping at step 0 due to reaching max kl: 29.21\n",
       "</pre>\n"
      ],
      "text/plain": [
       "Early stopping at step 0 due to reaching max kl: 29.21\n"
      ]
     },
     "metadata": {},
     "output_type": "display_data"
    },
    {
     "data": {
      "text/html": [
       "<pre style=\"white-space:pre;overflow-x:auto;line-height:normal;font-family:Menlo,'DejaVu Sans Mono',consolas,'Courier New',monospace\"></pre>\n"
      ],
      "text/plain": []
     },
     "metadata": {},
     "output_type": "display_data"
    },
    {
     "name": "stderr",
     "output_type": "stream",
     "text": [
      "[I 2025-01-28 22:23:57,684] Trial 0 finished with value: -inf and parameters: {'learning_rate': 1.5982843041843627e-05, 'n_steps': 12, 'batch_size': 6, 'gamma': 0.9107238741574982, 'gae_lambda': 0.8655387073048394, 'clip_range': 0.2405527117611638, 'ent_coef': 0.02189762679402271, 'vf_coef': 0.7099663631144432, 'max_grad_norm': 1.554596593101503, 'target_kl': 0.1821336744932124, 'n_epochs': 6, 'activation_fn': 'relu', 'net_arch': 'small'}. Best is trial 0 with value: -inf.\n"
     ]
    },
    {
     "data": {
      "application/vnd.jupyter.widget-view+json": {
       "model_id": "755e09691c9c44c9a4cd0d02942793bb",
       "version_major": 2,
       "version_minor": 0
      },
      "text/plain": [
       "Output()"
      ]
     },
     "metadata": {},
     "output_type": "display_data"
    },
    {
     "name": "stdout",
     "output_type": "stream",
     "text": [
      "Using cpu device\n",
      "---------------------------------\n",
      "| rollout/           |          |\n",
      "|    ep_len_mean     | 75.8     |\n",
      "|    ep_rew_mean     | 27.2     |\n",
      "| time/              |          |\n",
      "|    fps             | 1943     |\n",
      "|    iterations      | 1        |\n",
      "|    time_elapsed    | 5        |\n",
      "|    total_timesteps | 10240    |\n",
      "---------------------------------\n"
     ]
    },
    {
     "data": {
      "text/html": [
       "<pre style=\"white-space:pre;overflow-x:auto;line-height:normal;font-family:Menlo,'DejaVu Sans Mono',consolas,'Courier New',monospace\">Early stopping at step 0 due to reaching max kl: 1813.03\n",
       "</pre>\n"
      ],
      "text/plain": [
       "Early stopping at step 0 due to reaching max kl: 1813.03\n"
      ]
     },
     "metadata": {},
     "output_type": "display_data"
    },
    {
     "name": "stdout",
     "output_type": "stream",
     "text": [
      "--------------------------------------\n",
      "| rollout/                |          |\n",
      "|    ep_len_mean          | 137      |\n",
      "|    ep_rew_mean          | 293      |\n",
      "| time/                   |          |\n",
      "|    fps                  | 1444     |\n",
      "|    iterations           | 2        |\n",
      "|    time_elapsed         | 14       |\n",
      "|    total_timesteps      | 20480    |\n",
      "| train/                  |          |\n",
      "|    approx_kl            | 906.5136 |\n",
      "|    clip_fraction        | 0.5      |\n",
      "|    clip_range           | 0.196    |\n",
      "|    entropy_loss         | -2.86    |\n",
      "|    explained_variance   | -0.0707  |\n",
      "|    learning_rate        | 0.0309   |\n",
      "|    loss                 | 1.39e+05 |\n",
      "|    n_updates            | 1        |\n",
      "|    policy_gradient_loss | 0.159    |\n",
      "|    std                  | 1.02     |\n",
      "|    value_loss           | 1.56e+05 |\n",
      "--------------------------------------\n"
     ]
    },
    {
     "data": {
      "text/html": [
       "<pre style=\"white-space:pre;overflow-x:auto;line-height:normal;font-family:Menlo,'DejaVu Sans Mono',consolas,'Courier New',monospace\">Early stopping at step 0 due to reaching max kl: 1144.89\n",
       "</pre>\n"
      ],
      "text/plain": [
       "Early stopping at step 0 due to reaching max kl: 1144.89\n"
      ]
     },
     "metadata": {},
     "output_type": "display_data"
    },
    {
     "data": {
      "text/html": [
       "<pre style=\"white-space:pre;overflow-x:auto;line-height:normal;font-family:Menlo,'DejaVu Sans Mono',consolas,'Courier New',monospace\"></pre>\n"
      ],
      "text/plain": []
     },
     "metadata": {},
     "output_type": "display_data"
    },
    {
     "name": "stderr",
     "output_type": "stream",
     "text": [
      "[I 2025-01-28 22:24:12,021] Trial 1 finished with value: -inf and parameters: {'learning_rate': 0.03092872830963851, 'n_steps': 10, 'batch_size': 7, 'gamma': 0.9147320157831164, 'gae_lambda': 0.8803476955345844, 'clip_range': 0.19617610099375893, 'ent_coef': 0.030665442269363862, 'vf_coef': 0.44667162998308374, 'max_grad_norm': 0.5358331936750367, 'target_kl': 0.14127675178046406, 'n_epochs': 8, 'activation_fn': 'relu', 'net_arch': 'small'}. Best is trial 0 with value: -inf.\n"
     ]
    },
    {
     "data": {
      "application/vnd.jupyter.widget-view+json": {
       "model_id": "3bc3c37ab520490b99bc0efa567818be",
       "version_major": 2,
       "version_minor": 0
      },
      "text/plain": [
       "Output()"
      ]
     },
     "metadata": {},
     "output_type": "display_data"
    },
    {
     "name": "stdout",
     "output_type": "stream",
     "text": [
      "Using cpu device\n",
      "---------------------------------\n",
      "| rollout/           |          |\n",
      "|    ep_len_mean     | 94.1     |\n",
      "|    ep_rew_mean     | -89.1    |\n",
      "| time/              |          |\n",
      "|    fps             | 2629     |\n",
      "|    iterations      | 1        |\n",
      "|    time_elapsed    | 3        |\n",
      "|    total_timesteps | 10240    |\n",
      "---------------------------------\n"
     ]
    },
    {
     "data": {
      "text/html": [
       "<pre style=\"white-space:pre;overflow-x:auto;line-height:normal;font-family:Menlo,'DejaVu Sans Mono',consolas,'Courier New',monospace\">Early stopping at step 0 due to reaching max kl: 400.97\n",
       "</pre>\n"
      ],
      "text/plain": [
       "Early stopping at step 0 due to reaching max kl: 400.97\n"
      ]
     },
     "metadata": {},
     "output_type": "display_data"
    },
    {
     "name": "stdout",
     "output_type": "stream",
     "text": [
      "--------------------------------------\n",
      "| rollout/                |          |\n",
      "|    ep_len_mean          | 134      |\n",
      "|    ep_rew_mean          | 122      |\n",
      "| time/                   |          |\n",
      "|    fps                  | 1772     |\n",
      "|    iterations           | 2        |\n",
      "|    time_elapsed         | 11       |\n",
      "|    total_timesteps      | 20480    |\n",
      "| train/                  |          |\n",
      "|    approx_kl            | 200.4863 |\n",
      "|    clip_fraction        | 0.5      |\n",
      "|    clip_range           | 0.29     |\n",
      "|    entropy_loss         | -2.84    |\n",
      "|    explained_variance   | 0.000449 |\n",
      "|    learning_rate        | 0.798    |\n",
      "|    loss                 | 1.12e+03 |\n",
      "|    n_updates            | 1        |\n",
      "|    policy_gradient_loss | 0.121    |\n",
      "|    std                  | 1.33     |\n",
      "|    value_loss           | 1.21e+03 |\n",
      "--------------------------------------\n"
     ]
    },
    {
     "data": {
      "text/html": [
       "<pre style=\"white-space:pre;overflow-x:auto;line-height:normal;font-family:Menlo,'DejaVu Sans Mono',consolas,'Courier New',monospace\">Early stopping at step 0 due to reaching max kl: 87580.10\n",
       "</pre>\n"
      ],
      "text/plain": [
       "Early stopping at step 0 due to reaching max kl: 87580.10\n"
      ]
     },
     "metadata": {},
     "output_type": "display_data"
    },
    {
     "data": {
      "text/html": [
       "<pre style=\"white-space:pre;overflow-x:auto;line-height:normal;font-family:Menlo,'DejaVu Sans Mono',consolas,'Courier New',monospace\"></pre>\n"
      ],
      "text/plain": []
     },
     "metadata": {},
     "output_type": "display_data"
    },
    {
     "name": "stderr",
     "output_type": "stream",
     "text": [
      "[I 2025-01-28 22:24:23,735] Trial 2 finished with value: -inf and parameters: {'learning_rate': 0.7975309759330347, 'n_steps': 10, 'batch_size': 7, 'gamma': 0.9032804943008576, 'gae_lambda': 0.9467036302486889, 'clip_range': 0.2899046586071111, 'ent_coef': 0.019693172330313827, 'vf_coef': 0.7630962040930603, 'max_grad_norm': 4.87596191329839, 'target_kl': 0.09136665790855543, 'n_epochs': 5, 'activation_fn': 'tanh', 'net_arch': 'small'}. Best is trial 0 with value: -inf.\n"
     ]
    },
    {
     "data": {
      "application/vnd.jupyter.widget-view+json": {
       "model_id": "976f648ede3f4471a6e4c3174e730372",
       "version_major": 2,
       "version_minor": 0
      },
      "text/plain": [
       "Output()"
      ]
     },
     "metadata": {},
     "output_type": "display_data"
    },
    {
     "name": "stdout",
     "output_type": "stream",
     "text": [
      "Using cpu device\n"
     ]
    },
    {
     "name": "stderr",
     "output_type": "stream",
     "text": [
      "/usr/local/lib/python3.11/dist-packages/gymnasium/utils/passive_env_checker.py:158: UserWarning: \u001b[33mWARN: The obs returned by the `reset()` method is not within the observation space.\u001b[0m\n",
      "  logger.warn(f\"{pre} is not within the observation space.\")\n"
     ]
    },
    {
     "name": "stdout",
     "output_type": "stream",
     "text": [
      "---------------------------------\n",
      "| rollout/           |          |\n",
      "|    ep_len_mean     | 81.5     |\n",
      "|    ep_rew_mean     | -105     |\n",
      "| time/              |          |\n",
      "|    fps             | 3245     |\n",
      "|    iterations      | 1        |\n",
      "|    time_elapsed    | 1        |\n",
      "|    total_timesteps | 5120     |\n",
      "---------------------------------\n",
      "-----------------------------------------\n",
      "| rollout/                |             |\n",
      "|    ep_len_mean          | 114         |\n",
      "|    ep_rew_mean          | 35.4        |\n",
      "| time/                   |             |\n",
      "|    fps                  | 2330        |\n",
      "|    iterations           | 2           |\n",
      "|    time_elapsed         | 4           |\n",
      "|    total_timesteps      | 10240       |\n",
      "| train/                  |             |\n",
      "|    approx_kl            | 0.033033565 |\n",
      "|    clip_fraction        | 0.256       |\n",
      "|    clip_range           | 0.237       |\n",
      "|    entropy_loss         | -2.84       |\n",
      "|    explained_variance   | -0.138      |\n",
      "|    learning_rate        | 0.000208    |\n",
      "|    loss                 | 456         |\n",
      "|    n_updates            | 3           |\n",
      "|    policy_gradient_loss | 0.0135      |\n",
      "|    std                  | 1           |\n",
      "|    value_loss           | 834         |\n",
      "-----------------------------------------\n",
      "-----------------------------------------\n",
      "| rollout/                |             |\n",
      "|    ep_len_mean          | 141         |\n",
      "|    ep_rew_mean          | 85.7        |\n",
      "| time/                   |             |\n",
      "|    fps                  | 1976        |\n",
      "|    iterations           | 3           |\n",
      "|    time_elapsed         | 7           |\n",
      "|    total_timesteps      | 15360       |\n",
      "| train/                  |             |\n",
      "|    approx_kl            | 0.023429219 |\n",
      "|    clip_fraction        | 0.152       |\n",
      "|    clip_range           | 0.237       |\n",
      "|    entropy_loss         | -2.84       |\n",
      "|    explained_variance   | 0.128       |\n",
      "|    learning_rate        | 0.000208    |\n",
      "|    loss                 | 532         |\n",
      "|    n_updates            | 6           |\n",
      "|    policy_gradient_loss | 0.00329     |\n",
      "|    std                  | 1           |\n",
      "|    value_loss           | 918         |\n",
      "-----------------------------------------\n",
      "----------------------------------------\n",
      "| rollout/                |            |\n",
      "|    ep_len_mean          | 178        |\n",
      "|    ep_rew_mean          | 189        |\n",
      "| time/                   |            |\n",
      "|    fps                  | 1762       |\n",
      "|    iterations           | 4          |\n",
      "|    time_elapsed         | 11         |\n",
      "|    total_timesteps      | 20480      |\n",
      "| train/                  |            |\n",
      "|    approx_kl            | 0.03299016 |\n",
      "|    clip_fraction        | 0.239      |\n",
      "|    clip_range           | 0.237      |\n",
      "|    entropy_loss         | -2.84      |\n",
      "|    explained_variance   | 0.309      |\n",
      "|    learning_rate        | 0.000208   |\n",
      "|    loss                 | 377        |\n",
      "|    n_updates            | 9          |\n",
      "|    policy_gradient_loss | 0.00405    |\n",
      "|    std                  | 1          |\n",
      "|    value_loss           | 642        |\n",
      "----------------------------------------\n"
     ]
    },
    {
     "data": {
      "text/html": [
       "<pre style=\"white-space:pre;overflow-x:auto;line-height:normal;font-family:Menlo,'DejaVu Sans Mono',consolas,'Courier New',monospace\">Early stopping at step 1 due to reaching max kl: 0.21\n",
       "</pre>\n"
      ],
      "text/plain": [
       "Early stopping at step 1 due to reaching max kl: 0.21\n"
      ]
     },
     "metadata": {},
     "output_type": "display_data"
    },
    {
     "data": {
      "text/html": [
       "<pre style=\"white-space:pre;overflow-x:auto;line-height:normal;font-family:Menlo,'DejaVu Sans Mono',consolas,'Courier New',monospace\"></pre>\n"
      ],
      "text/plain": []
     },
     "metadata": {},
     "output_type": "display_data"
    },
    {
     "name": "stderr",
     "output_type": "stream",
     "text": [
      "[I 2025-01-28 22:24:35,598] Trial 3 finished with value: -inf and parameters: {'learning_rate': 0.00020794866799093092, 'n_steps': 9, 'batch_size': 7, 'gamma': 0.9559894612955998, 'gae_lambda': 0.8915940776376616, 'clip_range': 0.23745629373876048, 'ent_coef': 0.0010649137937541323, 'vf_coef': 0.6579981026093832, 'max_grad_norm': 4.714404889555553, 'target_kl': 0.12410437587193673, 'n_epochs': 3, 'activation_fn': 'relu', 'net_arch': 'tiny'}. Best is trial 0 with value: -inf.\n"
     ]
    },
    {
     "name": "stdout",
     "output_type": "stream",
     "text": [
      "Using cpu device\n"
     ]
    },
    {
     "data": {
      "application/vnd.jupyter.widget-view+json": {
       "model_id": "e2a589dd15ce45ebae54c74b839ff478",
       "version_major": 2,
       "version_minor": 0
      },
      "text/plain": [
       "Output()"
      ]
     },
     "metadata": {},
     "output_type": "display_data"
    },
    {
     "name": "stdout",
     "output_type": "stream",
     "text": [
      "---------------------------------\n",
      "| rollout/           |          |\n",
      "|    ep_len_mean     | 74.2     |\n",
      "|    ep_rew_mean     | -178     |\n",
      "| time/              |          |\n",
      "|    fps             | 4160     |\n",
      "|    iterations      | 1        |\n",
      "|    time_elapsed    | 0        |\n",
      "|    total_timesteps | 2560     |\n",
      "---------------------------------\n",
      "-----------------------------------------\n",
      "| rollout/                |             |\n",
      "|    ep_len_mean          | 102         |\n",
      "|    ep_rew_mean          | -131        |\n",
      "| time/                   |             |\n",
      "|    fps                  | 2918        |\n",
      "|    iterations           | 2           |\n",
      "|    time_elapsed         | 1           |\n",
      "|    total_timesteps      | 5120        |\n",
      "| train/                  |             |\n",
      "|    approx_kl            | 0.014850467 |\n",
      "|    clip_fraction        | 0.187       |\n",
      "|    clip_range           | 0.203       |\n",
      "|    entropy_loss         | -2.84       |\n",
      "|    explained_variance   | -0.00325    |\n",
      "|    learning_rate        | 0.00233     |\n",
      "|    loss                 | 201         |\n",
      "|    n_updates            | 8           |\n",
      "|    policy_gradient_loss | -0.008      |\n",
      "|    std                  | 0.993       |\n",
      "|    value_loss           | 675         |\n",
      "-----------------------------------------\n",
      "-----------------------------------------\n",
      "| rollout/                |             |\n",
      "|    ep_len_mean          | 105         |\n",
      "|    ep_rew_mean          | -28.7       |\n",
      "| time/                   |             |\n",
      "|    fps                  | 2447        |\n",
      "|    iterations           | 3           |\n",
      "|    time_elapsed         | 3           |\n",
      "|    total_timesteps      | 7680        |\n",
      "| train/                  |             |\n",
      "|    approx_kl            | 0.009987781 |\n",
      "|    clip_fraction        | 0.144       |\n",
      "|    clip_range           | 0.203       |\n",
      "|    entropy_loss         | -2.82       |\n",
      "|    explained_variance   | 0.161       |\n",
      "|    learning_rate        | 0.00233     |\n",
      "|    loss                 | 190         |\n",
      "|    n_updates            | 16          |\n",
      "|    policy_gradient_loss | -0.0157     |\n",
      "|    std                  | 0.997       |\n",
      "|    value_loss           | 568         |\n",
      "-----------------------------------------\n",
      "-----------------------------------------\n",
      "| rollout/                |             |\n",
      "|    ep_len_mean          | 106         |\n",
      "|    ep_rew_mean          | -17.4       |\n",
      "| time/                   |             |\n",
      "|    fps                  | 2129        |\n",
      "|    iterations           | 4           |\n",
      "|    time_elapsed         | 4           |\n",
      "|    total_timesteps      | 10240       |\n",
      "| train/                  |             |\n",
      "|    approx_kl            | 0.012843652 |\n",
      "|    clip_fraction        | 0.127       |\n",
      "|    clip_range           | 0.203       |\n",
      "|    entropy_loss         | -2.83       |\n",
      "|    explained_variance   | 0.0926      |\n",
      "|    learning_rate        | 0.00233     |\n",
      "|    loss                 | 344         |\n",
      "|    n_updates            | 24          |\n",
      "|    policy_gradient_loss | -0.0211     |\n",
      "|    std                  | 0.994       |\n",
      "|    value_loss           | 869         |\n",
      "-----------------------------------------\n",
      "-----------------------------------------\n",
      "| rollout/                |             |\n",
      "|    ep_len_mean          | 108         |\n",
      "|    ep_rew_mean          | 51.4        |\n",
      "| time/                   |             |\n",
      "|    fps                  | 1904        |\n",
      "|    iterations           | 5           |\n",
      "|    time_elapsed         | 6           |\n",
      "|    total_timesteps      | 12800       |\n",
      "| train/                  |             |\n",
      "|    approx_kl            | 0.013970451 |\n",
      "|    clip_fraction        | 0.135       |\n",
      "|    clip_range           | 0.203       |\n",
      "|    entropy_loss         | -2.83       |\n",
      "|    explained_variance   | 0.223       |\n",
      "|    learning_rate        | 0.00233     |\n",
      "|    loss                 | 331         |\n",
      "|    n_updates            | 32          |\n",
      "|    policy_gradient_loss | -0.02       |\n",
      "|    std                  | 0.994       |\n",
      "|    value_loss           | 719         |\n",
      "-----------------------------------------\n",
      "-----------------------------------------\n",
      "| rollout/                |             |\n",
      "|    ep_len_mean          | 117         |\n",
      "|    ep_rew_mean          | 206         |\n",
      "| time/                   |             |\n",
      "|    fps                  | 1649        |\n",
      "|    iterations           | 6           |\n",
      "|    time_elapsed         | 9           |\n",
      "|    total_timesteps      | 15360       |\n",
      "| train/                  |             |\n",
      "|    approx_kl            | 0.012347791 |\n",
      "|    clip_fraction        | 0.137       |\n",
      "|    clip_range           | 0.203       |\n",
      "|    entropy_loss         | -2.83       |\n",
      "|    explained_variance   | 0.195       |\n",
      "|    learning_rate        | 0.00233     |\n",
      "|    loss                 | 287         |\n",
      "|    n_updates            | 40          |\n",
      "|    policy_gradient_loss | -0.0171     |\n",
      "|    std                  | 0.996       |\n",
      "|    value_loss           | 791         |\n",
      "-----------------------------------------\n",
      "-----------------------------------------\n",
      "| rollout/                |             |\n",
      "|    ep_len_mean          | 107         |\n",
      "|    ep_rew_mean          | 237         |\n",
      "| time/                   |             |\n",
      "|    fps                  | 1468        |\n",
      "|    iterations           | 7           |\n",
      "|    time_elapsed         | 12          |\n",
      "|    total_timesteps      | 17920       |\n",
      "| train/                  |             |\n",
      "|    approx_kl            | 0.017954791 |\n",
      "|    clip_fraction        | 0.14        |\n",
      "|    clip_range           | 0.203       |\n",
      "|    entropy_loss         | -2.82       |\n",
      "|    explained_variance   | 0.408       |\n",
      "|    learning_rate        | 0.00233     |\n",
      "|    loss                 | 240         |\n",
      "|    n_updates            | 48          |\n",
      "|    policy_gradient_loss | -0.0229     |\n",
      "|    std                  | 0.986       |\n",
      "|    value_loss           | 678         |\n",
      "-----------------------------------------\n",
      "-----------------------------------------\n",
      "| rollout/                |             |\n",
      "|    ep_len_mean          | 86.1        |\n",
      "|    ep_rew_mean          | 236         |\n",
      "| time/                   |             |\n",
      "|    fps                  | 1347        |\n",
      "|    iterations           | 8           |\n",
      "|    time_elapsed         | 15          |\n",
      "|    total_timesteps      | 20480       |\n",
      "| train/                  |             |\n",
      "|    approx_kl            | 0.020052439 |\n",
      "|    clip_fraction        | 0.221       |\n",
      "|    clip_range           | 0.203       |\n",
      "|    entropy_loss         | -2.8        |\n",
      "|    explained_variance   | 0.356       |\n",
      "|    learning_rate        | 0.00233     |\n",
      "|    loss                 | 316         |\n",
      "|    n_updates            | 56          |\n",
      "|    policy_gradient_loss | -0.0171     |\n",
      "|    std                  | 0.983       |\n",
      "|    value_loss           | 754         |\n",
      "-----------------------------------------\n"
     ]
    },
    {
     "data": {
      "text/html": [
       "<pre style=\"white-space:pre;overflow-x:auto;line-height:normal;font-family:Menlo,'DejaVu Sans Mono',consolas,'Courier New',monospace\"></pre>\n"
      ],
      "text/plain": []
     },
     "metadata": {},
     "output_type": "display_data"
    },
    {
     "name": "stderr",
     "output_type": "stream",
     "text": [
      "[I 2025-01-28 22:24:51,245] Trial 4 finished with value: -inf and parameters: {'learning_rate': 0.0023297626902393774, 'n_steps': 8, 'batch_size': 9, 'gamma': 0.9809862808116705, 'gae_lambda': 0.8508563111564579, 'clip_range': 0.20301189485619237, 'ent_coef': 0.011927237833534634, 'vf_coef': 0.4914691875480699, 'max_grad_norm': 3.3200769507748937, 'target_kl': 0.1023232058648112, 'n_epochs': 8, 'activation_fn': 'tanh', 'net_arch': 'small'}. Best is trial 0 with value: -inf.\n"
     ]
    },
    {
     "data": {
      "application/vnd.jupyter.widget-view+json": {
       "model_id": "aa648d981e6e4decaf604fe57ee07f4c",
       "version_major": 2,
       "version_minor": 0
      },
      "text/plain": [
       "Output()"
      ]
     },
     "metadata": {},
     "output_type": "display_data"
    },
    {
     "name": "stdout",
     "output_type": "stream",
     "text": [
      "Using cpu device\n",
      "---------------------------------\n",
      "| rollout/           |          |\n",
      "|    ep_len_mean     | 120      |\n",
      "|    ep_rew_mean     | 200      |\n",
      "| time/              |          |\n",
      "|    fps             | 1106     |\n",
      "|    iterations      | 1        |\n",
      "|    time_elapsed    | 37       |\n",
      "|    total_timesteps | 40960    |\n",
      "---------------------------------\n"
     ]
    },
    {
     "data": {
      "text/html": [
       "<pre style=\"white-space:pre;overflow-x:auto;line-height:normal;font-family:Menlo,'DejaVu Sans Mono',consolas,'Courier New',monospace\">Early stopping at step 0 due to reaching max kl: 0.31\n",
       "</pre>\n"
      ],
      "text/plain": [
       "Early stopping at step 0 due to reaching max kl: 0.31\n"
      ]
     },
     "metadata": {},
     "output_type": "display_data"
    },
    {
     "data": {
      "text/html": [
       "<pre style=\"white-space:pre;overflow-x:auto;line-height:normal;font-family:Menlo,'DejaVu Sans Mono',consolas,'Courier New',monospace\"></pre>\n"
      ],
      "text/plain": []
     },
     "metadata": {},
     "output_type": "display_data"
    },
    {
     "name": "stderr",
     "output_type": "stream",
     "text": [
      "[I 2025-01-28 22:25:28,442] Trial 5 finished with value: -inf and parameters: {'learning_rate': 1.0561435922621972e-05, 'n_steps': 12, 'batch_size': 5, 'gamma': 0.9367308990623988, 'gae_lambda': 0.8268665354790885, 'clip_range': 0.10782572013383833, 'ent_coef': 0.00012260613301712407, 'vf_coef': 0.9622853971152655, 'max_grad_norm': 0.9286382833549754, 'target_kl': 0.1916031533527281, 'n_epochs': 10, 'activation_fn': 'relu', 'net_arch': 'tiny'}. Best is trial 0 with value: -inf.\n"
     ]
    },
    {
     "data": {
      "application/vnd.jupyter.widget-view+json": {
       "model_id": "4f90e564b0fb4835b055d275f53f3e5f",
       "version_major": 2,
       "version_minor": 0
      },
      "text/plain": [
       "Output()"
      ]
     },
     "metadata": {},
     "output_type": "display_data"
    },
    {
     "data": {
      "text/html": [
       "<pre style=\"white-space:pre;overflow-x:auto;line-height:normal;font-family:Menlo,'DejaVu Sans Mono',consolas,'Courier New',monospace\">/usr/local/lib/python3.11/dist-packages/gymnasium/utils/passive_env_checker.py:158: UserWarning: <span style=\"color: #808000; text-decoration-color: #808000\">WARN: The obs </span>\n",
       "<span style=\"color: #808000; text-decoration-color: #808000\">returned by the `step()` method is not within the observation space.</span>\n",
       "  logger.warn(f\"{pre} is not within the observation space.\")\n",
       "</pre>\n"
      ],
      "text/plain": [
       "/usr/local/lib/python3.11/dist-packages/gymnasium/utils/passive_env_checker.py:158: UserWarning: \u001b[33mWARN: The obs \u001b[0m\n",
       "\u001b[33mreturned by the `step()` method is not within the observation space.\u001b[0m\n",
       "  logger.warn(f\"{pre} is not within the observation space.\")\n"
      ]
     },
     "metadata": {},
     "output_type": "display_data"
    },
    {
     "name": "stdout",
     "output_type": "stream",
     "text": [
      "Using cpu device\n",
      "---------------------------------\n",
      "| rollout/           |          |\n",
      "|    ep_len_mean     | 86.5     |\n",
      "|    ep_rew_mean     | 81.4     |\n",
      "| time/              |          |\n",
      "|    fps             | 833      |\n",
      "|    iterations      | 1        |\n",
      "|    time_elapsed    | 49       |\n",
      "|    total_timesteps | 40960    |\n",
      "---------------------------------\n"
     ]
    },
    {
     "data": {
      "text/html": [
       "<pre style=\"white-space:pre;overflow-x:auto;line-height:normal;font-family:Menlo,'DejaVu Sans Mono',consolas,'Courier New',monospace\">Early stopping at step 0 due to reaching max kl: 0.02\n",
       "</pre>\n"
      ],
      "text/plain": [
       "Early stopping at step 0 due to reaching max kl: 0.02\n"
      ]
     },
     "metadata": {},
     "output_type": "display_data"
    },
    {
     "data": {
      "text/html": [
       "<pre style=\"white-space:pre;overflow-x:auto;line-height:normal;font-family:Menlo,'DejaVu Sans Mono',consolas,'Courier New',monospace\"></pre>\n"
      ],
      "text/plain": []
     },
     "metadata": {},
     "output_type": "display_data"
    },
    {
     "name": "stderr",
     "output_type": "stream",
     "text": [
      "[I 2025-01-28 22:26:17,766] Trial 6 finished with value: -inf and parameters: {'learning_rate': 1.4860633441238727e-05, 'n_steps': 12, 'batch_size': 5, 'gamma': 0.9407024603538277, 'gae_lambda': 0.9915039953720793, 'clip_range': 0.2994576013425273, 'ent_coef': 0.09806256692246783, 'vf_coef': 0.11973878887949557, 'max_grad_norm': 2.011141117890231, 'target_kl': 0.011270195622464091, 'n_epochs': 5, 'activation_fn': 'relu', 'net_arch': 'small'}. Best is trial 0 with value: -inf.\n"
     ]
    },
    {
     "name": "stdout",
     "output_type": "stream",
     "text": [
      "Using cpu device\n"
     ]
    },
    {
     "data": {
      "application/vnd.jupyter.widget-view+json": {
       "model_id": "976f751ee3a249379ac11415710c07e7",
       "version_major": 2,
       "version_minor": 0
      },
      "text/plain": [
       "Output()"
      ]
     },
     "metadata": {},
     "output_type": "display_data"
    },
    {
     "name": "stderr",
     "output_type": "stream",
     "text": [
      "/usr/local/lib/python3.11/dist-packages/stable_baselines3/ppo/ppo.py:155: UserWarning: You have specified a mini-batch size of 1024, but because the `RolloutBuffer` is of size `n_steps * n_envs = 1280`, after every 1 untruncated mini-batches, there will be a truncated mini-batch of size 256\n",
      "We recommend using a `batch_size` that is a factor of `n_steps * n_envs`.\n",
      "Info: (n_steps=128 and n_envs=10)\n",
      "  warnings.warn(\n"
     ]
    },
    {
     "name": "stdout",
     "output_type": "stream",
     "text": [
      "---------------------------------\n",
      "| rollout/           |          |\n",
      "|    ep_len_mean     | 43.5     |\n",
      "|    ep_rew_mean     | -140     |\n",
      "| time/              |          |\n",
      "|    fps             | 4428     |\n",
      "|    iterations      | 1        |\n",
      "|    time_elapsed    | 0        |\n",
      "|    total_timesteps | 1280     |\n",
      "---------------------------------\n",
      "----------------------------------------\n",
      "| rollout/                |            |\n",
      "|    ep_len_mean          | 60.6       |\n",
      "|    ep_rew_mean          | -61.9      |\n",
      "| time/                   |            |\n",
      "|    fps                  | 3600       |\n",
      "|    iterations           | 2          |\n",
      "|    time_elapsed         | 0          |\n",
      "|    total_timesteps      | 2560       |\n",
      "| train/                  |            |\n",
      "|    approx_kl            | 0.04103118 |\n",
      "|    clip_fraction        | 0.453      |\n",
      "|    clip_range           | 0.131      |\n",
      "|    entropy_loss         | -2.84      |\n",
      "|    explained_variance   | 0.071      |\n",
      "|    learning_rate        | 0.000255   |\n",
      "|    loss                 | 1.37e+03   |\n",
      "|    n_updates            | 6          |\n",
      "|    policy_gradient_loss | 0.0333     |\n",
      "|    std                  | 1          |\n",
      "|    value_loss           | 1.67e+03   |\n",
      "----------------------------------------\n",
      "----------------------------------------\n",
      "| rollout/                |            |\n",
      "|    ep_len_mean          | 60.6       |\n",
      "|    ep_rew_mean          | -61.9      |\n",
      "| time/                   |            |\n",
      "|    fps                  | 2968       |\n",
      "|    iterations           | 3          |\n",
      "|    time_elapsed         | 1          |\n",
      "|    total_timesteps      | 3840       |\n",
      "| train/                  |            |\n",
      "|    approx_kl            | 0.13645628 |\n",
      "|    clip_fraction        | 0.284      |\n",
      "|    clip_range           | 0.131      |\n",
      "|    entropy_loss         | -2.84      |\n",
      "|    explained_variance   | -0.15      |\n",
      "|    learning_rate        | 0.000255   |\n",
      "|    loss                 | 3.62e+03   |\n",
      "|    n_updates            | 12         |\n",
      "|    policy_gradient_loss | 0.0416     |\n",
      "|    std                  | 1          |\n",
      "|    value_loss           | 3.07e+03   |\n",
      "----------------------------------------\n",
      "-----------------------------------------\n",
      "| rollout/                |             |\n",
      "|    ep_len_mean          | 150         |\n",
      "|    ep_rew_mean          | -60.6       |\n",
      "| time/                   |             |\n",
      "|    fps                  | 2882        |\n",
      "|    iterations           | 4           |\n",
      "|    time_elapsed         | 1           |\n",
      "|    total_timesteps      | 5120        |\n",
      "| train/                  |             |\n",
      "|    approx_kl            | 0.008945879 |\n",
      "|    clip_fraction        | 0.216       |\n",
      "|    clip_range           | 0.131       |\n",
      "|    entropy_loss         | -2.84       |\n",
      "|    explained_variance   | -0.0366     |\n",
      "|    learning_rate        | 0.000255    |\n",
      "|    loss                 | 957         |\n",
      "|    n_updates            | 18          |\n",
      "|    policy_gradient_loss | 0.00716     |\n",
      "|    std                  | 1           |\n",
      "|    value_loss           | 965         |\n",
      "-----------------------------------------\n",
      "------------------------------------------\n",
      "| rollout/                |              |\n",
      "|    ep_len_mean          | 180          |\n",
      "|    ep_rew_mean          | -134         |\n",
      "| time/                   |              |\n",
      "|    fps                  | 2782         |\n",
      "|    iterations           | 5            |\n",
      "|    time_elapsed         | 2            |\n",
      "|    total_timesteps      | 6400         |\n",
      "| train/                  |              |\n",
      "|    approx_kl            | 0.0148024075 |\n",
      "|    clip_fraction        | 0.249        |\n",
      "|    clip_range           | 0.131        |\n",
      "|    entropy_loss         | -2.84        |\n",
      "|    explained_variance   | 0.33         |\n",
      "|    learning_rate        | 0.000255     |\n",
      "|    loss                 | 648          |\n",
      "|    n_updates            | 24           |\n",
      "|    policy_gradient_loss | 0.0147       |\n",
      "|    std                  | 1            |\n",
      "|    value_loss           | 837          |\n",
      "------------------------------------------\n",
      "-----------------------------------------\n",
      "| rollout/                |             |\n",
      "|    ep_len_mean          | 192         |\n",
      "|    ep_rew_mean          | -164        |\n",
      "| time/                   |             |\n",
      "|    fps                  | 2730        |\n",
      "|    iterations           | 6           |\n",
      "|    time_elapsed         | 2           |\n",
      "|    total_timesteps      | 7680        |\n",
      "| train/                  |             |\n",
      "|    approx_kl            | 0.028562697 |\n",
      "|    clip_fraction        | 0.261       |\n",
      "|    clip_range           | 0.131       |\n",
      "|    entropy_loss         | -2.84       |\n",
      "|    explained_variance   | 0.0566      |\n",
      "|    learning_rate        | 0.000255    |\n",
      "|    loss                 | 828         |\n",
      "|    n_updates            | 30          |\n",
      "|    policy_gradient_loss | 0.0132      |\n",
      "|    std                  | 1           |\n",
      "|    value_loss           | 1.22e+03    |\n",
      "-----------------------------------------\n",
      "-----------------------------------------\n",
      "| rollout/                |             |\n",
      "|    ep_len_mean          | 218         |\n",
      "|    ep_rew_mean          | -157        |\n",
      "| time/                   |             |\n",
      "|    fps                  | 2667        |\n",
      "|    iterations           | 7           |\n",
      "|    time_elapsed         | 3           |\n",
      "|    total_timesteps      | 8960        |\n",
      "| train/                  |             |\n",
      "|    approx_kl            | 0.027019667 |\n",
      "|    clip_fraction        | 0.28        |\n",
      "|    clip_range           | 0.131       |\n",
      "|    entropy_loss         | -2.84       |\n",
      "|    explained_variance   | 0.184       |\n",
      "|    learning_rate        | 0.000255    |\n",
      "|    loss                 | 802         |\n",
      "|    n_updates            | 36          |\n",
      "|    policy_gradient_loss | 0.0114      |\n",
      "|    std                  | 1           |\n",
      "|    value_loss           | 1.06e+03    |\n",
      "-----------------------------------------\n",
      "-----------------------------------------\n",
      "| rollout/                |             |\n",
      "|    ep_len_mean          | 233         |\n",
      "|    ep_rew_mean          | -181        |\n",
      "| time/                   |             |\n",
      "|    fps                  | 2621        |\n",
      "|    iterations           | 8           |\n",
      "|    time_elapsed         | 3           |\n",
      "|    total_timesteps      | 10240       |\n",
      "| train/                  |             |\n",
      "|    approx_kl            | 0.012221398 |\n",
      "|    clip_fraction        | 0.199       |\n",
      "|    clip_range           | 0.131       |\n",
      "|    entropy_loss         | -2.84       |\n",
      "|    explained_variance   | 0.434       |\n",
      "|    learning_rate        | 0.000255    |\n",
      "|    loss                 | 931         |\n",
      "|    n_updates            | 42          |\n",
      "|    policy_gradient_loss | 0.00408     |\n",
      "|    std                  | 0.999       |\n",
      "|    value_loss           | 1.19e+03    |\n",
      "-----------------------------------------\n",
      "----------------------------------------\n",
      "| rollout/                |            |\n",
      "|    ep_len_mean          | 226        |\n",
      "|    ep_rew_mean          | -185       |\n",
      "| time/                   |            |\n",
      "|    fps                  | 2572       |\n",
      "|    iterations           | 9          |\n",
      "|    time_elapsed         | 4          |\n",
      "|    total_timesteps      | 11520      |\n",
      "| train/                  |            |\n",
      "|    approx_kl            | 0.04871709 |\n",
      "|    clip_fraction        | 0.443      |\n",
      "|    clip_range           | 0.131      |\n",
      "|    entropy_loss         | -2.84      |\n",
      "|    explained_variance   | 0.673      |\n",
      "|    learning_rate        | 0.000255   |\n",
      "|    loss                 | 709        |\n",
      "|    n_updates            | 48         |\n",
      "|    policy_gradient_loss | 0.0231     |\n",
      "|    std                  | 0.999      |\n",
      "|    value_loss           | 783        |\n",
      "----------------------------------------\n",
      "-----------------------------------------\n",
      "| rollout/                |             |\n",
      "|    ep_len_mean          | 246         |\n",
      "|    ep_rew_mean          | -165        |\n",
      "| time/                   |             |\n",
      "|    fps                  | 2528        |\n",
      "|    iterations           | 10          |\n",
      "|    time_elapsed         | 5           |\n",
      "|    total_timesteps      | 12800       |\n",
      "| train/                  |             |\n",
      "|    approx_kl            | 0.019347137 |\n",
      "|    clip_fraction        | 0.262       |\n",
      "|    clip_range           | 0.131       |\n",
      "|    entropy_loss         | -2.84       |\n",
      "|    explained_variance   | 0.607       |\n",
      "|    learning_rate        | 0.000255    |\n",
      "|    loss                 | 990         |\n",
      "|    n_updates            | 54          |\n",
      "|    policy_gradient_loss | 0.00538     |\n",
      "|    std                  | 0.999       |\n",
      "|    value_loss           | 1.19e+03    |\n",
      "-----------------------------------------\n"
     ]
    },
    {
     "data": {
      "text/html": [
       "<pre style=\"white-space:pre;overflow-x:auto;line-height:normal;font-family:Menlo,'DejaVu Sans Mono',consolas,'Courier New',monospace\">Early stopping at step 4 due to reaching max kl: 0.54\n",
       "</pre>\n"
      ],
      "text/plain": [
       "Early stopping at step 4 due to reaching max kl: 0.54\n"
      ]
     },
     "metadata": {},
     "output_type": "display_data"
    },
    {
     "name": "stdout",
     "output_type": "stream",
     "text": [
      "----------------------------------------\n",
      "| rollout/                |            |\n",
      "|    ep_len_mean          | 255        |\n",
      "|    ep_rew_mean          | -194       |\n",
      "| time/                   |            |\n",
      "|    fps                  | 2493       |\n",
      "|    iterations           | 11         |\n",
      "|    time_elapsed         | 5          |\n",
      "|    total_timesteps      | 14080      |\n",
      "| train/                  |            |\n",
      "|    approx_kl            | 0.33272526 |\n",
      "|    clip_fraction        | 0.291      |\n",
      "|    clip_range           | 0.131      |\n",
      "|    entropy_loss         | -2.84      |\n",
      "|    explained_variance   | 0.664      |\n",
      "|    learning_rate        | 0.000255   |\n",
      "|    loss                 | 998        |\n",
      "|    n_updates            | 59         |\n",
      "|    policy_gradient_loss | 0.0253     |\n",
      "|    std                  | 0.999      |\n",
      "|    value_loss           | 1.21e+03   |\n",
      "----------------------------------------\n"
     ]
    },
    {
     "data": {
      "text/html": [
       "<pre style=\"white-space:pre;overflow-x:auto;line-height:normal;font-family:Menlo,'DejaVu Sans Mono',consolas,'Courier New',monospace\">Early stopping at step 2 due to reaching max kl: 0.37\n",
       "</pre>\n"
      ],
      "text/plain": [
       "Early stopping at step 2 due to reaching max kl: 0.37\n"
      ]
     },
     "metadata": {},
     "output_type": "display_data"
    },
    {
     "name": "stdout",
     "output_type": "stream",
     "text": [
      "----------------------------------------\n",
      "| rollout/                |            |\n",
      "|    ep_len_mean          | 261        |\n",
      "|    ep_rew_mean          | -212       |\n",
      "| time/                   |            |\n",
      "|    fps                  | 2475       |\n",
      "|    iterations           | 12         |\n",
      "|    time_elapsed         | 6          |\n",
      "|    total_timesteps      | 15360      |\n",
      "| train/                  |            |\n",
      "|    approx_kl            | 0.36932936 |\n",
      "|    clip_fraction        | 0.132      |\n",
      "|    clip_range           | 0.131      |\n",
      "|    entropy_loss         | -2.84      |\n",
      "|    explained_variance   | 0.675      |\n",
      "|    learning_rate        | 0.000255   |\n",
      "|    loss                 | 1.86e+03   |\n",
      "|    n_updates            | 62         |\n",
      "|    policy_gradient_loss | 0.00306    |\n",
      "|    std                  | 0.999      |\n",
      "|    value_loss           | 2.11e+03   |\n",
      "----------------------------------------\n"
     ]
    },
    {
     "data": {
      "text/html": [
       "<pre style=\"white-space:pre;overflow-x:auto;line-height:normal;font-family:Menlo,'DejaVu Sans Mono',consolas,'Courier New',monospace\">Early stopping at step 2 due to reaching max kl: 0.39\n",
       "</pre>\n"
      ],
      "text/plain": [
       "Early stopping at step 2 due to reaching max kl: 0.39\n"
      ]
     },
     "metadata": {},
     "output_type": "display_data"
    },
    {
     "name": "stdout",
     "output_type": "stream",
     "text": [
      "----------------------------------------\n",
      "| rollout/                |            |\n",
      "|    ep_len_mean          | 274        |\n",
      "|    ep_rew_mean          | -152       |\n",
      "| time/                   |            |\n",
      "|    fps                  | 2452       |\n",
      "|    iterations           | 13         |\n",
      "|    time_elapsed         | 6          |\n",
      "|    total_timesteps      | 16640      |\n",
      "| train/                  |            |\n",
      "|    approx_kl            | 0.19674988 |\n",
      "|    clip_fraction        | 0.0355     |\n",
      "|    clip_range           | 0.131      |\n",
      "|    entropy_loss         | -2.84      |\n",
      "|    explained_variance   | 0.0611     |\n",
      "|    learning_rate        | 0.000255   |\n",
      "|    loss                 | 1.81e+04   |\n",
      "|    n_updates            | 65         |\n",
      "|    policy_gradient_loss | 0.0207     |\n",
      "|    std                  | 0.999      |\n",
      "|    value_loss           | 9.44e+03   |\n",
      "----------------------------------------\n",
      "-----------------------------------------\n",
      "| rollout/                |             |\n",
      "|    ep_len_mean          | 270         |\n",
      "|    ep_rew_mean          | -144        |\n",
      "| time/                   |             |\n",
      "|    fps                  | 2398        |\n",
      "|    iterations           | 14          |\n",
      "|    time_elapsed         | 7           |\n",
      "|    total_timesteps      | 17920       |\n",
      "| train/                  |             |\n",
      "|    approx_kl            | 0.021007514 |\n",
      "|    clip_fraction        | 0.106       |\n",
      "|    clip_range           | 0.131       |\n",
      "|    entropy_loss         | -2.84       |\n",
      "|    explained_variance   | 0.75        |\n",
      "|    learning_rate        | 0.000255    |\n",
      "|    loss                 | 1.95e+03    |\n",
      "|    n_updates            | 71          |\n",
      "|    policy_gradient_loss | 0.000558    |\n",
      "|    std                  | 1           |\n",
      "|    value_loss           | 2.3e+03     |\n",
      "-----------------------------------------\n",
      "-----------------------------------------\n",
      "| rollout/                |             |\n",
      "|    ep_len_mean          | 275         |\n",
      "|    ep_rew_mean          | -102        |\n",
      "| time/                   |             |\n",
      "|    fps                  | 2350        |\n",
      "|    iterations           | 15          |\n",
      "|    time_elapsed         | 8           |\n",
      "|    total_timesteps      | 19200       |\n",
      "| train/                  |             |\n",
      "|    approx_kl            | 0.017053127 |\n",
      "|    clip_fraction        | 0.132       |\n",
      "|    clip_range           | 0.131       |\n",
      "|    entropy_loss         | -2.84       |\n",
      "|    explained_variance   | 0.73        |\n",
      "|    learning_rate        | 0.000255    |\n",
      "|    loss                 | 1.94e+03    |\n",
      "|    n_updates            | 77          |\n",
      "|    policy_gradient_loss | 0.00235     |\n",
      "|    std                  | 1           |\n",
      "|    value_loss           | 2.07e+03    |\n",
      "-----------------------------------------\n"
     ]
    },
    {
     "data": {
      "text/html": [
       "<pre style=\"white-space:pre;overflow-x:auto;line-height:normal;font-family:Menlo,'DejaVu Sans Mono',consolas,'Courier New',monospace\">Early stopping at step 1 due to reaching max kl: 2.10\n",
       "</pre>\n"
      ],
      "text/plain": [
       "Early stopping at step 1 due to reaching max kl: 2.10\n"
      ]
     },
     "metadata": {},
     "output_type": "display_data"
    },
    {
     "name": "stdout",
     "output_type": "stream",
     "text": [
      "---------------------------------------\n",
      "| rollout/                |           |\n",
      "|    ep_len_mean          | 272       |\n",
      "|    ep_rew_mean          | -71.3     |\n",
      "| time/                   |           |\n",
      "|    fps                  | 2324      |\n",
      "|    iterations           | 16        |\n",
      "|    time_elapsed         | 8         |\n",
      "|    total_timesteps      | 20480     |\n",
      "| train/                  |           |\n",
      "|    approx_kl            | 2.0969694 |\n",
      "|    clip_fraction        | 0.00456   |\n",
      "|    clip_range           | 0.131     |\n",
      "|    entropy_loss         | -2.84     |\n",
      "|    explained_variance   | -27.1     |\n",
      "|    learning_rate        | 0.000255  |\n",
      "|    loss                 | 3.27e+06  |\n",
      "|    n_updates            | 79        |\n",
      "|    policy_gradient_loss | -0.00158  |\n",
      "|    std                  | 1         |\n",
      "|    value_loss           | 2.35e+06  |\n",
      "---------------------------------------\n"
     ]
    },
    {
     "data": {
      "text/html": [
       "<pre style=\"white-space:pre;overflow-x:auto;line-height:normal;font-family:Menlo,'DejaVu Sans Mono',consolas,'Courier New',monospace\"></pre>\n"
      ],
      "text/plain": []
     },
     "metadata": {},
     "output_type": "display_data"
    },
    {
     "name": "stderr",
     "output_type": "stream",
     "text": [
      "[I 2025-01-28 22:26:26,850] Trial 7 finished with value: -inf and parameters: {'learning_rate': 0.0002547539180369284, 'n_steps': 7, 'batch_size': 10, 'gamma': 0.9983575222849137, 'gae_lambda': 0.934000725398765, 'clip_range': 0.13120926031261398, 'ent_coef': 0.002364925236591501, 'vf_coef': 0.9770190246675703, 'max_grad_norm': 2.1767108172488663, 'target_kl': 0.1960624407037773, 'n_epochs': 6, 'activation_fn': 'relu', 'net_arch': 'small'}. Best is trial 0 with value: -inf.\n"
     ]
    },
    {
     "name": "stdout",
     "output_type": "stream",
     "text": [
      "Using cpu device\n"
     ]
    },
    {
     "data": {
      "application/vnd.jupyter.widget-view+json": {
       "model_id": "118d685021214550bcbceaf25ce12772",
       "version_major": 2,
       "version_minor": 0
      },
      "text/plain": [
       "Output()"
      ]
     },
     "metadata": {},
     "output_type": "display_data"
    },
    {
     "name": "stdout",
     "output_type": "stream",
     "text": [
      "---------------------------------\n",
      "| rollout/           |          |\n",
      "|    ep_len_mean     | 112      |\n",
      "|    ep_rew_mean     | 147      |\n",
      "| time/              |          |\n",
      "|    fps             | 1613     |\n",
      "|    iterations      | 1        |\n",
      "|    time_elapsed    | 12       |\n",
      "|    total_timesteps | 20480    |\n",
      "---------------------------------\n"
     ]
    },
    {
     "data": {
      "text/html": [
       "<pre style=\"white-space:pre;overflow-x:auto;line-height:normal;font-family:Menlo,'DejaVu Sans Mono',consolas,'Courier New',monospace\">Early stopping at step 0 due to reaching max kl: 0.10\n",
       "</pre>\n"
      ],
      "text/plain": [
       "Early stopping at step 0 due to reaching max kl: 0.10\n"
      ]
     },
     "metadata": {},
     "output_type": "display_data"
    },
    {
     "data": {
      "text/html": [
       "<pre style=\"white-space:pre;overflow-x:auto;line-height:normal;font-family:Menlo,'DejaVu Sans Mono',consolas,'Courier New',monospace\"></pre>\n"
      ],
      "text/plain": []
     },
     "metadata": {},
     "output_type": "display_data"
    },
    {
     "name": "stderr",
     "output_type": "stream",
     "text": [
      "[I 2025-01-28 22:26:39,730] Trial 8 finished with value: -inf and parameters: {'learning_rate': 0.006703127745458914, 'n_steps': 11, 'batch_size': 6, 'gamma': 0.9237676001587299, 'gae_lambda': 0.8040892375317884, 'clip_range': 0.23284602467671336, 'ent_coef': 0.00043696037449290594, 'vf_coef': 0.26023122426651113, 'max_grad_norm': 3.2833028360082244, 'target_kl': 0.04791892616755358, 'n_epochs': 3, 'activation_fn': 'tanh', 'net_arch': 'tiny'}. Best is trial 0 with value: -inf.\n"
     ]
    },
    {
     "data": {
      "application/vnd.jupyter.widget-view+json": {
       "model_id": "791378f9078641da96ceca7327297ed3",
       "version_major": 2,
       "version_minor": 0
      },
      "text/plain": [
       "Output()"
      ]
     },
     "metadata": {},
     "output_type": "display_data"
    },
    {
     "name": "stdout",
     "output_type": "stream",
     "text": [
      "Using cpu device\n",
      "---------------------------------\n",
      "| rollout/           |          |\n",
      "|    ep_len_mean     | 150      |\n",
      "|    ep_rew_mean     | 83.8     |\n",
      "| time/              |          |\n",
      "|    fps             | 1891     |\n",
      "|    iterations      | 1        |\n",
      "|    time_elapsed    | 10       |\n",
      "|    total_timesteps | 20480    |\n",
      "---------------------------------\n"
     ]
    },
    {
     "data": {
      "text/html": [
       "<pre style=\"white-space:pre;overflow-x:auto;line-height:normal;font-family:Menlo,'DejaVu Sans Mono',consolas,'Courier New',monospace\">Early stopping at step 0 due to reaching max kl: 3060.53\n",
       "</pre>\n"
      ],
      "text/plain": [
       "Early stopping at step 0 due to reaching max kl: 3060.53\n"
      ]
     },
     "metadata": {},
     "output_type": "display_data"
    },
    {
     "data": {
      "text/html": [
       "<pre style=\"white-space:pre;overflow-x:auto;line-height:normal;font-family:Menlo,'DejaVu Sans Mono',consolas,'Courier New',monospace\"></pre>\n"
      ],
      "text/plain": []
     },
     "metadata": {},
     "output_type": "display_data"
    },
    {
     "name": "stderr",
     "output_type": "stream",
     "text": [
      "[I 2025-01-28 22:26:50,798] Trial 9 finished with value: -inf and parameters: {'learning_rate': 0.0001367032487664507, 'n_steps': 11, 'batch_size': 9, 'gamma': 0.9636837400232788, 'gae_lambda': 0.8656171272883338, 'clip_range': 0.159177253733036, 'ent_coef': 0.005764974844051823, 'vf_coef': 0.7536240110770918, 'max_grad_norm': 1.4816571334874062, 'target_kl': 0.16502835743111693, 'n_epochs': 8, 'activation_fn': 'relu', 'net_arch': 'small'}. Best is trial 0 with value: -inf.\n"
     ]
    },
    {
     "name": "stdout",
     "output_type": "stream",
     "text": [
      "Using cpu device\n"
     ]
    },
    {
     "data": {
      "application/vnd.jupyter.widget-view+json": {
       "model_id": "04593e753f88424dab745026cabcd9e2",
       "version_major": 2,
       "version_minor": 0
      },
      "text/plain": [
       "Output()"
      ]
     },
     "metadata": {},
     "output_type": "display_data"
    },
    {
     "name": "stdout",
     "output_type": "stream",
     "text": [
      "---------------------------------\n",
      "| rollout/           |          |\n",
      "|    ep_len_mean     | 102      |\n",
      "|    ep_rew_mean     | -223     |\n",
      "| time/              |          |\n",
      "|    fps             | 4426     |\n",
      "|    iterations      | 1        |\n",
      "|    time_elapsed    | 1        |\n",
      "|    total_timesteps | 5120     |\n",
      "---------------------------------\n"
     ]
    },
    {
     "data": {
      "text/html": [
       "<pre style=\"white-space:pre;overflow-x:auto;line-height:normal;font-family:Menlo,'DejaVu Sans Mono',consolas,'Courier New',monospace\">Early stopping at step 0 due to reaching max kl: 13.09\n",
       "</pre>\n"
      ],
      "text/plain": [
       "Early stopping at step 0 due to reaching max kl: 13.09\n"
      ]
     },
     "metadata": {},
     "output_type": "display_data"
    },
    {
     "name": "stdout",
     "output_type": "stream",
     "text": [
      "---------------------------------------\n",
      "| rollout/                |           |\n",
      "|    ep_len_mean          | 163       |\n",
      "|    ep_rew_mean          | -30.9     |\n",
      "| time/                   |           |\n",
      "|    fps                  | 3526      |\n",
      "|    iterations           | 2         |\n",
      "|    time_elapsed         | 2         |\n",
      "|    total_timesteps      | 10240     |\n",
      "| train/                  |           |\n",
      "|    approx_kl            | 6.5433993 |\n",
      "|    clip_fraction        | 0.5       |\n",
      "|    clip_range           | 0.242     |\n",
      "|    entropy_loss         | -3.07     |\n",
      "|    explained_variance   | 0.000872  |\n",
      "|    learning_rate        | 0.234     |\n",
      "|    loss                 | 110       |\n",
      "|    n_updates            | 1         |\n",
      "|    policy_gradient_loss | 0.123     |\n",
      "|    std                  | 1.26      |\n",
      "|    value_loss           | 389       |\n",
      "---------------------------------------\n"
     ]
    },
    {
     "data": {
      "text/html": [
       "<pre style=\"white-space:pre;overflow-x:auto;line-height:normal;font-family:Menlo,'DejaVu Sans Mono',consolas,'Courier New',monospace\">Early stopping at step 0 due to reaching max kl: 321.97\n",
       "</pre>\n"
      ],
      "text/plain": [
       "Early stopping at step 0 due to reaching max kl: 321.97\n"
      ]
     },
     "metadata": {},
     "output_type": "display_data"
    },
    {
     "name": "stdout",
     "output_type": "stream",
     "text": [
      "---------------------------------------\n",
      "| rollout/                |           |\n",
      "|    ep_len_mean          | 208       |\n",
      "|    ep_rew_mean          | 68.7      |\n",
      "| time/                   |           |\n",
      "|    fps                  | 3125      |\n",
      "|    iterations           | 3         |\n",
      "|    time_elapsed         | 4         |\n",
      "|    total_timesteps      | 15360     |\n",
      "| train/                  |           |\n",
      "|    approx_kl            | 160.98416 |\n",
      "|    clip_fraction        | 0.5       |\n",
      "|    clip_range           | 0.242     |\n",
      "|    entropy_loss         | -3.45     |\n",
      "|    explained_variance   | -0.0829   |\n",
      "|    learning_rate        | 0.234     |\n",
      "|    loss                 | 402       |\n",
      "|    n_updates            | 2         |\n",
      "|    policy_gradient_loss | 0.157     |\n",
      "|    std                  | 1.46      |\n",
      "|    value_loss           | 1.05e+03  |\n",
      "---------------------------------------\n"
     ]
    },
    {
     "data": {
      "text/html": [
       "<pre style=\"white-space:pre;overflow-x:auto;line-height:normal;font-family:Menlo,'DejaVu Sans Mono',consolas,'Courier New',monospace\">Early stopping at step 0 due to reaching max kl: 23.01\n",
       "</pre>\n"
      ],
      "text/plain": [
       "Early stopping at step 0 due to reaching max kl: 23.01\n"
      ]
     },
     "metadata": {},
     "output_type": "display_data"
    },
    {
     "name": "stdout",
     "output_type": "stream",
     "text": [
      "---------------------------------------\n",
      "| rollout/                |           |\n",
      "|    ep_len_mean          | 236       |\n",
      "|    ep_rew_mean          | 8.4       |\n",
      "| time/                   |           |\n",
      "|    fps                  | 2818      |\n",
      "|    iterations           | 4         |\n",
      "|    time_elapsed         | 7         |\n",
      "|    total_timesteps      | 20480     |\n",
      "| train/                  |           |\n",
      "|    approx_kl            | 11.506716 |\n",
      "|    clip_fraction        | 0.5       |\n",
      "|    clip_range           | 0.242     |\n",
      "|    entropy_loss         | -3.74     |\n",
      "|    explained_variance   | -0.394    |\n",
      "|    learning_rate        | 0.234     |\n",
      "|    loss                 | 353       |\n",
      "|    n_updates            | 3         |\n",
      "|    policy_gradient_loss | 0.148     |\n",
      "|    std                  | 1.68      |\n",
      "|    value_loss           | 1.21e+03  |\n",
      "---------------------------------------\n"
     ]
    },
    {
     "data": {
      "text/html": [
       "<pre style=\"white-space:pre;overflow-x:auto;line-height:normal;font-family:Menlo,'DejaVu Sans Mono',consolas,'Courier New',monospace\">Early stopping at step 0 due to reaching max kl: 89.24\n",
       "</pre>\n"
      ],
      "text/plain": [
       "Early stopping at step 0 due to reaching max kl: 89.24\n"
      ]
     },
     "metadata": {},
     "output_type": "display_data"
    },
    {
     "data": {
      "text/html": [
       "<pre style=\"white-space:pre;overflow-x:auto;line-height:normal;font-family:Menlo,'DejaVu Sans Mono',consolas,'Courier New',monospace\"></pre>\n"
      ],
      "text/plain": []
     },
     "metadata": {},
     "output_type": "display_data"
    },
    {
     "name": "stderr",
     "output_type": "stream",
     "text": [
      "[I 2025-01-28 22:26:58,245] Trial 10 finished with value: -inf and parameters: {'learning_rate': 0.2340047624345783, 'n_steps': 9, 'batch_size': 6, 'gamma': 0.9022606376484393, 'gae_lambda': 0.9218157984333905, 'clip_range': 0.24161963727754332, 'ent_coef': 0.053056511358456376, 'vf_coef': 0.3295018823275413, 'max_grad_norm': 3.311461216751466, 'target_kl': 0.06947790654268692, 'n_epochs': 10, 'activation_fn': 'tanh', 'net_arch': 'tiny'}. Best is trial 0 with value: -inf.\n"
     ]
    },
    {
     "data": {
      "application/vnd.jupyter.widget-view+json": {
       "model_id": "30267442094d4df28525deb9e7163dc6",
       "version_major": 2,
       "version_minor": 0
      },
      "text/plain": [
       "Output()"
      ]
     },
     "metadata": {},
     "output_type": "display_data"
    },
    {
     "name": "stdout",
     "output_type": "stream",
     "text": [
      "Using cpu device\n",
      "---------------------------------\n",
      "| rollout/           |          |\n",
      "|    ep_len_mean     | 75.2     |\n",
      "|    ep_rew_mean     | -9.06    |\n",
      "| time/              |          |\n",
      "|    fps             | 2166     |\n",
      "|    iterations      | 1        |\n",
      "|    time_elapsed    | 4        |\n",
      "|    total_timesteps | 10240    |\n",
      "---------------------------------\n"
     ]
    },
    {
     "data": {
      "text/html": [
       "<pre style=\"white-space:pre;overflow-x:auto;line-height:normal;font-family:Menlo,'DejaVu Sans Mono',consolas,'Courier New',monospace\">Early stopping at step 0 due to reaching max kl: 2942.22\n",
       "</pre>\n"
      ],
      "text/plain": [
       "Early stopping at step 0 due to reaching max kl: 2942.22\n"
      ]
     },
     "metadata": {},
     "output_type": "display_data"
    },
    {
     "name": "stdout",
     "output_type": "stream",
     "text": [
      "---------------------------------------\n",
      "| rollout/                |           |\n",
      "|    ep_len_mean          | 146       |\n",
      "|    ep_rew_mean          | 145       |\n",
      "| time/                   |           |\n",
      "|    fps                  | 1625      |\n",
      "|    iterations           | 2         |\n",
      "|    time_elapsed         | 12        |\n",
      "|    total_timesteps      | 20480     |\n",
      "| train/                  |           |\n",
      "|    approx_kl            | 1471.1123 |\n",
      "|    clip_fraction        | 0.5       |\n",
      "|    clip_range           | 0.183     |\n",
      "|    entropy_loss         | -2.84     |\n",
      "|    explained_variance   | -0.0243   |\n",
      "|    learning_rate        | 0.0305    |\n",
      "|    loss                 | 1.27e+05  |\n",
      "|    n_updates            | 1         |\n",
      "|    policy_gradient_loss | 0.152     |\n",
      "|    std                  | 1         |\n",
      "|    value_loss           | 1.31e+05  |\n",
      "---------------------------------------\n"
     ]
    },
    {
     "data": {
      "text/html": [
       "<pre style=\"white-space:pre;overflow-x:auto;line-height:normal;font-family:Menlo,'DejaVu Sans Mono',consolas,'Courier New',monospace\">Early stopping at step 0 due to reaching max kl: 20577.72\n",
       "</pre>\n"
      ],
      "text/plain": [
       "Early stopping at step 0 due to reaching max kl: 20577.72\n"
      ]
     },
     "metadata": {},
     "output_type": "display_data"
    },
    {
     "data": {
      "text/html": [
       "<pre style=\"white-space:pre;overflow-x:auto;line-height:normal;font-family:Menlo,'DejaVu Sans Mono',consolas,'Courier New',monospace\"></pre>\n"
      ],
      "text/plain": []
     },
     "metadata": {},
     "output_type": "display_data"
    },
    {
     "name": "stderr",
     "output_type": "stream",
     "text": [
      "[I 2025-01-28 22:27:11,030] Trial 11 finished with value: -inf and parameters: {'learning_rate': 0.03054220282589258, 'n_steps': 10, 'batch_size': 8, 'gamma': 0.9190655741963608, 'gae_lambda': 0.8818285162176263, 'clip_range': 0.18317528582647352, 'ent_coef': 0.026859288646219785, 'vf_coef': 0.4886607211697953, 'max_grad_norm': 0.3175377514081626, 'target_kl': 0.1427130081781469, 'n_epochs': 8, 'activation_fn': 'relu', 'net_arch': 'small'}. Best is trial 0 with value: -inf.\n"
     ]
    },
    {
     "data": {
      "application/vnd.jupyter.widget-view+json": {
       "model_id": "986de38fe6b14531a9ec2e9b42ef46da",
       "version_major": 2,
       "version_minor": 0
      },
      "text/plain": [
       "Output()"
      ]
     },
     "metadata": {},
     "output_type": "display_data"
    },
    {
     "name": "stdout",
     "output_type": "stream",
     "text": [
      "Using cpu device\n",
      "---------------------------------\n",
      "| rollout/           |          |\n",
      "|    ep_len_mean     | 178      |\n",
      "|    ep_rew_mean     | 63.1     |\n",
      "| time/              |          |\n",
      "|    fps             | 2140     |\n",
      "|    iterations      | 1        |\n",
      "|    time_elapsed    | 9        |\n",
      "|    total_timesteps | 20480    |\n",
      "---------------------------------\n"
     ]
    },
    {
     "data": {
      "text/html": [
       "<pre style=\"white-space:pre;overflow-x:auto;line-height:normal;font-family:Menlo,'DejaVu Sans Mono',consolas,'Courier New',monospace\">Early stopping at step 0 due to reaching max kl: 2862.58\n",
       "</pre>\n"
      ],
      "text/plain": [
       "Early stopping at step 0 due to reaching max kl: 2862.58\n"
      ]
     },
     "metadata": {},
     "output_type": "display_data"
    },
    {
     "data": {
      "text/html": [
       "<pre style=\"white-space:pre;overflow-x:auto;line-height:normal;font-family:Menlo,'DejaVu Sans Mono',consolas,'Courier New',monospace\"></pre>\n"
      ],
      "text/plain": []
     },
     "metadata": {},
     "output_type": "display_data"
    },
    {
     "name": "stderr",
     "output_type": "stream",
     "text": [
      "[I 2025-01-28 22:27:20,785] Trial 12 finished with value: -inf and parameters: {'learning_rate': 0.03181994405488457, 'n_steps': 11, 'batch_size': 6, 'gamma': 0.9228295627737116, 'gae_lambda': 0.8443421644709659, 'clip_range': 0.20312574629706168, 'ent_coef': 0.010628476063163715, 'vf_coef': 0.6351554807666688, 'max_grad_norm': 0.4790243381890379, 'target_kl': 0.15783456462012047, 'n_epochs': 7, 'activation_fn': 'relu', 'net_arch': 'small'}. Best is trial 0 with value: -inf.\n"
     ]
    },
    {
     "data": {
      "application/vnd.jupyter.widget-view+json": {
       "model_id": "e5577be8989e46d99f36d981358f4ee6",
       "version_major": 2,
       "version_minor": 0
      },
      "text/plain": [
       "Output()"
      ]
     },
     "metadata": {},
     "output_type": "display_data"
    },
    {
     "name": "stdout",
     "output_type": "stream",
     "text": [
      "Using cpu device\n",
      "---------------------------------\n",
      "| rollout/           |          |\n",
      "|    ep_len_mean     | 59.4     |\n",
      "|    ep_rew_mean     | -60      |\n",
      "| time/              |          |\n",
      "|    fps             | 620      |\n",
      "|    iterations      | 1        |\n",
      "|    time_elapsed    | 65       |\n",
      "|    total_timesteps | 40960    |\n",
      "---------------------------------\n"
     ]
    },
    {
     "data": {
      "text/html": [
       "<pre style=\"white-space:pre;overflow-x:auto;line-height:normal;font-family:Menlo,'DejaVu Sans Mono',consolas,'Courier New',monospace\">Early stopping at step 0 due to reaching max kl: 10.95\n",
       "</pre>\n"
      ],
      "text/plain": [
       "Early stopping at step 0 due to reaching max kl: 10.95\n"
      ]
     },
     "metadata": {},
     "output_type": "display_data"
    },
    {
     "data": {
      "text/html": [
       "<pre style=\"white-space:pre;overflow-x:auto;line-height:normal;font-family:Menlo,'DejaVu Sans Mono',consolas,'Courier New',monospace\"></pre>\n"
      ],
      "text/plain": []
     },
     "metadata": {},
     "output_type": "display_data"
    },
    {
     "name": "stderr",
     "output_type": "stream",
     "text": [
      "[I 2025-01-28 22:28:26,956] Trial 13 finished with value: -inf and parameters: {'learning_rate': 0.0020928820966171716, 'n_steps': 12, 'batch_size': 8, 'gamma': 0.9126279925827064, 'gae_lambda': 0.905877250798997, 'clip_range': 0.26359788195747047, 'ent_coef': 0.03936530820519544, 'vf_coef': 0.39542068266232544, 'max_grad_norm': 1.074160252909945, 'target_kl': 0.17065126009932555, 'n_epochs': 6, 'activation_fn': 'relu', 'net_arch': 'small'}. Best is trial 0 with value: -inf.\n"
     ]
    },
    {
     "data": {
      "application/vnd.jupyter.widget-view+json": {
       "model_id": "81aaa12c42c244cb9755973707d3a50e",
       "version_major": 2,
       "version_minor": 0
      },
      "text/plain": [
       "Output()"
      ]
     },
     "metadata": {},
     "output_type": "display_data"
    },
    {
     "name": "stdout",
     "output_type": "stream",
     "text": [
      "Using cpu device\n",
      "---------------------------------\n",
      "| rollout/           |          |\n",
      "|    ep_len_mean     | 72.3     |\n",
      "|    ep_rew_mean     | -198     |\n",
      "| time/              |          |\n",
      "|    fps             | 4602     |\n",
      "|    iterations      | 1        |\n",
      "|    time_elapsed    | 0        |\n",
      "|    total_timesteps | 2560     |\n",
      "---------------------------------\n"
     ]
    },
    {
     "data": {
      "text/html": [
       "<pre style=\"white-space:pre;overflow-x:auto;line-height:normal;font-family:Menlo,'DejaVu Sans Mono',consolas,'Courier New',monospace\">Early stopping at step 0 due to reaching max kl: 6615.39\n",
       "</pre>\n"
      ],
      "text/plain": [
       "Early stopping at step 0 due to reaching max kl: 6615.39\n"
      ]
     },
     "metadata": {},
     "output_type": "display_data"
    },
    {
     "name": "stdout",
     "output_type": "stream",
     "text": [
      "---------------------------------------\n",
      "| rollout/                |           |\n",
      "|    ep_len_mean          | 82.7      |\n",
      "|    ep_rew_mean          | -184      |\n",
      "| time/                   |           |\n",
      "|    fps                  | 3812      |\n",
      "|    iterations           | 2         |\n",
      "|    time_elapsed         | 1         |\n",
      "|    total_timesteps      | 5120      |\n",
      "| train/                  |           |\n",
      "|    approx_kl            | 3307.6946 |\n",
      "|    clip_fraction        | 0.5       |\n",
      "|    clip_range           | 0.173     |\n",
      "|    entropy_loss         | -2.81     |\n",
      "|    explained_variance   | -0.0275   |\n",
      "|    learning_rate        | 0.0504    |\n",
      "|    loss                 | 1.46e+06  |\n",
      "|    n_updates            | 1         |\n",
      "|    policy_gradient_loss | 0.157     |\n",
      "|    std                  | 0.97      |\n",
      "|    value_loss           | 8.94e+05  |\n",
      "---------------------------------------\n"
     ]
    },
    {
     "data": {
      "text/html": [
       "<pre style=\"white-space:pre;overflow-x:auto;line-height:normal;font-family:Menlo,'DejaVu Sans Mono',consolas,'Courier New',monospace\">Early stopping at step 0 due to reaching max kl: 2959.48\n",
       "</pre>\n"
      ],
      "text/plain": [
       "Early stopping at step 0 due to reaching max kl: 2959.48\n"
      ]
     },
     "metadata": {},
     "output_type": "display_data"
    },
    {
     "name": "stdout",
     "output_type": "stream",
     "text": [
      "---------------------------------------\n",
      "| rollout/                |           |\n",
      "|    ep_len_mean          | 140       |\n",
      "|    ep_rew_mean          | 116       |\n",
      "| time/                   |           |\n",
      "|    fps                  | 3395      |\n",
      "|    iterations           | 3         |\n",
      "|    time_elapsed         | 2         |\n",
      "|    total_timesteps      | 7680      |\n",
      "| train/                  |           |\n",
      "|    approx_kl            | 1479.7421 |\n",
      "|    clip_fraction        | 0.5       |\n",
      "|    clip_range           | 0.173     |\n",
      "|    entropy_loss         | -2.76     |\n",
      "|    explained_variance   | -5.17     |\n",
      "|    learning_rate        | 0.0504    |\n",
      "|    loss                 | 5.43e+04  |\n",
      "|    n_updates            | 2         |\n",
      "|    policy_gradient_loss | 0.169     |\n",
      "|    std                  | 0.953     |\n",
      "|    value_loss           | 5.46e+05  |\n",
      "---------------------------------------\n"
     ]
    },
    {
     "data": {
      "text/html": [
       "<pre style=\"white-space:pre;overflow-x:auto;line-height:normal;font-family:Menlo,'DejaVu Sans Mono',consolas,'Courier New',monospace\">Early stopping at step 0 due to reaching max kl: 3939.12\n",
       "</pre>\n"
      ],
      "text/plain": [
       "Early stopping at step 0 due to reaching max kl: 3939.12\n"
      ]
     },
     "metadata": {},
     "output_type": "display_data"
    },
    {
     "name": "stdout",
     "output_type": "stream",
     "text": [
      "---------------------------------------\n",
      "| rollout/                |           |\n",
      "|    ep_len_mean          | 162       |\n",
      "|    ep_rew_mean          | 380       |\n",
      "| time/                   |           |\n",
      "|    fps                  | 3040      |\n",
      "|    iterations           | 4         |\n",
      "|    time_elapsed         | 3         |\n",
      "|    total_timesteps      | 10240     |\n",
      "| train/                  |           |\n",
      "|    approx_kl            | 1969.5583 |\n",
      "|    clip_fraction        | 0.5       |\n",
      "|    clip_range           | 0.173     |\n",
      "|    entropy_loss         | -2.73     |\n",
      "|    explained_variance   | -3.73     |\n",
      "|    learning_rate        | 0.0504    |\n",
      "|    loss                 | 2.5e+04   |\n",
      "|    n_updates            | 3         |\n",
      "|    policy_gradient_loss | 0.161     |\n",
      "|    std                  | 0.941     |\n",
      "|    value_loss           | 1.14e+05  |\n",
      "---------------------------------------\n"
     ]
    },
    {
     "data": {
      "text/html": [
       "<pre style=\"white-space:pre;overflow-x:auto;line-height:normal;font-family:Menlo,'DejaVu Sans Mono',consolas,'Courier New',monospace\">Early stopping at step 0 due to reaching max kl: 128598.70\n",
       "</pre>\n"
      ],
      "text/plain": [
       "Early stopping at step 0 due to reaching max kl: 128598.70\n"
      ]
     },
     "metadata": {},
     "output_type": "display_data"
    },
    {
     "name": "stdout",
     "output_type": "stream",
     "text": [
      "--------------------------------------\n",
      "| rollout/                |          |\n",
      "|    ep_len_mean          | 178      |\n",
      "|    ep_rew_mean          | 375      |\n",
      "| time/                   |          |\n",
      "|    fps                  | 2801     |\n",
      "|    iterations           | 5        |\n",
      "|    time_elapsed         | 4        |\n",
      "|    total_timesteps      | 12800    |\n",
      "| train/                  |          |\n",
      "|    approx_kl            | 64299.35 |\n",
      "|    clip_fraction        | 0.5      |\n",
      "|    clip_range           | 0.173    |\n",
      "|    entropy_loss         | -2.71    |\n",
      "|    explained_variance   | -1.54    |\n",
      "|    learning_rate        | 0.0504   |\n",
      "|    loss                 | 1.05e+04 |\n",
      "|    n_updates            | 4        |\n",
      "|    policy_gradient_loss | 0.172    |\n",
      "|    std                  | 0.934    |\n",
      "|    value_loss           | 1.16e+04 |\n",
      "--------------------------------------\n"
     ]
    },
    {
     "data": {
      "text/html": [
       "<pre style=\"white-space:pre;overflow-x:auto;line-height:normal;font-family:Menlo,'DejaVu Sans Mono',consolas,'Courier New',monospace\">Early stopping at step 0 due to reaching max kl: 105546.79\n",
       "</pre>\n"
      ],
      "text/plain": [
       "Early stopping at step 0 due to reaching max kl: 105546.79\n"
      ]
     },
     "metadata": {},
     "output_type": "display_data"
    },
    {
     "name": "stdout",
     "output_type": "stream",
     "text": [
      "---------------------------------------\n",
      "| rollout/                |           |\n",
      "|    ep_len_mean          | 199       |\n",
      "|    ep_rew_mean          | 526       |\n",
      "| time/                   |           |\n",
      "|    fps                  | 2620      |\n",
      "|    iterations           | 6         |\n",
      "|    time_elapsed         | 5         |\n",
      "|    total_timesteps      | 15360     |\n",
      "| train/                  |           |\n",
      "|    approx_kl            | 52773.395 |\n",
      "|    clip_fraction        | 0.5       |\n",
      "|    clip_range           | 0.173     |\n",
      "|    entropy_loss         | -2.69     |\n",
      "|    explained_variance   | -0.59     |\n",
      "|    learning_rate        | 0.0504    |\n",
      "|    loss                 | 2.98e+03  |\n",
      "|    n_updates            | 5         |\n",
      "|    policy_gradient_loss | 0.166     |\n",
      "|    std                  | 0.925     |\n",
      "|    value_loss           | 3.34e+03  |\n",
      "---------------------------------------\n"
     ]
    },
    {
     "data": {
      "text/html": [
       "<pre style=\"white-space:pre;overflow-x:auto;line-height:normal;font-family:Menlo,'DejaVu Sans Mono',consolas,'Courier New',monospace\">Early stopping at step 0 due to reaching max kl: 323003.12\n",
       "</pre>\n"
      ],
      "text/plain": [
       "Early stopping at step 0 due to reaching max kl: 323003.12\n"
      ]
     },
     "metadata": {},
     "output_type": "display_data"
    },
    {
     "name": "stdout",
     "output_type": "stream",
     "text": [
      "---------------------------------------\n",
      "| rollout/                |           |\n",
      "|    ep_len_mean          | 226       |\n",
      "|    ep_rew_mean          | 726       |\n",
      "| time/                   |           |\n",
      "|    fps                  | 2471      |\n",
      "|    iterations           | 7         |\n",
      "|    time_elapsed         | 7         |\n",
      "|    total_timesteps      | 17920     |\n",
      "| train/                  |           |\n",
      "|    approx_kl            | 161501.56 |\n",
      "|    clip_fraction        | 0.5       |\n",
      "|    clip_range           | 0.173     |\n",
      "|    entropy_loss         | -2.67     |\n",
      "|    explained_variance   | -0.531    |\n",
      "|    learning_rate        | 0.0504    |\n",
      "|    loss                 | 2.04e+03  |\n",
      "|    n_updates            | 6         |\n",
      "|    policy_gradient_loss | 0.177     |\n",
      "|    std                  | 0.917     |\n",
      "|    value_loss           | 2.8e+03   |\n",
      "---------------------------------------\n"
     ]
    },
    {
     "data": {
      "text/html": [
       "<pre style=\"white-space:pre;overflow-x:auto;line-height:normal;font-family:Menlo,'DejaVu Sans Mono',consolas,'Courier New',monospace\">Early stopping at step 0 due to reaching max kl: 891094.62\n",
       "</pre>\n"
      ],
      "text/plain": [
       "Early stopping at step 0 due to reaching max kl: 891094.62\n"
      ]
     },
     "metadata": {},
     "output_type": "display_data"
    },
    {
     "name": "stdout",
     "output_type": "stream",
     "text": [
      "--------------------------------------\n",
      "| rollout/                |          |\n",
      "|    ep_len_mean          | 234      |\n",
      "|    ep_rew_mean          | 748      |\n",
      "| time/                   |          |\n",
      "|    fps                  | 2351     |\n",
      "|    iterations           | 8        |\n",
      "|    time_elapsed         | 8        |\n",
      "|    total_timesteps      | 20480    |\n",
      "| train/                  |          |\n",
      "|    approx_kl            | 445547.3 |\n",
      "|    clip_fraction        | 0.5      |\n",
      "|    clip_range           | 0.173    |\n",
      "|    entropy_loss         | -2.66    |\n",
      "|    explained_variance   | -0.139   |\n",
      "|    learning_rate        | 0.0504   |\n",
      "|    loss                 | 1.72e+03 |\n",
      "|    n_updates            | 7        |\n",
      "|    policy_gradient_loss | 0.185    |\n",
      "|    std                  | 0.913    |\n",
      "|    value_loss           | 2.17e+03 |\n",
      "--------------------------------------\n"
     ]
    },
    {
     "data": {
      "text/html": [
       "<pre style=\"white-space:pre;overflow-x:auto;line-height:normal;font-family:Menlo,'DejaVu Sans Mono',consolas,'Courier New',monospace\">Early stopping at step 0 due to reaching max kl: 86737.06\n",
       "</pre>\n"
      ],
      "text/plain": [
       "Early stopping at step 0 due to reaching max kl: 86737.06\n"
      ]
     },
     "metadata": {},
     "output_type": "display_data"
    },
    {
     "data": {
      "text/html": [
       "<pre style=\"white-space:pre;overflow-x:auto;line-height:normal;font-family:Menlo,'DejaVu Sans Mono',consolas,'Courier New',monospace\"></pre>\n"
      ],
      "text/plain": []
     },
     "metadata": {},
     "output_type": "display_data"
    },
    {
     "name": "stderr",
     "output_type": "stream",
     "text": [
      "[I 2025-01-28 22:28:35,849] Trial 14 finished with value: -inf and parameters: {'learning_rate': 0.0503733645797028, 'n_steps': 8, 'batch_size': 7, 'gamma': 0.9332966345808937, 'gae_lambda': 0.9600033330755745, 'clip_range': 0.1726644069256619, 'ent_coef': 0.007018589283438836, 'vf_coef': 0.81603898118974, 'max_grad_norm': 1.5987553914976624, 'target_kl': 0.13433762533389507, 'n_epochs': 9, 'activation_fn': 'relu', 'net_arch': 'small'}. Best is trial 0 with value: -inf.\n"
     ]
    },
    {
     "data": {
      "application/vnd.jupyter.widget-view+json": {
       "model_id": "c2d2930cca974d588da7b2b6443d5b7c",
       "version_major": 2,
       "version_minor": 0
      },
      "text/plain": [
       "Output()"
      ]
     },
     "metadata": {},
     "output_type": "display_data"
    },
    {
     "name": "stdout",
     "output_type": "stream",
     "text": [
      "Using cpu device\n",
      "---------------------------------\n",
      "| rollout/           |          |\n",
      "|    ep_len_mean     | 92       |\n",
      "|    ep_rew_mean     | 42.8     |\n",
      "| time/              |          |\n",
      "|    fps             | 1857     |\n",
      "|    iterations      | 1        |\n",
      "|    time_elapsed    | 5        |\n",
      "|    total_timesteps | 10240    |\n",
      "---------------------------------\n"
     ]
    },
    {
     "data": {
      "text/html": [
       "<pre style=\"white-space:pre;overflow-x:auto;line-height:normal;font-family:Menlo,'DejaVu Sans Mono',consolas,'Courier New',monospace\">Early stopping at step 0 due to reaching max kl: 219.81\n",
       "</pre>\n"
      ],
      "text/plain": [
       "Early stopping at step 0 due to reaching max kl: 219.81\n"
      ]
     },
     "metadata": {},
     "output_type": "display_data"
    },
    {
     "name": "stdout",
     "output_type": "stream",
     "text": [
      "---------------------------------------\n",
      "| rollout/                |           |\n",
      "|    ep_len_mean          | 161       |\n",
      "|    ep_rew_mean          | 352       |\n",
      "| time/                   |           |\n",
      "|    fps                  | 1478      |\n",
      "|    iterations           | 2         |\n",
      "|    time_elapsed         | 13        |\n",
      "|    total_timesteps      | 20480     |\n",
      "| train/                  |           |\n",
      "|    approx_kl            | 109.90289 |\n",
      "|    clip_fraction        | 0.5       |\n",
      "|    clip_range           | 0.267     |\n",
      "|    entropy_loss         | -2.85     |\n",
      "|    explained_variance   | 0.0273    |\n",
      "|    learning_rate        | 0.00743   |\n",
      "|    loss                 | 1.96e+03  |\n",
      "|    n_updates            | 1         |\n",
      "|    policy_gradient_loss | 0.136     |\n",
      "|    std                  | 1.01      |\n",
      "|    value_loss           | 1.95e+03  |\n",
      "---------------------------------------\n"
     ]
    },
    {
     "data": {
      "text/html": [
       "<pre style=\"white-space:pre;overflow-x:auto;line-height:normal;font-family:Menlo,'DejaVu Sans Mono',consolas,'Courier New',monospace\">Early stopping at step 0 due to reaching max kl: 447.17\n",
       "</pre>\n"
      ],
      "text/plain": [
       "Early stopping at step 0 due to reaching max kl: 447.17\n"
      ]
     },
     "metadata": {},
     "output_type": "display_data"
    },
    {
     "data": {
      "text/html": [
       "<pre style=\"white-space:pre;overflow-x:auto;line-height:normal;font-family:Menlo,'DejaVu Sans Mono',consolas,'Courier New',monospace\"></pre>\n"
      ],
      "text/plain": []
     },
     "metadata": {},
     "output_type": "display_data"
    },
    {
     "name": "stderr",
     "output_type": "stream",
     "text": [
      "[I 2025-01-28 22:28:49,874] Trial 15 finished with value: -inf and parameters: {'learning_rate': 0.007433524263906323, 'n_steps': 10, 'batch_size': 6, 'gamma': 0.9093866302240107, 'gae_lambda': 0.8719747651943934, 'clip_range': 0.26660143546032533, 'ent_coef': 0.08665788200540918, 'vf_coef': 0.5924936065197004, 'max_grad_norm': 2.6342005615442856, 'target_kl': 0.12128916875090284, 'n_epochs': 5, 'activation_fn': 'relu', 'net_arch': 'small'}. Best is trial 0 with value: -inf.\n"
     ]
    },
    {
     "data": {
      "application/vnd.jupyter.widget-view+json": {
       "model_id": "e51f3b9c5882417687e1723070cf65fb",
       "version_major": 2,
       "version_minor": 0
      },
      "text/plain": [
       "Output()"
      ]
     },
     "metadata": {},
     "output_type": "display_data"
    },
    {
     "name": "stdout",
     "output_type": "stream",
     "text": [
      "Using cpu device\n",
      "---------------------------------\n",
      "| rollout/           |          |\n",
      "|    ep_len_mean     | 94.7     |\n",
      "|    ep_rew_mean     | 129      |\n",
      "| time/              |          |\n",
      "|    fps             | 1500     |\n",
      "|    iterations      | 1        |\n",
      "|    time_elapsed    | 13       |\n",
      "|    total_timesteps | 20480    |\n",
      "---------------------------------\n"
     ]
    },
    {
     "data": {
      "text/html": [
       "<pre style=\"white-space:pre;overflow-x:auto;line-height:normal;font-family:Menlo,'DejaVu Sans Mono',consolas,'Courier New',monospace\">Early stopping at step 0 due to reaching max kl: 0.39\n",
       "</pre>\n"
      ],
      "text/plain": [
       "Early stopping at step 0 due to reaching max kl: 0.39\n"
      ]
     },
     "metadata": {},
     "output_type": "display_data"
    },
    {
     "data": {
      "text/html": [
       "<pre style=\"white-space:pre;overflow-x:auto;line-height:normal;font-family:Menlo,'DejaVu Sans Mono',consolas,'Courier New',monospace\"></pre>\n"
      ],
      "text/plain": []
     },
     "metadata": {},
     "output_type": "display_data"
    },
    {
     "name": "stderr",
     "output_type": "stream",
     "text": [
      "[I 2025-01-28 22:29:03,704] Trial 16 finished with value: -inf and parameters: {'learning_rate': 0.0005515425817187722, 'n_steps': 11, 'batch_size': 5, 'gamma': 0.9488285389302562, 'gae_lambda': 0.9064007200230252, 'clip_range': 0.21671243020293326, 'ent_coef': 0.0028103521645436503, 'vf_coef': 0.415785705684269, 'max_grad_norm': 0.9631026843681079, 'target_kl': 0.16009352548647532, 'n_epochs': 7, 'activation_fn': 'relu', 'net_arch': 'small'}. Best is trial 0 with value: -inf.\n"
     ]
    },
    {
     "data": {
      "application/vnd.jupyter.widget-view+json": {
       "model_id": "91c4031ae482472aa56df1dd2dd2580e",
       "version_major": 2,
       "version_minor": 0
      },
      "text/plain": [
       "Output()"
      ]
     },
     "metadata": {},
     "output_type": "display_data"
    },
    {
     "name": "stdout",
     "output_type": "stream",
     "text": [
      "Using cpu device\n",
      "---------------------------------\n",
      "| rollout/           |          |\n",
      "|    ep_len_mean     | 79.2     |\n",
      "|    ep_rew_mean     | -111     |\n",
      "| time/              |          |\n",
      "|    fps             | 3358     |\n",
      "|    iterations      | 1        |\n",
      "|    time_elapsed    | 1        |\n",
      "|    total_timesteps | 5120     |\n",
      "---------------------------------\n"
     ]
    },
    {
     "data": {
      "text/html": [
       "<pre style=\"white-space:pre;overflow-x:auto;line-height:normal;font-family:Menlo,'DejaVu Sans Mono',consolas,'Courier New',monospace\">Early stopping at step 0 due to reaching max kl: 42300.89\n",
       "</pre>\n"
      ],
      "text/plain": [
       "Early stopping at step 0 due to reaching max kl: 42300.89\n"
      ]
     },
     "metadata": {},
     "output_type": "display_data"
    },
    {
     "name": "stdout",
     "output_type": "stream",
     "text": [
      "---------------------------------------\n",
      "| rollout/                |           |\n",
      "|    ep_len_mean          | 126       |\n",
      "|    ep_rew_mean          | -13.5     |\n",
      "| time/                   |           |\n",
      "|    fps                  | 2796      |\n",
      "|    iterations           | 2         |\n",
      "|    time_elapsed         | 3         |\n",
      "|    total_timesteps      | 10240     |\n",
      "| train/                  |           |\n",
      "|    approx_kl            | 21150.447 |\n",
      "|    clip_fraction        | 0.5       |\n",
      "|    clip_range           | 0.154     |\n",
      "|    entropy_loss         | -2.84     |\n",
      "|    explained_variance   | -0.103    |\n",
      "|    learning_rate        | 0.0846    |\n",
      "|    loss                 | 2.52e+05  |\n",
      "|    n_updates            | 1         |\n",
      "|    policy_gradient_loss | 0.147     |\n",
      "|    std                  | 1.01      |\n",
      "|    value_loss           | 1.48e+05  |\n",
      "---------------------------------------\n"
     ]
    },
    {
     "data": {
      "text/html": [
       "<pre style=\"white-space:pre;overflow-x:auto;line-height:normal;font-family:Menlo,'DejaVu Sans Mono',consolas,'Courier New',monospace\">Early stopping at step 0 due to reaching max kl: 26400.68\n",
       "</pre>\n"
      ],
      "text/plain": [
       "Early stopping at step 0 due to reaching max kl: 26400.68\n"
      ]
     },
     "metadata": {},
     "output_type": "display_data"
    },
    {
     "name": "stdout",
     "output_type": "stream",
     "text": [
      "---------------------------------------\n",
      "| rollout/                |           |\n",
      "|    ep_len_mean          | 161       |\n",
      "|    ep_rew_mean          | 226       |\n",
      "| time/                   |           |\n",
      "|    fps                  | 2509      |\n",
      "|    iterations           | 3         |\n",
      "|    time_elapsed         | 6         |\n",
      "|    total_timesteps      | 15360     |\n",
      "| train/                  |           |\n",
      "|    approx_kl            | 13200.338 |\n",
      "|    clip_fraction        | 0.5       |\n",
      "|    clip_range           | 0.154     |\n",
      "|    entropy_loss         | -2.86     |\n",
      "|    explained_variance   | 0.467     |\n",
      "|    learning_rate        | 0.0846    |\n",
      "|    loss                 | 4.41e+06  |\n",
      "|    n_updates            | 2         |\n",
      "|    policy_gradient_loss | 0.173     |\n",
      "|    std                  | 1.02      |\n",
      "|    value_loss           | 2.66e+06  |\n",
      "---------------------------------------\n"
     ]
    },
    {
     "data": {
      "text/html": [
       "<pre style=\"white-space:pre;overflow-x:auto;line-height:normal;font-family:Menlo,'DejaVu Sans Mono',consolas,'Courier New',monospace\">Early stopping at step 0 due to reaching max kl: 35544.93\n",
       "</pre>\n"
      ],
      "text/plain": [
       "Early stopping at step 0 due to reaching max kl: 35544.93\n"
      ]
     },
     "metadata": {},
     "output_type": "display_data"
    },
    {
     "name": "stdout",
     "output_type": "stream",
     "text": [
      "---------------------------------------\n",
      "| rollout/                |           |\n",
      "|    ep_len_mean          | 191       |\n",
      "|    ep_rew_mean          | 395       |\n",
      "| time/                   |           |\n",
      "|    fps                  | 2305      |\n",
      "|    iterations           | 4         |\n",
      "|    time_elapsed         | 8         |\n",
      "|    total_timesteps      | 20480     |\n",
      "| train/                  |           |\n",
      "|    approx_kl            | 17772.467 |\n",
      "|    clip_fraction        | 0.5       |\n",
      "|    clip_range           | 0.154     |\n",
      "|    entropy_loss         | -2.86     |\n",
      "|    explained_variance   | -1.38     |\n",
      "|    learning_rate        | 0.0846    |\n",
      "|    loss                 | 3.08e+06  |\n",
      "|    n_updates            | 3         |\n",
      "|    policy_gradient_loss | 0.173     |\n",
      "|    std                  | 1.02      |\n",
      "|    value_loss           | 2.12e+06  |\n",
      "---------------------------------------\n"
     ]
    },
    {
     "data": {
      "text/html": [
       "<pre style=\"white-space:pre;overflow-x:auto;line-height:normal;font-family:Menlo,'DejaVu Sans Mono',consolas,'Courier New',monospace\">Early stopping at step 0 due to reaching max kl: 18659.13\n",
       "</pre>\n"
      ],
      "text/plain": [
       "Early stopping at step 0 due to reaching max kl: 18659.13\n"
      ]
     },
     "metadata": {},
     "output_type": "display_data"
    },
    {
     "data": {
      "text/html": [
       "<pre style=\"white-space:pre;overflow-x:auto;line-height:normal;font-family:Menlo,'DejaVu Sans Mono',consolas,'Courier New',monospace\"></pre>\n"
      ],
      "text/plain": []
     },
     "metadata": {},
     "output_type": "display_data"
    },
    {
     "name": "stderr",
     "output_type": "stream",
     "text": [
      "[I 2025-01-28 22:29:12,769] Trial 17 finished with value: -inf and parameters: {'learning_rate': 0.08459580193386712, 'n_steps': 9, 'batch_size': 8, 'gamma': 0.9274014274084127, 'gae_lambda': 0.8254504037644114, 'clip_range': 0.15392020731444667, 'ent_coef': 0.02187477497894267, 'vf_coef': 0.8521731608976866, 'max_grad_norm': 1.5734499152599477, 'target_kl': 0.18476504868067928, 'n_epochs': 4, 'activation_fn': 'relu', 'net_arch': 'small'}. Best is trial 0 with value: -inf.\n"
     ]
    },
    {
     "data": {
      "application/vnd.jupyter.widget-view+json": {
       "model_id": "5fb1e473a9f9432abb28803130ee55ef",
       "version_major": 2,
       "version_minor": 0
      },
      "text/plain": [
       "Output()"
      ]
     },
     "metadata": {},
     "output_type": "display_data"
    },
    {
     "name": "stdout",
     "output_type": "stream",
     "text": [
      "Using cpu device\n",
      "---------------------------------\n",
      "| rollout/           |          |\n",
      "|    ep_len_mean     | 62       |\n",
      "|    ep_rew_mean     | -171     |\n",
      "| time/              |          |\n",
      "|    fps             | 5905     |\n",
      "|    iterations      | 1        |\n",
      "|    time_elapsed    | 0        |\n",
      "|    total_timesteps | 1280     |\n",
      "---------------------------------\n",
      "------------------------------------------\n",
      "| rollout/                |              |\n",
      "|    ep_len_mean          | 73.4         |\n",
      "|    ep_rew_mean          | -208         |\n",
      "| time/                   |              |\n",
      "|    fps                  | 3949         |\n",
      "|    iterations           | 2            |\n",
      "|    time_elapsed         | 0            |\n",
      "|    total_timesteps      | 2560         |\n",
      "| train/                  |              |\n",
      "|    approx_kl            | 0.0027158451 |\n",
      "|    clip_fraction        | 0.000868     |\n",
      "|    clip_range           | 0.264        |\n",
      "|    entropy_loss         | -2.84        |\n",
      "|    explained_variance   | -0.0149      |\n",
      "|    learning_rate        | 5.53e-05     |\n",
      "|    loss                 | 69.6         |\n",
      "|    n_updates            | 9            |\n",
      "|    policy_gradient_loss | -0.00411     |\n",
      "|    std                  | 0.999        |\n",
      "|    value_loss           | 352          |\n",
      "------------------------------------------\n",
      "-----------------------------------------\n",
      "| rollout/                |             |\n",
      "|    ep_len_mean          | 99.5        |\n",
      "|    ep_rew_mean          | -216        |\n",
      "| time/                   |             |\n",
      "|    fps                  | 3468        |\n",
      "|    iterations           | 3           |\n",
      "|    time_elapsed         | 1           |\n",
      "|    total_timesteps      | 3840        |\n",
      "| train/                  |             |\n",
      "|    approx_kl            | 0.007928131 |\n",
      "|    clip_fraction        | 0.013       |\n",
      "|    clip_range           | 0.264       |\n",
      "|    entropy_loss         | -2.84       |\n",
      "|    explained_variance   | -0.00109    |\n",
      "|    learning_rate        | 5.53e-05    |\n",
      "|    loss                 | 67.7        |\n",
      "|    n_updates            | 18          |\n",
      "|    policy_gradient_loss | -0.00705    |\n",
      "|    std                  | 0.999       |\n",
      "|    value_loss           | 303         |\n",
      "-----------------------------------------\n",
      "------------------------------------------\n",
      "| rollout/                |              |\n",
      "|    ep_len_mean          | 111          |\n",
      "|    ep_rew_mean          | -240         |\n",
      "| time/                   |              |\n",
      "|    fps                  | 3190         |\n",
      "|    iterations           | 4            |\n",
      "|    time_elapsed         | 1            |\n",
      "|    total_timesteps      | 5120         |\n",
      "| train/                  |              |\n",
      "|    approx_kl            | 0.0061592935 |\n",
      "|    clip_fraction        | 0.00608      |\n",
      "|    clip_range           | 0.264        |\n",
      "|    entropy_loss         | -2.83        |\n",
      "|    explained_variance   | 0.000957     |\n",
      "|    learning_rate        | 5.53e-05     |\n",
      "|    loss                 | 55.1         |\n",
      "|    n_updates            | 27           |\n",
      "|    policy_gradient_loss | -0.00576     |\n",
      "|    std                  | 0.997        |\n",
      "|    value_loss           | 344          |\n",
      "------------------------------------------\n",
      "-----------------------------------------\n",
      "| rollout/                |             |\n",
      "|    ep_len_mean          | 140         |\n",
      "|    ep_rew_mean          | -198        |\n",
      "| time/                   |             |\n",
      "|    fps                  | 3021        |\n",
      "|    iterations           | 5           |\n",
      "|    time_elapsed         | 2           |\n",
      "|    total_timesteps      | 6400        |\n",
      "| train/                  |             |\n",
      "|    approx_kl            | 0.008685565 |\n",
      "|    clip_fraction        | 0.0209      |\n",
      "|    clip_range           | 0.264       |\n",
      "|    entropy_loss         | -2.83       |\n",
      "|    explained_variance   | 0.0293      |\n",
      "|    learning_rate        | 5.53e-05    |\n",
      "|    loss                 | 49.2        |\n",
      "|    n_updates            | 36          |\n",
      "|    policy_gradient_loss | -0.0102     |\n",
      "|    std                  | 0.995       |\n",
      "|    value_loss           | 240         |\n",
      "-----------------------------------------\n",
      "------------------------------------------\n",
      "| rollout/                |              |\n",
      "|    ep_len_mean          | 161          |\n",
      "|    ep_rew_mean          | -193         |\n",
      "| time/                   |              |\n",
      "|    fps                  | 2900         |\n",
      "|    iterations           | 6            |\n",
      "|    time_elapsed         | 2            |\n",
      "|    total_timesteps      | 7680         |\n",
      "| train/                  |              |\n",
      "|    approx_kl            | 0.0056005497 |\n",
      "|    clip_fraction        | 0.00573      |\n",
      "|    clip_range           | 0.264        |\n",
      "|    entropy_loss         | -2.83        |\n",
      "|    explained_variance   | -0.0615      |\n",
      "|    learning_rate        | 5.53e-05     |\n",
      "|    loss                 | 43           |\n",
      "|    n_updates            | 45           |\n",
      "|    policy_gradient_loss | -0.00488     |\n",
      "|    std                  | 0.996        |\n",
      "|    value_loss           | 279          |\n",
      "------------------------------------------\n",
      "------------------------------------------\n",
      "| rollout/                |              |\n",
      "|    ep_len_mean          | 173          |\n",
      "|    ep_rew_mean          | -174         |\n",
      "| time/                   |              |\n",
      "|    fps                  | 2791         |\n",
      "|    iterations           | 7            |\n",
      "|    time_elapsed         | 3            |\n",
      "|    total_timesteps      | 8960         |\n",
      "| train/                  |              |\n",
      "|    approx_kl            | 0.0040593725 |\n",
      "|    clip_fraction        | 0.00208      |\n",
      "|    clip_range           | 0.264        |\n",
      "|    entropy_loss         | -2.83        |\n",
      "|    explained_variance   | 0.0466       |\n",
      "|    learning_rate        | 5.53e-05     |\n",
      "|    loss                 | 31.9         |\n",
      "|    n_updates            | 54           |\n",
      "|    policy_gradient_loss | -0.00637     |\n",
      "|    std                  | 0.996        |\n",
      "|    value_loss           | 277          |\n",
      "------------------------------------------\n",
      "------------------------------------------\n",
      "| rollout/                |              |\n",
      "|    ep_len_mean          | 188          |\n",
      "|    ep_rew_mean          | -203         |\n",
      "| time/                   |              |\n",
      "|    fps                  | 2708         |\n",
      "|    iterations           | 8            |\n",
      "|    time_elapsed         | 3            |\n",
      "|    total_timesteps      | 10240        |\n",
      "| train/                  |              |\n",
      "|    approx_kl            | 0.0038739902 |\n",
      "|    clip_fraction        | 0.00278      |\n",
      "|    clip_range           | 0.264        |\n",
      "|    entropy_loss         | -2.83        |\n",
      "|    explained_variance   | 0.0567       |\n",
      "|    learning_rate        | 5.53e-05     |\n",
      "|    loss                 | 33.5         |\n",
      "|    n_updates            | 63           |\n",
      "|    policy_gradient_loss | -0.00563     |\n",
      "|    std                  | 0.996        |\n",
      "|    value_loss           | 165          |\n",
      "------------------------------------------\n",
      "------------------------------------------\n",
      "| rollout/                |              |\n",
      "|    ep_len_mean          | 199          |\n",
      "|    ep_rew_mean          | -175         |\n",
      "| time/                   |              |\n",
      "|    fps                  | 2607         |\n",
      "|    iterations           | 9            |\n",
      "|    time_elapsed         | 4            |\n",
      "|    total_timesteps      | 11520        |\n",
      "| train/                  |              |\n",
      "|    approx_kl            | 0.0070449365 |\n",
      "|    clip_fraction        | 0.0105       |\n",
      "|    clip_range           | 0.264        |\n",
      "|    entropy_loss         | -2.83        |\n",
      "|    explained_variance   | -0.00744     |\n",
      "|    learning_rate        | 5.53e-05     |\n",
      "|    loss                 | 89.8         |\n",
      "|    n_updates            | 72           |\n",
      "|    policy_gradient_loss | -0.00739     |\n",
      "|    std                  | 0.997        |\n",
      "|    value_loss           | 365          |\n",
      "------------------------------------------\n",
      "------------------------------------------\n",
      "| rollout/                |              |\n",
      "|    ep_len_mean          | 206          |\n",
      "|    ep_rew_mean          | -167         |\n",
      "| time/                   |              |\n",
      "|    fps                  | 2532         |\n",
      "|    iterations           | 10           |\n",
      "|    time_elapsed         | 5            |\n",
      "|    total_timesteps      | 12800        |\n",
      "| train/                  |              |\n",
      "|    approx_kl            | 0.0012305892 |\n",
      "|    clip_fraction        | 8.68e-05     |\n",
      "|    clip_range           | 0.264        |\n",
      "|    entropy_loss         | -2.83        |\n",
      "|    explained_variance   | 0.00369      |\n",
      "|    learning_rate        | 5.53e-05     |\n",
      "|    loss                 | 88.5         |\n",
      "|    n_updates            | 81           |\n",
      "|    policy_gradient_loss | -0.00338     |\n",
      "|    std                  | 0.996        |\n",
      "|    value_loss           | 414          |\n",
      "------------------------------------------\n",
      "-------------------------------------------\n",
      "| rollout/                |               |\n",
      "|    ep_len_mean          | 213           |\n",
      "|    ep_rew_mean          | -95.4         |\n",
      "| time/                   |               |\n",
      "|    fps                  | 2468          |\n",
      "|    iterations           | 11            |\n",
      "|    time_elapsed         | 5             |\n",
      "|    total_timesteps      | 14080         |\n",
      "| train/                  |               |\n",
      "|    approx_kl            | 0.00048731192 |\n",
      "|    clip_fraction        | 0             |\n",
      "|    clip_range           | 0.264         |\n",
      "|    entropy_loss         | -2.83         |\n",
      "|    explained_variance   | 0.0348        |\n",
      "|    learning_rate        | 5.53e-05      |\n",
      "|    loss                 | 94.4          |\n",
      "|    n_updates            | 90            |\n",
      "|    policy_gradient_loss | -0.00171      |\n",
      "|    std                  | 0.996         |\n",
      "|    value_loss           | 450           |\n",
      "-------------------------------------------\n",
      "-------------------------------------------\n",
      "| rollout/                |               |\n",
      "|    ep_len_mean          | 219           |\n",
      "|    ep_rew_mean          | -57.6         |\n",
      "| time/                   |               |\n",
      "|    fps                  | 2401          |\n",
      "|    iterations           | 12            |\n",
      "|    time_elapsed         | 6             |\n",
      "|    total_timesteps      | 15360         |\n",
      "| train/                  |               |\n",
      "|    approx_kl            | 0.00050996296 |\n",
      "|    clip_fraction        | 0             |\n",
      "|    clip_range           | 0.264         |\n",
      "|    entropy_loss         | -2.83         |\n",
      "|    explained_variance   | 0.0565        |\n",
      "|    learning_rate        | 5.53e-05      |\n",
      "|    loss                 | 99.4          |\n",
      "|    n_updates            | 99            |\n",
      "|    policy_gradient_loss | -0.00211      |\n",
      "|    std                  | 0.996         |\n",
      "|    value_loss           | 609           |\n",
      "-------------------------------------------\n",
      "------------------------------------------\n",
      "| rollout/                |              |\n",
      "|    ep_len_mean          | 223          |\n",
      "|    ep_rew_mean          | 23.8         |\n",
      "| time/                   |              |\n",
      "|    fps                  | 2291         |\n",
      "|    iterations           | 13           |\n",
      "|    time_elapsed         | 7            |\n",
      "|    total_timesteps      | 16640        |\n",
      "| train/                  |              |\n",
      "|    approx_kl            | 0.0007548905 |\n",
      "|    clip_fraction        | 8.68e-05     |\n",
      "|    clip_range           | 0.264        |\n",
      "|    entropy_loss         | -2.83        |\n",
      "|    explained_variance   | 0.024        |\n",
      "|    learning_rate        | 5.53e-05     |\n",
      "|    loss                 | 101          |\n",
      "|    n_updates            | 108          |\n",
      "|    policy_gradient_loss | -0.00238     |\n",
      "|    std                  | 0.996        |\n",
      "|    value_loss           | 474          |\n",
      "------------------------------------------\n",
      "------------------------------------------\n",
      "| rollout/                |              |\n",
      "|    ep_len_mean          | 224          |\n",
      "|    ep_rew_mean          | 28.1         |\n",
      "| time/                   |              |\n",
      "|    fps                  | 2227         |\n",
      "|    iterations           | 14           |\n",
      "|    time_elapsed         | 8            |\n",
      "|    total_timesteps      | 17920        |\n",
      "| train/                  |              |\n",
      "|    approx_kl            | 0.0025835824 |\n",
      "|    clip_fraction        | 0.000347     |\n",
      "|    clip_range           | 0.264        |\n",
      "|    entropy_loss         | -2.83        |\n",
      "|    explained_variance   | -0.0139      |\n",
      "|    learning_rate        | 5.53e-05     |\n",
      "|    loss                 | 101          |\n",
      "|    n_updates            | 117          |\n",
      "|    policy_gradient_loss | -0.0042      |\n",
      "|    std                  | 0.996        |\n",
      "|    value_loss           | 527          |\n",
      "------------------------------------------\n",
      "------------------------------------------\n",
      "| rollout/                |              |\n",
      "|    ep_len_mean          | 225          |\n",
      "|    ep_rew_mean          | 55.1         |\n",
      "| time/                   |              |\n",
      "|    fps                  | 2167         |\n",
      "|    iterations           | 15           |\n",
      "|    time_elapsed         | 8            |\n",
      "|    total_timesteps      | 19200        |\n",
      "| train/                  |              |\n",
      "|    approx_kl            | 0.0018560288 |\n",
      "|    clip_fraction        | 0.000174     |\n",
      "|    clip_range           | 0.264        |\n",
      "|    entropy_loss         | -2.83        |\n",
      "|    explained_variance   | -0.0057      |\n",
      "|    learning_rate        | 5.53e-05     |\n",
      "|    loss                 | 66.1         |\n",
      "|    n_updates            | 126          |\n",
      "|    policy_gradient_loss | -0.00454     |\n",
      "|    std                  | 0.996        |\n",
      "|    value_loss           | 375          |\n",
      "------------------------------------------\n",
      "------------------------------------------\n",
      "| rollout/                |              |\n",
      "|    ep_len_mean          | 227          |\n",
      "|    ep_rew_mean          | 51.6         |\n",
      "| time/                   |              |\n",
      "|    fps                  | 2108         |\n",
      "|    iterations           | 16           |\n",
      "|    time_elapsed         | 9            |\n",
      "|    total_timesteps      | 20480        |\n",
      "| train/                  |              |\n",
      "|    approx_kl            | 0.0024775318 |\n",
      "|    clip_fraction        | 0.000608     |\n",
      "|    clip_range           | 0.264        |\n",
      "|    entropy_loss         | -2.83        |\n",
      "|    explained_variance   | -0.0295      |\n",
      "|    learning_rate        | 5.53e-05     |\n",
      "|    loss                 | 70.2         |\n",
      "|    n_updates            | 135          |\n",
      "|    policy_gradient_loss | -0.00412     |\n",
      "|    std                  | 0.995        |\n",
      "|    value_loss           | 412          |\n",
      "------------------------------------------\n"
     ]
    },
    {
     "data": {
      "text/html": [
       "<pre style=\"white-space:pre;overflow-x:auto;line-height:normal;font-family:Menlo,'DejaVu Sans Mono',consolas,'Courier New',monospace\"></pre>\n"
      ],
      "text/plain": []
     },
     "metadata": {},
     "output_type": "display_data"
    },
    {
     "name": "stderr",
     "output_type": "stream",
     "text": [
      "[I 2025-01-28 22:29:22,861] Trial 18 finished with value: -inf and parameters: {'learning_rate': 5.5338463090962595e-05, 'n_steps': 7, 'batch_size': 7, 'gamma': 0.9150955958629363, 'gae_lambda': 0.8549745091981609, 'clip_range': 0.26372886978067545, 'ent_coef': 0.0011733094688339293, 'vf_coef': 0.19982286698045404, 'max_grad_norm': 2.3095745882769645, 'target_kl': 0.14265997220944474, 'n_epochs': 9, 'activation_fn': 'tanh', 'net_arch': 'tiny'}. Best is trial 0 with value: -inf.\n"
     ]
    },
    {
     "data": {
      "application/vnd.jupyter.widget-view+json": {
       "model_id": "3da8402a6aba417dac5f4e5e034bca03",
       "version_major": 2,
       "version_minor": 0
      },
      "text/plain": [
       "Output()"
      ]
     },
     "metadata": {},
     "output_type": "display_data"
    },
    {
     "name": "stdout",
     "output_type": "stream",
     "text": [
      "Using cpu device\n"
     ]
    },
    {
     "name": "stderr",
     "output_type": "stream",
     "text": [
      "[W 2025-01-28 22:30:03,293] Trial 19 failed with parameters: {'learning_rate': 0.0007703603133968627, 'n_steps': 12, 'batch_size': 6, 'gamma': 0.9711060929398074, 'gae_lambda': 0.8344294028655276, 'clip_range': 0.21919981922330883, 'ent_coef': 0.04644086444532992, 'vf_coef': 0.6808189017981737, 'max_grad_norm': 0.639815129465893, 'target_kl': 0.17287832741566356, 'n_epochs': 7, 'activation_fn': 'relu', 'net_arch': 'small'} because of the following error: KeyboardInterrupt().\n",
      "Traceback (most recent call last):\n",
      "  File \"/usr/local/lib/python3.11/dist-packages/optuna/study/_optimize.py\", line 197, in _run_trial\n",
      "    value_or_values = func(trial)\n",
      "                      ^^^^^^^^^^^\n",
      "  File \"/tmp/ipykernel_2506/2069060311.py\", line 38, in objective\n",
      "    model.learn(N_TIMESTEPS, callback=eval_callback, progress_bar=True)\n",
      "  File \"/usr/local/lib/python3.11/dist-packages/stable_baselines3/ppo/ppo.py\", line 311, in learn\n",
      "    return super().learn(\n",
      "           ^^^^^^^^^^^^^^\n",
      "  File \"/usr/local/lib/python3.11/dist-packages/stable_baselines3/common/on_policy_algorithm.py\", line 323, in learn\n",
      "    continue_training = self.collect_rollouts(self.env, callback, self.rollout_buffer, n_rollout_steps=self.n_steps)\n",
      "                        ^^^^^^^^^^^^^^^^^^^^^^^^^^^^^^^^^^^^^^^^^^^^^^^^^^^^^^^^^^^^^^^^^^^^^^^^^^^^^^^^^^^^^^^^^^^^\n",
      "  File \"/usr/local/lib/python3.11/dist-packages/stable_baselines3/common/on_policy_algorithm.py\", line 247, in collect_rollouts\n",
      "    rollout_buffer.add(\n",
      "  File \"/usr/local/lib/python3.11/dist-packages/stable_baselines3/common/buffers.py\", line 475, in add\n",
      "    self.log_probs[self.pos] = log_prob.clone().cpu().numpy()\n",
      "                               ^^^^^^^^^^^^^^^^\n",
      "KeyboardInterrupt\n",
      "[W 2025-01-28 22:30:03,305] Trial 19 failed with value None.\n"
     ]
    },
    {
     "data": {
      "text/html": [
       "<pre style=\"white-space:pre;overflow-x:auto;line-height:normal;font-family:Menlo,'DejaVu Sans Mono',consolas,'Courier New',monospace\">Number of finished trials:  20\n",
       "</pre>\n"
      ],
      "text/plain": [
       "Number of finished trials:  20\n"
      ]
     },
     "metadata": {},
     "output_type": "display_data"
    },
    {
     "data": {
      "text/html": [
       "<pre style=\"white-space:pre;overflow-x:auto;line-height:normal;font-family:Menlo,'DejaVu Sans Mono',consolas,'Courier New',monospace\">Best trial:\n",
       "</pre>\n"
      ],
      "text/plain": [
       "Best trial:\n"
      ]
     },
     "metadata": {},
     "output_type": "display_data"
    },
    {
     "data": {
      "text/html": [
       "<pre style=\"white-space:pre;overflow-x:auto;line-height:normal;font-family:Menlo,'DejaVu Sans Mono',consolas,'Courier New',monospace\">  Value: -inf\n",
       "</pre>\n"
      ],
      "text/plain": [
       "  Value: -inf\n"
      ]
     },
     "metadata": {},
     "output_type": "display_data"
    },
    {
     "data": {
      "text/html": [
       "<pre style=\"white-space:pre;overflow-x:auto;line-height:normal;font-family:Menlo,'DejaVu Sans Mono',consolas,'Courier New',monospace\">  Params: \n",
       "</pre>\n"
      ],
      "text/plain": [
       "  Params: \n"
      ]
     },
     "metadata": {},
     "output_type": "display_data"
    },
    {
     "data": {
      "text/html": [
       "<pre style=\"white-space:pre;overflow-x:auto;line-height:normal;font-family:Menlo,'DejaVu Sans Mono',consolas,'Courier New',monospace\">    learning_rate: 1.5982843041843627e-05\n",
       "</pre>\n"
      ],
      "text/plain": [
       "    learning_rate: 1.5982843041843627e-05\n"
      ]
     },
     "metadata": {},
     "output_type": "display_data"
    },
    {
     "data": {
      "text/html": [
       "<pre style=\"white-space:pre;overflow-x:auto;line-height:normal;font-family:Menlo,'DejaVu Sans Mono',consolas,'Courier New',monospace\">    n_steps: 12\n",
       "</pre>\n"
      ],
      "text/plain": [
       "    n_steps: 12\n"
      ]
     },
     "metadata": {},
     "output_type": "display_data"
    },
    {
     "data": {
      "text/html": [
       "<pre style=\"white-space:pre;overflow-x:auto;line-height:normal;font-family:Menlo,'DejaVu Sans Mono',consolas,'Courier New',monospace\">    batch_size: 6\n",
       "</pre>\n"
      ],
      "text/plain": [
       "    batch_size: 6\n"
      ]
     },
     "metadata": {},
     "output_type": "display_data"
    },
    {
     "data": {
      "text/html": [
       "<pre style=\"white-space:pre;overflow-x:auto;line-height:normal;font-family:Menlo,'DejaVu Sans Mono',consolas,'Courier New',monospace\">    gamma: 0.9107238741574982\n",
       "</pre>\n"
      ],
      "text/plain": [
       "    gamma: 0.9107238741574982\n"
      ]
     },
     "metadata": {},
     "output_type": "display_data"
    },
    {
     "data": {
      "text/html": [
       "<pre style=\"white-space:pre;overflow-x:auto;line-height:normal;font-family:Menlo,'DejaVu Sans Mono',consolas,'Courier New',monospace\">    gae_lambda: 0.8655387073048394\n",
       "</pre>\n"
      ],
      "text/plain": [
       "    gae_lambda: 0.8655387073048394\n"
      ]
     },
     "metadata": {},
     "output_type": "display_data"
    },
    {
     "data": {
      "text/html": [
       "<pre style=\"white-space:pre;overflow-x:auto;line-height:normal;font-family:Menlo,'DejaVu Sans Mono',consolas,'Courier New',monospace\">    clip_range: 0.2405527117611638\n",
       "</pre>\n"
      ],
      "text/plain": [
       "    clip_range: 0.2405527117611638\n"
      ]
     },
     "metadata": {},
     "output_type": "display_data"
    },
    {
     "data": {
      "text/html": [
       "<pre style=\"white-space:pre;overflow-x:auto;line-height:normal;font-family:Menlo,'DejaVu Sans Mono',consolas,'Courier New',monospace\">    ent_coef: 0.02189762679402271\n",
       "</pre>\n"
      ],
      "text/plain": [
       "    ent_coef: 0.02189762679402271\n"
      ]
     },
     "metadata": {},
     "output_type": "display_data"
    },
    {
     "data": {
      "text/html": [
       "<pre style=\"white-space:pre;overflow-x:auto;line-height:normal;font-family:Menlo,'DejaVu Sans Mono',consolas,'Courier New',monospace\">    vf_coef: 0.7099663631144432\n",
       "</pre>\n"
      ],
      "text/plain": [
       "    vf_coef: 0.7099663631144432\n"
      ]
     },
     "metadata": {},
     "output_type": "display_data"
    },
    {
     "data": {
      "text/html": [
       "<pre style=\"white-space:pre;overflow-x:auto;line-height:normal;font-family:Menlo,'DejaVu Sans Mono',consolas,'Courier New',monospace\">    max_grad_norm: 1.554596593101503\n",
       "</pre>\n"
      ],
      "text/plain": [
       "    max_grad_norm: 1.554596593101503\n"
      ]
     },
     "metadata": {},
     "output_type": "display_data"
    },
    {
     "data": {
      "text/html": [
       "<pre style=\"white-space:pre;overflow-x:auto;line-height:normal;font-family:Menlo,'DejaVu Sans Mono',consolas,'Courier New',monospace\">    target_kl: 0.1821336744932124\n",
       "</pre>\n"
      ],
      "text/plain": [
       "    target_kl: 0.1821336744932124\n"
      ]
     },
     "metadata": {},
     "output_type": "display_data"
    },
    {
     "data": {
      "text/html": [
       "<pre style=\"white-space:pre;overflow-x:auto;line-height:normal;font-family:Menlo,'DejaVu Sans Mono',consolas,'Courier New',monospace\">    n_epochs: 6\n",
       "</pre>\n"
      ],
      "text/plain": [
       "    n_epochs: 6\n"
      ]
     },
     "metadata": {},
     "output_type": "display_data"
    },
    {
     "data": {
      "text/html": [
       "<pre style=\"white-space:pre;overflow-x:auto;line-height:normal;font-family:Menlo,'DejaVu Sans Mono',consolas,'Courier New',monospace\">    activation_fn: relu\n",
       "</pre>\n"
      ],
      "text/plain": [
       "    activation_fn: relu\n"
      ]
     },
     "metadata": {},
     "output_type": "display_data"
    },
    {
     "data": {
      "text/html": [
       "<pre style=\"white-space:pre;overflow-x:auto;line-height:normal;font-family:Menlo,'DejaVu Sans Mono',consolas,'Courier New',monospace\">    net_arch: small\n",
       "</pre>\n"
      ],
      "text/plain": [
       "    net_arch: small\n"
      ]
     },
     "metadata": {},
     "output_type": "display_data"
    },
    {
     "data": {
      "text/html": [
       "<pre style=\"white-space:pre;overflow-x:auto;line-height:normal;font-family:Menlo,'DejaVu Sans Mono',consolas,'Courier New',monospace\">  User attrs:\n",
       "</pre>\n"
      ],
      "text/plain": [
       "  User attrs:\n"
      ]
     },
     "metadata": {},
     "output_type": "display_data"
    },
    {
     "data": {
      "text/html": [
       "<pre style=\"white-space:pre;overflow-x:auto;line-height:normal;font-family:Menlo,'DejaVu Sans Mono',consolas,'Courier New',monospace\">    gamma: 0.9107238741574982\n",
       "</pre>\n"
      ],
      "text/plain": [
       "    gamma: 0.9107238741574982\n"
      ]
     },
     "metadata": {},
     "output_type": "display_data"
    },
    {
     "data": {
      "text/html": [
       "<pre style=\"white-space:pre;overflow-x:auto;line-height:normal;font-family:Menlo,'DejaVu Sans Mono',consolas,'Courier New',monospace\"></pre>\n"
      ],
      "text/plain": []
     },
     "metadata": {},
     "output_type": "display_data"
    },
    {
     "ename": "ImportError",
     "evalue": "Tried to import 'plotly' but failed. Please make sure that the package is installed correctly to use this feature. Actual error: No module named 'plotly'.",
     "output_type": "error",
     "traceback": [
      "\u001b[0;31m---------------------------------------------------------------------------\u001b[0m",
      "\u001b[0;31mModuleNotFoundError\u001b[0m                       Traceback (most recent call last)",
      "File \u001b[0;32m/usr/local/lib/python3.11/dist-packages/optuna/visualization/_plotly_imports.py:7\u001b[0m\n\u001b[1;32m      6\u001b[0m \u001b[38;5;28;01mwith\u001b[39;00m try_import() \u001b[38;5;28;01mas\u001b[39;00m _imports:\n\u001b[0;32m----> 7\u001b[0m     \u001b[38;5;28;01mimport\u001b[39;00m \u001b[38;5;21;01mplotly\u001b[39;00m\n\u001b[1;32m      8\u001b[0m     \u001b[38;5;28;01mfrom\u001b[39;00m \u001b[38;5;21;01mplotly\u001b[39;00m \u001b[38;5;28;01mimport\u001b[39;00m __version__ \u001b[38;5;28;01mas\u001b[39;00m plotly_version\n",
      "\u001b[0;31mModuleNotFoundError\u001b[0m: No module named 'plotly'",
      "\nThe above exception was the direct cause of the following exception:\n",
      "\u001b[0;31mImportError\u001b[0m                               Traceback (most recent call last)",
      "Cell \u001b[0;32mIn[19], line 35\u001b[0m\n\u001b[1;32m     32\u001b[0m \u001b[38;5;66;03m# Write report\u001b[39;00m\n\u001b[1;32m     33\u001b[0m study\u001b[38;5;241m.\u001b[39mtrials_dataframe()\u001b[38;5;241m.\u001b[39mto_csv(\u001b[38;5;124m\"\u001b[39m\u001b[38;5;124mstudy_results_ppo_marineenv.csv\u001b[39m\u001b[38;5;124m\"\u001b[39m)\n\u001b[0;32m---> 35\u001b[0m fig1 \u001b[38;5;241m=\u001b[39m \u001b[43mplot_optimization_history\u001b[49m\u001b[43m(\u001b[49m\u001b[43mstudy\u001b[49m\u001b[43m)\u001b[49m\n\u001b[1;32m     36\u001b[0m fig2 \u001b[38;5;241m=\u001b[39m plot_param_importances(study)\n\u001b[1;32m     38\u001b[0m fig1\u001b[38;5;241m.\u001b[39mshow()\n",
      "File \u001b[0;32m/usr/local/lib/python3.11/dist-packages/optuna/visualization/_optimization_history.py:200\u001b[0m, in \u001b[0;36mplot_optimization_history\u001b[0;34m(study, target, target_name, error_bar)\u001b[0m\n\u001b[1;32m    172\u001b[0m \u001b[38;5;28;01mdef\u001b[39;00m \u001b[38;5;21mplot_optimization_history\u001b[39m(\n\u001b[1;32m    173\u001b[0m     study: Study \u001b[38;5;241m|\u001b[39m Sequence[Study],\n\u001b[1;32m    174\u001b[0m     \u001b[38;5;241m*\u001b[39m,\n\u001b[0;32m   (...)\u001b[0m\n\u001b[1;32m    177\u001b[0m     error_bar: \u001b[38;5;28mbool\u001b[39m \u001b[38;5;241m=\u001b[39m \u001b[38;5;28;01mFalse\u001b[39;00m,\n\u001b[1;32m    178\u001b[0m ) \u001b[38;5;241m-\u001b[39m\u001b[38;5;241m>\u001b[39m \u001b[38;5;124m\"\u001b[39m\u001b[38;5;124mgo.Figure\u001b[39m\u001b[38;5;124m\"\u001b[39m:\n\u001b[1;32m    179\u001b[0m \u001b[38;5;250m    \u001b[39m\u001b[38;5;124;03m\"\"\"Plot optimization history of all trials in a study.\u001b[39;00m\n\u001b[1;32m    180\u001b[0m \n\u001b[1;32m    181\u001b[0m \u001b[38;5;124;03m    Args:\u001b[39;00m\n\u001b[0;32m   (...)\u001b[0m\n\u001b[1;32m    197\u001b[0m \u001b[38;5;124;03m        A :class:`plotly.graph_objects.Figure` object.\u001b[39;00m\n\u001b[1;32m    198\u001b[0m \u001b[38;5;124;03m    \"\"\"\u001b[39;00m\n\u001b[0;32m--> 200\u001b[0m     \u001b[43m_imports\u001b[49m\u001b[38;5;241;43m.\u001b[39;49m\u001b[43mcheck\u001b[49m\u001b[43m(\u001b[49m\u001b[43m)\u001b[49m\n\u001b[1;32m    202\u001b[0m     info_list \u001b[38;5;241m=\u001b[39m _get_optimization_history_info_list(study, target, target_name, error_bar)\n\u001b[1;32m    203\u001b[0m     \u001b[38;5;28;01mreturn\u001b[39;00m _get_optimization_history_plot(info_list, target_name)\n",
      "File \u001b[0;32m/usr/local/lib/python3.11/dist-packages/optuna/_imports.py:94\u001b[0m, in \u001b[0;36m_DeferredImportExceptionContextManager.check\u001b[0;34m(self)\u001b[0m\n\u001b[1;32m     92\u001b[0m \u001b[38;5;28;01mif\u001b[39;00m \u001b[38;5;28mself\u001b[39m\u001b[38;5;241m.\u001b[39m_deferred \u001b[38;5;129;01mis\u001b[39;00m \u001b[38;5;129;01mnot\u001b[39;00m \u001b[38;5;28;01mNone\u001b[39;00m:\n\u001b[1;32m     93\u001b[0m     exc_value, message \u001b[38;5;241m=\u001b[39m \u001b[38;5;28mself\u001b[39m\u001b[38;5;241m.\u001b[39m_deferred\n\u001b[0;32m---> 94\u001b[0m     \u001b[38;5;28;01mraise\u001b[39;00m \u001b[38;5;167;01mImportError\u001b[39;00m(message) \u001b[38;5;28;01mfrom\u001b[39;00m \u001b[38;5;21;01mexc_value\u001b[39;00m\n",
      "\u001b[0;31mImportError\u001b[0m: Tried to import 'plotly' but failed. Please make sure that the package is installed correctly to use this feature. Actual error: No module named 'plotly'."
     ]
    }
   ],
   "source": [
    "# Set pytorch num threads to 1 for faster training\n",
    "torch.set_num_threads(1)\n",
    "# Select the sampler, can be random, TPESampler, CMAES, ...\n",
    "sampler = TPESampler(n_startup_trials=N_STARTUP_TRIALS)\n",
    "# Do not prune before 1/3 of the max budget is used\n",
    "pruner = MedianPruner(\n",
    "    n_startup_trials=N_STARTUP_TRIALS, n_warmup_steps=N_EVALUATIONS // 3\n",
    ")\n",
    "# Create the study and start the hyperparameter optimization\n",
    "study = optuna.create_study(sampler=sampler, pruner=pruner, direction=\"maximize\")\n",
    "\n",
    "try:\n",
    "    study.optimize(objective, n_trials=N_TRIALS, n_jobs=N_JOBS, timeout=TIMEOUT)\n",
    "except KeyboardInterrupt:\n",
    "    pass\n",
    "\n",
    "print(\"Number of finished trials: \", len(study.trials))\n",
    "\n",
    "print(\"Best trial:\")\n",
    "trial = study.best_trial\n",
    "\n",
    "print(f\"  Value: {trial.value}\")\n",
    "\n",
    "print(\"  Params: \")\n",
    "for key, value in trial.params.items():\n",
    "    print(f\"    {key}: {value}\")\n",
    "\n",
    "print(\"  User attrs:\")\n",
    "for key, value in trial.user_attrs.items():\n",
    "    print(f\"    {key}: {value}\")\n",
    "\n",
    "# Write report\n",
    "study.trials_dataframe().to_csv(\"study_results_ppo_marineenv.csv\")\n",
    "\n",
    "fig1 = plot_optimization_history(study)\n",
    "fig2 = plot_param_importances(study)\n",
    "\n",
    "fig1.show()\n",
    "fig2.show()"
   ]
  },
  {
   "cell_type": "code",
   "execution_count": null,
   "id": "b87b967f-ac2a-4dd8-a123-01ebff9db0a4",
   "metadata": {},
   "outputs": [],
   "source": []
  },
  {
   "cell_type": "code",
   "execution_count": null,
   "id": "b102baa1-aeb2-41fc-8972-60d7186e5806",
   "metadata": {},
   "outputs": [],
   "source": []
  }
 ],
 "metadata": {
  "kernelspec": {
   "display_name": "Python 3 (ipykernel)",
   "language": "python",
   "name": "python3"
  },
  "language_info": {
   "codemirror_mode": {
    "name": "ipython",
    "version": 3
   },
   "file_extension": ".py",
   "mimetype": "text/x-python",
   "name": "python",
   "nbconvert_exporter": "python",
   "pygments_lexer": "ipython3",
   "version": "3.11.0rc1"
  }
 },
 "nbformat": 4,
 "nbformat_minor": 5
}
