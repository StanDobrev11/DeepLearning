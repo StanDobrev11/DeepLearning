{
 "cells": [
  {
   "cell_type": "code",
   "execution_count": 1,
   "id": "73dcd730-e0ec-4a71-9ac8-350c07e0c606",
   "metadata": {},
   "outputs": [],
   "source": [
    "%matplotlib inline\n",
    "%load_ext tensorboard"
   ]
  },
  {
   "cell_type": "code",
   "execution_count": null,
   "id": "8992c11f-9ec5-4701-8d35-af384ad7f0e9",
   "metadata": {},
   "outputs": [],
   "source": [
    "import numpy as np\n",
    "\n",
    "from collections import deque\n",
    "\n",
    "import matplotlib\n",
    "import matplotlib.pyplot as plt\n",
    "\n",
    "# PyTorch\n",
    "import torch\n",
    "import torch.nn as nn\n",
    "import torch.nn.functional as F\n",
    "from torch.distributions import Normal\n",
    "import torch.optim as optim\n",
    "\n",
    "\n",
    "from tqdm import tqdm\n",
    "\n",
    "# Gym\n",
    "import gymnasium as gym\n",
    "# import gym_pygame\n",
    "\n",
    "from gymnasium.envs.registration import register, registry"
   ]
  },
  {
   "cell_type": "code",
   "execution_count": 16,
   "id": "858d5fc9-7284-4d1c-b22b-6f9767d4bebb",
   "metadata": {},
   "outputs": [],
   "source": [
    "is_ipython = 'inline' in matplotlib.get_backend()\n",
    "if is_ipython:\n",
    "    from IPython import display\n",
    "\n",
    "plt.ion()\n",
    "\n",
    "device = torch.device('cuda' if torch.cuda.is_available() else 'cpu')"
   ]
  },
  {
   "cell_type": "code",
   "execution_count": 17,
   "id": "c8fd456e-57b5-43bb-9d33-78a3988b946a",
   "metadata": {},
   "outputs": [],
   "source": [
    "if 'MarineEnv-v0' not in registry:\n",
    "    register(\n",
    "        id='MarineEnv-v0',\n",
    "        entry_point='environments:MarineEnv',  # String reference to the class\n",
    "    )"
   ]
  },
  {
   "cell_type": "code",
   "execution_count": 18,
   "id": "2f329fd7-bd33-440b-a261-bd4fc8b1e664",
   "metadata": {},
   "outputs": [],
   "source": [
    "env_id = 'MarineEnv-v0'\n",
    "# Create the env\n",
    "env = gym.make(env_id, continuous=True)\n",
    "\n",
    "# Create the evaluation env\n",
    "eval_env = gym.make(env_id)\n",
    "\n",
    "# Get the state space and action space\n",
    "s_size = env.observation_space.shape[0]\n",
    "a_size = env.action_space.shape[0]"
   ]
  },
  {
   "cell_type": "code",
   "execution_count": 19,
   "id": "a128eb99-bb34-4abc-ad65-d74983bbb0a6",
   "metadata": {},
   "outputs": [
    {
     "name": "stdout",
     "output_type": "stream",
     "text": [
      "_____OBSERVATION SPACE_____ \n",
      "\n",
      "The State Space is:  36\n",
      "Sample observation [ 2.76829620e+02  6.65461361e-01  2.33108807e+01  4.62088928e+01\n",
      "  1.20273834e+02  2.08435669e+02  3.91180573e+01  2.22652969e+01\n",
      "  2.48438370e+02  1.83602009e+01 -5.42292099e+01  1.92076096e+02\n",
      "  1.61909504e+01  1.74007301e+01 -1.12170672e+00 -4.71105270e+01\n",
      " -1.91446018e+01  2.31901665e+01  3.29247345e+02  1.41065136e-01\n",
      "  6.54572067e+01  2.28515656e+02  3.44887772e+01 -1.82503951e+00\n",
      " -7.41438818e+00 -3.30053673e+01  2.74871311e+01  4.98555756e+01\n",
      "  9.88023300e+01  1.97848873e+01  1.37403397e+02  6.96321487e+01\n",
      "  4.77097206e+01  1.35796299e+01  5.98651600e+00 -1.20427475e+01]\n"
     ]
    }
   ],
   "source": [
    "print(\"_____OBSERVATION SPACE_____ \\n\")\n",
    "print(\"The State Space is: \", s_size)\n",
    "print(\"Sample observation\", env.observation_space.sample()) # Get a random observation"
   ]
  },
  {
   "cell_type": "code",
   "execution_count": 20,
   "id": "72f90e2e-44d7-4b9b-90f6-3374ffd2e108",
   "metadata": {},
   "outputs": [
    {
     "name": "stdout",
     "output_type": "stream",
     "text": [
      "\n",
      " _____ACTION SPACE_____ \n",
      "\n",
      "The Action Space is:  2\n",
      "Action Space Sample [0.7571459  0.86562335]\n"
     ]
    }
   ],
   "source": [
    "print(\"\\n _____ACTION SPACE_____ \\n\")\n",
    "print(\"The Action Space is: \", a_size)\n",
    "print(\"Action Space Sample\", env.action_space.sample()) # Take a random action"
   ]
  },
  {
   "cell_type": "code",
   "execution_count": 30,
   "id": "823da4a6-e878-4894-9fd1-48dec446a5bb",
   "metadata": {},
   "outputs": [],
   "source": [
    "marine_env_params = {\n",
    "    \"h_size\": 128,\n",
    "    \"n_training_episodes\": 10000,\n",
    "    \"n_evaluation_episodes\": 10,\n",
    "    \"max_t\": 1000,\n",
    "    \"lr\": 1e-4,\n",
    "    \"env_id\": env_id,\n",
    "    \"continuous\": True,\n",
    "    \"state_space\": s_size,\n",
    "    \"action_space\": a_size,\n",
    "    'gamma': 0.99,\n",
    "    'clip_epsilon': 0.2,  # PPO Clipping\n",
    "    'update_epochs': 4,  # Multiple updates per batch\n",
    "    'print_every': 10\n",
    "}"
   ]
  },
  {
   "cell_type": "code",
   "execution_count": 46,
   "id": "38273688-e84e-4645-b4bd-bb534ebe961d",
   "metadata": {},
   "outputs": [],
   "source": [
    "class ContinuousPolicy(nn.Module):\n",
    "    def __init__(self, s_size, a_size, h_size):\n",
    "        super(ContinuousPolicy, self).__init__()\n",
    "        self.fc1 = nn.Linear(s_size, h_size)\n",
    "        self.fc2 = nn.Linear(h_size, h_size)\n",
    "\n",
    "        # Actor (outputs mean and standard deviation for actions)\n",
    "        self.mu_layer = nn.Linear(h_size, a_size)\n",
    "        self.sigma_layer = nn.Linear(h_size, a_size)\n",
    "\n",
    "        # Critic (outputs a single scalar value)\n",
    "        self.value_layer = nn.Linear(h_size, 1)\n",
    "\n",
    "    def forward(self, x):\n",
    "        x = F.relu(self.fc1(x))\n",
    "        x = F.relu(self.fc2(x))\n",
    "\n",
    "        mu = torch.tanh(self.mu_layer(x))  # Mean (bounded [-1,1])\n",
    "        sigma = F.softplus(self.sigma_layer(x)) + 1e-5  # Ensure sigma > 0\n",
    "\n",
    "        value = self.value_layer(x)  # Value function output\n",
    "        return mu, sigma, value\n",
    "\n",
    "    def act(self, state):\n",
    "        \"\"\"\n",
    "        Given a state, take an action for a continuous action space.\n",
    "        Returns: (action, log_prob, value)\n",
    "        \"\"\"\n",
    "        state = torch.from_numpy(state).float().unsqueeze(0).to(device)\n",
    "    \n",
    "        mu, sigma, value = self.forward(state)  # Forward pass now returns a tensor for value\n",
    "        dist = Normal(mu, sigma)\n",
    "    \n",
    "        action = dist.sample()  # Sample from Gaussian distribution\n",
    "        log_prob = dist.log_prob(action).sum(dim=-1)  # Sum log probs over multiple actions\n",
    "    \n",
    "        return action.detach().cpu().numpy()[0], log_prob, value  # Return `value` as a tensor\n"
   ]
  },
  {
   "cell_type": "code",
   "execution_count": 47,
   "id": "5aed01b7-0332-4180-8d00-cd19a5ac426c",
   "metadata": {},
   "outputs": [],
   "source": [
    "def ppo_train(policy, optimizer, n_training_episodes, max_t, gamma, clip_epsilon, update_epochs, print_every):\n",
    "    \"\"\"\n",
    "    Implements PPO with Gaussian policy and proper detach() usage.\n",
    "    \"\"\"\n",
    "\n",
    "    scores_deque = deque(maxlen=100)\n",
    "    scores = []\n",
    "\n",
    "    for i_episode in range(1, n_training_episodes + 1):\n",
    "        saved_log_probs = []\n",
    "        saved_values = []\n",
    "        rewards = []\n",
    "        states = []\n",
    "        actions = []\n",
    "\n",
    "        state, _ = env.reset()\n",
    "        \n",
    "        for t in range(max_t):\n",
    "            action, log_prob, value = policy.act(state)  \n",
    "\n",
    "            # Detach `log_prob` and `value` before storing\n",
    "            saved_log_probs.append(log_prob.detach())  \n",
    "            saved_values.append(value.detach())\n",
    "            actions.append(action)\n",
    "            states.append(state)\n",
    "\n",
    "            state, reward, terminated, truncated, _ = env.step(action)\n",
    "            rewards.append(reward)\n",
    "\n",
    "            if terminated or truncated:\n",
    "                break \n",
    "\n",
    "        scores_deque.append(sum(rewards))\n",
    "        scores.append(sum(rewards))\n",
    "\n",
    "        # Compute advantage function\n",
    "        returns = deque(maxlen=max_t)\n",
    "        advantages = deque(maxlen=max_t)\n",
    "        n_steps = len(rewards)\n",
    "\n",
    "        last_advantage = 0\n",
    "        last_value = saved_values[-1]\n",
    "\n",
    "        for t in range(n_steps - 1, -1, -1):\n",
    "            delta = rewards[t] + (gamma * saved_values[t + 1] if t + 1 < n_steps else last_value) - saved_values[t]\n",
    "            last_advantage = delta + gamma * 0.95 * last_advantage  \n",
    "\n",
    "            returns.appendleft(last_advantage + saved_values[t])  \n",
    "            advantages.appendleft(last_advantage)  \n",
    "\n",
    "        # Convert to tensors\n",
    "        returns = torch.tensor(returns, dtype=torch.float32).to(device)\n",
    "        advantages = torch.tensor(advantages, dtype=torch.float32).to(device)\n",
    "\n",
    "        # Normalize advantages\n",
    "        advantages = (advantages - advantages.mean()) / (advantages.std() + 1e-8)\n",
    "\n",
    "        # PPO Update\n",
    "        for _ in range(update_epochs):\n",
    "            optimizer.zero_grad()  \n",
    "            \n",
    "            new_log_probs = []\n",
    "            new_values = []\n",
    "\n",
    "            for state, action in zip(states, actions):\n",
    "                _, new_log_prob, new_value = policy.act(state)\n",
    "                new_log_probs.append(new_log_prob)\n",
    "                new_values.append(new_value)\n",
    "\n",
    "            new_log_probs = torch.stack(new_log_probs).to(device)\n",
    "            new_values = torch.stack(new_values).squeeze().to(device)\n",
    "\n",
    "            # Compute ratio correctly (log_prob must be detached!)\n",
    "            ratio = torch.exp(new_log_probs - torch.tensor(saved_log_probs, dtype=torch.float32).to(device))\n",
    "\n",
    "            # Clipped Surrogate Loss\n",
    "            clipped_ratio = torch.clamp(ratio, 1 - clip_epsilon, 1 + clip_epsilon)\n",
    "            policy_loss = -torch.min(ratio * advantages, clipped_ratio * advantages).mean()\n",
    "\n",
    "            # Separate Value Function Update\n",
    "            value_loss = nn.MSELoss()(new_values, returns)\n",
    "\n",
    "            # Combine losses for backpropagation\n",
    "            total_loss = policy_loss + 0.5 * value_loss\n",
    "\n",
    "            total_loss.backward()\n",
    "            optimizer.step()\n",
    "\n",
    "        if i_episode % print_every == 0:\n",
    "            print(f\"Episode {i_episode}\\tAverage Score: {np.mean(scores_deque):.2f}\")\n",
    "\n",
    "    return scores\n"
   ]
  },
  {
   "cell_type": "code",
   "execution_count": 48,
   "id": "7c0f198c-4ddd-4ddb-9900-e98fb8d31be3",
   "metadata": {},
   "outputs": [],
   "source": [
    "# Create policy and place it to the device\n",
    "marine_env_policy = ContinuousPolicy(marine_env_params[\"state_space\"], marine_env_params[\"action_space\"], marine_env_params[\"h_size\"]).to(device)\n",
    "marine_env_optimizer = optim.Adam(marine_env_policy.parameters(), lr=marine_env_params[\"lr\"])"
   ]
  },
  {
   "cell_type": "code",
   "execution_count": 49,
   "id": "63fef3d4-7291-4569-8bee-df7de302075e",
   "metadata": {},
   "outputs": [
    {
     "name": "stdout",
     "output_type": "stream",
     "text": [
      "Episode 100\tAverage Score: -549.30\n",
      "Episode 200\tAverage Score: -351.50\n",
      "Episode 300\tAverage Score: -290.60\n",
      "Episode 400\tAverage Score: -226.09\n",
      "Episode 500\tAverage Score: -196.77\n",
      "Episode 600\tAverage Score: -139.46\n",
      "Episode 700\tAverage Score: -97.55\n",
      "Episode 800\tAverage Score: -100.42\n",
      "Episode 900\tAverage Score: -96.95\n",
      "Episode 1000\tAverage Score: -69.82\n",
      "Episode 1100\tAverage Score: -52.78\n"
     ]
    },
    {
     "name": "stderr",
     "output_type": "stream",
     "text": [
      "/tmp/ipykernel_1331/1898227242.py:56: UserWarning: std(): degrees of freedom is <= 0. Correction should be strictly less than the reduction factor (input numel divided by output numel). (Triggered internally at ../aten/src/ATen/native/ReduceOps.cpp:1808.)\n",
      "  advantages = (advantages - advantages.mean()) / (advantages.std() + 1e-8)\n",
      "/usr/local/lib/python3.11/dist-packages/torch/nn/modules/loss.py:538: UserWarning: Using a target size (torch.Size([1])) that is different to the input size (torch.Size([])). This will likely lead to incorrect results due to broadcasting. Please ensure they have the same size.\n",
      "  return F.mse_loss(input, target, reduction=self.reduction)\n"
     ]
    },
    {
     "ename": "ValueError",
     "evalue": "Expected parameter loc (Tensor of shape (1, 2)) of distribution Normal(loc: torch.Size([1, 2]), scale: torch.Size([1, 2])) to satisfy the constraint Real(), but found invalid values:\ntensor([[nan, nan]], device='cuda:0', grad_fn=<TanhBackward0>)",
     "output_type": "error",
     "traceback": [
      "\u001b[0;31m---------------------------------------------------------------------------\u001b[0m",
      "\u001b[0;31mValueError\u001b[0m                                Traceback (most recent call last)",
      "Cell \u001b[0;32mIn[49], line 1\u001b[0m\n\u001b[0;32m----> 1\u001b[0m scores \u001b[38;5;241m=\u001b[39m \u001b[43mppo_train\u001b[49m\u001b[43m(\u001b[49m\u001b[43mmarine_env_policy\u001b[49m\u001b[43m,\u001b[49m\n\u001b[1;32m      2\u001b[0m \u001b[43m                   \u001b[49m\u001b[43mmarine_env_optimizer\u001b[49m\u001b[43m,\u001b[49m\n\u001b[1;32m      3\u001b[0m \u001b[43m                   \u001b[49m\u001b[43mmarine_env_params\u001b[49m\u001b[43m[\u001b[49m\u001b[38;5;124;43m\"\u001b[39;49m\u001b[38;5;124;43mn_training_episodes\u001b[39;49m\u001b[38;5;124;43m\"\u001b[39;49m\u001b[43m]\u001b[49m\u001b[43m,\u001b[49m\u001b[43m \u001b[49m\n\u001b[1;32m      4\u001b[0m \u001b[43m                   \u001b[49m\u001b[43mmarine_env_params\u001b[49m\u001b[43m[\u001b[49m\u001b[38;5;124;43m\"\u001b[39;49m\u001b[38;5;124;43mmax_t\u001b[39;49m\u001b[38;5;124;43m\"\u001b[39;49m\u001b[43m]\u001b[49m\u001b[43m,\u001b[49m\n\u001b[1;32m      5\u001b[0m \u001b[43m                   \u001b[49m\u001b[43mmarine_env_params\u001b[49m\u001b[43m[\u001b[49m\u001b[38;5;124;43m\"\u001b[39;49m\u001b[38;5;124;43mgamma\u001b[39;49m\u001b[38;5;124;43m\"\u001b[39;49m\u001b[43m]\u001b[49m\u001b[43m,\u001b[49m\u001b[43m \u001b[49m\n\u001b[1;32m      6\u001b[0m \u001b[43m                   \u001b[49m\u001b[43mmarine_env_params\u001b[49m\u001b[43m[\u001b[49m\u001b[38;5;124;43m\"\u001b[39;49m\u001b[38;5;124;43mupdate_epochs\u001b[39;49m\u001b[38;5;124;43m\"\u001b[39;49m\u001b[43m]\u001b[49m\u001b[43m,\u001b[49m\u001b[43m \u001b[49m\n\u001b[1;32m      7\u001b[0m \u001b[43m                   \u001b[49m\u001b[43mmarine_env_params\u001b[49m\u001b[43m[\u001b[49m\u001b[38;5;124;43m\"\u001b[39;49m\u001b[38;5;124;43mprint_every\u001b[39;49m\u001b[38;5;124;43m\"\u001b[39;49m\u001b[43m]\u001b[49m\u001b[43m,\u001b[49m\u001b[43m \u001b[49m\n\u001b[1;32m      8\u001b[0m \u001b[43m                   \u001b[49m\u001b[38;5;241;43m100\u001b[39;49m\u001b[43m)\u001b[49m\n",
      "Cell \u001b[0;32mIn[47], line 66\u001b[0m, in \u001b[0;36mppo_train\u001b[0;34m(policy, optimizer, n_training_episodes, max_t, gamma, clip_epsilon, update_epochs, print_every)\u001b[0m\n\u001b[1;32m     63\u001b[0m new_values \u001b[38;5;241m=\u001b[39m []\n\u001b[1;32m     65\u001b[0m \u001b[38;5;28;01mfor\u001b[39;00m state, action \u001b[38;5;129;01min\u001b[39;00m \u001b[38;5;28mzip\u001b[39m(states, actions):\n\u001b[0;32m---> 66\u001b[0m     _, new_log_prob, new_value \u001b[38;5;241m=\u001b[39m \u001b[43mpolicy\u001b[49m\u001b[38;5;241;43m.\u001b[39;49m\u001b[43mact\u001b[49m\u001b[43m(\u001b[49m\u001b[43mstate\u001b[49m\u001b[43m)\u001b[49m\n\u001b[1;32m     67\u001b[0m     new_log_probs\u001b[38;5;241m.\u001b[39mappend(new_log_prob)\n\u001b[1;32m     68\u001b[0m     new_values\u001b[38;5;241m.\u001b[39mappend(new_value)\n",
      "Cell \u001b[0;32mIn[46], line 32\u001b[0m, in \u001b[0;36mContinuousPolicy.act\u001b[0;34m(self, state)\u001b[0m\n\u001b[1;32m     29\u001b[0m state \u001b[38;5;241m=\u001b[39m torch\u001b[38;5;241m.\u001b[39mfrom_numpy(state)\u001b[38;5;241m.\u001b[39mfloat()\u001b[38;5;241m.\u001b[39munsqueeze(\u001b[38;5;241m0\u001b[39m)\u001b[38;5;241m.\u001b[39mto(device)\n\u001b[1;32m     31\u001b[0m mu, sigma, value \u001b[38;5;241m=\u001b[39m \u001b[38;5;28mself\u001b[39m\u001b[38;5;241m.\u001b[39mforward(state)  \u001b[38;5;66;03m# Forward pass now returns a tensor for value\u001b[39;00m\n\u001b[0;32m---> 32\u001b[0m dist \u001b[38;5;241m=\u001b[39m \u001b[43mNormal\u001b[49m\u001b[43m(\u001b[49m\u001b[43mmu\u001b[49m\u001b[43m,\u001b[49m\u001b[43m \u001b[49m\u001b[43msigma\u001b[49m\u001b[43m)\u001b[49m\n\u001b[1;32m     34\u001b[0m action \u001b[38;5;241m=\u001b[39m dist\u001b[38;5;241m.\u001b[39msample()  \u001b[38;5;66;03m# Sample from Gaussian distribution\u001b[39;00m\n\u001b[1;32m     35\u001b[0m log_prob \u001b[38;5;241m=\u001b[39m dist\u001b[38;5;241m.\u001b[39mlog_prob(action)\u001b[38;5;241m.\u001b[39msum(dim\u001b[38;5;241m=\u001b[39m\u001b[38;5;241m-\u001b[39m\u001b[38;5;241m1\u001b[39m)  \u001b[38;5;66;03m# Sum log probs over multiple actions\u001b[39;00m\n",
      "File \u001b[0;32m/usr/local/lib/python3.11/dist-packages/torch/distributions/normal.py:57\u001b[0m, in \u001b[0;36mNormal.__init__\u001b[0;34m(self, loc, scale, validate_args)\u001b[0m\n\u001b[1;32m     55\u001b[0m \u001b[38;5;28;01melse\u001b[39;00m:\n\u001b[1;32m     56\u001b[0m     batch_shape \u001b[38;5;241m=\u001b[39m \u001b[38;5;28mself\u001b[39m\u001b[38;5;241m.\u001b[39mloc\u001b[38;5;241m.\u001b[39msize()\n\u001b[0;32m---> 57\u001b[0m \u001b[38;5;28;43msuper\u001b[39;49m\u001b[43m(\u001b[49m\u001b[43m)\u001b[49m\u001b[38;5;241;43m.\u001b[39;49m\u001b[38;5;21;43m__init__\u001b[39;49m\u001b[43m(\u001b[49m\u001b[43mbatch_shape\u001b[49m\u001b[43m,\u001b[49m\u001b[43m \u001b[49m\u001b[43mvalidate_args\u001b[49m\u001b[38;5;241;43m=\u001b[39;49m\u001b[43mvalidate_args\u001b[49m\u001b[43m)\u001b[49m\n",
      "File \u001b[0;32m/usr/local/lib/python3.11/dist-packages/torch/distributions/distribution.py:70\u001b[0m, in \u001b[0;36mDistribution.__init__\u001b[0;34m(self, batch_shape, event_shape, validate_args)\u001b[0m\n\u001b[1;32m     68\u001b[0m         valid \u001b[38;5;241m=\u001b[39m constraint\u001b[38;5;241m.\u001b[39mcheck(value)\n\u001b[1;32m     69\u001b[0m         \u001b[38;5;28;01mif\u001b[39;00m \u001b[38;5;129;01mnot\u001b[39;00m valid\u001b[38;5;241m.\u001b[39mall():\n\u001b[0;32m---> 70\u001b[0m             \u001b[38;5;28;01mraise\u001b[39;00m \u001b[38;5;167;01mValueError\u001b[39;00m(\n\u001b[1;32m     71\u001b[0m                 \u001b[38;5;124mf\u001b[39m\u001b[38;5;124m\"\u001b[39m\u001b[38;5;124mExpected parameter \u001b[39m\u001b[38;5;132;01m{\u001b[39;00mparam\u001b[38;5;132;01m}\u001b[39;00m\u001b[38;5;124m \u001b[39m\u001b[38;5;124m\"\u001b[39m\n\u001b[1;32m     72\u001b[0m                 \u001b[38;5;124mf\u001b[39m\u001b[38;5;124m\"\u001b[39m\u001b[38;5;124m(\u001b[39m\u001b[38;5;132;01m{\u001b[39;00m\u001b[38;5;28mtype\u001b[39m(value)\u001b[38;5;241m.\u001b[39m\u001b[38;5;18m__name__\u001b[39m\u001b[38;5;132;01m}\u001b[39;00m\u001b[38;5;124m of shape \u001b[39m\u001b[38;5;132;01m{\u001b[39;00m\u001b[38;5;28mtuple\u001b[39m(value\u001b[38;5;241m.\u001b[39mshape)\u001b[38;5;132;01m}\u001b[39;00m\u001b[38;5;124m) \u001b[39m\u001b[38;5;124m\"\u001b[39m\n\u001b[1;32m     73\u001b[0m                 \u001b[38;5;124mf\u001b[39m\u001b[38;5;124m\"\u001b[39m\u001b[38;5;124mof distribution \u001b[39m\u001b[38;5;132;01m{\u001b[39;00m\u001b[38;5;28mrepr\u001b[39m(\u001b[38;5;28mself\u001b[39m)\u001b[38;5;132;01m}\u001b[39;00m\u001b[38;5;124m \u001b[39m\u001b[38;5;124m\"\u001b[39m\n\u001b[1;32m     74\u001b[0m                 \u001b[38;5;124mf\u001b[39m\u001b[38;5;124m\"\u001b[39m\u001b[38;5;124mto satisfy the constraint \u001b[39m\u001b[38;5;132;01m{\u001b[39;00m\u001b[38;5;28mrepr\u001b[39m(constraint)\u001b[38;5;132;01m}\u001b[39;00m\u001b[38;5;124m, \u001b[39m\u001b[38;5;124m\"\u001b[39m\n\u001b[1;32m     75\u001b[0m                 \u001b[38;5;124mf\u001b[39m\u001b[38;5;124m\"\u001b[39m\u001b[38;5;124mbut found invalid values:\u001b[39m\u001b[38;5;130;01m\\n\u001b[39;00m\u001b[38;5;132;01m{\u001b[39;00mvalue\u001b[38;5;132;01m}\u001b[39;00m\u001b[38;5;124m\"\u001b[39m\n\u001b[1;32m     76\u001b[0m             )\n\u001b[1;32m     77\u001b[0m \u001b[38;5;28msuper\u001b[39m()\u001b[38;5;241m.\u001b[39m\u001b[38;5;21m__init__\u001b[39m()\n",
      "\u001b[0;31mValueError\u001b[0m: Expected parameter loc (Tensor of shape (1, 2)) of distribution Normal(loc: torch.Size([1, 2]), scale: torch.Size([1, 2])) to satisfy the constraint Real(), but found invalid values:\ntensor([[nan, nan]], device='cuda:0', grad_fn=<TanhBackward0>)"
     ]
    }
   ],
   "source": [
    "scores = ppo_train(marine_env_policy,\n",
    "                   marine_env_optimizer,\n",
    "                   marine_env_params[\"n_training_episodes\"], \n",
    "                   marine_env_params[\"max_t\"],\n",
    "                   marine_env_params[\"gamma\"], \n",
    "                   marine_env_params[\"update_epochs\"], \n",
    "                   marine_env_params[\"print_every\"], \n",
    "                   100)"
   ]
  },
  {
   "cell_type": "code",
   "execution_count": null,
   "id": "f6b28a5f-eaf6-4d3f-ab8d-998331304284",
   "metadata": {},
   "outputs": [],
   "source": []
  },
  {
   "cell_type": "code",
   "execution_count": null,
   "id": "b48019d2-c219-4de5-b4f0-dc12ecff9e3d",
   "metadata": {},
   "outputs": [],
   "source": []
  }
 ],
 "metadata": {
  "kernelspec": {
   "display_name": "Python 3 (ipykernel)",
   "language": "python",
   "name": "python3"
  },
  "language_info": {
   "codemirror_mode": {
    "name": "ipython",
    "version": 3
   },
   "file_extension": ".py",
   "mimetype": "text/x-python",
   "name": "python",
   "nbconvert_exporter": "python",
   "pygments_lexer": "ipython3",
   "version": "3.11.0rc1"
  }
 },
 "nbformat": 4,
 "nbformat_minor": 5
}
