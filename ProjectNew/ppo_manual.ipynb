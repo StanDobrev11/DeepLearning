{
 "cells": [
  {
   "cell_type": "code",
   "execution_count": 1,
   "id": "73dcd730-e0ec-4a71-9ac8-350c07e0c606",
   "metadata": {},
   "outputs": [],
   "source": [
    "%matplotlib inline\n",
    "%load_ext tensorboard"
   ]
  },
  {
   "cell_type": "code",
   "execution_count": 2,
   "id": "8992c11f-9ec5-4701-8d35-af384ad7f0e9",
   "metadata": {},
   "outputs": [],
   "source": [
    "import numpy as np\n",
    "\n",
    "from collections import deque\n",
    "\n",
    "import matplotlib\n",
    "import matplotlib.pyplot as plt\n",
    "\n",
    "# PyTorch\n",
    "import torch\n",
    "import torch.nn as nn\n",
    "import torch.nn.functional as F\n",
    "from torch.distributions import Normal\n",
    "import torch.optim as optim\n",
    "\n",
    "\n",
    "from tqdm import tqdm\n",
    "\n",
    "# Gym\n",
    "import gymnasium as gym\n",
    "# import gym_pygame\n",
    "\n",
    "from gymnasium.envs.registration import register, registry\n",
    "\n",
    "import time"
   ]
  },
  {
   "cell_type": "code",
   "execution_count": 3,
   "id": "858d5fc9-7284-4d1c-b22b-6f9767d4bebb",
   "metadata": {},
   "outputs": [],
   "source": [
    "is_ipython = 'inline' in matplotlib.get_backend()\n",
    "if is_ipython:\n",
    "    from IPython import display\n",
    "\n",
    "plt.ion()\n",
    "\n",
    "device = torch.device('cuda' if torch.cuda.is_available() else 'cpu')"
   ]
  },
  {
   "cell_type": "code",
   "execution_count": 4,
   "id": "c8fd456e-57b5-43bb-9d33-78a3988b946a",
   "metadata": {},
   "outputs": [],
   "source": [
    "if 'MarineEnv-v0' not in registry:\n",
    "    register(\n",
    "        id='MarineEnv-v0',\n",
    "        entry_point='environments:MarineEnv',  # String reference to the class\n",
    "    )"
   ]
  },
  {
   "cell_type": "code",
   "execution_count": 5,
   "id": "2f329fd7-bd33-440b-a261-bd4fc8b1e664",
   "metadata": {},
   "outputs": [
    {
     "name": "stderr",
     "output_type": "stream",
     "text": [
      "2025-02-05 19:53:08.740892: E external/local_xla/xla/stream_executor/cuda/cuda_fft.cc:477] Unable to register cuFFT factory: Attempting to register factory for plugin cuFFT when one has already been registered\n",
      "WARNING: All log messages before absl::InitializeLog() is called are written to STDERR\n",
      "E0000 00:00:1738785188.754892   23943 cuda_dnn.cc:8310] Unable to register cuDNN factory: Attempting to register factory for plugin cuDNN when one has already been registered\n",
      "E0000 00:00:1738785188.758858   23943 cuda_blas.cc:1418] Unable to register cuBLAS factory: Attempting to register factory for plugin cuBLAS when one has already been registered\n",
      "2025-02-05 19:53:08.773320: I tensorflow/core/platform/cpu_feature_guard.cc:210] This TensorFlow binary is optimized to use available CPU instructions in performance-critical operations.\n",
      "To enable the following instructions: AVX2 FMA, in other operations, rebuild TensorFlow with the appropriate compiler flags.\n"
     ]
    }
   ],
   "source": [
    "timescale = 1 / 3\n",
    "env_kwargs = dict(\n",
    "    render_mode='rgb_array',\n",
    "    continuous=True,\n",
    "    max_episode_steps=int(400 / timescale),\n",
    "    training_stage=2,\n",
    "    timescale=timescale,\n",
    "    training=True,\n",
    "    total_targets=1,\n",
    ")\n",
    "\n",
    "env_id = 'MarineEnv-v0'\n",
    "# Create the env\n",
    "env = gym.make(env_id, **env_kwargs)\n",
    "\n",
    "# Create the evaluation env\n",
    "eval_env = gym.make(env_id, **env_kwargs)\n",
    "\n",
    "# Get the state space and action space\n",
    "s_size = env.observation_space.shape[0]\n",
    "a_size = env.action_space.shape[0]"
   ]
  },
  {
   "cell_type": "code",
   "execution_count": 6,
   "id": "a128eb99-bb34-4abc-ad65-d74983bbb0a6",
   "metadata": {},
   "outputs": [
    {
     "name": "stdout",
     "output_type": "stream",
     "text": [
      "_____OBSERVATION SPACE_____ \n",
      "\n",
      "The State Space is:  16\n",
      "Sample observation [ 188.64545      7.8844295    7.5682063  200.92033    -44.695557\n",
      "   42.987606    43.04377     31.751268    43.722347    40.838963\n",
      " -119.89502    306.49094     45.983223    -9.929177   -26.163208\n",
      "   23.778082 ]\n"
     ]
    }
   ],
   "source": [
    "print(\"_____OBSERVATION SPACE_____ \\n\")\n",
    "print(\"The State Space is: \", s_size)\n",
    "print(\"Sample observation\", env.observation_space.sample()) # Get a random observation"
   ]
  },
  {
   "cell_type": "code",
   "execution_count": 7,
   "id": "72f90e2e-44d7-4b9b-90f6-3374ffd2e108",
   "metadata": {},
   "outputs": [
    {
     "name": "stdout",
     "output_type": "stream",
     "text": [
      "\n",
      " _____ACTION SPACE_____ \n",
      "\n",
      "The Action Space is:  2\n",
      "Action Space Sample [-0.5046333  -0.39191398]\n"
     ]
    }
   ],
   "source": [
    "print(\"\\n _____ACTION SPACE_____ \\n\")\n",
    "print(\"The Action Space is: \", a_size)\n",
    "print(\"Action Space Sample\", env.action_space.sample()) # Take a random action"
   ]
  },
  {
   "cell_type": "code",
   "execution_count": 8,
   "id": "823da4a6-e878-4894-9fd1-48dec446a5bb",
   "metadata": {},
   "outputs": [],
   "source": [
    "marine_env_params = {\n",
    "    \"h_size\": 128,\n",
    "    \"n_training_episodes\": int(1e4),\n",
    "    \"n_evaluation_episodes\": 100,\n",
    "    \"max_t\": 1200,\n",
    "    \"lr\": 1e-5,\n",
    "    \"env_id\": env_id,\n",
    "    \"continuous\": True,\n",
    "    \"state_space\": s_size,\n",
    "    \"action_space\": a_size,\n",
    "    'gamma': 0.95,\n",
    "    'clip_epsilon': 0.2,  # PPO Clipping\n",
    "    'update_epochs': 4,  # Multiple updates per batch\n",
    "    'print_every': 100\n",
    "}"
   ]
  },
  {
   "cell_type": "code",
   "execution_count": 9,
   "id": "38273688-e84e-4645-b4bd-bb534ebe961d",
   "metadata": {},
   "outputs": [],
   "source": [
    "class ContinuousPolicy(nn.Module):\n",
    "    def __init__(self, s_size, a_size, h_size):\n",
    "        super(ContinuousPolicy, self).__init__()\n",
    "        self.fc1 = nn.Linear(s_size, h_size)\n",
    "        self.fc2 = nn.Linear(h_size, h_size)\n",
    "\n",
    "        # Actor (outputs mean and standard deviation for actions)\n",
    "        self.mu_layer = nn.Linear(h_size, a_size)\n",
    "        self.sigma_layer = nn.Linear(h_size, a_size)\n",
    "\n",
    "        # Critic (outputs a single scalar value)\n",
    "        self.value_layer = nn.Linear(h_size, 1)\n",
    "\n",
    "    def forward(self, x):\n",
    "        x = F.relu(self.fc1(x))\n",
    "        x = F.relu(self.fc2(x))\n",
    "\n",
    "        mu = torch.tanh(self.mu_layer(x))  # Mean (bounded [-1,1]) in order to sample the action according to the observation space limits\n",
    "        sigma = F.softplus(self.sigma_layer(x)) + 1e-5  # Ensure sigma > 0\n",
    "\n",
    "        value = self.value_layer(x)  # Value function output\n",
    "        return mu, sigma, value\n",
    "\n",
    "    def act(self, state):\n",
    "        \"\"\"\n",
    "        Given a state, take an action for a continuous action space.\n",
    "        Returns: (action, log_prob, value)\n",
    "        \"\"\"\n",
    "        state = torch.from_numpy(state).float().unsqueeze(0).to(device)\n",
    "    \n",
    "        mu, sigma, value = self.forward(state)  # Forward pass now returns a tensor for value\n",
    "        dist = Normal(mu, sigma)\n",
    "    \n",
    "        action = dist.sample()  # Sample from Gaussian distribution\n",
    "        log_prob = dist.log_prob(action).sum(dim=-1)  # Sum log probs over multiple actions\n",
    "    \n",
    "        return action.detach().cpu().numpy()[0], log_prob, value  # Return `value` as a tensor"
   ]
  },
  {
   "cell_type": "code",
   "execution_count": 10,
   "id": "5aed01b7-0332-4180-8d00-cd19a5ac426c",
   "metadata": {},
   "outputs": [],
   "source": [
    "def ppo_train(policy, optimizer, n_training_episodes, max_t, gamma, clip_epsilon, update_epochs, print_every):\n",
    "    \"\"\"\n",
    "    Implements PPO with Gaussian policy and proper detach() usage.\n",
    "    \"\"\"\n",
    "\n",
    "    scores_deque = deque(maxlen=100)\n",
    "    scores = []\n",
    "\n",
    "    for i_episode in range(1, n_training_episodes + 1):\n",
    "        saved_log_probs = []\n",
    "        saved_values = []\n",
    "        rewards = []\n",
    "        states = []\n",
    "        actions = []\n",
    "\n",
    "        state, _ = env.reset()\n",
    "        \n",
    "        for t in range(max_t):\n",
    "            action, log_prob, value = policy.act(state)  \n",
    "\n",
    "            # Detach `log_prob` and `value` before storing\n",
    "            saved_log_probs.append(log_prob.detach())  \n",
    "            saved_values.append(value.detach())\n",
    "            actions.append(action)\n",
    "            states.append(state)\n",
    "\n",
    "            state, reward, terminated, truncated, _ = env.step(action)\n",
    "            rewards.append(reward)\n",
    "\n",
    "            if terminated or truncated:\n",
    "                break \n",
    "\n",
    "        scores_deque.append(sum(rewards))\n",
    "        scores.append(sum(rewards))\n",
    "\n",
    "        # Compute advantage function\n",
    "        returns = deque(maxlen=max_t)\n",
    "        advantages = deque(maxlen=max_t)\n",
    "        n_steps = len(rewards)\n",
    "\n",
    "        last_advantage = 0\n",
    "        last_value = saved_values[-1]\n",
    "\n",
    "        for t in range(n_steps - 1, -1, -1):\n",
    "            delta = rewards[t] + (gamma * saved_values[t + 1] if t + 1 < n_steps else last_value) - saved_values[t]\n",
    "            last_advantage = delta + gamma * 0.95 * last_advantage  \n",
    "\n",
    "            returns.appendleft(last_advantage + saved_values[t])  \n",
    "            advantages.appendleft(last_advantage)  \n",
    "\n",
    "        # Convert to tensors\n",
    "        returns = torch.tensor(returns, dtype=torch.float32).to(device)\n",
    "        advantages = torch.tensor(advantages, dtype=torch.float32).to(device)\n",
    "\n",
    "        # Normalize advantages\n",
    "        advantages = (advantages - advantages.mean()) / (advantages.std() + 1e-8)\n",
    "\n",
    "        # PPO Update\n",
    "        for _ in range(update_epochs):\n",
    "            optimizer.zero_grad()  \n",
    "            \n",
    "            new_log_probs = []\n",
    "            new_values = []\n",
    "\n",
    "            for state, action in zip(states, actions):\n",
    "                _, new_log_prob, new_value = policy.act(state)\n",
    "                new_log_probs.append(new_log_prob)\n",
    "                new_values.append(new_value)\n",
    "\n",
    "            new_log_probs = torch.stack(new_log_probs).to(device)\n",
    "            new_values = torch.stack(new_values).squeeze().to(device)\n",
    "\n",
    "            # Compute ratio correctly (log_prob must be detached!)\n",
    "            ratio = torch.exp(new_log_probs - torch.tensor(saved_log_probs, dtype=torch.float32).to(device))\n",
    "\n",
    "            # Clipped Surrogate Loss\n",
    "            clipped_ratio = torch.clamp(ratio, 1 - clip_epsilon, 1 + clip_epsilon)\n",
    "            policy_loss = -torch.min(ratio * advantages, clipped_ratio * advantages).mean()\n",
    "            # policy_loss = torch.min(ratio * advantages, clipped_ratio * advantages).mean()\n",
    "\n",
    "            # Separate Value Function Update\n",
    "            value_loss = nn.MSELoss()(new_values, returns)\n",
    "\n",
    "            # Combine losses for backpropagation\n",
    "            total_loss = policy_loss + 0.5 * value_loss\n",
    "\n",
    "            total_loss.backward()\n",
    "            optimizer.step()\n",
    "\n",
    "        if i_episode % print_every == 0:\n",
    "            print(f\"Episode {i_episode}\\tAverage Score: {np.mean(scores_deque):.2f}\")\n",
    "\n",
    "    return scores\n"
   ]
  },
  {
   "cell_type": "code",
   "execution_count": 11,
   "id": "7c0f198c-4ddd-4ddb-9900-e98fb8d31be3",
   "metadata": {},
   "outputs": [],
   "source": [
    "# Create policy and place it to the device\n",
    "marine_env_policy = ContinuousPolicy(marine_env_params[\"state_space\"], marine_env_params[\"action_space\"], marine_env_params[\"h_size\"]).to(device)\n",
    "marine_env_optimizer = optim.Adam(marine_env_policy.parameters(), lr=marine_env_params[\"lr\"])"
   ]
  },
  {
   "cell_type": "code",
   "execution_count": 12,
   "id": "63fef3d4-7291-4569-8bee-df7de302075e",
   "metadata": {
    "scrolled": true
   },
   "outputs": [
    {
     "name": "stdout",
     "output_type": "stream",
     "text": [
      "Episode 100\tAverage Score: -1157622.40\n",
      "Episode 200\tAverage Score: -2298453.03\n",
      "Episode 300\tAverage Score: -839353.76\n",
      "Episode 400\tAverage Score: -775543.48\n",
      "Episode 500\tAverage Score: -1323305.15\n",
      "Episode 600\tAverage Score: -433279.20\n",
      "Episode 700\tAverage Score: -422513.33\n",
      "Episode 800\tAverage Score: -371539.43\n",
      "Episode 900\tAverage Score: -649480.67\n",
      "Episode 1000\tAverage Score: -943380.89\n",
      "Episode 1100\tAverage Score: -315596.05\n",
      "Episode 1200\tAverage Score: -430708.71\n",
      "Episode 1300\tAverage Score: -1957556.38\n",
      "Episode 1400\tAverage Score: -415237.90\n",
      "Episode 1500\tAverage Score: -429666.09\n"
     ]
    },
    {
     "ename": "KeyboardInterrupt",
     "evalue": "",
     "output_type": "error",
     "traceback": [
      "\u001b[0;31m---------------------------------------------------------------------------\u001b[0m",
      "\u001b[0;31mKeyboardInterrupt\u001b[0m                         Traceback (most recent call last)",
      "Cell \u001b[0;32mIn[12], line 1\u001b[0m\n\u001b[0;32m----> 1\u001b[0m scores \u001b[38;5;241m=\u001b[39m \u001b[43mppo_train\u001b[49m\u001b[43m(\u001b[49m\u001b[43mmarine_env_policy\u001b[49m\u001b[43m,\u001b[49m\n\u001b[1;32m      2\u001b[0m \u001b[43m                   \u001b[49m\u001b[43mmarine_env_optimizer\u001b[49m\u001b[43m,\u001b[49m\n\u001b[1;32m      3\u001b[0m \u001b[43m                   \u001b[49m\u001b[43mmarine_env_params\u001b[49m\u001b[43m[\u001b[49m\u001b[38;5;124;43m\"\u001b[39;49m\u001b[38;5;124;43mn_training_episodes\u001b[39;49m\u001b[38;5;124;43m\"\u001b[39;49m\u001b[43m]\u001b[49m\u001b[43m,\u001b[49m\u001b[43m \u001b[49m\n\u001b[1;32m      4\u001b[0m \u001b[43m                   \u001b[49m\u001b[43mmarine_env_params\u001b[49m\u001b[43m[\u001b[49m\u001b[38;5;124;43m\"\u001b[39;49m\u001b[38;5;124;43mmax_t\u001b[39;49m\u001b[38;5;124;43m\"\u001b[39;49m\u001b[43m]\u001b[49m\u001b[43m,\u001b[49m\n\u001b[1;32m      5\u001b[0m \u001b[43m                   \u001b[49m\u001b[43mmarine_env_params\u001b[49m\u001b[43m[\u001b[49m\u001b[38;5;124;43m\"\u001b[39;49m\u001b[38;5;124;43mgamma\u001b[39;49m\u001b[38;5;124;43m\"\u001b[39;49m\u001b[43m]\u001b[49m\u001b[43m,\u001b[49m\u001b[43m \u001b[49m\n\u001b[1;32m      6\u001b[0m \u001b[43m                   \u001b[49m\u001b[43mmarine_env_params\u001b[49m\u001b[43m[\u001b[49m\u001b[38;5;124;43m\"\u001b[39;49m\u001b[38;5;124;43mclip_epsilon\u001b[39;49m\u001b[38;5;124;43m\"\u001b[39;49m\u001b[43m]\u001b[49m\u001b[43m,\u001b[49m\n\u001b[1;32m      7\u001b[0m \u001b[43m                   \u001b[49m\u001b[43mmarine_env_params\u001b[49m\u001b[43m[\u001b[49m\u001b[38;5;124;43m\"\u001b[39;49m\u001b[38;5;124;43mupdate_epochs\u001b[39;49m\u001b[38;5;124;43m\"\u001b[39;49m\u001b[43m]\u001b[49m\u001b[43m,\u001b[49m\u001b[43m \u001b[49m\n\u001b[1;32m      8\u001b[0m \u001b[43m                   \u001b[49m\u001b[43mmarine_env_params\u001b[49m\u001b[43m[\u001b[49m\u001b[38;5;124;43m\"\u001b[39;49m\u001b[38;5;124;43mprint_every\u001b[39;49m\u001b[38;5;124;43m\"\u001b[39;49m\u001b[43m]\u001b[49m\n\u001b[1;32m      9\u001b[0m \u001b[43m                  \u001b[49m\u001b[43m)\u001b[49m\n",
      "Cell \u001b[0;32mIn[10], line 66\u001b[0m, in \u001b[0;36mppo_train\u001b[0;34m(policy, optimizer, n_training_episodes, max_t, gamma, clip_epsilon, update_epochs, print_every)\u001b[0m\n\u001b[1;32m     63\u001b[0m new_values \u001b[38;5;241m=\u001b[39m []\n\u001b[1;32m     65\u001b[0m \u001b[38;5;28;01mfor\u001b[39;00m state, action \u001b[38;5;129;01min\u001b[39;00m \u001b[38;5;28mzip\u001b[39m(states, actions):\n\u001b[0;32m---> 66\u001b[0m     _, new_log_prob, new_value \u001b[38;5;241m=\u001b[39m \u001b[43mpolicy\u001b[49m\u001b[38;5;241;43m.\u001b[39;49m\u001b[43mact\u001b[49m\u001b[43m(\u001b[49m\u001b[43mstate\u001b[49m\u001b[43m)\u001b[49m\n\u001b[1;32m     67\u001b[0m     new_log_probs\u001b[38;5;241m.\u001b[39mappend(new_log_prob)\n\u001b[1;32m     68\u001b[0m     new_values\u001b[38;5;241m.\u001b[39mappend(new_value)\n",
      "Cell \u001b[0;32mIn[9], line 32\u001b[0m, in \u001b[0;36mContinuousPolicy.act\u001b[0;34m(self, state)\u001b[0m\n\u001b[1;32m     29\u001b[0m state \u001b[38;5;241m=\u001b[39m torch\u001b[38;5;241m.\u001b[39mfrom_numpy(state)\u001b[38;5;241m.\u001b[39mfloat()\u001b[38;5;241m.\u001b[39munsqueeze(\u001b[38;5;241m0\u001b[39m)\u001b[38;5;241m.\u001b[39mto(device)\n\u001b[1;32m     31\u001b[0m mu, sigma, value \u001b[38;5;241m=\u001b[39m \u001b[38;5;28mself\u001b[39m\u001b[38;5;241m.\u001b[39mforward(state)  \u001b[38;5;66;03m# Forward pass now returns a tensor for value\u001b[39;00m\n\u001b[0;32m---> 32\u001b[0m dist \u001b[38;5;241m=\u001b[39m \u001b[43mNormal\u001b[49m\u001b[43m(\u001b[49m\u001b[43mmu\u001b[49m\u001b[43m,\u001b[49m\u001b[43m \u001b[49m\u001b[43msigma\u001b[49m\u001b[43m)\u001b[49m\n\u001b[1;32m     34\u001b[0m action \u001b[38;5;241m=\u001b[39m dist\u001b[38;5;241m.\u001b[39msample()  \u001b[38;5;66;03m# Sample from Gaussian distribution\u001b[39;00m\n\u001b[1;32m     35\u001b[0m log_prob \u001b[38;5;241m=\u001b[39m dist\u001b[38;5;241m.\u001b[39mlog_prob(action)\u001b[38;5;241m.\u001b[39msum(dim\u001b[38;5;241m=\u001b[39m\u001b[38;5;241m-\u001b[39m\u001b[38;5;241m1\u001b[39m)  \u001b[38;5;66;03m# Sum log probs over multiple actions\u001b[39;00m\n",
      "File \u001b[0;32m/usr/local/lib/python3.11/dist-packages/torch/distributions/normal.py:52\u001b[0m, in \u001b[0;36mNormal.__init__\u001b[0;34m(self, loc, scale, validate_args)\u001b[0m\n\u001b[1;32m     51\u001b[0m \u001b[38;5;28;01mdef\u001b[39;00m \u001b[38;5;21m__init__\u001b[39m(\u001b[38;5;28mself\u001b[39m, loc, scale, validate_args\u001b[38;5;241m=\u001b[39m\u001b[38;5;28;01mNone\u001b[39;00m):\n\u001b[0;32m---> 52\u001b[0m     \u001b[38;5;28mself\u001b[39m\u001b[38;5;241m.\u001b[39mloc, \u001b[38;5;28mself\u001b[39m\u001b[38;5;241m.\u001b[39mscale \u001b[38;5;241m=\u001b[39m \u001b[43mbroadcast_all\u001b[49m\u001b[43m(\u001b[49m\u001b[43mloc\u001b[49m\u001b[43m,\u001b[49m\u001b[43m \u001b[49m\u001b[43mscale\u001b[49m\u001b[43m)\u001b[49m\n\u001b[1;32m     53\u001b[0m     \u001b[38;5;28;01mif\u001b[39;00m \u001b[38;5;28misinstance\u001b[39m(loc, Number) \u001b[38;5;129;01mand\u001b[39;00m \u001b[38;5;28misinstance\u001b[39m(scale, Number):\n\u001b[1;32m     54\u001b[0m         batch_shape \u001b[38;5;241m=\u001b[39m torch\u001b[38;5;241m.\u001b[39mSize()\n",
      "File \u001b[0;32m/usr/local/lib/python3.11/dist-packages/torch/distributions/utils.py:39\u001b[0m, in \u001b[0;36mbroadcast_all\u001b[0;34m(*values)\u001b[0m\n\u001b[1;32m     23\u001b[0m \u001b[38;5;28;01mdef\u001b[39;00m \u001b[38;5;21mbroadcast_all\u001b[39m(\u001b[38;5;241m*\u001b[39mvalues):\n\u001b[1;32m     24\u001b[0m \u001b[38;5;250m    \u001b[39m\u001b[38;5;124mr\u001b[39m\u001b[38;5;124;03m\"\"\"\u001b[39;00m\n\u001b[1;32m     25\u001b[0m \u001b[38;5;124;03m    Given a list of values (possibly containing numbers), returns a list where each\u001b[39;00m\n\u001b[1;32m     26\u001b[0m \u001b[38;5;124;03m    value is broadcasted based on the following rules:\u001b[39;00m\n\u001b[0;32m   (...)\u001b[0m\n\u001b[1;32m     37\u001b[0m \u001b[38;5;124;03m            a `torch.*Tensor` instance, or an instance implementing __torch_function__\u001b[39;00m\n\u001b[1;32m     38\u001b[0m \u001b[38;5;124;03m    \"\"\"\u001b[39;00m\n\u001b[0;32m---> 39\u001b[0m     \u001b[38;5;28;01mif\u001b[39;00m \u001b[38;5;129;01mnot\u001b[39;00m \u001b[38;5;28mall\u001b[39m(is_tensor_like(v) \u001b[38;5;129;01mor\u001b[39;00m \u001b[38;5;28misinstance\u001b[39m(v, Number) \u001b[38;5;28;01mfor\u001b[39;00m v \u001b[38;5;129;01min\u001b[39;00m values):\n\u001b[1;32m     40\u001b[0m         \u001b[38;5;28;01mraise\u001b[39;00m \u001b[38;5;167;01mValueError\u001b[39;00m(\n\u001b[1;32m     41\u001b[0m             \u001b[38;5;124m\"\u001b[39m\u001b[38;5;124mInput arguments must all be instances of numbers.Number, \u001b[39m\u001b[38;5;124m\"\u001b[39m\n\u001b[1;32m     42\u001b[0m             \u001b[38;5;124m\"\u001b[39m\u001b[38;5;124mtorch.Tensor or objects implementing __torch_function__.\u001b[39m\u001b[38;5;124m\"\u001b[39m\n\u001b[1;32m     43\u001b[0m         )\n\u001b[1;32m     44\u001b[0m     \u001b[38;5;28;01mif\u001b[39;00m \u001b[38;5;129;01mnot\u001b[39;00m \u001b[38;5;28mall\u001b[39m(is_tensor_like(v) \u001b[38;5;28;01mfor\u001b[39;00m v \u001b[38;5;129;01min\u001b[39;00m values):\n",
      "\u001b[0;31mKeyboardInterrupt\u001b[0m: "
     ]
    }
   ],
   "source": [
    "scores = ppo_train(marine_env_policy,\n",
    "                   marine_env_optimizer,\n",
    "                   marine_env_params[\"n_training_episodes\"], \n",
    "                   marine_env_params[\"max_t\"],\n",
    "                   marine_env_params[\"gamma\"], \n",
    "                   marine_env_params[\"clip_epsilon\"],\n",
    "                   marine_env_params[\"update_epochs\"], \n",
    "                   marine_env_params[\"print_every\"]\n",
    "                  )"
   ]
  },
  {
   "cell_type": "code",
   "execution_count": null,
   "id": "f6b28a5f-eaf6-4d3f-ab8d-998331304284",
   "metadata": {
    "scrolled": true
   },
   "outputs": [],
   "source": [
    "timescale = 1/3\n",
    "env_test = gym.make('MarineEnv-v0', render_mode='human', continuous=True, training_stage=2, timescale=timescale, training=False, total_targets=1)\n",
    "for _ in range(5):\n",
    "    \n",
    "    state, _ = env_test.reset()\n",
    "    print(f'Detected targets:', [target for target in env_test.unwrapped.own_ship.detected_targets])\n",
    "    print(state)\n",
    "    episode_rewards = 0 \n",
    "    for _ in range(int(400 / timescale)):\n",
    "        action = marine_env_policy.act(state)\n",
    "        state, reward, terminated, truncated, info = env_test.step(action[0])\n",
    "        env_test.render()\n",
    "        time.sleep(0.005)\n",
    "        episode_rewards += reward\n",
    "        print('===========================')\n",
    "        print(state)\n",
    "        print(f'Step reward: {reward:.2f}')\n",
    "        print(f'Current Total reward: {episode_rewards:.2f}')\n",
    "        print(f'Dangerous targets: ', [target for target in env_test.unwrapped.own_ship.dangerous_targets])\n",
    "        \n",
    "        if terminated or truncated:\n",
    "            print('Episode total reward: ', episode_rewards)\n",
    "            print(info)\n",
    "            break\n",
    "            \n",
    "    print('Episode total rewards: ', episode_rewards)\n",
    "    print('Episode final state: ', state)\n",
    "    print(f'============================\\n' * 10)\n",
    "    env_trn.close()"
   ]
  },
  {
   "cell_type": "code",
   "execution_count": null,
   "id": "b48019d2-c219-4de5-b4f0-dc12ecff9e3d",
   "metadata": {},
   "outputs": [],
   "source": []
  }
 ],
 "metadata": {
  "kernelspec": {
   "display_name": "Python 3 (ipykernel)",
   "language": "python",
   "name": "python3"
  },
  "language_info": {
   "codemirror_mode": {
    "name": "ipython",
    "version": 3
   },
   "file_extension": ".py",
   "mimetype": "text/x-python",
   "name": "python",
   "nbconvert_exporter": "python",
   "pygments_lexer": "ipython3",
   "version": "3.11.0rc1"
  }
 },
 "nbformat": 4,
 "nbformat_minor": 5
}
