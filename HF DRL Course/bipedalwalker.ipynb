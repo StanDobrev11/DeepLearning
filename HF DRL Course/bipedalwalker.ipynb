{
 "cells": [
  {
   "cell_type": "code",
   "execution_count": 3,
   "id": "f458cf2d-0e32-40ac-95c0-c6fa8d9744ad",
   "metadata": {},
   "source": [
    "!pip install \"gymnasium[box2d]\""
   ],
   "outputs": []
  },
  {
   "cell_type": "code",
   "execution_count": 1,
   "id": "b7e6c28c-1426-47f1-8ad7-5c7bcfb35464",
   "metadata": {},
   "source": [
    "import gymnasium as gym\n",
    "from stable_baselines3 import PPO\n",
    "\n",
    "import numpy as np"
   ],
   "outputs": []
  },
  {
   "cell_type": "code",
   "execution_count": 2,
   "id": "d52c6430-f7a1-4182-a676-18bd09420f82",
   "metadata": {},
   "source": [
    "env = gym.make(\"BipedalWalker-v3\", hardcore=True, render_mode=\"rgb_array\")"
   ],
   "outputs": []
  },
  {
   "cell_type": "code",
   "execution_count": 3,
   "id": "1ad354f9-0ba3-46eb-a560-c0bbcc41fe01",
   "metadata": {},
   "source": [
    "model = PPO(\n",
    "    policy='MlpPolicy',\n",
    "    env=env,\n",
    "    verbose=1\n",
    ")"
   ],
   "outputs": []
  },
  {
   "cell_type": "code",
   "execution_count": 9,
   "id": "62a15037-e690-40b2-a1e5-9dac29f78b32",
   "metadata": {
    "scrolled": true
   },
   "source": [
    "model.learn(total_timesteps=int(1e5), progress_bar=True)"
   ],
   "outputs": []
  },
  {
   "cell_type": "code",
   "execution_count": 10,
   "id": "783cf239-fa15-4d9d-918c-07efa67c0e3a",
   "metadata": {
    "scrolled": true
   },
   "source": [
    "env = gym.make(\"BipedalWalker-v3\", hardcore=False, render_mode=\"human\")\n",
    "\n",
    "state, _ = env.reset()\n",
    "for _ in range(10000):\n",
    "    action = model.predict(state)[0]\n",
    "    next_state, reward, terminated, truncated, info = env.step(action)\n",
    "\n",
    "    state = next_state\n",
    "env.close()"
   ],
   "outputs": []
  },
  {
   "cell_type": "code",
   "execution_count": 11,
   "id": "49873507-00d2-4060-bc58-af080eec8283",
   "metadata": {},
   "source": [
    "env.close()"
   ],
   "outputs": []
  },
  {
   "cell_type": "code",
   "execution_count": 55,
   "id": "8e82bb00-0930-445a-a76d-b8623ece38e3",
   "metadata": {},
   "source": [
    "len(env.step(action))"
   ],
   "outputs": []
  },
  {
   "cell_type": "code",
   "execution_count": 65,
   "id": "97b0a06b-b5b6-4b28-ab41-b0c8b1a6595f",
   "metadata": {},
   "source": [
    "env.step(action)[3] "
   ],
   "outputs": []
  },
  {
   "cell_type": "code",
   "execution_count": 74,
   "id": "d1871949-1825-4132-bdfd-ead65910a7c8",
   "metadata": {},
   "source": [
    "model.save('bipedalwalker_ppo')"
   ],
   "outputs": []
  },
  {
   "cell_type": "code",
   "execution_count": null,
   "id": "86b60105-d38c-44ae-b09d-a48201ff614a",
   "metadata": {},
   "source": [],
   "outputs": []
  }
 ],
 "metadata": {
  "kernelspec": {
   "display_name": "Python 3 (ipykernel)",
   "language": "python",
   "name": "python3"
  },
  "language_info": {
   "codemirror_mode": {
    "name": "ipython",
    "version": 3
   },
   "file_extension": ".py",
   "mimetype": "text/x-python",
   "name": "python",
   "nbconvert_exporter": "python",
   "pygments_lexer": "ipython3",
   "version": "3.11.0rc1"
  }
 },
 "nbformat": 4,
 "nbformat_minor": 5
}
