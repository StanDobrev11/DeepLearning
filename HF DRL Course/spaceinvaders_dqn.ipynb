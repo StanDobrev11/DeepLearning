{
 "cells": [
  {
   "cell_type": "code",
   "execution_count": null,
   "id": "04bdeb96-cbb4-4d30-965a-0d129bf763ee",
   "metadata": {
    "scrolled": true
   },
   "source": [
    "!pip install git+https://github.com/DLR-RM/rl-baselines3-zoo"
   ],
   "outputs": []
  },
  {
   "cell_type": "code",
   "execution_count": null,
   "id": "43c77155-331a-4896-ba88-f520e4e1f5d7",
   "metadata": {},
   "source": [
    "import gymnasium as gym\n",
    "import ale_py"
   ],
   "outputs": []
  },
  {
   "cell_type": "code",
   "execution_count": null,
   "id": "6eefd0ca-2415-4429-95d6-ab350899c702",
   "metadata": {},
   "source": [
    "# env = gym.make(\"ALE/SpaceInvaders-v5\", render_mode='human')\n",
    "\n",
    "# state, _ = env.reset()\n",
    "\n",
    "# for _ in range(1000):\n",
    "\n",
    "#     action = env.action_space.sample()\n",
    "\n",
    "#     next_state, reward, terminated, truncated, info = env.step(action)\n",
    "\n",
    "#     if terminated or truncated:\n",
    "#         break\n",
    "\n",
    "# env.close()"
   ],
   "outputs": []
  },
  {
   "cell_type": "code",
   "execution_count": 1,
   "id": "524be6df-5e80-40ca-887c-be8b09413fd9",
   "metadata": {
    "scrolled": true
   },
   "source": [
    "!python -m rl_zoo3.train --algo dqn --env SpaceInvadersNoFrameskip-v4  -f logs/ -c spaceinvaders_dqn.yml"
   ],
   "outputs": []
  },
  {
   "cell_type": "code",
   "execution_count": 2,
   "id": "319d4280-e0ed-4546-b8f4-f3f6b07a7ef5",
   "metadata": {},
   "source": [
    "!python -m rl_zoo3.enjoy --algo dqn --env SpaceInvadersNoFrameskip-v4 -f logs/"
   ],
   "outputs": []
  },
  {
   "cell_type": "code",
   "execution_count": null,
   "id": "3189f346-6662-4bba-977f-110e57d3f9cc",
   "metadata": {},
   "source": [],
   "outputs": []
  }
 ],
 "metadata": {
  "kernelspec": {
   "display_name": "Python 3 (ipykernel)",
   "language": "python",
   "name": "python3"
  },
  "language_info": {
   "codemirror_mode": {
    "name": "ipython",
    "version": 3
   },
   "file_extension": ".py",
   "mimetype": "text/x-python",
   "name": "python",
   "nbconvert_exporter": "python",
   "pygments_lexer": "ipython3",
   "version": "3.11.0rc1"
  }
 },
 "nbformat": 4,
 "nbformat_minor": 5
}
