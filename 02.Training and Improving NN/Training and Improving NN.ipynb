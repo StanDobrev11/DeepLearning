{
 "cells": [
  {
   "cell_type": "code",
   "execution_count": 1,
   "id": "initial_id",
   "metadata": {},
   "outputs": [],
   "source": [
    "%matplotlib inline"
   ]
  },
  {
   "cell_type": "code",
   "execution_count": 1,
   "id": "f63f97fa-4672-4d2a-a92c-ca9aa8abe08c",
   "metadata": {},
   "outputs": [],
   "source": [
    "import os\n",
    "\n",
    "os.environ[\"TF_CPP_MIN_LOG_LEVEL\"] = \"2\""
   ]
  },
  {
   "cell_type": "code",
   "execution_count": 2,
   "id": "870ac97a-df86-4f2a-be1b-173014392ab7",
   "metadata": {},
   "outputs": [
    {
     "name": "stderr",
     "output_type": "stream",
     "text": [
      "2025-01-02 20:25:07.747275: E tensorflow/stream_executor/cuda/cuda_blas.cc:2981] Unable to register cuBLAS factory: Attempting to register factory for plugin cuBLAS when one has already been registered\n"
     ]
    }
   ],
   "source": [
    "import tensorflow as tf"
   ]
  },
  {
   "cell_type": "code",
   "execution_count": 3,
   "id": "f7393fd4-5e91-4dbc-b7ea-5f597c62ea63",
   "metadata": {},
   "outputs": [],
   "source": [
    "from tensorflow.keras.layers import Dense, Input, Flatten, Dropout, Concatenate\n",
    "from tensorflow.keras.datasets.fashion_mnist import load_data\n",
    "from tensorflow.keras.models import Model, Sequential\n",
    "from tensorflow.keras.callbacks import TensorBoard\n",
    "from tensorflow.keras.utils import plot_model"
   ]
  },
  {
   "cell_type": "code",
   "execution_count": 4,
   "id": "16bc848c-f4b2-4bb4-bbe4-dc19f6e7ef7a",
   "metadata": {},
   "outputs": [],
   "source": [
    "import pandas as pd\n",
    "import numpy as np\n",
    "import matplotlib.pyplot as plt"
   ]
  },
  {
   "cell_type": "code",
   "execution_count": 6,
   "id": "249a610f-f749-4bfe-90a5-ac11d8cca899",
   "metadata": {},
   "outputs": [],
   "source": [
    "# load_data() dataset splits the dataset to training and testing"
   ]
  },
  {
   "cell_type": "code",
   "execution_count": 5,
   "id": "6a47572c-6111-4322-9141-35127241c3b8",
   "metadata": {},
   "outputs": [
    {
     "name": "stdout",
     "output_type": "stream",
     "text": [
      "Downloading data from https://storage.googleapis.com/tensorflow/tf-keras-datasets/train-labels-idx1-ubyte.gz\n",
      "29515/29515 [==============================] - 0s 1us/step\n",
      "Downloading data from https://storage.googleapis.com/tensorflow/tf-keras-datasets/train-images-idx3-ubyte.gz\n",
      "26421880/26421880 [==============================] - 14s 1us/step\n",
      "Downloading data from https://storage.googleapis.com/tensorflow/tf-keras-datasets/t10k-labels-idx1-ubyte.gz\n",
      "5148/5148 [==============================] - 0s 0us/step\n",
      "Downloading data from https://storage.googleapis.com/tensorflow/tf-keras-datasets/t10k-images-idx3-ubyte.gz\n",
      "4422102/4422102 [==============================] - 2s 0us/step\n"
     ]
    }
   ],
   "source": [
    "data = load_data()\n",
    "((attr_train, tgt_train), (attr_test, tgt_test)) = data"
   ]
  },
  {
   "cell_type": "code",
   "execution_count": 6,
   "id": "e5d204cf-e129-4eeb-9b9d-dcebe8ca5ed7",
   "metadata": {},
   "outputs": [
    {
     "data": {
      "text/plain": [
       "(10000, 28, 28)"
      ]
     },
     "execution_count": 6,
     "metadata": {},
     "output_type": "execute_result"
    }
   ],
   "source": [
    "attr_test.shape"
   ]
  },
  {
   "cell_type": "code",
   "execution_count": 7,
   "id": "906eb341-a59f-4b91-8e5a-ebedccbd3bbb",
   "metadata": {},
   "outputs": [
    {
     "data": {
      "text/plain": [
       "(60000, 28, 28)"
      ]
     },
     "execution_count": 7,
     "metadata": {},
     "output_type": "execute_result"
    }
   ],
   "source": [
    "attr_train.shape"
   ]
  },
  {
   "cell_type": "code",
   "execution_count": 8,
   "id": "8b212730-60fd-41d5-84b9-1b0c8181a35e",
   "metadata": {},
   "outputs": [
    {
     "data": {
      "text/plain": [
       "(60000, 784)"
      ]
     },
     "execution_count": 8,
     "metadata": {},
     "output_type": "execute_result"
    }
   ],
   "source": [
    "attr_train.reshape(60000, -1).shape"
   ]
  },
  {
   "cell_type": "code",
   "execution_count": 9,
   "id": "bcb7b88c-4ffa-40f4-86c4-ea05bc701bee",
   "metadata": {},
   "outputs": [],
   "source": [
    "input_layer = Input((28, 28))"
   ]
  },
  {
   "cell_type": "code",
   "execution_count": 10,
   "id": "0eed98e5-3d29-4acb-b85e-3d3df4ce765d",
   "metadata": {},
   "outputs": [
    {
     "data": {
      "text/plain": [
       "<KerasTensor: shape=(None, 28, 28) dtype=float32 (created by layer 'input_1')>"
      ]
     },
     "execution_count": 10,
     "metadata": {},
     "output_type": "execute_result"
    }
   ],
   "source": [
    "input_layer"
   ]
  },
  {
   "cell_type": "code",
   "execution_count": 11,
   "id": "b60a685a-709e-4372-837f-746c991e7211",
   "metadata": {},
   "outputs": [],
   "source": [
    "flatten_layer = Flatten()(input_layer)"
   ]
  },
  {
   "cell_type": "code",
   "execution_count": 12,
   "id": "9b6113b6-c21f-4159-beb1-4ed5fd3634b6",
   "metadata": {},
   "outputs": [
    {
     "data": {
      "text/plain": [
       "<KerasTensor: shape=(None, 784) dtype=float32 (created by layer 'flatten')>"
      ]
     },
     "execution_count": 12,
     "metadata": {},
     "output_type": "execute_result"
    }
   ],
   "source": [
    "flatten_layer"
   ]
  },
  {
   "cell_type": "code",
   "execution_count": 13,
   "id": "fa4afa44-05c9-4bec-a086-de7aed815e7b",
   "metadata": {},
   "outputs": [],
   "source": [
    "layer1 = Dense(64, activation='relu')(flatten_layer)\n",
    "layer2 = Dense(128, activation='relu')(layer1)\n",
    "layer3 = Dense(64, activation='relu')(layer2)\n",
    "output_layer = Dense(10, activation='softmax')(layer3)"
   ]
  },
  {
   "cell_type": "code",
   "execution_count": 14,
   "id": "09f34415-daf6-4666-9b01-0db6db88694f",
   "metadata": {},
   "outputs": [
    {
     "data": {
      "text/plain": [
       "<KerasTensor: shape=(None, 10) dtype=float32 (created by layer 'dense_3')>"
      ]
     },
     "execution_count": 14,
     "metadata": {},
     "output_type": "execute_result"
    }
   ],
   "source": [
    "output_layer"
   ]
  },
  {
   "cell_type": "code",
   "execution_count": 15,
   "id": "abf289ce-e9a7-4605-ac97-735710c4627e",
   "metadata": {},
   "outputs": [],
   "source": [
    "model = Model(inputs=input_layer, outputs=output_layer)"
   ]
  },
  {
   "cell_type": "code",
   "execution_count": 16,
   "id": "66d15e08-f5ce-4706-abb6-797c20380345",
   "metadata": {},
   "outputs": [
    {
     "name": "stdout",
     "output_type": "stream",
     "text": [
      "Model: \"model\"\n",
      "_________________________________________________________________\n",
      " Layer (type)                Output Shape              Param #   \n",
      "=================================================================\n",
      " input_1 (InputLayer)        [(None, 28, 28)]          0         \n",
      "                                                                 \n",
      " flatten (Flatten)           (None, 784)               0         \n",
      "                                                                 \n",
      " dense (Dense)               (None, 64)                50240     \n",
      "                                                                 \n",
      " dense_1 (Dense)             (None, 128)               8320      \n",
      "                                                                 \n",
      " dense_2 (Dense)             (None, 64)                8256      \n",
      "                                                                 \n",
      " dense_3 (Dense)             (None, 10)                650       \n",
      "                                                                 \n",
      "=================================================================\n",
      "Total params: 67,466\n",
      "Trainable params: 67,466\n",
      "Non-trainable params: 0\n",
      "_________________________________________________________________\n"
     ]
    }
   ],
   "source": [
    "model.summary()"
   ]
  },
  {
   "cell_type": "code",
   "execution_count": 19,
   "id": "33b1d886-aac9-49b9-9191-9fad535a2df0",
   "metadata": {},
   "outputs": [],
   "source": [
    "block_beginning = Dense(20, activation='relu')(flatten_layer)\n",
    "\n",
    "block_a1 = Dense(11, activation='relu')(block_beginning)\n",
    "block_a2 = Dense(20, activation='relu')(block_a1)\n",
    "block_a3 = Dense(11, activation='relu')(block_a2)\n",
    "\n",
    "block_b = Dense(20, activation='relu')(block_beginning)\n",
    "block_c = Dense(30, activation='relu')(block_beginning)\n",
    "\n",
    "block_end = Concatenate()([block_a3, block_b, block_c])"
   ]
  },
  {
   "cell_type": "code",
   "execution_count": 20,
   "id": "38bf0be3-07b5-4bf7-b38b-cf6348dacfc4",
   "metadata": {},
   "outputs": [],
   "source": [
    "block = Model(inputs=block_beginning, outputs=block_end)"
   ]
  },
  {
   "cell_type": "code",
   "execution_count": 21,
   "id": "2e2f9b24-16e8-4f33-bf49-d0de78f1f31b",
   "metadata": {},
   "outputs": [
    {
     "name": "stdout",
     "output_type": "stream",
     "text": [
      "Model: \"model_1\"\n",
      "__________________________________________________________________________________________________\n",
      " Layer (type)                   Output Shape         Param #     Connected to                     \n",
      "==================================================================================================\n",
      " input_2 (InputLayer)           [(None, 20)]         0           []                               \n",
      "                                                                                                  \n",
      " dense_5 (Dense)                (None, 11)           231         ['input_2[0][0]']                \n",
      "                                                                                                  \n",
      " dense_6 (Dense)                (None, 20)           240         ['dense_5[1][0]']                \n",
      "                                                                                                  \n",
      " dense_7 (Dense)                (None, 11)           231         ['dense_6[1][0]']                \n",
      "                                                                                                  \n",
      " dense_8 (Dense)                (None, 20)           420         ['input_2[0][0]']                \n",
      "                                                                                                  \n",
      " dense_9 (Dense)                (None, 30)           630         ['input_2[0][0]']                \n",
      "                                                                                                  \n",
      " concatenate (Concatenate)      (None, 61)           0           ['dense_7[1][0]',                \n",
      "                                                                  'dense_8[1][0]',                \n",
      "                                                                  'dense_9[1][0]']                \n",
      "                                                                                                  \n",
      "==================================================================================================\n",
      "Total params: 1,752\n",
      "Trainable params: 1,752\n",
      "Non-trainable params: 0\n",
      "__________________________________________________________________________________________________\n"
     ]
    }
   ],
   "source": [
    "block.summary()"
   ]
  },
  {
   "cell_type": "code",
   "execution_count": 22,
   "id": "9b7adbba-8bb1-4d01-ae16-649bf7a67566",
   "metadata": {},
   "outputs": [
    {
     "name": "stdout",
     "output_type": "stream",
     "text": [
      "You must install pydot (`pip install pydot`) and install graphviz (see instructions at https://graphviz.gitlab.io/download/) for plot_model to work.\n"
     ]
    }
   ],
   "source": [
    "plot_model(model)"
   ]
  },
  {
   "cell_type": "code",
   "execution_count": 23,
   "id": "450aebfa-7b29-4cd5-b792-a158690854d2",
   "metadata": {},
   "outputs": [
    {
     "data": {
      "text/plain": [
       "array([-1, -1])"
      ]
     },
     "execution_count": 23,
     "metadata": {},
     "output_type": "execute_result"
    }
   ],
   "source": [
    "np.array([-1, -1], dtype=int)"
   ]
  },
  {
   "cell_type": "code",
   "execution_count": 24,
   "id": "6ef5a239-d411-4faa-9e55-f37b28466d51",
   "metadata": {},
   "outputs": [],
   "source": [
    "final_layer = Dense(20, activation='relu')(block.output)"
   ]
  },
  {
   "cell_type": "code",
   "execution_count": 25,
   "id": "14015b30-edd5-4492-a44e-15879ff5468e",
   "metadata": {},
   "outputs": [
    {
     "name": "stdout",
     "output_type": "stream",
     "text": [
      "Model: \"model_2\"\n",
      "__________________________________________________________________________________________________\n",
      " Layer (type)                   Output Shape         Param #     Connected to                     \n",
      "==================================================================================================\n",
      " input_2 (InputLayer)           [(None, 20)]         0           []                               \n",
      "                                                                                                  \n",
      " dense_5 (Dense)                (None, 11)           231         ['input_2[0][0]']                \n",
      "                                                                                                  \n",
      " dense_6 (Dense)                (None, 20)           240         ['dense_5[1][0]']                \n",
      "                                                                                                  \n",
      " dense_7 (Dense)                (None, 11)           231         ['dense_6[1][0]']                \n",
      "                                                                                                  \n",
      " dense_8 (Dense)                (None, 20)           420         ['input_2[0][0]']                \n",
      "                                                                                                  \n",
      " dense_9 (Dense)                (None, 30)           630         ['input_2[0][0]']                \n",
      "                                                                                                  \n",
      " concatenate (Concatenate)      (None, 61)           0           ['dense_7[1][0]',                \n",
      "                                                                  'dense_8[1][0]',                \n",
      "                                                                  'dense_9[1][0]']                \n",
      "                                                                                                  \n",
      " dense_10 (Dense)               (None, 20)           1240        ['concatenate[1][0]']            \n",
      "                                                                                                  \n",
      "==================================================================================================\n",
      "Total params: 2,992\n",
      "Trainable params: 2,992\n",
      "Non-trainable params: 0\n",
      "__________________________________________________________________________________________________\n"
     ]
    }
   ],
   "source": [
    "Model(inputs=block.input, outputs=final_layer).summary()"
   ]
  },
  {
   "cell_type": "code",
   "execution_count": 26,
   "id": "ad4cbffa-4cee-4ad1-9edd-892da6f87788",
   "metadata": {},
   "outputs": [
    {
     "name": "stdout",
     "output_type": "stream",
     "text": [
      "Model: \"model\"\n",
      "_________________________________________________________________\n",
      " Layer (type)                Output Shape              Param #   \n",
      "=================================================================\n",
      " input_1 (InputLayer)        [(None, 28, 28)]          0         \n",
      "                                                                 \n",
      " flatten (Flatten)           (None, 784)               0         \n",
      "                                                                 \n",
      " dense (Dense)               (None, 64)                50240     \n",
      "                                                                 \n",
      " dense_1 (Dense)             (None, 128)               8320      \n",
      "                                                                 \n",
      " dense_2 (Dense)             (None, 64)                8256      \n",
      "                                                                 \n",
      " dense_3 (Dense)             (None, 10)                650       \n",
      "                                                                 \n",
      "=================================================================\n",
      "Total params: 67,466\n",
      "Trainable params: 67,466\n",
      "Non-trainable params: 0\n",
      "_________________________________________________________________\n"
     ]
    }
   ],
   "source": [
    "model.summary()"
   ]
  },
  {
   "cell_type": "code",
   "execution_count": 27,
   "id": "df84700f-523e-4997-a475-005697030185",
   "metadata": {},
   "outputs": [],
   "source": [
    "# creating class for custom loss func\n",
    "class DoubleClassificationLoss:\n",
    "    def call(self, y_true, y_pred):\n",
    "        return ... # the return statement of the loss function"
   ]
  },
  {
   "cell_type": "code",
   "execution_count": 28,
   "id": "f8b671c8-1dcb-447e-99e2-8b95f2ca4dc1",
   "metadata": {},
   "outputs": [],
   "source": [
    "# compile the nns\n",
    "model.compile(loss='sparse_categorical_crossentropy', optimizer='adam', metrics=['accuracy'])"
   ]
  },
  {
   "cell_type": "code",
   "execution_count": 29,
   "id": "abecdc43-4d55-4af9-a3d6-c11bad101554",
   "metadata": {},
   "outputs": [
    {
     "name": "stdout",
     "output_type": "stream",
     "text": [
      "Epoch 1/3\n",
      "1875/1875 [==============================] - 9s 5ms/step - loss: 1.1157 - accuracy: 0.7466\n",
      "Epoch 2/3\n",
      "1875/1875 [==============================] - 11s 6ms/step - loss: 0.5138 - accuracy: 0.8172\n",
      "Epoch 3/3\n",
      "1875/1875 [==============================] - 11s 6ms/step - loss: 0.4576 - accuracy: 0.8358\n"
     ]
    },
    {
     "data": {
      "text/plain": [
       "<keras.callbacks.History at 0x7f83357aae20>"
      ]
     },
     "execution_count": 29,
     "metadata": {},
     "output_type": "execute_result"
    }
   ],
   "source": [
    "model.fit(attr_train, tgt_train, epochs=3)"
   ]
  },
  {
   "cell_type": "code",
   "execution_count": 30,
   "id": "943f4a75-7440-4840-9c9e-9faf2a94c79d",
   "metadata": {},
   "outputs": [
    {
     "name": "stdout",
     "output_type": "stream",
     "text": [
      "313/313 [==============================] - 1s 4ms/step - loss: 0.4625 - accuracy: 0.8315\n"
     ]
    },
    {
     "data": {
      "text/plain": [
       "[0.46251651644706726, 0.8314999938011169]"
      ]
     },
     "execution_count": 30,
     "metadata": {},
     "output_type": "execute_result"
    }
   ],
   "source": [
    "# checking if overfitting\n",
    "model.evaluate(attr_test, tgt_test)"
   ]
  },
  {
   "cell_type": "code",
   "execution_count": 31,
   "id": "d79b722c-5654-4f56-aa76-8d92f2d62c21",
   "metadata": {},
   "outputs": [],
   "source": [
    "# not overfitting"
   ]
  },
  {
   "cell_type": "code",
   "execution_count": 32,
   "id": "abc9e898-f163-44ef-ba9c-01f9a93060cb",
   "metadata": {},
   "outputs": [],
   "source": [
    "# applying dropout regularization\n",
    "# it is applied after the training of the layer\n",
    "# it is not recommended to apply dropout after first input layer"
   ]
  },
  {
   "cell_type": "code",
   "execution_count": 34,
   "id": "abc2654b-423b-4206-93e5-c18cd1b86a4f",
   "metadata": {},
   "outputs": [
    {
     "name": "stdout",
     "output_type": "stream",
     "text": [
      "Epoch 1/10\n",
      "1875/1875 [==============================] - 11s 6ms/step - loss: 0.4468 - accuracy: 0.8421\n",
      "Epoch 2/10\n",
      "1875/1875 [==============================] - 10s 6ms/step - loss: 0.4112 - accuracy: 0.8523\n",
      "Epoch 3/10\n",
      "1875/1875 [==============================] - 10s 5ms/step - loss: 0.3932 - accuracy: 0.8587\n",
      "Epoch 4/10\n",
      "1875/1875 [==============================] - 10s 6ms/step - loss: 0.3720 - accuracy: 0.8657\n",
      "Epoch 5/10\n",
      "1875/1875 [==============================] - 11s 6ms/step - loss: 0.3637 - accuracy: 0.8683\n",
      "Epoch 6/10\n",
      "1875/1875 [==============================] - 11s 6ms/step - loss: 0.3579 - accuracy: 0.8720\n",
      "Epoch 7/10\n",
      "1875/1875 [==============================] - 11s 6ms/step - loss: 0.3443 - accuracy: 0.8748\n",
      "Epoch 8/10\n",
      "1875/1875 [==============================] - 11s 6ms/step - loss: 0.3418 - accuracy: 0.8765\n",
      "Epoch 9/10\n",
      "1875/1875 [==============================] - 11s 6ms/step - loss: 0.3395 - accuracy: 0.8764\n",
      "Epoch 10/10\n",
      "1875/1875 [==============================] - 11s 6ms/step - loss: 0.3281 - accuracy: 0.8810\n"
     ]
    },
    {
     "data": {
      "text/plain": [
       "<keras.callbacks.History at 0x7f83180e2c70>"
      ]
     },
     "execution_count": 34,
     "metadata": {},
     "output_type": "execute_result"
    }
   ],
   "source": [
    "model_2 = Model(inputs=input_layer, outputs=output_layer)\n",
    "model_2.compile(\n",
    "    loss='sparse_categorical_crossentropy',\n",
    "    optimizer='adam',\n",
    "    metrics=['accuracy']\n",
    ")\n",
    "model_2.fit(\n",
    "    attr_train, \n",
    "    tgt_train, \n",
    "    epochs=10, \n",
    "    callbacks=[TensorBoard()]\n",
    ")"
   ]
  },
  {
   "cell_type": "code",
   "execution_count": 35,
   "id": "c4474707-10df-47e6-9922-cec8dbb5d363",
   "metadata": {},
   "outputs": [
    {
     "name": "stdout",
     "output_type": "stream",
     "text": [
      "313/313 [==============================] - 2s 5ms/step - loss: 0.3862 - accuracy: 0.8662\n"
     ]
    },
    {
     "data": {
      "text/plain": [
       "[0.38622504472732544, 0.8661999702453613]"
      ]
     },
     "execution_count": 35,
     "metadata": {},
     "output_type": "execute_result"
    }
   ],
   "source": [
    "model_2.evaluate(attr_test, tgt_test)"
   ]
  },
  {
   "cell_type": "code",
   "execution_count": 36,
   "id": "cb3fff48-6af3-4759-9507-02260a8cba4a",
   "metadata": {},
   "outputs": [],
   "source": [
    "# tensorboard is used to log the training of the model\n",
    "%load_ext tensorboard"
   ]
  },
  {
   "cell_type": "code",
   "execution_count": 37,
   "id": "b5eed412-987a-4247-a05d-a33a4651976e",
   "metadata": {},
   "outputs": [
    {
     "data": {
      "text/html": [
       "\n",
       "      <iframe id=\"tensorboard-frame-1a40e5bde7dedb64\" width=\"100%\" height=\"800\" frameborder=\"0\">\n",
       "      </iframe>\n",
       "      <script>\n",
       "        (function() {\n",
       "          const frame = document.getElementById(\"tensorboard-frame-1a40e5bde7dedb64\");\n",
       "          const url = new URL(\"/\", window.location);\n",
       "          const port = 6006;\n",
       "          if (port) {\n",
       "            url.port = port;\n",
       "          }\n",
       "          frame.src = url;\n",
       "        })();\n",
       "      </script>\n",
       "    "
      ],
      "text/plain": [
       "<IPython.core.display.HTML object>"
      ]
     },
     "metadata": {},
     "output_type": "display_data"
    }
   ],
   "source": [
    "%tensorboard --logdir logs --host=0.0.0.0"
   ]
  },
  {
   "cell_type": "code",
   "execution_count": 46,
   "id": "b681f0b6-d7f5-4ec4-92cd-5f82305f8993",
   "metadata": {},
   "outputs": [
    {
     "data": {
      "text/plain": [
       "TensorShape([784])"
      ]
     },
     "execution_count": 46,
     "metadata": {},
     "output_type": "execute_result"
    }
   ],
   "source": [
    "tf.reduce_mean(model_2.layers[2].weights[0].numpy(), axis=-1).shape"
   ]
  },
  {
   "cell_type": "code",
   "execution_count": 52,
   "id": "ecae59eb-68d3-461a-bceb-5b9a90261a73",
   "metadata": {},
   "outputs": [
    {
     "data": {
      "text/plain": [
       "(array([ 1.,  0.,  1.,  5.,  5., 12., 21., 48., 42., 73., 77., 94., 82.,\n",
       "        78., 81., 65., 40., 21., 18.,  7.,  8.,  2.,  1.,  1.,  1.]),\n",
       " array([-0.076755  , -0.07210429, -0.06745357, -0.06280285, -0.05815214,\n",
       "        -0.05350142, -0.04885071, -0.04419999, -0.03954928, -0.03489856,\n",
       "        -0.03024784, -0.02559713, -0.02094641, -0.0162957 , -0.01164498,\n",
       "        -0.00699427, -0.00234355,  0.00230717,  0.00695788,  0.0116086 ,\n",
       "         0.01625931,  0.02091003,  0.02556074,  0.03021146,  0.03486218,\n",
       "         0.03951289]),\n",
       " <BarContainer object of 25 artists>)"
      ]
     },
     "execution_count": 52,
     "metadata": {},
     "output_type": "execute_result"
    },
    {
     "data": {
      "image/png": "[encoded data removed]",
      "text/plain": [
       "<Figure size 640x480 with 1 Axes>"
      ]
     },
     "metadata": {},
     "output_type": "display_data"
    }
   ],
   "source": [
    "plt.hist(tf.reduce_mean(model_2.layers[2].weights[0].numpy(), axis=-1), bins='auto')"
   ]
  },
  {
   "cell_type": "code",
   "execution_count": null,
   "id": "36136d32-3d0e-4e84-8d52-901a29c774d5",
   "metadata": {},
   "outputs": [],
   "source": []
  }
 ],
 "metadata": {
  "kernelspec": {
   "display_name": "Python 3 (ipykernel)",
   "language": "python",
   "name": "python3"
  },
  "language_info": {
   "codemirror_mode": {
    "name": "ipython",
    "version": 3
   },
   "file_extension": ".py",
   "mimetype": "text/x-python",
   "name": "python",
   "nbconvert_exporter": "python",
   "pygments_lexer": "ipython3",
   "version": "3.11.0rc1"
  }
 },
 "nbformat": 4,
 "nbformat_minor": 5
}
