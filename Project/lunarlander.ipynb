{
 "cells": [
  {
   "cell_type": "code",
   "execution_count": 7,
   "id": "7c89d4c2-d66b-4751-b084-6e70a615c895",
   "metadata": {},
   "source": [
    "# run this command in wsl:\n",
    "\n",
    "# xhost +local:root\n"
   ],
   "outputs": []
  },
  {
   "cell_type": "code",
   "execution_count": 1,
   "id": "8038aeec-ac9f-480b-9ce6-c00593eaf2e7",
   "metadata": {},
   "source": [
    "!pip install swig\n",
    "!pip install gymnasium['box2d']"
   ],
   "outputs": []
  },
  {
   "cell_type": "code",
   "execution_count": 2,
   "id": "4349eb56-f2fd-4fef-9b16-92ffbb1440f7",
   "metadata": {},
   "source": [
    "%matplotlib inline"
   ],
   "outputs": []
  },
  {
   "cell_type": "code",
   "execution_count": 16,
   "id": "50812c0f-3a50-4090-8f02-27ea9ee58a09",
   "metadata": {},
   "source": [
    "import gymnasium as gym\n",
    "from IPython import display\n",
    "import matplotlib.pyplot as plt\n",
    "import numpy as np"
   ],
   "outputs": []
  },
  {
   "cell_type": "code",
   "execution_count": null,
   "id": "e617f900-f46e-44cc-afaf-03baea96a8ee",
   "metadata": {},
   "source": [
    "# Initialise the environment in human mode\n",
    "env = gym.make(\"LunarLander-v3\", render_mode=\"human\")\n",
    "\n",
    "# Reset the environment to generate the first observation\n",
    "observation, info = env.reset(seed=42)\n",
    "for _ in range(1000):\n",
    "    # this is where you would insert your policy\n",
    "    action = env.action_space.sample()\n",
    "\n",
    "    # step (transition) through the environment with the action\n",
    "    # receiving the next observation, reward and if the episode has terminated or truncated\n",
    "    observation, reward, terminated, truncated, info = env.step(action)\n",
    "\n",
    "    # If the episode has ended then we can reset to start a new episode\n",
    "    if terminated or truncated:\n",
    "        observation, info = env.reset()\n",
    "\n",
    "env.close()\n"
   ],
   "outputs": []
  },
  {
   "cell_type": "code",
   "execution_count": 17,
   "id": "f6213673-eb87-481b-a019-15fc811c48e6",
   "metadata": {},
   "source": [
    "# Initialize the environment with the correct render mode\n",
    "env = gym.make(\"LunarLander-v3\", render_mode=\"rgb_array\")\n",
    "\n",
    "# Reset the environment\n",
    "observation, info = env.reset(seed=42)\n",
    "\n",
    "# Set up the plot\n",
    "plt.ion()\n",
    "fig, ax = plt.subplots()\n",
    "img = ax.imshow(env.render())\n",
    "plt.axis('off')  # Hide axes for better visualization\n",
    "\n",
    "for _ in range(1000):\n",
    "    # Sample a random action\n",
    "    action = env.action_space.sample()\n",
    "\n",
    "    # Step through the environment\n",
    "    observation, reward, terminated, truncated, info = env.step(action)\n",
    "\n",
    "    # Render the current frame\n",
    "    frame = env.render()\n",
    "\n",
    "    # Ensure the frame is a NumPy array\n",
    "    if isinstance(frame, np.ndarray):\n",
    "        img.set_data(frame)\n",
    "        display.display(fig)\n",
    "        display.clear_output(wait=True)\n",
    "    else:\n",
    "        print(\"Warning: env.render() did not return a valid frame.\")\n",
    "\n",
    "    # Check if the episode has ended\n",
    "    if terminated or truncated:\n",
    "        observation, info = env.reset()\n",
    "\n",
    "env.close()\n"
   ],
   "outputs": []
  },
  {
   "cell_type": "code",
   "execution_count": null,
   "id": "ce5a6200-e3f8-4ee0-8ee3-f06d84009f4b",
   "metadata": {},
   "source": [],
   "outputs": []
  },
  {
   "cell_type": "code",
   "execution_count": null,
   "id": "f8f7445f-0bc3-4e78-a248-b9af831616dc",
   "metadata": {},
   "source": [],
   "outputs": []
  }
 ],
 "metadata": {
  "kernelspec": {
   "display_name": "Python 3 (ipykernel)",
   "language": "python",
   "name": "python3"
  },
  "language_info": {
   "codemirror_mode": {
    "name": "ipython",
    "version": 3
   },
   "file_extension": ".py",
   "mimetype": "text/x-python",
   "name": "python",
   "nbconvert_exporter": "python",
   "pygments_lexer": "ipython3",
   "version": "3.8.10"
  }
 },
 "nbformat": 4,
 "nbformat_minor": 5
}
