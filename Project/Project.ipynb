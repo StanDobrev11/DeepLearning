{
 "cells": [
  {
   "cell_type": "code",
   "execution_count": 1,
   "id": "13d2ddc1-4e4d-4c89-9243-796a6c27bc58",
   "metadata": {},
   "source": [
    "%matplotlib inline"
   ],
   "outputs": []
  },
  {
   "cell_type": "code",
   "execution_count": 3,
   "id": "eb475a0f-8a7c-4b8f-8d0e-5814613501ab",
   "metadata": {},
   "source": [
    "import os\n",
    "import tensorflow as tf\n",
    "os.environ[\"TF_CPP_MIN_LOG_LEVEL\"] = \"2\""
   ],
   "outputs": []
  },
  {
   "cell_type": "code",
   "execution_count": 4,
   "id": "c1314e7f-023a-466a-adee-22e4679e09c8",
   "metadata": {},
   "source": [
    "import numpy as np\n",
    "import pandas as pd\n",
    "import matplotlib.pyplot as plt"
   ],
   "outputs": []
  },
  {
   "cell_type": "markdown",
   "id": "ef843b3f-bab0-49a1-a3a1-9d11c92004bd",
   "metadata": {},
   "source": [
    "# NN Integrated RL Model for Collision Avoidance and Track-keeping of an ASV in a Marine Environment\n",
    "\n",
    "## Abstract\n",
    "\n",
    "The goal of this study is to train a model, implemented on an Autonomous Surface Vehicle (ASV) operating in a marine environment, that is capable of maintaining track between waypoints, minimizing traveled distance, and avoiding collisions or close-quarter situations by dynamically altering the ASV's course and speed. As waterway transportation demands continue to rise, the increasing density of vessel traffic has led to a higher risk of accidents and collisions, often attributed to human error. Addressing this challenge, the maritime industry is increasingly adopting autonomous systems to enhance safety and operational efficiency. \n",
    "\n",
    "This study presents the application of Neural Network-based Reinforcement Learning (NN-RL) for collision avoidance and track-keeping in marine environments. By leveraging the adaptability of reinforcement learning and the generalization capabilities of neural networks, the proposed approach enables the ASV to learn optimal navigation policies from interactions with a simulated environment. \n",
    "\n",
    "The method incorporates compliance with COLREGs (proposed to be changed) to ensure safe maneuvering in dynamic and congested waterways. A comparative analysis demonstrates that the NN-RL model outperforms traditional methods, including Artificial Potential Fields (APFs) and velocity obstacle approaches, by effectively handling complex, dynamic obstacles and reducing traveled distance. The robustness and scalability of the model are validated through extensive Monte Carlo simulations under realistic maritime traffic scenarios, emphasizing its potential to improve navigational safety and efficiency in the maritime domain.\n",
    "**CHECK MUST BE CORRECTED**\n",
    "\n",
    "## Problem Definition\n",
    "\n"
   ]
  },
  {
   "cell_type": "code",
   "execution_count": 1,
   "id": "9ebad328-1c71-439e-a24e-efa8119fe9e9",
   "metadata": {},
   "source": [],
   "outputs": []
  },
  {
   "cell_type": "code",
   "execution_count": 2,
   "id": "c0f39954-8a47-427d-bc7f-3fb3c4bf71fb",
   "metadata": {},
   "source": [],
   "outputs": []
  },
  {
   "cell_type": "code",
   "execution_count": null,
   "id": "60fbad22-e7e5-49d6-b08c-b0e597b8b490",
   "metadata": {},
   "source": [],
   "outputs": []
  }
 ],
 "metadata": {
  "kernelspec": {
   "display_name": "Python 3 (ipykernel)",
   "language": "python",
   "name": "python3"
  },
  "language_info": {
   "codemirror_mode": {
    "name": "ipython",
    "version": 3
   },
   "file_extension": ".py",
   "mimetype": "text/x-python",
   "name": "python",
   "nbconvert_exporter": "python",
   "pygments_lexer": "ipython3",
   "version": "3.8.10"
  }
 },
 "nbformat": 4,
 "nbformat_minor": 5
}
