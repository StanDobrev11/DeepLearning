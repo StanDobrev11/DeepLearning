{
 "cells": [
  {
   "cell_type": "markdown",
   "id": "e4af1cab-73ee-458d-8ae0-ca050c98ffa2",
   "metadata": {},
   "source": [
    "# Creating Marine Environment"
   ]
  },
  {
   "cell_type": "code",
   "execution_count": 2,
   "id": "3984fb3f-45ad-43d8-856c-a7f5b6fd2378",
   "metadata": {},
   "outputs": [
    {
     "name": "stdout",
     "output_type": "stream",
     "text": [
      "Simulated Time: 2.2627777777780373 hours\n"
     ]
    }
   ],
   "source": [
    "import gymnasium as gym\n",
    "from gymnasium import spaces\n",
    "from gymnasium.envs.registration import register, registry\n",
    "import numpy as np\n",
    "import pygame\n",
    "import time\n",
    "\n",
    "if 'MarineEnv-v0' not in registry:\n",
    "    register(\n",
    "        id='MarineEnv-v0',\n",
    "        entry_point='marine_env:MarineEnv',  # String reference to the class\n",
    "    )\n",
    "\n",
    "# Test the environment\n",
    "env = gym.make('MarineEnv-v0')\n",
    "\n",
    "# Example usage\n",
    "state, _ = env.reset()\n",
    "done = False\n",
    "\n",
    "while not done:\n",
    "    action = env.action_space.sample()  # Random action\n",
    "    state, reward, terminated, truncated, info = env.step(action)\n",
    "    env.render()\n",
    "    done = terminated or truncated\n",
    "    \n",
    "env.close()\n",
    "print(f\"Simulated Time: {info['total_sim_time']} hours\")\n"
   ]
  },
  {
   "cell_type": "code",
   "execution_count": null,
   "id": "390772e9-145a-4a1c-b9d0-fee7573d7c24",
   "metadata": {},
   "outputs": [],
   "source": [
    "import gymnasium as gym\n",
    "from gymnasium import spaces\n",
    "import numpy as np\n",
    "import pygame\n",
    "\n",
    "class MarineEnv(gym.Env):\n",
    "    def __init__(self, time_scale=60):\n",
    "        super(MarineEnv, self).__init__()\n",
    "\n",
    "        # Define action space (5 discrete actions)\n",
    "        self.action_space = spaces.Discrete(5)\n",
    "\n",
    "        # Define observation space: [lat, lon, course, speed]\n",
    "        self.lat_bounds = (30.0, 30.5)  # Example latitude bounds (30 NM range)\n",
    "        self.lon_bounds = (100.0, 100.5)  # Example longitude bounds\n",
    "        self.observation_space = spaces.Box(\n",
    "            low=np.array([self.lat_bounds[0], self.lon_bounds[0], 0, 0]),\n",
    "            high=np.array([self.lat_bounds[1], self.lon_bounds[1], 360, 20]),\n",
    "            dtype=np.float64\n",
    "        )\n",
    "\n",
    "        # Initialize the state\n",
    "        self.state = np.array([30.1, 100.1, 45.0, 15.0])  # [lat, lon, course, speed in knots]\n",
    "        self.time_scale = time_scale  # How much to scale simulation time (1x = real time)\n",
    "        self.real_world_dt = 1 / 60.0  # Real-world time step (1 minute)\n",
    "        self.sim_dt = self.real_world_dt / self.time_scale  # Scaled simulation time step\n",
    "        self.total_sim_time = 0.0  # Total simulation time in hours\n",
    "\n",
    "        # Pygame setup\n",
    "        self.window_size = 600  # Pixels for visualization\n",
    "        self.scale = self.window_size / ((self.lat_bounds[1] - self.lat_bounds[0]) * 60)  # Pixels per NM\n",
    "        self.window = None\n",
    "        self.clock = None\n",
    "        self.vessel_size = 5  # Vessel radius in pixels\n",
    "\n",
    "    \n",
    "    def latlon_to_pixels(self, lat, lon):\n",
    "        \"\"\"Convert latitude and longitude to pixel coordinates.\"\"\"\n",
    "        lat_range = self.lat_bounds[1] - self.lat_bounds[0]\n",
    "        lon_range = self.lon_bounds[1] - self.lon_bounds[0]\n",
    "        px = int((lon - self.lon_bounds[0]) / lon_range * self.window_size)\n",
    "        py = int((self.lat_bounds[1] - lat) / lat_range * self.window_size)\n",
    "        return px, py\n",
    "\n",
    "    def step(self, action):\n",
    "        lat, lon, course, speed = self.state\n",
    "\n",
    "        # Update based on action\n",
    "        if action == 0:  # Turn port (left) by 5 degrees\n",
    "            pass\n",
    "            # course = (course - 5) % 360\n",
    "        elif action == 1:  # Turn starboard (right) by 5 degrees\n",
    "            pass\n",
    "            # course = (course + 5) % 360\n",
    "        elif action == 2:  # Slow down by 1 knot\n",
    "            pass\n",
    "            # speed = max(speed - 1, 0)  # Min speed is 0 knots\n",
    "        elif action == 3:  # Speed up by 1 knot\n",
    "            pass\n",
    "            # speed = min(speed + 1, 20)  # Max speed is 20 knots\n",
    "        elif action == 4:  # Keep course and speed\n",
    "            pass\n",
    "\n",
    "        # Update position using real-world scaling\n",
    "        rad = np.deg2rad(course)\n",
    "        d_lat = (speed * self.sim_dt) / 60.0  # Degrees latitude per simulated time step\n",
    "        d_lon = (speed * self.sim_dt) / 60.0 * np.cos(np.deg2rad(lat))  # Degrees longitude\n",
    "\n",
    "        lon += d_lon * np.cos(rad)\n",
    "        lat += d_lat * np.sin(rad)\n",
    "\n",
    "        # Clip latitude and longitude to bounds\n",
    "        lat = np.clip(lat, self.lat_bounds[0], self.lat_bounds[1])\n",
    "        lon = np.clip(lon, self.lon_bounds[0], self.lon_bounds[1])\n",
    "\n",
    "        # Update state\n",
    "        self.state = np.array([lat, lon, course, speed])\n",
    "        self.total_sim_time += self.sim_dt  # Increment simulated time\n",
    "\n",
    "        # Define reward (can be customized later)\n",
    "        reward = 0.0\n",
    "\n",
    "        # The episode ends when speed is 0 or vessel moves out of bounds\n",
    "        done = (speed == 0) or (lat <= self.lat_bounds[0] or lat >= self.lat_bounds[1] or\n",
    "                                lon <= self.lon_bounds[0] or lon >= self.lon_bounds[1])\n",
    "\n",
    "        return self.state, reward, done, False, {\"total_sim_time\": self.total_sim_time}\n",
    "\n",
    "    def reset(self, seed=None, options=None):\n",
    "        # Handle the seed for random number generation\n",
    "        if seed is not None:\n",
    "            np.random.seed(seed)\n",
    "\n",
    "        # Reset the state\n",
    "        self.state = np.array([30.1, 100.1, 45.0, 15.0])  # Example fixed state\n",
    "        self.total_sim_time = 0.0  # Reset total simulation time\n",
    "        return self.state, {}\n",
    "\n",
    "    def render(self, mode=\"human\"):\n",
    "        if self.window is None:\n",
    "            pygame.init()\n",
    "            self.window = pygame.display.set_mode((self.window_size, self.window_size))\n",
    "            pygame.display.set_caption(\"Marine Environment\")\n",
    "            self.clock = pygame.time.Clock()\n",
    "\n",
    "        # Clear the screen\n",
    "        self.window.fill((0, 0, 50))  # Dark blue background\n",
    "\n",
    "        # Draw the vessel\n",
    "        lat, lon, course, speed = self.state\n",
    "        px, py = self.latlon_to_pixels(lat, lon)\n",
    "        pygame.draw.circle(self.window, (255, 255, 255), (px, py), self.vessel_size)\n",
    "\n",
    "        # Draw heading as a line\n",
    "        heading_rad = np.deg2rad(-course)  # Adjust course for pygame's coordinate system\n",
    "        line_length = int(speed * self.scale)  # Line length proportional to speed\n",
    "        end_x = px + int(line_length * np.cos(heading_rad))\n",
    "        end_y = py + int(line_length * np.sin(heading_rad))\n",
    "        pygame.draw.line(self.window, (255, 0, 0), (px, py), (end_x, end_y), 2)\n",
    "\n",
    "        # Update the display\n",
    "        pygame.display.flip()\n",
    "        self.clock.tick(30)  # Limit to 30 FPS\n",
    "\n",
    "    def close(self):\n",
    "        if self.window is not None:\n",
    "            pygame.quit()\n",
    "            self.window = None\n"
   ]
  },
  {
   "cell_type": "code",
   "execution_count": null,
   "id": "89d2b736-5f76-429d-8865-27e325205a78",
   "metadata": {},
   "outputs": [],
   "source": [
    "env = MarineEnv()"
   ]
  },
  {
   "cell_type": "code",
   "execution_count": null,
   "id": "20960753-9653-4aa6-8dc1-afa88b173a39",
   "metadata": {},
   "outputs": [],
   "source": [
    "state, _ = env.reset()"
   ]
  },
  {
   "cell_type": "code",
   "execution_count": null,
   "id": "903c84e1-0025-4e74-90f1-ac8bcec02d5e",
   "metadata": {},
   "outputs": [],
   "source": [
    "state"
   ]
  },
  {
   "cell_type": "code",
   "execution_count": null,
   "id": "1026d47c-9834-4831-8b3a-1204f59f5e9f",
   "metadata": {},
   "outputs": [],
   "source": [
    "env.action_space.sample()"
   ]
  },
  {
   "cell_type": "code",
   "execution_count": null,
   "id": "b46ae8be-193d-44ca-810a-e01fcc341821",
   "metadata": {},
   "outputs": [],
   "source": [
    "env.step(4)"
   ]
  },
  {
   "cell_type": "code",
   "execution_count": null,
   "id": "9bb1c0e5-d092-497b-9ef4-3e1819c09e45",
   "metadata": {},
   "outputs": [],
   "source": [
    "env.render()"
   ]
  },
  {
   "cell_type": "code",
   "execution_count": null,
   "id": "a3f22652-6cde-4383-82ac-637678379f9c",
   "metadata": {},
   "outputs": [],
   "source": [
    "env.close()"
   ]
  },
  {
   "cell_type": "code",
   "execution_count": null,
   "id": "933d9149-ee95-4411-8f0a-f322b797ac07",
   "metadata": {},
   "outputs": [],
   "source": [
    "env.scale"
   ]
  },
  {
   "cell_type": "code",
   "execution_count": null,
   "id": "4f6d001b-4d79-4521-b5b6-f0a6123c8931",
   "metadata": {},
   "outputs": [],
   "source": []
  }
 ],
 "metadata": {
  "kernelspec": {
   "display_name": "Python 3 (ipykernel)",
   "language": "python",
   "name": "python3"
  },
  "language_info": {
   "codemirror_mode": {
    "name": "ipython",
    "version": 3
   },
   "file_extension": ".py",
   "mimetype": "text/x-python",
   "name": "python",
   "nbconvert_exporter": "python",
   "pygments_lexer": "ipython3",
   "version": "3.8.10"
  }
 },
 "nbformat": 4,
 "nbformat_minor": 5
}
