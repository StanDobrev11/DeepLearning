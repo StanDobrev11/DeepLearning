{
 "cells": [
  {
   "cell_type": "markdown",
   "id": "e4af1cab-73ee-458d-8ae0-ca050c98ffa2",
   "metadata": {},
   "source": [
    "# Creating Marine Environment"
   ]
  },
  {
   "cell_type": "code",
   "execution_count": 1,
   "id": "181518bf28e85ab8",
   "metadata": {},
   "outputs": [],
   "source": [
    "import gymnasium as gym\n",
    "from gymnasium import spaces\n",
    "from gymnasium.envs.registration import register, registry\n",
    "import numpy as np\n",
    "import pygame\n",
    "import time\n",
    "\n",
    "import math\n",
    "import random\n",
    "import matplotlib\n",
    "import matplotlib.pyplot as plt\n",
    "\n",
    "from collections import namedtuple, deque\n",
    "from itertools import count\n",
    "\n",
    "import torch\n",
    "import torch.nn as nn\n",
    "import torch.optim as optim\n",
    "import torch.nn.functional as F"
   ]
  },
  {
   "cell_type": "code",
   "execution_count": 2,
   "id": "ebd77b65221fa08d",
   "metadata": {},
   "outputs": [],
   "source": [
    "if 'MarineEnv-v0' not in registry:\n",
    "    register(\n",
    "        id='MarineEnv-v0',\n",
    "        entry_point='marine_env:MarineEnv',  # String reference to the class\n",
    "    )\n",
    "\n",
    "# Test the environment\n",
    "env = gym.make('MarineEnv-v0')"
   ]
  },
  {
   "cell_type": "code",
   "execution_count": 3,
   "id": "cbc0218f078f6ad",
   "metadata": {},
   "outputs": [],
   "source": [
    "is_ipython = 'inline' in matplotlib.get_backend()\n",
    "if is_ipython:\n",
    "    from IPython import display\n",
    "\n",
    "plt.ion()\n",
    "\n",
    "device = torch.device('cuda' if torch.cuda.is_available() else 'cpu')"
   ]
  },
  {
   "cell_type": "code",
   "execution_count": 4,
   "id": "83dfb28b4b057409",
   "metadata": {},
   "outputs": [],
   "source": [
    "Transition = namedtuple(typename='Transition', field_names=('state', 'action', 'next_state', 'reward'))"
   ]
  },
  {
   "cell_type": "code",
   "execution_count": 5,
   "id": "dd116a08b48339",
   "metadata": {},
   "outputs": [],
   "source": [
    "class ReplayMemory:\n",
    "    \"\"\"\n",
    "    A replay buffer that stores transitions encountered by the agent.\n",
    "    It enables experience replay by sampling random batches of transitions\n",
    "    to break temporal correlation and improve learning stability.\n",
    "\n",
    "    Attributes:\n",
    "        capacity (int): The maximum number of transitions to store in memory.\n",
    "        memory (deque): A double-ended queue to store transitions with fixed size.\n",
    "    \"\"\"\n",
    "\n",
    "    def __init__(self, capacity: int):\n",
    "        \"\"\"\n",
    "        Initializes the ReplayMemory with a fixed capacity.\n",
    "\n",
    "        Args:\n",
    "            capacity (int): The maximum number of transitions the buffer can hold.\n",
    "        \"\"\"\n",
    "        self.memory = deque([], maxlen=capacity)\n",
    "\n",
    "    def push(self, *args):\n",
    "        \"\"\"\n",
    "        Add a transition to the memory buffer.\n",
    "\n",
    "        Args:\n",
    "            *args: The elements of a transition (state, action, reward, next_state, done),\n",
    "                   which will be wrapped into a Transition namedtuple.\n",
    "        \"\"\"\n",
    "        state, action, next_state, reward = args\n",
    "        state = state.to(device)\n",
    "        action = action.to(device)\n",
    "        if next_state is not None:\n",
    "            next_state = next_state.to(device)\n",
    "        reward = reward.to(device)\n",
    "\n",
    "        self.memory.append(Transition(state, action, next_state, reward))\n",
    "\n",
    "    def sample(self, batch_size: int):\n",
    "        \"\"\"\n",
    "        Randomly sample a batch of transitions from the memory buffer.\n",
    "\n",
    "        Args:\n",
    "            batch_size (int): The number of transitions to sample.\n",
    "\n",
    "        Returns:\n",
    "            List[Transition]: A list of randomly sampled transitions.\n",
    "        \"\"\"\n",
    "        return random.sample(self.memory, batch_size)\n",
    "\n",
    "    def __len__(self) -> int:\n",
    "        \"\"\"\n",
    "        Return the current size of the memory buffer.\n",
    "\n",
    "        Returns:\n",
    "            int: The number of transitions currently stored in memory.\n",
    "        \"\"\"\n",
    "        return len(self.memory)"
   ]
  },
  {
   "cell_type": "code",
   "execution_count": 6,
   "id": "f67ce5fdf5e23596",
   "metadata": {},
   "outputs": [],
   "source": [
    "class DQN(nn.Module):\n",
    "    \"\"\"\n",
    "    A Deep Q-Network (DQN) implemented as a Multilayer Perceptron (MLP).\n",
    "\n",
    "    The network approximates the Q-value function, which predicts the cumulative \n",
    "    reward for each possible action in a given state.\n",
    "\n",
    "    Attributes:\n",
    "        layer1 (nn.Linear): First fully connected layer (input to 128 neurons).\n",
    "        layer2 (nn.Linear): Second fully connected layer (128 to 128 neurons).\n",
    "        layer3 (nn.Linear): Output layer (128 to n_actions neurons).\n",
    "    \"\"\"\n",
    "\n",
    "    def __init__(self, n_observations: int, n_actions: int):\n",
    "        \"\"\"\n",
    "        Initializes the DQN network with three fully connected layers.\n",
    "\n",
    "        Args:\n",
    "            n_observations (int): The size of the input (state of the environment).\n",
    "            n_actions (int): The number of possible actions in the environment.\n",
    "        \"\"\"\n",
    "        super(DQN, self).__init__()\n",
    "        self.layer1 = nn.Linear(n_observations, 128)  # Input to hidden layer 1\n",
    "        self.layer2 = nn.Linear(128, 128)  # Hidden layer 1 to hidden layer 2\n",
    "        self.layer3 = nn.Linear(128, n_actions)  # Hidden layer 2 to output\n",
    "\n",
    "    def forward(self, x: torch.Tensor) -> torch.Tensor:\n",
    "        \"\"\"\n",
    "        Performs a forward pass through the network.\n",
    "\n",
    "        Args:\n",
    "            x (torch.Tensor): The input tensor representing the state of the environment.\n",
    "\n",
    "        Returns:\n",
    "            torch.Tensor: The Q-values for each possible action.\n",
    "        \"\"\"\n",
    "        x = F.relu(self.layer1(x))  # Apply ReLU to the first layer\n",
    "        x = F.relu(self.layer2(x))  # Apply ReLU to the second layer\n",
    "        return self.layer3(x)  # Output layer (no activation applied)\n"
   ]
  },
  {
   "cell_type": "code",
   "execution_count": 7,
   "id": "d0d9e53f75699072",
   "metadata": {},
   "outputs": [],
   "source": [
    "# Size of the batch sampled from the replay buffer\n",
    "BATCH_SIZE = 128\n",
    "# Explanation:\n",
    "# The number of experiences (state-action-reward transitions) sampled from the replay buffer\n",
    "# at each training step. Larger batch sizes improve stability but increase computational cost.\n",
    "\n",
    "# Discount factor for future rewards\n",
    "GAMMA = 0.99\n",
    "# Explanation:\n",
    "# The discount factor determines how much importance is given to future rewards.\n",
    "# A value close to 1 means future rewards are highly valued, while a value closer to 0 means\n",
    "# the agent focuses on immediate rewards.\n",
    "\n",
    "# Initial value for epsilon in the epsilon-greedy policy\n",
    "EPS_START = 0.9\n",
    "# Explanation:\n",
    "# Epsilon is the probability of choosing a random action (exploration).\n",
    "# This is the starting value, meaning the agent initially explores 90% of the time.\n",
    "\n",
    "# Final value for epsilon in the epsilon-greedy policy\n",
    "EPS_END = 0.05\n",
    "# Explanation:\n",
    "# The minimum value epsilon can decay to. At this stage, the agent mostly exploits\n",
    "# the learned policy but still explores 5% of the time to avoid getting stuck in local optima.\n",
    "\n",
    "# Decay rate for epsilon in the epsilon-greedy policy\n",
    "EPS_DECAY = 1000\n",
    "# Explanation:\n",
    "# The rate at which epsilon decays over time. A higher value makes epsilon decay slower,\n",
    "# allowing the agent to explore for longer. The effective epsilon at time step `t` can\n",
    "# be calculated as:\n",
    "# epsilon(t) = EPS_END + (EPS_START - EPS_END) * exp(-t / EPS_DECAY)\n",
    "\n",
    "# Target network soft update rate\n",
    "TAU = 0.005\n",
    "# Explanation:\n",
    "# Determines how much the target network is updated towards the online (policy) network\n",
    "# at each training step. A lower TAU makes the target network update more slowly,\n",
    "# stabilizing the learning process. The update rule is:\n",
    "# target_param = TAU * policy_param + (1 - TAU) * target_param\n",
    "\n",
    "# Learning rate for the optimizer\n",
    "LR = 1e-04\n",
    "# Explanation:\n",
    "# The step size for gradient updates during backpropagation.\n",
    "# A smaller learning rate ensures slow and stable learning but may require more steps to converge.\n",
    "# Too large a value may lead to instability in training."
   ]
  },
  {
   "cell_type": "code",
   "execution_count": 8,
   "id": "cfb0a4cfd21d8efb",
   "metadata": {},
   "outputs": [],
   "source": [
    "# Number of actions in the environment\n",
    "n_actions = env.action_space.n\n",
    "\n",
    "# Number of state observations\n",
    "state, info = env.reset()\n",
    "n_observations = len(state)\n",
    "\n",
    "# Initialize the policy and target networks\n",
    "policy_net = DQN(n_observations=n_observations, n_actions=n_actions).to(device)\n",
    "target_net = DQN(n_observations=n_observations, n_actions=n_actions).to(device)\n",
    "target_net.load_state_dict(policy_net.state_dict())  # Copy weights from policy_net to target_net\n",
    "\n",
    "# Optimizer for training the policy network\n",
    "optimizer = optim.AdamW(policy_net.parameters(), lr=LR)\n",
    "\n",
    "# Replay memory for experience replay\n",
    "memory = ReplayMemory(10000)\n",
    "\n",
    "# Step counter for epsilon decay\n",
    "steps_done = 0\n"
   ]
  },
  {
   "cell_type": "code",
   "execution_count": 9,
   "id": "eafee99f5da85578",
   "metadata": {},
   "outputs": [],
   "source": [
    "def select_action(state: torch.Tensor) -> torch.Tensor:\n",
    "    \"\"\"\n",
    "    Selects an action using an epsilon-greedy policy.\n",
    "\n",
    "    Args:\n",
    "        state (torch.Tensor): The current state of the environment.\n",
    "\n",
    "    Returns:\n",
    "        torch.Tensor: The selected action as a 1x1 tensor (contains the action index).\n",
    "    \"\"\"\n",
    "    global steps_done\n",
    "    sample = random.random()  # Random number to determine explore vs exploit\n",
    "    eps_threshold = EPS_END + (EPS_START - EPS_END) * math.exp(-1.0 * steps_done / EPS_DECAY)\n",
    "    steps_done += 1\n",
    "\n",
    "    if sample > eps_threshold:  # Exploit: Use policy network to select the best action\n",
    "        with torch.no_grad():\n",
    "            return policy_net(state).max(1)[1].view(1, 1).to(device)\n",
    "    else:  # Explore: Select a random action\n",
    "        return torch.tensor([[env.action_space.sample()]], dtype=torch.long, device=device)"
   ]
  },
  {
   "cell_type": "code",
   "execution_count": 10,
   "id": "8299abfed6125eb7",
   "metadata": {},
   "outputs": [],
   "source": [
    "episode_rewards = []  # To store cumulative rewards per episode\n",
    "\n",
    "\n",
    "def plot_rewards(show_result=False):\n",
    "    plt.figure(1)\n",
    "    rewards_t = torch.tensor(episode_rewards, dtype=torch.float)\n",
    "\n",
    "    if show_result:\n",
    "        plt.title('Result')\n",
    "    else:\n",
    "        plt.clf()\n",
    "        plt.title('Training')\n",
    "\n",
    "    plt.xlabel('Episode')\n",
    "    plt.ylabel('Cumulative Reward')\n",
    "    plt.plot(rewards_t.numpy(), label='Episode Reward')\n",
    "\n",
    "    # Plot moving average of the last 100 episodes\n",
    "    if len(rewards_t) >= 100:\n",
    "        means = rewards_t.unfold(0, 100, 1).mean(1)\n",
    "        means = torch.cat((torch.zeros(99), means))\n",
    "        plt.plot(means.numpy(), label='100-Episode Average')\n",
    "\n",
    "    plt.pause(0.001)\n",
    "    if is_ipython:\n",
    "        if not show_result:\n",
    "            display.display(plt.gcf())\n",
    "            display.clear_output(wait=True)\n",
    "        else:\n",
    "            display.display(plt.gcf())\n"
   ]
  },
  {
   "cell_type": "code",
   "execution_count": 11,
   "id": "58f23ad34b274568",
   "metadata": {},
   "outputs": [],
   "source": [
    "def optimize_model():\n",
    "    \"\"\"\n",
    "    Perform one step of optimization for the policy network using the replay memory.\n",
    "\n",
    "    The function:\n",
    "        - Samples a batch of transitions from the replay memory.\n",
    "        - Computes the expected Q-values for the current state-action pairs.\n",
    "        - Computes the loss between the expected Q-values and the predicted Q-values.\n",
    "        - Performs a backward pass to update the policy network's parameters.\n",
    "\n",
    "    Returns:\n",
    "        None\n",
    "    \"\"\"\n",
    "    if len(memory) < BATCH_SIZE:\n",
    "        return  # Exit if there are not enough samples in memory to form a batch\n",
    "\n",
    "    # Sample a batch of transitions from the replay memory\n",
    "    transitions = memory.sample(BATCH_SIZE)\n",
    "    batch = Transition(*zip(*transitions))  # Convert batch-array of transitions to Transition of batch-arrays\n",
    "\n",
    "    # Compute a mask of non-final states and concatenate the batch elements\n",
    "    non_final_mask = torch.tensor(\n",
    "        tuple(map(lambda s: s is not None, batch.next_state)), device=device, dtype=torch.bool\n",
    "    )\n",
    "    non_final_next_states = torch.cat([s for s in batch.next_state if s is not None])\n",
    "    state_batch = torch.cat(batch.state)\n",
    "    action_batch = torch.cat(batch.action)\n",
    "    reward_batch = torch.cat(batch.reward)\n",
    "\n",
    "    # Compute Q(s_t, a) - the model's Q-values for the current states and actions\n",
    "    state_action_values = policy_net(state_batch).gather(1, action_batch)\n",
    "\n",
    "    # Initialize tensor for the next state values\n",
    "    next_state_values = torch.zeros(BATCH_SIZE, device=device)\n",
    "\n",
    "    # Compute V(s_{t+1}) for all next states\n",
    "    with torch.no_grad():\n",
    "        next_state_values[non_final_mask] = target_net(non_final_next_states).max(1)[0]\n",
    "\n",
    "    # Compute expected Q-values\n",
    "    expected_state_action_values = reward_batch + (GAMMA * next_state_values)\n",
    "\n",
    "    # Compute Huber loss (Smooth L1 Loss)\n",
    "    criterion = nn.SmoothL1Loss()\n",
    "    loss = criterion(state_action_values, expected_state_action_values.unsqueeze(1))\n",
    "\n",
    "    # Optimize the model\n",
    "    optimizer.zero_grad()  # Clear the gradients from the previous step\n",
    "    loss.backward()  # Backpropagate the loss\n",
    "\n",
    "    # Clip gradients to avoid exploding gradients\n",
    "    torch.nn.utils.clip_grad_value_(policy_net.parameters(), clip_value=1.0)\n",
    "\n",
    "    # Perform a single optimization step\n",
    "    optimizer.step()\n"
   ]
  },
  {
   "cell_type": "code",
   "execution_count": 12,
   "id": "de9d254b348fa70a",
   "metadata": {},
   "outputs": [],
   "source": [
    "def soft_update_target_network(policy_net, target_net, tau=0.01):\n",
    "    \"\"\"\n",
    "    Perform a soft update of the target network parameters.\n",
    "\n",
    "    Args:\n",
    "        policy_net (nn.Module): The policy network whose parameters are used for the update.\n",
    "        target_net (nn.Module): The target network to be updated.\n",
    "        tau (float): The soft update coefficient. Values closer to 1.0 mean faster updates.\n",
    "    \"\"\"\n",
    "    for target_param, policy_param in zip(target_net.parameters(), policy_net.parameters()):\n",
    "        target_param.data.copy_(tau * policy_param.data + (1.0 - tau) * target_param.data)"
   ]
  },
  {
   "cell_type": "code",
   "execution_count": 13,
   "id": "b8e431ff27c95df8",
   "metadata": {},
   "outputs": [
    {
     "name": "stdout",
     "output_type": "stream",
     "text": [
      "Completed\n"
     ]
    },
    {
     "data": {
      "image/png": "[encoded data removed]",
      "text/plain": [
       "<Figure size 640x480 with 1 Axes>"
      ]
     },
     "metadata": {},
     "output_type": "display_data"
    },
    {
     "data": {
      "text/plain": [
       "<Figure size 640x480 with 0 Axes>"
      ]
     },
     "metadata": {},
     "output_type": "display_data"
    },
    {
     "data": {
      "text/plain": [
       "<Figure size 640x480 with 0 Axes>"
      ]
     },
     "metadata": {},
     "output_type": "display_data"
    }
   ],
   "source": [
    "if torch.cuda.is_available():\n",
    "    num_episodes = 600\n",
    "else:\n",
    "    num_episodes = 50\n",
    "\n",
    "training = True\n",
    "\n",
    "if training:\n",
    "    env.unwrapped.sim_dt *= 50\n",
    "\n",
    "for i_episode in range(num_episodes):\n",
    "    state, info = env.reset()\n",
    "    state = torch.tensor(state, dtype=torch.float32, device=device).unsqueeze(0)\n",
    "    rewards = 0\n",
    "    \n",
    "    for t in count():\n",
    "        action = select_action(state)\n",
    "        observation, reward, terminated, truncated, _ = env.step(action.item())\n",
    "        reward = torch.tensor([reward], device=device)\n",
    "        rewards += reward\n",
    "        done = terminated or truncated\n",
    "\n",
    "        if terminated:\n",
    "            next_state = None\n",
    "        else:\n",
    "            next_state = torch.tensor(observation, dtype=torch.float32, device=device).unsqueeze(0)\n",
    "\n",
    "        # store the transition in memory\n",
    "        memory.push(state, action, next_state, reward)\n",
    "\n",
    "        # move to next state\n",
    "        state = next_state\n",
    "\n",
    "        # Update the model every N steps\n",
    "        # TRAIN_EVERY = 4\n",
    "        # if steps_done % TRAIN_EVERY == 0:\n",
    "        optimize_model()\n",
    "\n",
    "        # Soft update the target network\n",
    "        soft_update_target_network(policy_net, target_net, tau=TAU)\n",
    "\n",
    "        if done:\n",
    "            episode_rewards.append(rewards)\n",
    "            plot_rewards()\n",
    "            break\n",
    "\n",
    "print('Completed')\n",
    "plot_rewards(show_result=True)\n",
    "plt.ioff()\n",
    "plt.show()"
   ]
  },
  {
   "cell_type": "code",
   "execution_count": 14,
   "id": "1f704ccdf296fdb0",
   "metadata": {},
   "outputs": [],
   "source": [
    "env.unwrapped.sim_dt = env.unwrapped.real_world_dt / env.unwrapped.time_scale"
   ]
  },
  {
   "cell_type": "code",
   "execution_count": 13,
   "id": "fe9f06fd4e5bb9f5",
   "metadata": {},
   "outputs": [
    {
     "ename": "KeyboardInterrupt",
     "evalue": "",
     "output_type": "error",
     "traceback": [
      "\u001b[0;31m---------------------------------------------------------------------------\u001b[0m",
      "\u001b[0;31mKeyboardInterrupt\u001b[0m                         Traceback (most recent call last)",
      "Cell \u001b[0;32mIn[13], line 9\u001b[0m\n\u001b[1;32m      7\u001b[0m     action \u001b[38;5;241m=\u001b[39m env\u001b[38;5;241m.\u001b[39maction_space\u001b[38;5;241m.\u001b[39msample()  \u001b[38;5;66;03m# Random action\u001b[39;00m\n\u001b[1;32m      8\u001b[0m     state, reward, terminated, truncated, info \u001b[38;5;241m=\u001b[39m env\u001b[38;5;241m.\u001b[39mstep(action)\n\u001b[0;32m----> 9\u001b[0m     \u001b[43menv\u001b[49m\u001b[38;5;241;43m.\u001b[39;49m\u001b[43mrender\u001b[49m\u001b[43m(\u001b[49m\u001b[43m)\u001b[49m\n\u001b[1;32m     10\u001b[0m     done \u001b[38;5;241m=\u001b[39m terminated \u001b[38;5;129;01mor\u001b[39;00m truncated\n\u001b[1;32m     12\u001b[0m env\u001b[38;5;241m.\u001b[39mclose()\n",
      "File \u001b[0;32m/usr/local/lib/python3.8/dist-packages/gymnasium/wrappers/common.py:409\u001b[0m, in \u001b[0;36mOrderEnforcing.render\u001b[0;34m(self)\u001b[0m\n\u001b[1;32m    404\u001b[0m \u001b[38;5;28;01mif\u001b[39;00m \u001b[38;5;129;01mnot\u001b[39;00m \u001b[38;5;28mself\u001b[39m\u001b[38;5;241m.\u001b[39m_disable_render_order_enforcing \u001b[38;5;129;01mand\u001b[39;00m \u001b[38;5;129;01mnot\u001b[39;00m \u001b[38;5;28mself\u001b[39m\u001b[38;5;241m.\u001b[39m_has_reset:\n\u001b[1;32m    405\u001b[0m     \u001b[38;5;28;01mraise\u001b[39;00m ResetNeeded(\n\u001b[1;32m    406\u001b[0m         \u001b[38;5;124m\"\u001b[39m\u001b[38;5;124mCannot call `env.render()` before calling `env.reset()`, if this is an intended action, \u001b[39m\u001b[38;5;124m\"\u001b[39m\n\u001b[1;32m    407\u001b[0m         \u001b[38;5;124m\"\u001b[39m\u001b[38;5;124mset `disable_render_order_enforcing=True` on the OrderEnforcer wrapper.\u001b[39m\u001b[38;5;124m\"\u001b[39m\n\u001b[1;32m    408\u001b[0m     )\n\u001b[0;32m--> 409\u001b[0m \u001b[38;5;28;01mreturn\u001b[39;00m \u001b[38;5;28;43msuper\u001b[39;49m\u001b[43m(\u001b[49m\u001b[43m)\u001b[49m\u001b[38;5;241;43m.\u001b[39;49m\u001b[43mrender\u001b[49m\u001b[43m(\u001b[49m\u001b[43m)\u001b[49m\n",
      "File \u001b[0;32m/usr/local/lib/python3.8/dist-packages/gymnasium/core.py:332\u001b[0m, in \u001b[0;36mWrapper.render\u001b[0;34m(self)\u001b[0m\n\u001b[1;32m    330\u001b[0m \u001b[38;5;28;01mdef\u001b[39;00m \u001b[38;5;21mrender\u001b[39m(\u001b[38;5;28mself\u001b[39m) \u001b[38;5;241m-\u001b[39m\u001b[38;5;241m>\u001b[39m RenderFrame \u001b[38;5;241m|\u001b[39m \u001b[38;5;28mlist\u001b[39m[RenderFrame] \u001b[38;5;241m|\u001b[39m \u001b[38;5;28;01mNone\u001b[39;00m:\n\u001b[1;32m    331\u001b[0m \u001b[38;5;250m    \u001b[39m\u001b[38;5;124;03m\"\"\"Uses the :meth:`render` of the :attr:`env` that can be overwritten to change the returned data.\"\"\"\u001b[39;00m\n\u001b[0;32m--> 332\u001b[0m     \u001b[38;5;28;01mreturn\u001b[39;00m \u001b[38;5;28;43mself\u001b[39;49m\u001b[38;5;241;43m.\u001b[39;49m\u001b[43menv\u001b[49m\u001b[38;5;241;43m.\u001b[39;49m\u001b[43mrender\u001b[49m\u001b[43m(\u001b[49m\u001b[43m)\u001b[49m\n",
      "File \u001b[0;32m/usr/local/lib/python3.8/dist-packages/gymnasium/wrappers/common.py:303\u001b[0m, in \u001b[0;36mPassiveEnvChecker.render\u001b[0;34m(self)\u001b[0m\n\u001b[1;32m    301\u001b[0m     \u001b[38;5;28;01mreturn\u001b[39;00m env_render_passive_checker(\u001b[38;5;28mself\u001b[39m\u001b[38;5;241m.\u001b[39menv)\n\u001b[1;32m    302\u001b[0m \u001b[38;5;28;01melse\u001b[39;00m:\n\u001b[0;32m--> 303\u001b[0m     \u001b[38;5;28;01mreturn\u001b[39;00m \u001b[38;5;28;43mself\u001b[39;49m\u001b[38;5;241;43m.\u001b[39;49m\u001b[43menv\u001b[49m\u001b[38;5;241;43m.\u001b[39;49m\u001b[43mrender\u001b[49m\u001b[43m(\u001b[49m\u001b[43m)\u001b[49m\n",
      "File \u001b[0;32m/app/Project/marine_env.py:200\u001b[0m, in \u001b[0;36mMarineEnv.render\u001b[0;34m(self, mode)\u001b[0m\n\u001b[1;32m    198\u001b[0m \u001b[38;5;66;03m# Update the display\u001b[39;00m\n\u001b[1;32m    199\u001b[0m pygame\u001b[38;5;241m.\u001b[39mdisplay\u001b[38;5;241m.\u001b[39mflip()\n\u001b[0;32m--> 200\u001b[0m \u001b[38;5;28;43mself\u001b[39;49m\u001b[38;5;241;43m.\u001b[39;49m\u001b[43mclock\u001b[49m\u001b[38;5;241;43m.\u001b[39;49m\u001b[43mtick\u001b[49m\u001b[43m(\u001b[49m\u001b[38;5;241;43m30\u001b[39;49m\u001b[43m)\u001b[49m\n",
      "\u001b[0;31mKeyboardInterrupt\u001b[0m: "
     ]
    }
   ],
   "source": [
    "# Example usage\n",
    "env = gym.make('MarineEnv-v0')\n",
    "state, _ = env.reset()\n",
    "done = False\n",
    "\n",
    "while not done:\n",
    "    action = env.action_space.sample()  # Random action\n",
    "    state, reward, terminated, truncated, info = env.step(action)\n",
    "    env.render()\n",
    "    done = terminated or truncated\n",
    "\n",
    "env.close()\n",
    "print(f\"Simulated Time: {info['total_sim_time']} hours\")"
   ]
  },
  {
   "cell_type": "code",
   "execution_count": 16,
   "id": "335db502-9b82-4b45-98fc-32d3830bd9a3",
   "metadata": {},
   "outputs": [
    {
     "data": {
      "text/plain": [
       "<Surface(600x600x32 SW)>"
      ]
     },
     "execution_count": 16,
     "metadata": {},
     "output_type": "execute_result"
    }
   ],
   "source": [
    "env.unwrapped.window"
   ]
  },
  {
   "cell_type": "code",
   "execution_count": 17,
   "id": "13f0f19a-48cf-44fb-a24f-6ed224bc5363",
   "metadata": {},
   "outputs": [
    {
     "data": {
      "text/plain": [
       "array([ 30.03536432, 100.30774744, 104.94340612,   6.77903313,\n",
       "       169.50109272,  12.45505326])"
      ]
     },
     "execution_count": 17,
     "metadata": {},
     "output_type": "execute_result"
    }
   ],
   "source": [
    "state"
   ]
  },
  {
   "cell_type": "code",
   "execution_count": 18,
   "id": "d982243b-4d43-4460-ac06-6d056fb68bcf",
   "metadata": {},
   "outputs": [],
   "source": [
    "lat, lon, course, speed, *rest = state"
   ]
  },
  {
   "cell_type": "code",
   "execution_count": 20,
   "id": "e1bbc6b8-2ace-4b7b-b8be-1002961ec894",
   "metadata": {},
   "outputs": [],
   "source": [
    "px, py = env.unwrapped.latlon_to_pixels(lat, lon)"
   ]
  },
  {
   "cell_type": "code",
   "execution_count": 23,
   "id": "dbb2480e-5c9d-40db-9f36-dd5fef315caa",
   "metadata": {},
   "outputs": [
    {
     "data": {
      "text/plain": [
       "<rect(364, 552, 10, 10)>"
      ]
     },
     "execution_count": 23,
     "metadata": {},
     "output_type": "execute_result"
    }
   ],
   "source": [
    "pygame.draw.circle(env.unwrapped.window, (255, 255, 255), (px, py), 5)"
   ]
  },
  {
   "cell_type": "code",
   "execution_count": 24,
   "id": "494cc26e-89cd-4809-9be6-dc81582d3b01",
   "metadata": {},
   "outputs": [],
   "source": [
    "pygame.display.flip()"
   ]
  },
  {
   "cell_type": "code",
   "execution_count": 16,
   "id": "35aeb27cf672e3f1",
   "metadata": {
    "scrolled": true
   },
   "outputs": [
    {
     "ename": "KeyboardInterrupt",
     "evalue": "",
     "output_type": "error",
     "traceback": [
      "\u001b[0;31m---------------------------------------------------------------------------\u001b[0m",
      "\u001b[0;31mKeyboardInterrupt\u001b[0m                         Traceback (most recent call last)",
      "Cell \u001b[0;32mIn[16], line 18\u001b[0m\n\u001b[1;32m     15\u001b[0m next_state, reward, terminated, truncated, info \u001b[38;5;241m=\u001b[39m env\u001b[38;5;241m.\u001b[39mstep(action)\n\u001b[1;32m     17\u001b[0m \u001b[38;5;66;03m# Render the environment\u001b[39;00m\n\u001b[0;32m---> 18\u001b[0m \u001b[43menv\u001b[49m\u001b[38;5;241;43m.\u001b[39;49m\u001b[43mrender\u001b[49m\u001b[43m(\u001b[49m\u001b[43m)\u001b[49m\n\u001b[1;32m     20\u001b[0m \u001b[38;5;66;03m# Prepare the next state\u001b[39;00m\n\u001b[1;32m     21\u001b[0m \u001b[38;5;28;01mif\u001b[39;00m \u001b[38;5;129;01mnot\u001b[39;00m terminated:\n",
      "File \u001b[0;32m/usr/local/lib/python3.8/dist-packages/gymnasium/wrappers/common.py:409\u001b[0m, in \u001b[0;36mOrderEnforcing.render\u001b[0;34m(self)\u001b[0m\n\u001b[1;32m    404\u001b[0m \u001b[38;5;28;01mif\u001b[39;00m \u001b[38;5;129;01mnot\u001b[39;00m \u001b[38;5;28mself\u001b[39m\u001b[38;5;241m.\u001b[39m_disable_render_order_enforcing \u001b[38;5;129;01mand\u001b[39;00m \u001b[38;5;129;01mnot\u001b[39;00m \u001b[38;5;28mself\u001b[39m\u001b[38;5;241m.\u001b[39m_has_reset:\n\u001b[1;32m    405\u001b[0m     \u001b[38;5;28;01mraise\u001b[39;00m ResetNeeded(\n\u001b[1;32m    406\u001b[0m         \u001b[38;5;124m\"\u001b[39m\u001b[38;5;124mCannot call `env.render()` before calling `env.reset()`, if this is an intended action, \u001b[39m\u001b[38;5;124m\"\u001b[39m\n\u001b[1;32m    407\u001b[0m         \u001b[38;5;124m\"\u001b[39m\u001b[38;5;124mset `disable_render_order_enforcing=True` on the OrderEnforcer wrapper.\u001b[39m\u001b[38;5;124m\"\u001b[39m\n\u001b[1;32m    408\u001b[0m     )\n\u001b[0;32m--> 409\u001b[0m \u001b[38;5;28;01mreturn\u001b[39;00m \u001b[38;5;28;43msuper\u001b[39;49m\u001b[43m(\u001b[49m\u001b[43m)\u001b[49m\u001b[38;5;241;43m.\u001b[39;49m\u001b[43mrender\u001b[49m\u001b[43m(\u001b[49m\u001b[43m)\u001b[49m\n",
      "File \u001b[0;32m/usr/local/lib/python3.8/dist-packages/gymnasium/core.py:332\u001b[0m, in \u001b[0;36mWrapper.render\u001b[0;34m(self)\u001b[0m\n\u001b[1;32m    330\u001b[0m \u001b[38;5;28;01mdef\u001b[39;00m \u001b[38;5;21mrender\u001b[39m(\u001b[38;5;28mself\u001b[39m) \u001b[38;5;241m-\u001b[39m\u001b[38;5;241m>\u001b[39m RenderFrame \u001b[38;5;241m|\u001b[39m \u001b[38;5;28mlist\u001b[39m[RenderFrame] \u001b[38;5;241m|\u001b[39m \u001b[38;5;28;01mNone\u001b[39;00m:\n\u001b[1;32m    331\u001b[0m \u001b[38;5;250m    \u001b[39m\u001b[38;5;124;03m\"\"\"Uses the :meth:`render` of the :attr:`env` that can be overwritten to change the returned data.\"\"\"\u001b[39;00m\n\u001b[0;32m--> 332\u001b[0m     \u001b[38;5;28;01mreturn\u001b[39;00m \u001b[38;5;28;43mself\u001b[39;49m\u001b[38;5;241;43m.\u001b[39;49m\u001b[43menv\u001b[49m\u001b[38;5;241;43m.\u001b[39;49m\u001b[43mrender\u001b[49m\u001b[43m(\u001b[49m\u001b[43m)\u001b[49m\n",
      "File \u001b[0;32m/usr/local/lib/python3.8/dist-packages/gymnasium/wrappers/common.py:303\u001b[0m, in \u001b[0;36mPassiveEnvChecker.render\u001b[0;34m(self)\u001b[0m\n\u001b[1;32m    301\u001b[0m     \u001b[38;5;28;01mreturn\u001b[39;00m env_render_passive_checker(\u001b[38;5;28mself\u001b[39m\u001b[38;5;241m.\u001b[39menv)\n\u001b[1;32m    302\u001b[0m \u001b[38;5;28;01melse\u001b[39;00m:\n\u001b[0;32m--> 303\u001b[0m     \u001b[38;5;28;01mreturn\u001b[39;00m \u001b[38;5;28;43mself\u001b[39;49m\u001b[38;5;241;43m.\u001b[39;49m\u001b[43menv\u001b[49m\u001b[38;5;241;43m.\u001b[39;49m\u001b[43mrender\u001b[49m\u001b[43m(\u001b[49m\u001b[43m)\u001b[49m\n",
      "File \u001b[0;32m/app/Project/marine_env.py:203\u001b[0m, in \u001b[0;36mMarineEnv.render\u001b[0;34m(self, mode)\u001b[0m\n\u001b[1;32m    201\u001b[0m \u001b[38;5;66;03m# Update the display\u001b[39;00m\n\u001b[1;32m    202\u001b[0m pygame\u001b[38;5;241m.\u001b[39mdisplay\u001b[38;5;241m.\u001b[39mflip()\n\u001b[0;32m--> 203\u001b[0m \u001b[38;5;28;43mself\u001b[39;49m\u001b[38;5;241;43m.\u001b[39;49m\u001b[43mclock\u001b[49m\u001b[38;5;241;43m.\u001b[39;49m\u001b[43mtick\u001b[49m\u001b[43m(\u001b[49m\u001b[38;5;241;43m30\u001b[39;49m\u001b[43m)\u001b[49m\n",
      "\u001b[0;31mKeyboardInterrupt\u001b[0m: "
     ]
    }
   ],
   "source": [
    "# Environment setup\n",
    "env = gym.make('MarineEnv-v0')\n",
    "\n",
    "# Reset the environment\n",
    "state, info = env.reset()\n",
    "state = torch.tensor(state, dtype=torch.float32, device=device).unsqueeze(0)\n",
    "\n",
    "# Run the trained policy to balance the pole\n",
    "for t in range(10000):  # Maximum steps for visualization\n",
    "    with torch.no_grad():\n",
    "        # Use the trained policy network to select the best action\n",
    "        action = policy_net(state).max(1)[1].view(1, 1).item()\n",
    "\n",
    "    # Take the action in the environment\n",
    "    next_state, reward, terminated, truncated, info = env.step(action)\n",
    "\n",
    "    # Render the environment\n",
    "    env.render()\n",
    "\n",
    "    # Prepare the next state\n",
    "    if not terminated:\n",
    "        state = torch.tensor(next_state, dtype=torch.float32, device=device).unsqueeze(0)\n",
    "    else:\n",
    "        break\n",
    "print(f\"Simulated Time: {info['total_sim_time']} hours\")\n",
    "env.close()"
   ]
  },
  {
   "cell_type": "code",
   "execution_count": 15,
   "id": "59c68754-22bf-47ac-99e5-1aa392007bdc",
   "metadata": {},
   "outputs": [
    {
     "data": {
      "text/plain": [
       "tensor([[ 30.4628, 100.4650, 253.4577,  13.9886,  -2.2446,  19.8086]],\n",
       "       device='cuda:0')"
      ]
     },
     "execution_count": 15,
     "metadata": {},
     "output_type": "execute_result"
    }
   ],
   "source": [
    "state"
   ]
  },
  {
   "cell_type": "code",
   "execution_count": 19,
   "id": "9c058e7a-7991-4ced-ac9c-fd9b7ad365af",
   "metadata": {},
   "outputs": [
    {
     "data": {
      "text/plain": [
       "tensor([[-47.3690, -46.0935, -45.2975]], device='cuda:0',\n",
       "       grad_fn=<AddmmBackward0>)"
      ]
     },
     "execution_count": 19,
     "metadata": {},
     "output_type": "execute_result"
    }
   ],
   "source": [
    "policy_net(state)"
   ]
  },
  {
   "cell_type": "code",
   "execution_count": null,
   "id": "f0955908159e1e1",
   "metadata": {},
   "outputs": [],
   "source": [
    "env.close()"
   ]
  },
  {
   "cell_type": "code",
   "execution_count": 17,
   "id": "71287d790d5ccaf1",
   "metadata": {},
   "outputs": [
    {
     "data": {
      "text/plain": [
       "tensor([[-697.2903, -694.7026, -694.3992]], device='cuda:0',\n",
       "       grad_fn=<AddmmBackward0>)"
      ]
     },
     "execution_count": 17,
     "metadata": {},
     "output_type": "execute_result"
    }
   ],
   "source": [
    "policy_net(state)"
   ]
  },
  {
   "cell_type": "code",
   "execution_count": 22,
   "id": "d473b5f9-abf7-438c-9baa-72232a2c8ea2",
   "metadata": {},
   "outputs": [
    {
     "data": {
      "text/plain": [
       "Discrete(3)"
      ]
     },
     "execution_count": 22,
     "metadata": {},
     "output_type": "execute_result"
    }
   ],
   "source": []
  },
  {
   "cell_type": "code",
   "execution_count": 13,
   "id": "3713429c-a5a9-45dc-b7ef-f9217df90b91",
   "metadata": {},
   "outputs": [],
   "source": [
    "env = gym.make('MarineEnv-v0')"
   ]
  },
  {
   "cell_type": "code",
   "execution_count": 14,
   "id": "9814933a-2e83-474c-983b-ba3333987445",
   "metadata": {},
   "outputs": [],
   "source": [
    "state, info = env.reset()"
   ]
  },
  {
   "cell_type": "code",
   "execution_count": 15,
   "id": "878c71d2-a09d-4fcd-bd39-129a4e5fc377",
   "metadata": {},
   "outputs": [
    {
     "name": "stdout",
     "output_type": "stream",
     "text": [
      "Initializing pygame...\n",
      "Pygame initialized.\n",
      "Debug: State = [ 30.10714737 100.49428127 330.44105291   8.20380361 -20.38187919\n",
      "  27.89583774], Waypoint = [ 30.38640195 100.10851504]\n",
      "Debug: Vessel at pixels (593, 471)\n",
      "Debug: Heading line to (513, 329)\n",
      "Debug: Waypoint at pixels (130, 136)\n"
     ]
    }
   ],
   "source": [
    "env.render()"
   ]
  },
  {
   "cell_type": "code",
   "execution_count": null,
   "id": "8694e8c3-10b4-4bae-84f7-f16ed6bf2f5b",
   "metadata": {},
   "outputs": [],
   "source": []
  }
 ],
 "metadata": {
  "kernelspec": {
   "display_name": "Python 3 (ipykernel)",
   "language": "python",
   "name": "python3"
  },
  "language_info": {
   "codemirror_mode": {
    "name": "ipython",
    "version": 3
   },
   "file_extension": ".py",
   "mimetype": "text/x-python",
   "name": "python",
   "nbconvert_exporter": "python",
   "pygments_lexer": "ipython3",
   "version": "3.8.10"
  }
 },
 "nbformat": 4,
 "nbformat_minor": 5
}
