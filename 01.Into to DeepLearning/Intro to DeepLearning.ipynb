{
 "cells": [
  {
   "cell_type": "code",
   "execution_count": 1,
   "id": "initial_id",
   "metadata": {},
   "outputs": [],
   "source": [
    "%matplotlib inline"
   ]
  },
  {
   "cell_type": "code",
   "execution_count": 2,
   "id": "257e9e66-0b74-4e7b-89e9-e1eb86354807",
   "metadata": {},
   "outputs": [],
   "source": [
    "import numpy as np\n",
    "import pandas as pd\n",
    "import matplotlib.pyplot as plt"
   ]
  },
  {
   "cell_type": "code",
   "execution_count": 19,
   "id": "740f1691-b726-43ef-832e-9743930a06ff",
   "metadata": {},
   "outputs": [],
   "source": [
    "import os\n",
    "import tensorflow as tf\n",
    "os.environ[\"TF_CPP_MIN_LOG_LEVEL\"] = \"2\""
   ]
  },
  {
   "cell_type": "code",
   "execution_count": 5,
   "id": "ec1adeaf-d45d-4165-993e-4d01a1823218",
   "metadata": {},
   "outputs": [],
   "source": [
    "import torch"
   ]
  },
  {
   "cell_type": "code",
   "execution_count": 8,
   "id": "c5e29568-8be8-4573-aeaa-05b9632dd0ea",
   "metadata": {},
   "outputs": [
    {
     "name": "stdout",
     "output_type": "stream",
     "text": [
      "Num GPUs Available:  1\n"
     ]
    }
   ],
   "source": [
    "print(\"Num GPUs Available: \", len(tf.config.list_physical_devices('GPU')))"
   ]
  },
  {
   "cell_type": "code",
   "execution_count": 9,
   "id": "dd946e53-e144-443d-b4f4-728b13a89da3",
   "metadata": {},
   "outputs": [
    {
     "data": {
      "text/plain": [
       "True"
      ]
     },
     "execution_count": 9,
     "metadata": {},
     "output_type": "execute_result"
    }
   ],
   "source": [
    "torch.cuda.is_available()"
   ]
  },
  {
   "cell_type": "markdown",
   "id": "40028dbc-a50d-4f57-8786-66c09608160b",
   "metadata": {},
   "source": [
    "# Intro to Deep Learning\n",
    "\n",
    "## Live Demo"
   ]
  },
  {
   "cell_type": "code",
   "execution_count": 12,
   "id": "58e2b32e-dd45-4b12-95dd-ea21545b8a8b",
   "metadata": {},
   "outputs": [
    {
     "data": {
      "text/plain": [
       "8100"
      ]
     },
     "execution_count": 12,
     "metadata": {},
     "output_type": "execute_result"
    }
   ],
   "source": [
    "# python basic operation\n",
    "a = 10\n",
    "b = 15\n",
    "# result is of type int\n",
    "(3 * a + 4 * b) ** 2"
   ]
  },
  {
   "cell_type": "code",
   "execution_count": 14,
   "id": "9ef6f2d4-eb0e-4fed-b484-dd17905f37cb",
   "metadata": {},
   "outputs": [
    {
     "data": {
      "text/plain": [
       "[118, 99, 304, 83, 64]"
      ]
     },
     "execution_count": 14,
     "metadata": {},
     "output_type": "execute_result"
    }
   ],
   "source": [
    "# python list manipulation similar to numpy\n",
    "a = [10, 17, 28, 13, 12]\n",
    "b = [22, 12, 55, 11, 7]\n",
    "# result is type list\n",
    "[(3 * x + 4 * y) for x, y in zip(a, b)]"
   ]
  },
  {
   "cell_type": "code",
   "execution_count": 17,
   "id": "a73622d9-7bcc-4166-ba66-6bd7fce01122",
   "metadata": {},
   "outputs": [
    {
     "name": "stdout",
     "output_type": "stream",
     "text": [
      "[13924  9801 92416  6889  4096]\n",
      "<class 'numpy.ndarray'>\n"
     ]
    }
   ],
   "source": [
    "# numpy version with vectorization\n",
    "a = np.array([10, 17, 28, 13, 12])\n",
    "b = np.array([22, 12, 55, 11, 7])\n",
    "print((3 * a + 4 * b) ** 2)\n",
    "print(type((3 * a + 4 * b) ** 2))"
   ]
  },
  {
   "cell_type": "code",
   "execution_count": 21,
   "id": "18801f66-e8cd-45a0-adce-3be6412ce0ae",
   "metadata": {},
   "outputs": [
    {
     "name": "stdout",
     "output_type": "stream",
     "text": [
      "tf.Tensor([13924  9801 92416  6889  4096], shape=(5,), dtype=int32)\n",
      "<class 'tensorflow.python.framework.ops.EagerTensor'>\n"
     ]
    }
   ],
   "source": [
    "# tensorflow version\n",
    "a = tf.constant([10, 17, 28, 13, 12])\n",
    "b = tf.constant([22, 12, 55, 11, 7])\n",
    "print((3 * a + 4 * b) ** 2)\n",
    "print(type((3 * a + 4 * b) ** 2))"
   ]
  },
  {
   "cell_type": "code",
   "execution_count": 22,
   "id": "a9ad9561-9719-4a68-b0ac-fcf8597b6780",
   "metadata": {},
   "outputs": [
    {
     "name": "stdout",
     "output_type": "stream",
     "text": [
      "tensor([13924,  9801, 92416,  6889,  4096])\n",
      "<class 'torch.Tensor'>\n"
     ]
    }
   ],
   "source": [
    "# torch version\n",
    "a = torch.tensor([10, 17, 28, 13, 12])\n",
    "b = torch.tensor([22, 12, 55, 11, 7])\n",
    "print((3 * a + 4 * b) ** 2)\n",
    "print(type((3 * a + 4 * b) ** 2))"
   ]
  },
  {
   "cell_type": "code",
   "execution_count": 30,
   "id": "9b1162d5-285e-4911-9cc3-fc8c51fac6ee",
   "metadata": {},
   "outputs": [],
   "source": [
    "# if we want to pass a clean python function to tensorflow, we decorate it (tensorflow 2.)\n",
    "def tf_input_decorator(func):\n",
    "    def wrapper(*args, **kwargs):\n",
    "        # Convert all positional arguments to tensors\n",
    "        tf_args = [tf.convert_to_tensor(arg) for arg in args]\n",
    "        # Convert all keyword arguments to tensors\n",
    "        tf_kwargs = {key: tf.convert_to_tensor(value) for key, value in kwargs.items()}\n",
    "        # Call the original function with TensorFlow objects\n",
    "        return func(*tf_args, **tf_kwargs)\n",
    "    return wrapper"
   ]
  },
  {
   "cell_type": "code",
   "execution_count": null,
   "id": "94dc4b85-387c-421f-952f-24873da01bfc",
   "metadata": {},
   "outputs": [],
   "source": [
    "@tf_input_decorator\n",
    "def my_func(a, b):\n",
    "    return (3 * a + 4 * b) ** 2"
   ]
  },
  {
   "cell_type": "code",
   "execution_count": 31,
   "id": "1f58cf74-b35f-4057-90ff-027b58704b5c",
   "metadata": {},
   "outputs": [
    {
     "ename": "SyntaxError",
     "evalue": "unmatched ']' (835591254.py, line 1)",
     "output_type": "error",
     "traceback": [
      "\u001b[0;36m  Cell \u001b[0;32mIn[31], line 1\u001b[0;36m\u001b[0m\n\u001b[0;31m    a = 10, 17, 28, 13, 12]\u001b[0m\n\u001b[0m                          ^\u001b[0m\n\u001b[0;31mSyntaxError\u001b[0m\u001b[0;31m:\u001b[0m unmatched ']'\n"
     ]
    }
   ],
   "source": [
    "a = 10, 17, 28, 13, 12]\n",
    "b = [22, 12, 55, 11, 7]\n",
    "my_func(a, b)"
   ]
  },
  {
   "cell_type": "code",
   "execution_count": null,
   "id": "9fa91188-fdad-49e9-9e90-0115dea6d3fb",
   "metadata": {},
   "outputs": [],
   "source": []
  }
 ],
 "metadata": {
  "kernelspec": {
   "display_name": "Python 3 (ipykernel)",
   "language": "python",
   "name": "python3"
  },
  "language_info": {
   "codemirror_mode": {
    "name": "ipython",
    "version": 3
   },
   "file_extension": ".py",
   "mimetype": "text/x-python",
   "name": "python",
   "nbconvert_exporter": "python",
   "pygments_lexer": "ipython3",
   "version": "3.8.10"
  }
 },
 "nbformat": 4,
 "nbformat_minor": 5
}
