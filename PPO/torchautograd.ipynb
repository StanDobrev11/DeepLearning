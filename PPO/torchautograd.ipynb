{
 "cells": [
  {
   "cell_type": "markdown",
   "id": "d9e14f13-deb7-4f53-a5c3-4ecb876c780e",
   "metadata": {},
   "source": [
    "# PPO Implementation examples"
   ]
  },
  {
   "cell_type": "code",
   "execution_count": 2,
   "id": "d95b5892-a3cd-46de-9bbb-a609d916077b",
   "metadata": {},
   "source": [
    "!pip install torchvision\n",
    "!pip install torchaudio"
   ],
   "outputs": []
  },
  {
   "cell_type": "code",
   "execution_count": 113,
   "id": "86cdbadf-2501-44fb-b312-6c2ba4b05360",
   "metadata": {},
   "source": [
    "import torch\n",
    "from torchvision.models import resnet18, ResNet18_Weights\n",
    "model = resnet18(weights=ResNet18_Weights.DEFAULT)\n",
    "data = torch.rand(1, 3, 64, 64)\n",
    "labels = torch.rand(1, 1000)"
   ],
   "outputs": []
  },
  {
   "cell_type": "code",
   "execution_count": 61,
   "id": "f13e9d29-1e54-4f14-87f3-962a7f5cc293",
   "metadata": {
    "collapsed": true,
    "jupyter": {
     "outputs_hidden": true
    }
   },
   "source": [
    "model"
   ],
   "outputs": []
  },
  {
   "cell_type": "code",
   "execution_count": 62,
   "id": "3adca95f-3d44-4f4f-9347-866ee4864825",
   "metadata": {},
   "source": [
    "data[0, 2, 2, 2]"
   ],
   "outputs": []
  },
  {
   "cell_type": "code",
   "execution_count": 63,
   "id": "3ce19d07-f2a8-438c-9ded-249c034b8a0b",
   "metadata": {},
   "source": [
    "labels.shape"
   ],
   "outputs": []
  },
  {
   "cell_type": "markdown",
   "id": "71bb8d7a-0f90-4177-bf57-1bcc2cc98cd6",
   "metadata": {},
   "source": [
    "The model is trained on single image, [1], [3] channels, 64 by 64 size and outputs 1000 classes. "
   ]
  },
  {
   "cell_type": "code",
   "execution_count": 64,
   "id": "db2da62e-0525-401f-924c-e2a666a36e6b",
   "metadata": {},
   "source": [
    "prediction = model(data) # forward pass"
   ],
   "outputs": []
  },
  {
   "cell_type": "markdown",
   "id": "951544f0-a649-457f-b17a-50e13ac6e5e3",
   "metadata": {},
   "source": [
    "The calculated loss of the fisrt prediction is now backpropagated from the output to the input correcting the coeff"
   ]
  },
  {
   "cell_type": "code",
   "execution_count": 44,
   "id": "132ea802-8c9f-4c4f-b0fe-958fe35a7c08",
   "metadata": {},
   "source": [
    "loss = (prediction - labels).sum()\n",
    "loss.backward() # backward pass"
   ],
   "outputs": []
  },
  {
   "cell_type": "code",
   "execution_count": 46,
   "id": "1a0b3b3b-cdf8-4b74-96af-cdc4bb803633",
   "metadata": {},
   "source": [
    "loss"
   ],
   "outputs": []
  },
  {
   "cell_type": "markdown",
   "id": "f7a6a67e-e507-42b3-b614-ea7231237a7c",
   "metadata": {},
   "source": [
    "Optimization is then loaded"
   ]
  },
  {
   "cell_type": "code",
   "execution_count": 114,
   "id": "2b4a8fad-50f0-4c37-be96-d5fc21f56b56",
   "metadata": {},
   "source": [
    "optim = torch.optim.SGD(model.parameters(), lr=1e-2, momentum=0.9)"
   ],
   "outputs": []
  },
  {
   "cell_type": "code",
   "execution_count": 51,
   "id": "66655595-f5d3-4653-a664-a83c266e6a47",
   "metadata": {},
   "source": [
    "# running optimization step each param is adjusted using gradient descent\n",
    "optim.step() #gradient descent"
   ],
   "outputs": []
  },
  {
   "cell_type": "code",
   "execution_count": 52,
   "id": "b13d1228-ba98-4604-bca7-27283251f3bb",
   "metadata": {},
   "source": [
    "loss"
   ],
   "outputs": []
  },
  {
   "cell_type": "code",
   "execution_count": 58,
   "id": "5ca06a82-4ca4-471b-aa47-e6e5695833b9",
   "metadata": {},
   "source": [
    "optim.zero_grad()"
   ],
   "outputs": []
  },
  {
   "cell_type": "code",
   "execution_count": 116,
   "id": "b549a176-eb7e-44ba-884e-ed3fefd906d8",
   "metadata": {},
   "source": [
    "for i in range(1000):\n",
    "    prediction = model(data)\n",
    "    \n",
    "    # loss = (prediction - labels).sum()\n",
    "    loss = nn.CrossEntropyLoss()(prediction, labels)\n",
    "    loss.backward() # backward pass\n",
    "    # torch.nn.utils.clip_grad_norm_(model.parameters(), max_norm=1.0) # clip the gradient\n",
    "\n",
    "    optim.step()\n",
    "    optim.zero_grad()\n",
    "\n",
    "    if i % 100 == 0:\n",
    "        print(loss)"
   ],
   "outputs": []
  },
  {
   "cell_type": "code",
   "execution_count": 83,
   "id": "994c12fe-c4f5-4c0c-8270-85ccf7453416",
   "metadata": {},
   "source": [
    "prediction[0][:10]"
   ],
   "outputs": []
  },
  {
   "cell_type": "code",
   "execution_count": null,
   "id": "44495350-3ff1-40d3-90a0-f1581e32a4b0",
   "metadata": {},
   "source": [],
   "outputs": []
  },
  {
   "cell_type": "code",
   "execution_count": 53,
   "id": "b79e2fd7-cd6c-4869-aa35-2ee64df37304",
   "metadata": {},
   "source": [
    "import torch\n",
    "import torch.nn as nn\n",
    "import torch.nn.functional as F\n",
    "\n",
    "\n",
    "class Net(nn.Module):\n",
    "\n",
    "    def __init__(self):\n",
    "        super(Net, self).__init__()\n",
    "        # 1 input image channel, 6 output channels, 5x5 square convolution\n",
    "        # kernel\n",
    "        self.conv1 = nn.Conv2d(1, 6, 5)\n",
    "        self.conv2 = nn.Conv2d(6, 16, 5)\n",
    "        # an affine operation: y = Wx + b\n",
    "        self.fc1 = nn.Linear(16 * 5 * 5, 120)  # 5*5 from image dimension\n",
    "        self.fc2 = nn.Linear(120, 84)\n",
    "        self.fc3 = nn.Linear(84, 10)\n",
    "\n",
    "    def forward(self, input):\n",
    "        # Convolution layer C1: 1 input image channel, 6 output channels,\n",
    "        # 5x5 square convolution, it uses RELU activation function, and\n",
    "        # outputs a Tensor with size (N, 6, 28, 28), where N is the size of the batch\n",
    "        c1 = F.relu(self.conv1(input))\n",
    "        # Subsampling layer S2: 2x2 grid, purely functional,\n",
    "        # this layer does not have any parameter, and outputs a (N, 6, 14, 14) Tensor\n",
    "        s2 = F.max_pool2d(c1, (2, 2))\n",
    "        # Convolution layer C3: 6 input channels, 16 output channels,\n",
    "        # 5x5 square convolution, it uses RELU activation function, and\n",
    "        # outputs a (N, 16, 10, 10) Tensor\n",
    "        c3 = F.relu(self.conv2(s2))\n",
    "        # Subsampling layer S4: 2x2 grid, purely functional,\n",
    "        # this layer does not have any parameter, and outputs a (N, 16, 5, 5) Tensor\n",
    "        s4 = F.max_pool2d(c3, 2)\n",
    "        # Flatten operation: purely functional, outputs a (N, 400) Tensor\n",
    "        s4 = torch.flatten(s4, 1)\n",
    "        # Fully connected layer F5: (N, 400) Tensor input,\n",
    "        # and outputs a (N, 120) Tensor, it uses RELU activation function\n",
    "        f5 = F.relu(self.fc1(s4))\n",
    "        # Fully connected layer F6: (N, 120) Tensor input,\n",
    "        # and outputs a (N, 84) Tensor, it uses RELU activation function\n",
    "        f6 = F.relu(self.fc2(f5))\n",
    "        # Gaussian layer OUTPUT: (N, 84) Tensor input, and\n",
    "        # outputs a (N, 10) Tensor\n",
    "        output = self.fc3(f6)\n",
    "        return output\n",
    "\n",
    "\n",
    "net = Net()\n",
    "print(net)"
   ],
   "outputs": []
  },
  {
   "cell_type": "code",
   "execution_count": 91,
   "id": "18a47709-f64b-40fe-93a0-75784362a0ad",
   "metadata": {},
   "source": [
    "params = list(net.parameters())\n",
    "print(len(params))\n",
    "print(params[0].size())  # conv1's .weight"
   ],
   "outputs": []
  },
  {
   "cell_type": "code",
   "execution_count": 94,
   "id": "3e940cd4-3e54-4493-9632-145d03bb8e58",
   "metadata": {},
   "source": [
    "input = torch.randn(1, 1, 32, 32)\n",
    "out = net(input)\n",
    "print(out)"
   ],
   "outputs": []
  },
  {
   "cell_type": "code",
   "execution_count": 95,
   "id": "e7c6044a-4f61-481c-9733-97e92fc59a87",
   "metadata": {},
   "source": [
    "net.zero_grad()\n",
    "out.backward(torch.randn(1, 10))"
   ],
   "outputs": []
  },
  {
   "cell_type": "code",
   "execution_count": 117,
   "id": "e699dd9a-01ee-4044-ad03-08639cc26357",
   "metadata": {},
   "source": [
    "output = net(input)\n",
    "target = torch.randn(10)  # a dummy target, for example\n",
    "target = target.view(1, -1)  # make it the same shape as output\n",
    "criterion = nn.MSELoss()\n",
    "\n",
    "loss = criterion(output, target)\n",
    "print(loss)"
   ],
   "outputs": []
  },
  {
   "cell_type": "code",
   "execution_count": 118,
   "id": "e4eb4607-dede-48f2-bda3-0f767b0389a9",
   "metadata": {},
   "source": [
    "print(loss.grad_fn)  # MSELoss\n",
    "print(loss.grad_fn.next_functions[0][0])  # Linear\n",
    "print(loss.grad_fn.next_functions[0][0].next_functions[0][0])  # ReLU"
   ],
   "outputs": []
  },
  {
   "cell_type": "code",
   "execution_count": 119,
   "id": "f421eb71-6944-42d2-8b83-656e8a8c21c3",
   "metadata": {},
   "source": [
    "net.zero_grad()     # zeroes the gradient buffers of all parameters\n",
    "\n",
    "print('conv1.bias.grad before backward')\n",
    "print(net.conv1.bias.grad)\n",
    "\n",
    "loss.backward()\n",
    "\n",
    "print('conv1.bias.grad after backward')\n",
    "print(net.conv1.bias.grad)"
   ],
   "outputs": []
  },
  {
   "cell_type": "code",
   "execution_count": 121,
   "id": "fe403431-3c38-4926-8158-98e2319deddc",
   "metadata": {},
   "source": [
    "# updating the weights of the network\n",
    "# weight = weight - learning_rate * gradient\n",
    "learning_rate = 0.01\n",
    "for f in net.parameters():\n",
    "    f.data.sub_(f.grad.data * learning_rate)"
   ],
   "outputs": []
  }
 ],
 "metadata": {
  "kernelspec": {
   "display_name": "Python 3 (ipykernel)",
   "language": "python",
   "name": "python3"
  },
  "language_info": {
   "codemirror_mode": {
    "name": "ipython",
    "version": 3
   },
   "file_extension": ".py",
   "mimetype": "text/x-python",
   "name": "python",
   "nbconvert_exporter": "python",
   "pygments_lexer": "ipython3",
   "version": "3.8.10"
  }
 },
 "nbformat": 4,
 "nbformat_minor": 5
}
